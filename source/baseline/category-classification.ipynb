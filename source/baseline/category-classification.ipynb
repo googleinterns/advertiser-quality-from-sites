{
 "cells": [
  {
   "cell_type": "code",
   "execution_count": 1,
   "metadata": {},
   "outputs": [],
   "source": [
    "import sys\n",
    "import os\n",
    "import math\n",
    "import datetime\n",
    "from tqdm import tqdm\n",
    "import pandas as pd\n",
    "import numpy as np\n",
    "import math\n",
    "\n",
    "import tensorflow as tf\n",
    "from tensorflow import keras\n",
    "\n",
    "from bs4 import BeautifulSoup\n",
    "from bs4.element import Comment\n",
    "import re\n",
    "from langdetect import detect_langs\n",
    "import nltk\n",
    "from nltk.corpus import stopwords\n",
    "\n",
    "\n",
    "from bert import BertModelLayer\n",
    "from bert.loader import StockBertConfig, map_stock_config_to_params, load_stock_weights\n",
    "from bert.tokenization.bert_tokenization import FullTokenizer\n",
    "\n",
    "import seaborn as sns\n",
    "import matplotlib.pyplot as plt\n",
    "\n",
    "from sklearn.metrics import classification_report\n",
    "\n",
    "from process_websites import get_corpus\n",
    "from my_models import categoryDetection, unify_yelp_data_classes, plot_classes_distribution, testing, find_wrongs, get_classes_distribution\n",
    "\n",
    "\n",
    "try:\n",
    "    nltk.data.find('tokenizers/punkt')\n",
    "except LookupError:\n",
    "    nltk.download('punkt')\n",
    "    if sys.version_info > (3.0):\n",
    "        os.system('python3 -m nltk.downloader stopwords')\n",
    "    else:\n",
    "        os.system('pyhton -m nltk.downloader.stopwords')\n",
    "        \n",
    "FOLDER_PATH = '/home/vahidsanei_google_com/'"
   ]
  },
  {
   "cell_type": "code",
   "execution_count": 2,
   "metadata": {},
   "outputs": [],
   "source": [
    "%matplotlib inline\n",
    "%config InlineBackend.figure_format='retina'\n",
    "%load_ext autoreload\n",
    "%autoreload 2"
   ]
  },
  {
   "cell_type": "code",
   "execution_count": 3,
   "metadata": {
    "scrolled": true
   },
   "outputs": [
    {
     "name": "stdout",
     "output_type": "stream",
     "text": [
      "/opt/conda/lib/python3.7/runpy.py:125: RuntimeWarning: 'nltk.downloader' found in sys.modules after import of package 'nltk', but prior to execution of 'nltk.downloader'; this may result in unpredictable behaviour\n",
      "  warn(RuntimeWarning(msg))\n",
      "[nltk_data] Downloading package stopwords to\n",
      "[nltk_data]     /home/vahidsanei_google_com/nltk_data...\n",
      "[nltk_data]   Package stopwords is already up-to-date!\n"
     ]
    }
   ],
   "source": [
    "!python -m nltk.downloader stopwords"
   ]
  },
  {
   "cell_type": "code",
   "execution_count": 4,
   "metadata": {
    "scrolled": true
   },
   "outputs": [
    {
     "data": {
      "text/html": [
       "<div>\n",
       "<style scoped>\n",
       "    .dataframe tbody tr th:only-of-type {\n",
       "        vertical-align: middle;\n",
       "    }\n",
       "\n",
       "    .dataframe tbody tr th {\n",
       "        vertical-align: top;\n",
       "    }\n",
       "\n",
       "    .dataframe thead th {\n",
       "        text-align: right;\n",
       "    }\n",
       "</style>\n",
       "<table border=\"1\" class=\"dataframe\">\n",
       "  <thead>\n",
       "    <tr style=\"text-align: right;\">\n",
       "      <th></th>\n",
       "      <th>Unnamed: 0</th>\n",
       "      <th>business_id</th>\n",
       "      <th>name</th>\n",
       "      <th>address</th>\n",
       "      <th>city</th>\n",
       "      <th>state</th>\n",
       "      <th>postal_code</th>\n",
       "      <th>latitude</th>\n",
       "      <th>longitude</th>\n",
       "      <th>stars</th>\n",
       "      <th>review_count</th>\n",
       "      <th>is_open</th>\n",
       "      <th>attributes</th>\n",
       "      <th>categories</th>\n",
       "      <th>hours</th>\n",
       "      <th>url</th>\n",
       "      <th>webpage_text</th>\n",
       "      <th>is_eng</th>\n",
       "      <th>webpage_corpus</th>\n",
       "    </tr>\n",
       "  </thead>\n",
       "  <tbody>\n",
       "    <tr>\n",
       "      <th>0</th>\n",
       "      <td>0</td>\n",
       "      <td>f9NumwFMBDn751xgFiRbNA</td>\n",
       "      <td>The Range At Lake Norman</td>\n",
       "      <td>10913 Bailey Rd</td>\n",
       "      <td>Cornelius</td>\n",
       "      <td>NC</td>\n",
       "      <td>28031</td>\n",
       "      <td>35.462724</td>\n",
       "      <td>-80.852612</td>\n",
       "      <td>3.5</td>\n",
       "      <td>36</td>\n",
       "      <td>1</td>\n",
       "      <td>{'BusinessAcceptsCreditCards': 'True', 'BikePa...</td>\n",
       "      <td>Active Life, Gun/Rifle Ranges, Guns &amp; Ammo, Sh...</td>\n",
       "      <td>{'Monday': '10:0-18:0', 'Tuesday': '11:0-20:0'...</td>\n",
       "      <td>http://www.therangeatlakenorman.com/</td>\n",
       "      <td>b'&lt;!DOCTYPE html&gt;\\n&lt;html lang=\"en-US\"&gt;\\n&lt;head&gt;...</td>\n",
       "      <td>True</td>\n",
       "      <td>Shooting Ranges Gun Rental Charlotte NC The Ra...</td>\n",
       "    </tr>\n",
       "    <tr>\n",
       "      <th>1</th>\n",
       "      <td>1</td>\n",
       "      <td>XNoUzKckATkOD1hP6vghZg</td>\n",
       "      <td>Felinus</td>\n",
       "      <td>3554 Rue Notre-Dame O</td>\n",
       "      <td>Montreal</td>\n",
       "      <td>QC</td>\n",
       "      <td>H4C 1P4</td>\n",
       "      <td>45.479984</td>\n",
       "      <td>-73.580070</td>\n",
       "      <td>5.0</td>\n",
       "      <td>5</td>\n",
       "      <td>1</td>\n",
       "      <td>NaN</td>\n",
       "      <td>Pets, Pet Services, Pet Groomers</td>\n",
       "      <td>NaN</td>\n",
       "      <td>http://www.felinus.ca</td>\n",
       "      <td>b'&lt;!DOCTYPE html PUBLIC \"-//W3C//DTD XHTML 1.0...</td>\n",
       "      <td>False</td>\n",
       "      <td>NaN</td>\n",
       "    </tr>\n",
       "    <tr>\n",
       "      <th>2</th>\n",
       "      <td>2</td>\n",
       "      <td>51M2Kk903DFYI6gnB5I6SQ</td>\n",
       "      <td>USE MY GUY SERVICES LLC</td>\n",
       "      <td>4827 E Downing Cir</td>\n",
       "      <td>Mesa</td>\n",
       "      <td>AZ</td>\n",
       "      <td>85205</td>\n",
       "      <td>33.428065</td>\n",
       "      <td>-111.726648</td>\n",
       "      <td>4.5</td>\n",
       "      <td>26</td>\n",
       "      <td>1</td>\n",
       "      <td>{'BusinessAcceptsCreditCards': 'True', 'ByAppo...</td>\n",
       "      <td>Home Services, Plumbing, Electricians, Handyma...</td>\n",
       "      <td>{'Monday': '0:0-0:0', 'Tuesday': '9:0-16:0', '...</td>\n",
       "      <td>https://www.usemyguyservices.com</td>\n",
       "      <td>b'&lt;!DOCTYPE html&gt;\\n&lt;html lang=\"en-US\" prefix=\"...</td>\n",
       "      <td>True</td>\n",
       "      <td>Home Renovations and Repairs Phoenix AZ Home U...</td>\n",
       "    </tr>\n",
       "    <tr>\n",
       "      <th>3</th>\n",
       "      <td>3</td>\n",
       "      <td>cKyLV5oWZJ2NudWgqs8VZw</td>\n",
       "      <td>Oasis Auto Center - Gilbert</td>\n",
       "      <td>1720 W Elliot Rd, Ste 105</td>\n",
       "      <td>Gilbert</td>\n",
       "      <td>AZ</td>\n",
       "      <td>85233</td>\n",
       "      <td>33.350399</td>\n",
       "      <td>-111.827142</td>\n",
       "      <td>4.5</td>\n",
       "      <td>38</td>\n",
       "      <td>1</td>\n",
       "      <td>{'BusinessAcceptsCreditCards': 'True'}</td>\n",
       "      <td>Auto Repair, Automotive, Oil Change Stations, ...</td>\n",
       "      <td>{'Monday': '7:0-18:0', 'Tuesday': '7:0-18:0', ...</td>\n",
       "      <td>http://oasisautocenter.net</td>\n",
       "      <td>b'&lt;!DOCTYPE html&gt;\\n&lt;html lang=\"en-US\" prefix=\"...</td>\n",
       "      <td>True</td>\n",
       "      <td>Home Oasis Auto CenterOasis Auto Center Pages ...</td>\n",
       "    </tr>\n",
       "    <tr>\n",
       "      <th>4</th>\n",
       "      <td>4</td>\n",
       "      <td>ScYkbYNkDgCneBrD9vqhCQ</td>\n",
       "      <td>Junction Tire &amp; Auto Service</td>\n",
       "      <td>6910 E Southern Ave</td>\n",
       "      <td>Mesa</td>\n",
       "      <td>AZ</td>\n",
       "      <td>85209</td>\n",
       "      <td>33.393885</td>\n",
       "      <td>-111.682226</td>\n",
       "      <td>5.0</td>\n",
       "      <td>18</td>\n",
       "      <td>1</td>\n",
       "      <td>{'BusinessAcceptsCreditCards': 'True', 'ByAppo...</td>\n",
       "      <td>Auto Repair, Oil Change Stations, Automotive, ...</td>\n",
       "      <td>{'Monday': '7:30-17:0', 'Tuesday': '7:30-17:0'...</td>\n",
       "      <td>http://junctiontire.net/tires-auto-repair-mesa-az</td>\n",
       "      <td>b'&lt;!DOCTYPE html&gt;\\r\\n&lt;html lang=\"en\"&gt;\\r\\n&lt;head...</td>\n",
       "      <td>True</td>\n",
       "      <td>Contact Junction Tire Tires Auto Repair Shop i...</td>\n",
       "    </tr>\n",
       "  </tbody>\n",
       "</table>\n",
       "</div>"
      ],
      "text/plain": [
       "   Unnamed: 0             business_id                          name  \\\n",
       "0           0  f9NumwFMBDn751xgFiRbNA      The Range At Lake Norman   \n",
       "1           1  XNoUzKckATkOD1hP6vghZg                       Felinus   \n",
       "2           2  51M2Kk903DFYI6gnB5I6SQ       USE MY GUY SERVICES LLC   \n",
       "3           3  cKyLV5oWZJ2NudWgqs8VZw   Oasis Auto Center - Gilbert   \n",
       "4           4  ScYkbYNkDgCneBrD9vqhCQ  Junction Tire & Auto Service   \n",
       "\n",
       "                     address       city state postal_code   latitude  \\\n",
       "0            10913 Bailey Rd  Cornelius    NC       28031  35.462724   \n",
       "1      3554 Rue Notre-Dame O   Montreal    QC     H4C 1P4  45.479984   \n",
       "2         4827 E Downing Cir       Mesa    AZ       85205  33.428065   \n",
       "3  1720 W Elliot Rd, Ste 105    Gilbert    AZ       85233  33.350399   \n",
       "4        6910 E Southern Ave       Mesa    AZ       85209  33.393885   \n",
       "\n",
       "    longitude  stars  review_count  is_open  \\\n",
       "0  -80.852612    3.5            36        1   \n",
       "1  -73.580070    5.0             5        1   \n",
       "2 -111.726648    4.5            26        1   \n",
       "3 -111.827142    4.5            38        1   \n",
       "4 -111.682226    5.0            18        1   \n",
       "\n",
       "                                          attributes  \\\n",
       "0  {'BusinessAcceptsCreditCards': 'True', 'BikePa...   \n",
       "1                                                NaN   \n",
       "2  {'BusinessAcceptsCreditCards': 'True', 'ByAppo...   \n",
       "3             {'BusinessAcceptsCreditCards': 'True'}   \n",
       "4  {'BusinessAcceptsCreditCards': 'True', 'ByAppo...   \n",
       "\n",
       "                                          categories  \\\n",
       "0  Active Life, Gun/Rifle Ranges, Guns & Ammo, Sh...   \n",
       "1                   Pets, Pet Services, Pet Groomers   \n",
       "2  Home Services, Plumbing, Electricians, Handyma...   \n",
       "3  Auto Repair, Automotive, Oil Change Stations, ...   \n",
       "4  Auto Repair, Oil Change Stations, Automotive, ...   \n",
       "\n",
       "                                               hours  \\\n",
       "0  {'Monday': '10:0-18:0', 'Tuesday': '11:0-20:0'...   \n",
       "1                                                NaN   \n",
       "2  {'Monday': '0:0-0:0', 'Tuesday': '9:0-16:0', '...   \n",
       "3  {'Monday': '7:0-18:0', 'Tuesday': '7:0-18:0', ...   \n",
       "4  {'Monday': '7:30-17:0', 'Tuesday': '7:30-17:0'...   \n",
       "\n",
       "                                                 url  \\\n",
       "0               http://www.therangeatlakenorman.com/   \n",
       "1                              http://www.felinus.ca   \n",
       "2                   https://www.usemyguyservices.com   \n",
       "3                         http://oasisautocenter.net   \n",
       "4  http://junctiontire.net/tires-auto-repair-mesa-az   \n",
       "\n",
       "                                        webpage_text  is_eng  \\\n",
       "0  b'<!DOCTYPE html>\\n<html lang=\"en-US\">\\n<head>...    True   \n",
       "1  b'<!DOCTYPE html PUBLIC \"-//W3C//DTD XHTML 1.0...   False   \n",
       "2  b'<!DOCTYPE html>\\n<html lang=\"en-US\" prefix=\"...    True   \n",
       "3  b'<!DOCTYPE html>\\n<html lang=\"en-US\" prefix=\"...    True   \n",
       "4  b'<!DOCTYPE html>\\r\\n<html lang=\"en\">\\r\\n<head...    True   \n",
       "\n",
       "                                      webpage_corpus  \n",
       "0  Shooting Ranges Gun Rental Charlotte NC The Ra...  \n",
       "1                                                NaN  \n",
       "2  Home Renovations and Repairs Phoenix AZ Home U...  \n",
       "3  Home Oasis Auto CenterOasis Auto Center Pages ...  \n",
       "4  Contact Junction Tire Tires Auto Repair Shop i...  "
      ]
     },
     "execution_count": 4,
     "metadata": {},
     "output_type": "execute_result"
    }
   ],
   "source": [
    "df = pd.read_csv('/home/vahidsanei_google_com/data/yelp_data/updated_large/business_with_corpus.csv')\n",
    "df.head()"
   ]
  },
  {
   "cell_type": "code",
   "execution_count": 5,
   "metadata": {
    "scrolled": true
   },
   "outputs": [
    {
     "data": {
      "text/plain": [
       "Index(['Unnamed: 0', 'business_id', 'name', 'address', 'city', 'state',\n",
       "       'postal_code', 'latitude', 'longitude', 'stars', 'review_count',\n",
       "       'is_open', 'attributes', 'categories', 'hours', 'url', 'webpage_text',\n",
       "       'is_eng', 'webpage_corpus'],\n",
       "      dtype='object')"
      ]
     },
     "execution_count": 5,
     "metadata": {},
     "output_type": "execute_result"
    }
   ],
   "source": [
    "df.columns"
   ]
  },
  {
   "cell_type": "code",
   "execution_count": 6,
   "metadata": {
    "scrolled": true
   },
   "outputs": [
    {
     "name": "stdout",
     "output_type": "stream",
     "text": [
      "<class 'pandas.core.frame.DataFrame'>\n",
      "RangeIndex: 78568 entries, 0 to 78567\n",
      "Data columns (total 19 columns):\n",
      " #   Column          Non-Null Count  Dtype  \n",
      "---  ------          --------------  -----  \n",
      " 0   Unnamed: 0      78568 non-null  int64  \n",
      " 1   business_id     78568 non-null  object \n",
      " 2   name            78568 non-null  object \n",
      " 3   address         75147 non-null  object \n",
      " 4   city            78568 non-null  object \n",
      " 5   state           78568 non-null  object \n",
      " 6   postal_code     78410 non-null  object \n",
      " 7   latitude        78568 non-null  float64\n",
      " 8   longitude       78568 non-null  float64\n",
      " 9   stars           78568 non-null  float64\n",
      " 10  review_count    78568 non-null  int64  \n",
      " 11  is_open         78568 non-null  int64  \n",
      " 12  attributes      67645 non-null  object \n",
      " 13  categories      78514 non-null  object \n",
      " 14  hours           67573 non-null  object \n",
      " 15  url             78568 non-null  object \n",
      " 16  webpage_text    78568 non-null  object \n",
      " 17  is_eng          78568 non-null  bool   \n",
      " 18  webpage_corpus  50919 non-null  object \n",
      "dtypes: bool(1), float64(3), int64(3), object(12)\n",
      "memory usage: 10.9+ MB\n"
     ]
    }
   ],
   "source": [
    "df.info()"
   ]
  },
  {
   "cell_type": "code",
   "execution_count": 7,
   "metadata": {
    "scrolled": true
   },
   "outputs": [
    {
     "name": "stdout",
     "output_type": "stream",
     "text": [
      "http://www.thedakotaatcamelback.com\n",
      "##################################################\n",
      "Sorry An error has occured No domain data found for domain wwwthedakotaatcamelbackcom 2020 RentPath LLC All rights reserved All photos videos and floor plans are the property of RentPath LLC All text is the property of this property RentPath is in no way affiliated with the management or ownership of this property\n",
      "**************************************************\n",
      "http://www.alyshaan.com\n",
      "##################################################\n",
      "https://www.kfc.ca//store/415-mount-pleasant-rd-toronto\n",
      "##################################################\n",
      "Be A Franais Sign in FOR SHARING FOR ONE DEALS 0 000 START MY ORDER 415 Mount Pleasant Rd Hours Sunday 1100 AM1000 PM Monday 1100 AM1000 PM Tuesday 1100 AM1000 PM Wednesday 1100 AM1000 PM Thursday 1100 AM1000 PM Friday 1100 AM1000 PM Saturday 1100 AM1000 PM 415 Mount Pleasant Rd 4164810900 Choose Another Location Store Details 415 Mount Pleasant Rd Toronto ON M4S 2L5 4164810900 Order Now Directions km Open Closed Today 1100 AM 1000 PM Monday 1100 AM 1000 PM Tuesday 1100 AM 1000 PM Wednesday 1100 AM 1000 PM Thursday 1100 AM 1000 PM Friday 1100 AM 1000 PM Saturday 1100 AM 1000 PM localshipping wwwkfcca OR 1866KFC4YOU5324968 Distance km localparking Parking Available Colonels Club Not a member Get the app 1866 KFC4YOU 5324968 Quxc3xa9bec 18884 PFKPFK 4735735 Looking for a KFC Find a KFC About Us Our Story Our Values Your Safety News About KFC Global Careers Franchise Info Real Estate Inquiries The C is for Chicken Customer Service Contact Us Find a KFC Gift Cards Coupons Policies Terms of\n",
      "**************************************************\n",
      "http://www.lcslawfamily.com\n",
      "##################################################\n",
      "702 4352121 Facebook Twitter Google Facebook Twitter Google Attorney Profile Criminal Law Arson Assault Burglary DUI DWI in Las Vegas Drug Crimes Juvenile Crimes Misdemeanor Parole Sex Crimes Violent Crimes Weapons Family Law Child Custody Child Support Divorce Domestic Violence Family Relocation Joint Custody Paternity Primary Custody Temporary Protection Order Blog News Videos Location Contact Us Select Page Whats Your Freedom Worth Law Office of Louis Schneider we emphasize our clients rights to be respected and receive honest clear counsel Criminal Law When you need a lawyer for a criminal legal matter you are probably looking first for straightforward answers to some tough questions Legal issues of all types can be intimidating and your future well being often hangs in the balance Learn more Family Law If you do not have a Las Vegas family lawyer to assist you you can lose forever many rights that the law provides for you in family court including rights to money property and chil\n",
      "**************************************************\n",
      "http://twisterkaraoke.com/\n",
      "##################################################\n",
      "Buy a Domain Name Worlds Best Domains For Sale Customer Support 888 6946735 interesteddomainmarketcom Woops We cant find that domain name How about searching for one instead Domain For Sale Buy Now or make an offer What Are the Advantages of a Super Premium Com Domain Increased Traffic Premium names often come with existing traffic since they are exact match terms people are searching for Search Engine Ranking Your new domain will naturally sound like the authority of your industry which helps gain traffic from the search engines Brand Recognition All of our names are easy to recognize and remember which will increase the success of your marketing and advertising campaigns Immediate Presence As soon as you purchase your new name youre ready to start a website or landing page Start doing business today Higher Profits With increased traffic better brand recognition and increased marketing success youre sure to have higher profits Great Investment A premium Com domain adds value to your c\n",
      "**************************************************\n",
      "http://www.salonfortytwo.com\n",
      "##################################################\n",
      "Salon 42 Home Story Services Salons Tribe 42 Weddings Our Press Contact Us Home Story Services Salons Tribe 42 Weddings Our Press Contact Us 42 The answer to life the universe and everything Especially for Hair Salon 42 New Salon Coming Soon To beautiful sunny Charleston SC But for now continue to visit us atxe2x80xa6 Southparkxe2x80xa6 Charlotte NC Indian Landxe2x80xa6Indian Land SC Dilworth xe2x80xa6 Charlotte NC Lake Norman xe2x80xa6 Corneliua NC Did you know 42 people move into Charlotte everydayxe2x80xa6 yepxe2x80xa6itxe2x80x99s our magic number again and we hope to see them all here at Salon 42 What Else is New Learn About the Life of 42xe2x80xa6 42 is the answer to Life the Universe and Everything according to Douglas Adams and the book xe2x80x9cHitchhikers Guide to the Galaxy 42 degrees is the angle at which light must reflect off water in order to create a rainbow The Titanic was traveling at a speed equivalent to 42km when it collided with an iceberg There are 42 principles o\n",
      "**************************************************\n",
      "http://www.sunglasshut.com/us/?cvosrc=display.yelp.LasVegas\n",
      "##################################################\n",
      "Sunglass Hut Online Store Sunglasses for Women Men Kids Skip to content Polarized EGift Cards Versace RayBan Maui Jim Oakley Products 0 View all Sorry no Result found Your might be interested in Oakley 22600 RayBan 19000 Shipping to United States Europe If you wish to ship to another location please select your country below Be aware that changing your location while shopping will remove all items from the Shopping Bag Africa America Asia Europe Middle East Oceania Egypt Morocco South Africa Brasil Canada Chile Mexico United States Hong Kong China India Indonesia Malaysia Singapore Thailand France Germany Netherlands Portugal Spain United Kingdom Turkey Bahrain Jordan Kuwait Lebanon Oman Qatar Saudi Arabia United Arab Emirates Australia New Zealand 60 OFF A SECOND PAIR TCS APPLY USE CODE 60OFF2 READ MORE ABOUT OUR COVID19 RESPONSE AND ACTIONS FREE 2DAY SHIPPING FREE RETURNS FREE EASY RETURNS IN STORE OR BY MAIL GIVE THE GIFT OF CHOICE WITH SUNGLASS HUT EGIFT CARD THE EASIEST SAFEST WAY\n",
      "**************************************************\n",
      "http://www.anoctopussgarden.com\n",
      "##################################################\n",
      "Flower Designs Las Vegas NV An Octopuss Garden Event Flowers Las Vegas NV Corporate Flowers Las Vegas\n",
      "**************************************************\n",
      "http://www.dufferingrovemarket.ca/\n",
      "##################################################\n",
      "https://www.medicalmarijuanacardarizona.org/hours-and-locations/\n",
      "##################################################\n",
      "List of Locations and Hours for Medical Marijuana Doctors in AZ 480 3788530 888 5484846 520 2779057 contactmmjccccom Home Book your Visit The Process FAQ Safety and Efficacy Scientific research Check Application Status Locations Contact Join Us Select Page Hours and Locations Find the most convenient certification office Visits by appointment only We currently offer house callsxc2xa0 Call 888 5484846 xc2xa0for more details PHOENIX TEMPE La Vereda Medical Center at 2600 E Southern Ave Suite G Tempe AZ 85282 NORTH PHOENIX DEER VALLEY 20045 N 19th Ave Building 11 Suite 166 Phoenix AZ 85027 MARICOPA Inside Southwestern Pediatrics xc2xa021300 North John Wayne Parkway Suite 112 Maricopa AZxc2xa0851398963 CENTRAL PHOENIX 550 W Indian School Road Suite 122 Phoenix AZ 85013 MESA Inside Nexus Rehab and Spine at 4838 E Baseline Road Baseline Road Suite 122 Mesaxc2xa0AZ 85206 CENTRAL GILBERT building says Chiropractic on the front 1447 W Elliot Rd Gilbert AZ 85233 TUCSON xc2xa0Wholistic Family Med\n",
      "**************************************************\n"
     ]
    }
   ],
   "source": [
    "for url, corpus in zip(df['url'][-10:], df['webpage_corpus'][-10:]):\n",
    "    try:\n",
    "        print(url)\n",
    "        print('#' * 50)\n",
    "        print(corpus[:1000])\n",
    "        print('*' * 50)\n",
    "    except:\n",
    "        pass"
   ]
  },
  {
   "cell_type": "code",
   "execution_count": 8,
   "metadata": {},
   "outputs": [
    {
     "data": {
      "text/html": [
       "<div>\n",
       "<style scoped>\n",
       "    .dataframe tbody tr th:only-of-type {\n",
       "        vertical-align: middle;\n",
       "    }\n",
       "\n",
       "    .dataframe tbody tr th {\n",
       "        vertical-align: top;\n",
       "    }\n",
       "\n",
       "    .dataframe thead th {\n",
       "        text-align: right;\n",
       "    }\n",
       "</style>\n",
       "<table border=\"1\" class=\"dataframe\">\n",
       "  <thead>\n",
       "    <tr style=\"text-align: right;\">\n",
       "      <th></th>\n",
       "      <th>Unnamed: 0</th>\n",
       "      <th>business_id</th>\n",
       "      <th>name</th>\n",
       "      <th>address</th>\n",
       "      <th>city</th>\n",
       "      <th>state</th>\n",
       "      <th>postal_code</th>\n",
       "      <th>latitude</th>\n",
       "      <th>longitude</th>\n",
       "      <th>stars</th>\n",
       "      <th>review_count</th>\n",
       "      <th>is_open</th>\n",
       "      <th>attributes</th>\n",
       "      <th>categories</th>\n",
       "      <th>hours</th>\n",
       "      <th>url</th>\n",
       "      <th>webpage_text</th>\n",
       "      <th>is_eng</th>\n",
       "      <th>webpage_corpus</th>\n",
       "    </tr>\n",
       "  </thead>\n",
       "  <tbody>\n",
       "    <tr>\n",
       "      <th>0</th>\n",
       "      <td>0</td>\n",
       "      <td>f9NumwFMBDn751xgFiRbNA</td>\n",
       "      <td>The Range At Lake Norman</td>\n",
       "      <td>10913 Bailey Rd</td>\n",
       "      <td>Cornelius</td>\n",
       "      <td>NC</td>\n",
       "      <td>28031</td>\n",
       "      <td>35.462724</td>\n",
       "      <td>-80.852612</td>\n",
       "      <td>3.5</td>\n",
       "      <td>36</td>\n",
       "      <td>1</td>\n",
       "      <td>{'BusinessAcceptsCreditCards': 'True', 'BikePa...</td>\n",
       "      <td>Active Life, Gun/Rifle Ranges, Guns &amp; Ammo, Sh...</td>\n",
       "      <td>{'Monday': '10:0-18:0', 'Tuesday': '11:0-20:0'...</td>\n",
       "      <td>http://www.therangeatlakenorman.com/</td>\n",
       "      <td>b'&lt;!DOCTYPE html&gt;\\n&lt;html lang=\"en-US\"&gt;\\n&lt;head&gt;...</td>\n",
       "      <td>True</td>\n",
       "      <td>Shooting Ranges Gun Rental Charlotte NC The Ra...</td>\n",
       "    </tr>\n",
       "    <tr>\n",
       "      <th>1</th>\n",
       "      <td>1</td>\n",
       "      <td>XNoUzKckATkOD1hP6vghZg</td>\n",
       "      <td>Felinus</td>\n",
       "      <td>3554 Rue Notre-Dame O</td>\n",
       "      <td>Montreal</td>\n",
       "      <td>QC</td>\n",
       "      <td>H4C 1P4</td>\n",
       "      <td>45.479984</td>\n",
       "      <td>-73.580070</td>\n",
       "      <td>5.0</td>\n",
       "      <td>5</td>\n",
       "      <td>1</td>\n",
       "      <td>NaN</td>\n",
       "      <td>Pets, Pet Services, Pet Groomers</td>\n",
       "      <td>NaN</td>\n",
       "      <td>http://www.felinus.ca</td>\n",
       "      <td>b'&lt;!DOCTYPE html PUBLIC \"-//W3C//DTD XHTML 1.0...</td>\n",
       "      <td>False</td>\n",
       "      <td>NaN</td>\n",
       "    </tr>\n",
       "    <tr>\n",
       "      <th>2</th>\n",
       "      <td>2</td>\n",
       "      <td>51M2Kk903DFYI6gnB5I6SQ</td>\n",
       "      <td>USE MY GUY SERVICES LLC</td>\n",
       "      <td>4827 E Downing Cir</td>\n",
       "      <td>Mesa</td>\n",
       "      <td>AZ</td>\n",
       "      <td>85205</td>\n",
       "      <td>33.428065</td>\n",
       "      <td>-111.726648</td>\n",
       "      <td>4.5</td>\n",
       "      <td>26</td>\n",
       "      <td>1</td>\n",
       "      <td>{'BusinessAcceptsCreditCards': 'True', 'ByAppo...</td>\n",
       "      <td>Home Services, Plumbing, Electricians, Handyma...</td>\n",
       "      <td>{'Monday': '0:0-0:0', 'Tuesday': '9:0-16:0', '...</td>\n",
       "      <td>https://www.usemyguyservices.com</td>\n",
       "      <td>b'&lt;!DOCTYPE html&gt;\\n&lt;html lang=\"en-US\" prefix=\"...</td>\n",
       "      <td>True</td>\n",
       "      <td>Home Renovations and Repairs Phoenix AZ Home U...</td>\n",
       "    </tr>\n",
       "    <tr>\n",
       "      <th>3</th>\n",
       "      <td>3</td>\n",
       "      <td>cKyLV5oWZJ2NudWgqs8VZw</td>\n",
       "      <td>Oasis Auto Center - Gilbert</td>\n",
       "      <td>1720 W Elliot Rd, Ste 105</td>\n",
       "      <td>Gilbert</td>\n",
       "      <td>AZ</td>\n",
       "      <td>85233</td>\n",
       "      <td>33.350399</td>\n",
       "      <td>-111.827142</td>\n",
       "      <td>4.5</td>\n",
       "      <td>38</td>\n",
       "      <td>1</td>\n",
       "      <td>{'BusinessAcceptsCreditCards': 'True'}</td>\n",
       "      <td>Auto Repair, Automotive, Oil Change Stations, ...</td>\n",
       "      <td>{'Monday': '7:0-18:0', 'Tuesday': '7:0-18:0', ...</td>\n",
       "      <td>http://oasisautocenter.net</td>\n",
       "      <td>b'&lt;!DOCTYPE html&gt;\\n&lt;html lang=\"en-US\" prefix=\"...</td>\n",
       "      <td>True</td>\n",
       "      <td>Home Oasis Auto CenterOasis Auto Center Pages ...</td>\n",
       "    </tr>\n",
       "    <tr>\n",
       "      <th>4</th>\n",
       "      <td>4</td>\n",
       "      <td>ScYkbYNkDgCneBrD9vqhCQ</td>\n",
       "      <td>Junction Tire &amp; Auto Service</td>\n",
       "      <td>6910 E Southern Ave</td>\n",
       "      <td>Mesa</td>\n",
       "      <td>AZ</td>\n",
       "      <td>85209</td>\n",
       "      <td>33.393885</td>\n",
       "      <td>-111.682226</td>\n",
       "      <td>5.0</td>\n",
       "      <td>18</td>\n",
       "      <td>1</td>\n",
       "      <td>{'BusinessAcceptsCreditCards': 'True', 'ByAppo...</td>\n",
       "      <td>Auto Repair, Oil Change Stations, Automotive, ...</td>\n",
       "      <td>{'Monday': '7:30-17:0', 'Tuesday': '7:30-17:0'...</td>\n",
       "      <td>http://junctiontire.net/tires-auto-repair-mesa-az</td>\n",
       "      <td>b'&lt;!DOCTYPE html&gt;\\r\\n&lt;html lang=\"en\"&gt;\\r\\n&lt;head...</td>\n",
       "      <td>True</td>\n",
       "      <td>Contact Junction Tire Tires Auto Repair Shop i...</td>\n",
       "    </tr>\n",
       "  </tbody>\n",
       "</table>\n",
       "</div>"
      ],
      "text/plain": [
       "   Unnamed: 0             business_id                          name  \\\n",
       "0           0  f9NumwFMBDn751xgFiRbNA      The Range At Lake Norman   \n",
       "1           1  XNoUzKckATkOD1hP6vghZg                       Felinus   \n",
       "2           2  51M2Kk903DFYI6gnB5I6SQ       USE MY GUY SERVICES LLC   \n",
       "3           3  cKyLV5oWZJ2NudWgqs8VZw   Oasis Auto Center - Gilbert   \n",
       "4           4  ScYkbYNkDgCneBrD9vqhCQ  Junction Tire & Auto Service   \n",
       "\n",
       "                     address       city state postal_code   latitude  \\\n",
       "0            10913 Bailey Rd  Cornelius    NC       28031  35.462724   \n",
       "1      3554 Rue Notre-Dame O   Montreal    QC     H4C 1P4  45.479984   \n",
       "2         4827 E Downing Cir       Mesa    AZ       85205  33.428065   \n",
       "3  1720 W Elliot Rd, Ste 105    Gilbert    AZ       85233  33.350399   \n",
       "4        6910 E Southern Ave       Mesa    AZ       85209  33.393885   \n",
       "\n",
       "    longitude  stars  review_count  is_open  \\\n",
       "0  -80.852612    3.5            36        1   \n",
       "1  -73.580070    5.0             5        1   \n",
       "2 -111.726648    4.5            26        1   \n",
       "3 -111.827142    4.5            38        1   \n",
       "4 -111.682226    5.0            18        1   \n",
       "\n",
       "                                          attributes  \\\n",
       "0  {'BusinessAcceptsCreditCards': 'True', 'BikePa...   \n",
       "1                                                NaN   \n",
       "2  {'BusinessAcceptsCreditCards': 'True', 'ByAppo...   \n",
       "3             {'BusinessAcceptsCreditCards': 'True'}   \n",
       "4  {'BusinessAcceptsCreditCards': 'True', 'ByAppo...   \n",
       "\n",
       "                                          categories  \\\n",
       "0  Active Life, Gun/Rifle Ranges, Guns & Ammo, Sh...   \n",
       "1                   Pets, Pet Services, Pet Groomers   \n",
       "2  Home Services, Plumbing, Electricians, Handyma...   \n",
       "3  Auto Repair, Automotive, Oil Change Stations, ...   \n",
       "4  Auto Repair, Oil Change Stations, Automotive, ...   \n",
       "\n",
       "                                               hours  \\\n",
       "0  {'Monday': '10:0-18:0', 'Tuesday': '11:0-20:0'...   \n",
       "1                                                NaN   \n",
       "2  {'Monday': '0:0-0:0', 'Tuesday': '9:0-16:0', '...   \n",
       "3  {'Monday': '7:0-18:0', 'Tuesday': '7:0-18:0', ...   \n",
       "4  {'Monday': '7:30-17:0', 'Tuesday': '7:30-17:0'...   \n",
       "\n",
       "                                                 url  \\\n",
       "0               http://www.therangeatlakenorman.com/   \n",
       "1                              http://www.felinus.ca   \n",
       "2                   https://www.usemyguyservices.com   \n",
       "3                         http://oasisautocenter.net   \n",
       "4  http://junctiontire.net/tires-auto-repair-mesa-az   \n",
       "\n",
       "                                        webpage_text  is_eng  \\\n",
       "0  b'<!DOCTYPE html>\\n<html lang=\"en-US\">\\n<head>...    True   \n",
       "1  b'<!DOCTYPE html PUBLIC \"-//W3C//DTD XHTML 1.0...   False   \n",
       "2  b'<!DOCTYPE html>\\n<html lang=\"en-US\" prefix=\"...    True   \n",
       "3  b'<!DOCTYPE html>\\n<html lang=\"en-US\" prefix=\"...    True   \n",
       "4  b'<!DOCTYPE html>\\r\\n<html lang=\"en\">\\r\\n<head...    True   \n",
       "\n",
       "                                      webpage_corpus  \n",
       "0  Shooting Ranges Gun Rental Charlotte NC The Ra...  \n",
       "1                                                NaN  \n",
       "2  Home Renovations and Repairs Phoenix AZ Home U...  \n",
       "3  Home Oasis Auto CenterOasis Auto Center Pages ...  \n",
       "4  Contact Junction Tire Tires Auto Repair Shop i...  "
      ]
     },
     "execution_count": 8,
     "metadata": {},
     "output_type": "execute_result"
    }
   ],
   "source": [
    "df_sentsplit = pd.read_csv('/home/vahidsanei_google_com/data/yelp_data/updated_large/business_with_corpus_sent_split.csv')\n",
    "df_sentsplit.head()"
   ]
  },
  {
   "cell_type": "code",
   "execution_count": 9,
   "metadata": {
    "scrolled": true
   },
   "outputs": [
    {
     "name": "stdout",
     "output_type": "stream",
     "text": [
      "http://www.salonfortytwo.com\n",
      "##################################################\n",
      "Salon 42 Home Story Services Salons Tribe 42 Weddings Our Press Contact Us Home Story Services Salons Tribe 42 Weddings Our Press Contact Us 42 The answer to life the universe and everything Especially for Hair Salon 42 New Salon Coming Soon To beautiful sunny Charleston SC But for now continue to visit us atxe2x80xa6 Southparkxe2x80xa6 Charlotte NC Indian Landxe2x80xa6Indian Land SC Dilworth xe2x80xa6 Charlotte NC Lake Norman xe2x80xa6 Corneliua NC Did you know 42 people move into Charlotte everydayxe2x80xa6 yepxe2x80xa6itxe2x80x99s our magic number again and we hope to see them all here at Salon 42 What Else is New Learn About the Life of 42xe2x80xa6 42 is the answer to Life the Universe and Everything according to Douglas Adams and the book xe2x80x9cHitchhikers Guide to the Galaxy 42 degrees is the angle at which light must reflect off water in order to create a rainbow The Titanic was traveling at a speed equivalent to 42km when it collided with an iceberg There are 42 principles o\n",
      "**************************************************\n",
      "http://www.sunglasshut.com/us/?cvosrc=display.yelp.LasVegas\n",
      "##################################################\n",
      "Sunglass Hut Online Store Sunglasses for Women Men Kids Skip to content Polarized EGift Cards Versace RayBan Maui Jim Oakley Products 0 View all Sorry no Result found Your might be interested in Oakley 22600 RayBan 19000 Shipping to United States Europe If you wish to ship to another location please select your country below Be aware that changing your location while shopping will remove all items from the Shopping Bag Africa America Asia Europe Middle East Oceania Egypt Morocco South Africa Brasil Canada Chile Mexico United States Hong Kong China India Indonesia Malaysia Singapore Thailand France Germany Netherlands Portugal Spain United Kingdom Turkey Bahrain Jordan Kuwait Lebanon Oman Qatar Saudi Arabia United Arab Emirates Australia New Zealand 60 OFF A SECOND PAIR TCS APPLY USE CODE 60OFF2 READ MORE ABOUT OUR COVID19 RESPONSE AND ACTIONS FREE 2DAY SHIPPING FREE RETURNS FREE EASY RETURNS IN STORE OR BY MAIL GIVE THE GIFT OF CHOICE WITH SUNGLASS HUT EGIFT CARD THE EASIEST SAFEST WAY\n",
      "**************************************************\n",
      "http://www.anoctopussgarden.com\n",
      "##################################################\n",
      "Flower Designs Las Vegas NV An Octopuss Garden Event Flowers Las Vegas NV Corporate Flowers Las Vegas\n",
      "**************************************************\n",
      "http://www.dufferingrovemarket.ca/\n",
      "##################################################\n",
      "https://www.medicalmarijuanacardarizona.org/hours-and-locations/\n",
      "##################################################\n",
      "List of Locations and Hours for Medical Marijuana Doctors in AZ 480 3788530 888 5484846 520 2779057 contactmmjccccom Home Book your Visit The Process FAQ Safety and Efficacy Scientific research Check Application Status Locations Contact Join Us Select Page Hours and Locations Find the most convenient certification office Visits by appointment only We currently offer house callsxc2xa0 Call 888 5484846 xc2xa0for more details PHOENIX TEMPE La Vereda Medical Center at 2600 E Southern Ave Suite G Tempe AZ 85282 NORTH PHOENIX DEER VALLEY 20045 N 19th Ave Building 11 Suite 166 Phoenix AZ 85027 MARICOPA Inside Southwestern Pediatrics xc2xa021300 North John Wayne Parkway Suite 112 Maricopa AZxc2xa0851398963 CENTRAL PHOENIX 550 W Indian School Road Suite 122 Phoenix AZ 85013 MESA Inside Nexus Rehab and Spine at 4838 E Baseline Road Baseline Road Suite 122 Mesaxc2xa0AZ 85206 CENTRAL GILBERT building says Chiropractic on the front 1447 W Elliot Rd Gilbert AZ 85233 TUCSON xc2xa0Wholistic Family Med\n",
      "**************************************************\n"
     ]
    }
   ],
   "source": [
    "for url, corpus in zip(df['url'][-5:], df['webpage_corpus'][-5:]):\n",
    "    try:\n",
    "        print(url)\n",
    "        print('#' * 50)\n",
    "        print(corpus[:1000])\n",
    "        print('*' * 50)\n",
    "    except:\n",
    "        pass"
   ]
  },
  {
   "cell_type": "code",
   "execution_count": 10,
   "metadata": {},
   "outputs": [
    {
     "name": "stdout",
     "output_type": "stream",
     "text": [
      "http://www.salonfortytwo.com\n",
      "##################################################\n",
      "Salon 42 Home Story Services Salons Tribe 42 Weddings Our Press Contact Us Home Story Services Salons Tribe 42 Weddings Our Press Contact Us 42 The answer to life the universe and everything#Especially for Hair Salon 42 New Salon Coming Soon To beautiful sunny Charleston SC But for now continue to visit us atxe2x80xa6 Southparkxe2x80xa6 Charlotte NC Indian Landxe2x80xa6Indian Land SC Dilworth xe2x80xa6 Charlotte NC Lake Norman xe2x80xa6 Corneliua NC Did you know#42 people move into Charlotte everydayxe2x80xa6 yepxe2x80xa6itxe2x80x99s our magic number again and we hope to see them all here at Salon 42#What Else is New#Learn About the Life of 42xe2x80xa6 42 is the answer to Life the Universe and Everything according to Douglas Adams and the book xe2x80x9cHitchhikers Guide to the Galaxy#42 degrees is the angle at which light must reflect off water in order to create a rainbow#The Titanic was traveling at a speed equivalent to 42km when it collided with an iceberg#There are 42 principles o\n",
      "**************************************************\n",
      "http://www.sunglasshut.com/us/?cvosrc=display.yelp.LasVegas\n",
      "##################################################\n",
      "Sunglass Hut Online Store Sunglasses for Women Men Kids Skip to content Polarized EGift Cards Versace RayBan Maui Jim Oakley Products 0 View all Sorry no Result found Your might be interested in Oakley 22600 RayBan 19000 Shipping to United States Europe If you wish to ship to another location please select your country below#Be aware that changing your location while shopping will remove all items from the Shopping Bag Africa America Asia Europe Middle East Oceania Egypt Morocco South Africa Brasil Canada Chile Mexico United States Hong Kong China India Indonesia Malaysia Singapore Thailand France Germany Netherlands Portugal Spain United Kingdom Turkey Bahrain Jordan Kuwait Lebanon Oman Qatar Saudi Arabia United Arab Emirates Australia New Zealand 60 OFF A SECOND PAIR TCS APPLY USE CODE 60OFF2 READ MORE ABOUT OUR COVID19 RESPONSE AND ACTIONS FREE 2DAY SHIPPING FREE RETURNS FREE EASY RETURNS IN STORE OR BY MAIL GIVE THE GIFT OF CHOICE WITH SUNGLASS HUT EGIFT CARD THE EASIEST SAFEST WAY\n",
      "**************************************************\n",
      "http://www.anoctopussgarden.com\n",
      "##################################################\n",
      "Flower Designs Las Vegas NV An Octopuss Garden Event Flowers Las Vegas NV Corporate Flowers Las Vegas\n",
      "**************************************************\n",
      "http://www.dufferingrovemarket.ca/\n",
      "##################################################\n",
      "https://www.medicalmarijuanacardarizona.org/hours-and-locations/\n",
      "##################################################\n",
      "List of Locations and Hours for Medical Marijuana Doctors in AZ 480 3788530 888 5484846 520 2779057 contactmmjccccom Home Book your Visit The Process FAQ Safety and Efficacy Scientific research Check Application Status Locations Contact Join Us Select Page Hours and Locations Find the most convenient certification office#Visits by appointment only#We currently offer house callsxc2xa0 Call 888 5484846 xc2xa0for more details#PHOENIX TEMPE La Vereda Medical Center at 2600 E Southern Ave Suite G Tempe AZ 85282 NORTH PHOENIX DEER VALLEY 20045 N 19th Ave Building 11 Suite 166 Phoenix AZ 85027 MARICOPA Inside Southwestern Pediatrics xc2xa021300 North John Wayne Parkway Suite 112 Maricopa AZxc2xa0851398963 CENTRAL PHOENIX 550 W Indian School Road Suite 122 Phoenix AZ 85013 MESA Inside Nexus Rehab and Spine at 4838 E Baseline Road Baseline Road Suite 122 Mesaxc2xa0AZ 85206 CENTRAL GILBERT building says Chiropractic on the front 1447 W Elliot Rd Gilbert AZ 85233 TUCSON xc2xa0Wholistic Family Med\n",
      "**************************************************\n"
     ]
    }
   ],
   "source": [
    "for url, corpus in zip(df_sentsplit['url'][-5:], df_sentsplit['webpage_corpus'][-5:]):\n",
    "    try:\n",
    "        print(url)\n",
    "        print('#' * 50)\n",
    "        print(corpus[:1000])\n",
    "        print('*' * 50)\n",
    "    except:\n",
    "        pass"
   ]
  },
  {
   "cell_type": "code",
   "execution_count": 11,
   "metadata": {},
   "outputs": [],
   "source": [
    "saved_df = df.copy()\n",
    "saved_df_sentsplit = df_sentsplit.copy()"
   ]
  },
  {
   "cell_type": "code",
   "execution_count": 12,
   "metadata": {},
   "outputs": [],
   "source": [
    "df = saved_df.copy()\n",
    "df_sentsplit = saved_df_sentsplit.copy()"
   ]
  },
  {
   "cell_type": "code",
   "execution_count": 13,
   "metadata": {},
   "outputs": [
    {
     "name": "stderr",
     "output_type": "stream",
     "text": [
      "/home/vahidsanei_google_com/advertiser-quality-from-sites/source/my_models.py:438: SettingWithCopyWarning: \n",
      "A value is trying to be set on a copy of a slice from a DataFrame.\n",
      "Try using .loc[row_indexer,col_indexer] = value instead\n",
      "\n",
      "See the caveats in the documentation: https://pandas.pydata.org/pandas-docs/stable/user_guide/indexing.html#returning-a-view-versus-a-copy\n",
      "  df['categories'] = df['categories'].apply(lambda x: re.split('[,;&]', x))\n",
      "/home/vahidsanei_google_com/advertiser-quality-from-sites/source/my_models.py:457: SettingWithCopyWarning: \n",
      "A value is trying to be set on a copy of a slice from a DataFrame.\n",
      "Try using .loc[row_indexer,col_indexer] = value instead\n",
      "\n",
      "See the caveats in the documentation: https://pandas.pydata.org/pandas-docs/stable/user_guide/indexing.html#returning-a-view-versus-a-copy\n",
      "  df['categories'] = cat\n"
     ]
    }
   ],
   "source": [
    "df = unify_yelp_data_classes(df, show_skipped=False);"
   ]
  },
  {
   "cell_type": "code",
   "execution_count": 14,
   "metadata": {},
   "outputs": [],
   "source": [
    "df_sentsplit = unify_yelp_data_classes(df_sentsplit, show_skipped=False);"
   ]
  },
  {
   "cell_type": "code",
   "execution_count": 15,
   "metadata": {
    "scrolled": true
   },
   "outputs": [
    {
     "data": {
      "image/png": "[encoded data removed]",
      "text/plain": [
       "<Figure size 432x288 with 1 Axes>"
      ]
     },
     "metadata": {
      "image/png": {
       "height": 340,
       "width": 401
      },
      "needs_background": "light"
     },
     "output_type": "display_data"
    }
   ],
   "source": [
    "plot_classes_distribution(df)"
   ]
  },
  {
   "cell_type": "code",
   "execution_count": 16,
   "metadata": {},
   "outputs": [
    {
     "data": {
      "image/png": "[encoded data removed]",
      "text/plain": [
       "<Figure size 432x288 with 1 Axes>"
      ]
     },
     "metadata": {
      "image/png": {
       "height": 340,
       "width": 401
      },
      "needs_background": "light"
     },
     "output_type": "display_data"
    }
   ],
   "source": [
    "plot_classes_distribution(df_sentsplit)"
   ]
  },
  {
   "cell_type": "code",
   "execution_count": 17,
   "metadata": {},
   "outputs": [
    {
     "name": "stdout",
     "output_type": "stream",
     "text": [
      "<class 'pandas.core.frame.DataFrame'>\n",
      "Int64Index: 67945 entries, 0 to 78567\n",
      "Data columns (total 19 columns):\n",
      " #   Column          Non-Null Count  Dtype  \n",
      "---  ------          --------------  -----  \n",
      " 0   Unnamed: 0      67945 non-null  int64  \n",
      " 1   business_id     67945 non-null  object \n",
      " 2   name            67945 non-null  object \n",
      " 3   address         65177 non-null  object \n",
      " 4   city            67945 non-null  object \n",
      " 5   state           67945 non-null  object \n",
      " 6   postal_code     67813 non-null  object \n",
      " 7   latitude        67945 non-null  float64\n",
      " 8   longitude       67945 non-null  float64\n",
      " 9   stars           67945 non-null  float64\n",
      " 10  review_count    67945 non-null  int64  \n",
      " 11  is_open         67945 non-null  int64  \n",
      " 12  attributes      59391 non-null  object \n",
      " 13  categories      67945 non-null  object \n",
      " 14  hours           59100 non-null  object \n",
      " 15  url             67945 non-null  object \n",
      " 16  webpage_text    67945 non-null  object \n",
      " 17  is_eng          67945 non-null  bool   \n",
      " 18  webpage_corpus  43535 non-null  object \n",
      "dtypes: bool(1), float64(3), int64(3), object(12)\n",
      "memory usage: 12.4+ MB\n"
     ]
    }
   ],
   "source": [
    "df.info()"
   ]
  },
  {
   "cell_type": "code",
   "execution_count": 18,
   "metadata": {
    "scrolled": true
   },
   "outputs": [
    {
     "name": "stdout",
     "output_type": "stream",
     "text": [
      "['this', 'is', 'an', 'open', '-', 'source', 'project', 'for', 'category', 'detection', 'of', 'businesses', 'based', 'on', 'their', 'website', 'contents', '!']\n",
      "[2023, 2003, 2019, 2330, 1011, 3120, 2622, 2005, 4696, 10788, 1997, 5661, 2241, 2006, 2037, 4037, 8417, 999]\n"
     ]
    }
   ],
   "source": [
    "folder_path = os.path.join(FOLDER_PATH, 'data','uncased_L-12_H-768_A-12')\n",
    "tokenizer = FullTokenizer(vocab_file=os.path.join(folder_path, 'vocab.txt'))\n",
    "\n",
    "bert_ckpt_file = os.path.join(folder_path, 'bert_model.ckpt')\n",
    "bert_config_file = os.path.join(folder_path, 'bert_config.json')\n",
    "\n",
    "tokens_test = tokenizer.tokenize('This is an open-source project for category detection of businesses based on their website contents!')\n",
    "print(tokens_test)\n",
    "print(tokenizer.convert_tokens_to_ids(tokens_test))"
   ]
  },
  {
   "cell_type": "code",
   "execution_count": 19,
   "metadata": {},
   "outputs": [],
   "source": [
    "split_sz = int(len(df) * 0.8)\n",
    "train = df[:split_sz]\n",
    "test = df[split_sz:]"
   ]
  },
  {
   "cell_type": "code",
   "execution_count": 20,
   "metadata": {
    "scrolled": true
   },
   "outputs": [
    {
     "name": "stderr",
     "output_type": "stream",
     "text": [
      "34858it [07:23, 78.54it/s] \n",
      "12it [00:00, 118.32it/s]"
     ]
    },
    {
     "name": "stdout",
     "output_type": "stream",
     "text": [
      "Removed 17.875380113603768% of entries, due to being short corpus length.\n"
     ]
    },
    {
     "name": "stderr",
     "output_type": "stream",
     "text": [
      "8677it [01:48, 80.20it/s] \n"
     ]
    },
    {
     "name": "stdout",
     "output_type": "stream",
     "text": [
      "Removed 18.047712342975686% of entries, due to being short corpus length.\n",
      "size of each balanced class =  601\n"
     ]
    }
   ],
   "source": [
    "cat1 = categoryDetection(train, test, tokenizer, max_seq_len=128)"
   ]
  },
  {
   "cell_type": "markdown",
   "metadata": {},
   "source": [
    "# Baseline with Unbalanced Training Set"
   ]
  },
  {
   "cell_type": "code",
   "execution_count": 21,
   "metadata": {},
   "outputs": [
    {
     "name": "stdout",
     "output_type": "stream",
     "text": [
      "class beauty = 10.59%\n",
      "class car = 9.11%\n",
      "class education = 2.1%\n",
      "class entertainment = 7.57%\n",
      "class financial = 2.72%\n",
      "class fitness = 4.2%\n",
      "class food = 29.35%\n",
      "class health = 12.16%\n",
      "class housework = 19.14%\n",
      "class law = 3.07%\n"
     ]
    }
   ],
   "source": [
    "get_classes_distribution(cat1.train_y, cat1.classes)"
   ]
  },
  {
   "cell_type": "code",
   "execution_count": 22,
   "metadata": {
    "scrolled": false
   },
   "outputs": [
    {
     "name": "stdout",
     "output_type": "stream",
     "text": [
      "Done loading 196 BERT weights from: /home/vahidsanei_google_com/data/uncased_L-12_H-768_A-12/bert_model.ckpt into <bert.model.BertModelLayer object at 0x7fc291a65210> (prefix:bert). Count of weights not found in the checkpoint was: [0]. Count of weights with mismatched shape: [0]\n",
      "Unused weights from checkpoint: \n",
      "\tbert/embeddings/token_type_embeddings\n",
      "\tbert/pooler/dense/bias\n",
      "\tbert/pooler/dense/kernel\n",
      "\tcls/predictions/output_bias\n",
      "\tcls/predictions/transform/LayerNorm/beta\n",
      "\tcls/predictions/transform/LayerNorm/gamma\n",
      "\tcls/predictions/transform/dense/bias\n",
      "\tcls/predictions/transform/dense/kernel\n",
      "\tcls/seq_relationship/output_bias\n",
      "\tcls/seq_relationship/output_weights\n",
      "Model: \"model\"\n",
      "_________________________________________________________________\n",
      "Layer (type)                 Output Shape              Param #   \n",
      "=================================================================\n",
      "input_ids (InputLayer)       [(None, 128)]             0         \n",
      "_________________________________________________________________\n",
      "bert (BertModelLayer)        (None, 128, 768)          108890112 \n",
      "_________________________________________________________________\n",
      "lambda (Lambda)              (None, 768)               0         \n",
      "_________________________________________________________________\n",
      "dropout (Dropout)            (None, 768)               0         \n",
      "_________________________________________________________________\n",
      "dense (Dense)                (None, 800)               615200    \n",
      "_________________________________________________________________\n",
      "dropout_1 (Dropout)          (None, 800)               0         \n",
      "_________________________________________________________________\n",
      "dense_1 (Dense)              (None, 800)               640800    \n",
      "_________________________________________________________________\n",
      "dropout_2 (Dropout)          (None, 800)               0         \n",
      "_________________________________________________________________\n",
      "dense_2 (Dense)              (None, 10)                8010      \n",
      "=================================================================\n",
      "Total params: 110,154,122\n",
      "Trainable params: 110,154,122\n",
      "Non-trainable params: 0\n",
      "_________________________________________________________________\n",
      "None\n",
      "Epoch 1/20\n",
      "1700/1700 [==============================] - 479s 282ms/step - loss: 1.8752 - acc: 0.5939 - val_loss: 1.7089 - val_acc: 0.7472\n",
      "Epoch 2/20\n",
      "1700/1700 [==============================] - 487s 287ms/step - loss: 1.6881 - acc: 0.7755 - val_loss: 1.6391 - val_acc: 0.8198\n",
      "Epoch 3/20\n",
      "1700/1700 [==============================] - 483s 284ms/step - loss: 1.6372 - acc: 0.8271 - val_loss: 1.6084 - val_acc: 0.8513\n",
      "Epoch 4/20\n",
      "1700/1700 [==============================] - 484s 285ms/step - loss: 1.6140 - acc: 0.8485 - val_loss: 1.5899 - val_acc: 0.8715\n",
      "Epoch 5/20\n",
      "1700/1700 [==============================] - 487s 287ms/step - loss: 1.5978 - acc: 0.8647 - val_loss: 1.5718 - val_acc: 0.8890\n",
      "Epoch 6/20\n",
      "1700/1700 [==============================] - 489s 288ms/step - loss: 1.5897 - acc: 0.8726 - val_loss: 1.5711 - val_acc: 0.8904\n",
      "Epoch 7/20\n",
      "1700/1700 [==============================] - 481s 283ms/step - loss: 1.5833 - acc: 0.8785 - val_loss: 1.5698 - val_acc: 0.8925\n",
      "Epoch 8/20\n",
      "1700/1700 [==============================] - 485s 285ms/step - loss: 1.5790 - acc: 0.8827 - val_loss: 1.5727 - val_acc: 0.8876\n",
      "Epoch 9/20\n",
      "1700/1700 [==============================] - 484s 284ms/step - loss: 1.5766 - acc: 0.8852 - val_loss: 1.5810 - val_acc: 0.8799\n",
      "Epoch 10/20\n",
      "1700/1700 [==============================] - 482s 283ms/step - loss: 1.5751 - acc: 0.8863 - val_loss: 1.5672 - val_acc: 0.8939\n",
      "Epoch 11/20\n",
      "1700/1700 [==============================] - 486s 286ms/step - loss: 1.5724 - acc: 0.8890 - val_loss: 1.5722 - val_acc: 0.8883\n",
      "Epoch 12/20\n",
      "1700/1700 [==============================] - 482s 283ms/step - loss: 1.5720 - acc: 0.8894 - val_loss: 1.5754 - val_acc: 0.8848\n",
      "Epoch 13/20\n",
      "1700/1700 [==============================] - 479s 281ms/step - loss: 1.5747 - acc: 0.8866 - val_loss: 1.5679 - val_acc: 0.8932\n",
      "Epoch 14/20\n",
      "1700/1700 [==============================] - 478s 281ms/step - loss: 1.5764 - acc: 0.8848 - val_loss: 1.5701 - val_acc: 0.8911\n",
      "Epoch 15/20\n",
      "1700/1700 [==============================] - 478s 281ms/step - loss: 1.5720 - acc: 0.8892 - val_loss: 1.5699 - val_acc: 0.8918\n",
      "Epoch 16/20\n",
      "1700/1700 [==============================] - 478s 281ms/step - loss: 1.5721 - acc: 0.8892 - val_loss: 1.5717 - val_acc: 0.8890\n",
      "Epoch 17/20\n",
      "1700/1700 [==============================] - 489s 288ms/step - loss: 1.5732 - acc: 0.8881 - val_loss: 1.5735 - val_acc: 0.8869\n",
      "Epoch 18/20\n",
      "1700/1700 [==============================] - 499s 294ms/step - loss: 1.5754 - acc: 0.8859 - val_loss: 1.5709 - val_acc: 0.8904\n",
      "Epoch 19/20\n",
      "1700/1700 [==============================] - 490s 288ms/step - loss: 1.5731 - acc: 0.8881 - val_loss: 1.5789 - val_acc: 0.8820\n",
      "Epoch 20/20\n",
      "1700/1700 [==============================] - 498s 293ms/step - loss: 1.5719 - acc: 0.8894 - val_loss: 1.5757 - val_acc: 0.8855\n",
      "Accuracy on test set:\n",
      "223/223 [==============================] - 24s 109ms/step - loss: 1.5930 - acc: 0.8681\n"
     ]
    }
   ],
   "source": [
    "model1 = cat1.build_model(bert_config_file, bert_ckpt_file, max_seq_len=128, adapter_size=None);\n",
    "cat1.compile_model(model1, cat1.train_x, cat1.train_y, n_epochs=20);\n",
    "print('Accuracy on test set:')\n",
    "model1.evaluate(cat1.test_x, cat1.test_y);"
   ]
  },
  {
   "cell_type": "markdown",
   "metadata": {},
   "source": [
    "# Baseline with Balanced Training Set"
   ]
  },
  {
   "cell_type": "code",
   "execution_count": 23,
   "metadata": {},
   "outputs": [
    {
     "name": "stdout",
     "output_type": "stream",
     "text": [
      "class beauty = 10.0%\n",
      "class car = 10.0%\n",
      "class education = 10.0%\n",
      "class entertainment = 10.0%\n",
      "class financial = 10.0%\n",
      "class fitness = 10.0%\n",
      "class food = 10.0%\n",
      "class health = 10.0%\n",
      "class housework = 10.0%\n",
      "class law = 10.0%\n"
     ]
    }
   ],
   "source": [
    "get_classes_distribution(cat1.balanced_train_y, cat1.classes)"
   ]
  },
  {
   "cell_type": "code",
   "execution_count": 24,
   "metadata": {},
   "outputs": [
    {
     "name": "stdout",
     "output_type": "stream",
     "text": [
      "Done loading 196 BERT weights from: /home/vahidsanei_google_com/data/uncased_L-12_H-768_A-12/bert_model.ckpt into <bert.model.BertModelLayer object at 0x7fc291a65290> (prefix:bert_1). Count of weights not found in the checkpoint was: [0]. Count of weights with mismatched shape: [0]\n",
      "Unused weights from checkpoint: \n",
      "\tbert/embeddings/token_type_embeddings\n",
      "\tbert/pooler/dense/bias\n",
      "\tbert/pooler/dense/kernel\n",
      "\tcls/predictions/output_bias\n",
      "\tcls/predictions/transform/LayerNorm/beta\n",
      "\tcls/predictions/transform/LayerNorm/gamma\n",
      "\tcls/predictions/transform/dense/bias\n",
      "\tcls/predictions/transform/dense/kernel\n",
      "\tcls/seq_relationship/output_bias\n",
      "\tcls/seq_relationship/output_weights\n",
      "Model: \"model_1\"\n",
      "_________________________________________________________________\n",
      "Layer (type)                 Output Shape              Param #   \n",
      "=================================================================\n",
      "input_ids (InputLayer)       [(None, 128)]             0         \n",
      "_________________________________________________________________\n",
      "bert (BertModelLayer)        (None, 128, 768)          108890112 \n",
      "_________________________________________________________________\n",
      "lambda_1 (Lambda)            (None, 768)               0         \n",
      "_________________________________________________________________\n",
      "dropout_3 (Dropout)          (None, 768)               0         \n",
      "_________________________________________________________________\n",
      "dense_3 (Dense)              (None, 800)               615200    \n",
      "_________________________________________________________________\n",
      "dropout_4 (Dropout)          (None, 800)               0         \n",
      "_________________________________________________________________\n",
      "dense_4 (Dense)              (None, 800)               640800    \n",
      "_________________________________________________________________\n",
      "dropout_5 (Dropout)          (None, 800)               0         \n",
      "_________________________________________________________________\n",
      "dense_5 (Dense)              (None, 10)                8010      \n",
      "=================================================================\n",
      "Total params: 110,154,122\n",
      "Trainable params: 110,154,122\n",
      "Non-trainable params: 0\n",
      "_________________________________________________________________\n",
      "None\n",
      "Epoch 1/20\n",
      "357/357 [==============================] - 108s 303ms/step - loss: 2.3066 - acc: 0.1012 - val_loss: 2.3314 - val_acc: 0.0000e+00\n",
      "Epoch 2/20\n",
      "357/357 [==============================] - 104s 292ms/step - loss: 2.2634 - acc: 0.1636 - val_loss: 2.1233 - val_acc: 0.2492\n",
      "Epoch 3/20\n",
      "357/357 [==============================] - 101s 284ms/step - loss: 2.1268 - acc: 0.3309 - val_loss: 2.0474 - val_acc: 0.3455\n",
      "Epoch 4/20\n",
      "357/357 [==============================] - 100s 281ms/step - loss: 1.9085 - acc: 0.5854 - val_loss: 1.7629 - val_acc: 0.7375\n",
      "Epoch 5/20\n",
      "357/357 [==============================] - 99s 278ms/step - loss: 1.7381 - acc: 0.7551 - val_loss: 1.7043 - val_acc: 0.7575\n",
      "Epoch 6/20\n",
      "357/357 [==============================] - 100s 279ms/step - loss: 1.6578 - acc: 0.8269 - val_loss: 1.6388 - val_acc: 0.8272\n",
      "Epoch 7/20\n",
      "357/357 [==============================] - 99s 278ms/step - loss: 1.6264 - acc: 0.8488 - val_loss: 1.6354 - val_acc: 0.8239\n",
      "Epoch 8/20\n",
      "357/357 [==============================] - 99s 278ms/step - loss: 1.6115 - acc: 0.8611 - val_loss: 1.6344 - val_acc: 0.8206\n",
      "Epoch 9/20\n",
      "357/357 [==============================] - 100s 279ms/step - loss: 1.5942 - acc: 0.8737 - val_loss: 1.6306 - val_acc: 0.8339\n",
      "Epoch 10/20\n",
      "357/357 [==============================] - 99s 278ms/step - loss: 1.5891 - acc: 0.8772 - val_loss: 1.6688 - val_acc: 0.7907\n",
      "Epoch 11/20\n",
      "357/357 [==============================] - 99s 278ms/step - loss: 1.5807 - acc: 0.8849 - val_loss: 1.6416 - val_acc: 0.8206\n",
      "Epoch 12/20\n",
      "357/357 [==============================] - 100s 279ms/step - loss: 1.5836 - acc: 0.8819 - val_loss: 1.6491 - val_acc: 0.8106\n",
      "Epoch 13/20\n",
      "357/357 [==============================] - 99s 278ms/step - loss: 1.5765 - acc: 0.8874 - val_loss: 1.6283 - val_acc: 0.8339\n",
      "Epoch 14/20\n",
      "357/357 [==============================] - 99s 278ms/step - loss: 1.5772 - acc: 0.8868 - val_loss: 1.6178 - val_acc: 0.8439\n",
      "Epoch 15/20\n",
      "357/357 [==============================] - 101s 283ms/step - loss: 1.5782 - acc: 0.8860 - val_loss: 1.6324 - val_acc: 0.8272\n",
      "Epoch 16/20\n",
      "357/357 [==============================] - 101s 282ms/step - loss: 1.5685 - acc: 0.8946 - val_loss: 1.6227 - val_acc: 0.8372\n",
      "Epoch 17/20\n",
      "357/357 [==============================] - 101s 283ms/step - loss: 1.5661 - acc: 0.8970 - val_loss: 1.6283 - val_acc: 0.8339\n",
      "Epoch 18/20\n",
      "357/357 [==============================] - 101s 284ms/step - loss: 1.5735 - acc: 0.8891 - val_loss: 1.6491 - val_acc: 0.8106\n",
      "Epoch 19/20\n",
      "357/357 [==============================] - 101s 284ms/step - loss: 1.5648 - acc: 0.8975 - val_loss: 1.6162 - val_acc: 0.8439\n",
      "Epoch 20/20\n",
      "357/357 [==============================] - 101s 283ms/step - loss: 1.5696 - acc: 0.8925 - val_loss: 1.6073 - val_acc: 0.8538\n",
      "Accuracy on test set:\n",
      "223/223 [==============================] - 24s 106ms/step - loss: 1.6270 - acc: 0.8338\n"
     ]
    }
   ],
   "source": [
    "model1_bal = cat1.build_model(bert_config_file, bert_ckpt_file, max_seq_len=128, adapter_size=None)\n",
    "cat1.compile_model(model1_bal, cat1.balanced_train_x, cat1.balanced_train_y, n_epochs=20)\n",
    "print('Accuracy on test set:')\n",
    "model1_bal.evaluate(cat1.test_x, cat1.test_y);"
   ]
  },
  {
   "cell_type": "code",
   "execution_count": 25,
   "metadata": {
    "scrolled": true
   },
   "outputs": [
    {
     "name": "stdout",
     "output_type": "stream",
     "text": [
      "food\n",
      "[('0.0%', 'beauty'), ('0.0%', 'car'), ('0.0%', 'education'), ('0.0%', 'entertainment'), ('0.0%', 'financial'), ('0.0%', 'fitness'), ('100.0%', 'food'), ('0.0%', 'health'), ('0.0%', 'housework'), ('0.0%', 'law')]\n",
      "food\n",
      "[('0.0%', 'beauty'), ('0.0%', 'car'), ('0.0%', 'education'), ('0.0%', 'entertainment'), ('0.0%', 'financial'), ('0.0%', 'fitness'), ('100.0%', 'food'), ('0.0%', 'health'), ('0.0%', 'housework'), ('0.0%', 'law')]\n"
     ]
    }
   ],
   "source": [
    "text = 'Restaurants are classified or distinguished in many different ways. The primary factors are usually the food itself (e.g. vegetarian, seafood, steak); the cuisine (e.g. Italian, Chinese, Japanese, Indian, French, Mexican, Thai) or the style of offering (e.g. tapas bar, a sushi train, a tastet restaurant, a buffet restaurant or a yum cha restaurant). Beyond this, restaurants may differentiate themselves on factors including speed (see fast food), formality, location, cost, service, or novelty themes (such as automated restaurants). Some of these include fine dining, casual dining, contemporary casual, family style, fast casual, fast food, cafes, buffet, concession stands, food trucks, pop-up restaurants, and ghost restaurants. Restaurants range from inexpensive and informal lunching or dining places catering to people working nearby, with modest food served in simple settings at low prices, to expensive establishments serving refined food and fine wines in a formal setting. In the former case, customers usually wear casual clothing. In the latter case, depending on culture and local traditions, customers might wear semi-casual, semi-formal or formal wear. Typically, at mid- to high-priced restaurants, customers sit at tables, their orders are taken by a waiter, who brings the food when it is ready. After eating, the customers then pay the bill. In some restaurants, such as workplace cafeterias, there are no waiters; the customers use trays, on which they place cold items that they select from a refrigerated container and hot items which they request from cooks, and then they pay a cashier before they sit down. Another restaurant approach which uses few waiters is the buffet restaurant. Customers serve food onto their own plates and then pay at the end of the meal. Buffet restaurants typically still have waiters to serve drinks and alcoholic beverages. Fast food restaurants are also considered a restaurant. In addition, food trucks are another popular option for people who want quick food service. Tourists around the world can enjoy dining services on railway cars and cruise ships dining rooms, which are essentially traveling restaurants. Many railways dining services cater to the needs of travelers by providing railway refreshment rooms at railway stations. The fondness for such refreshment rooms, however, may be purely cultural as not one refreshing crumb of them has ever been witnessed in the United States. In the 2000s, a number of traveling restaurants, specifically designed for tourists, had been created. These can be found on trams, boats, buses, etc. Unfortunately, in 2020 little evidence remains of them in the United States. Many cruise ships provide a variety of dining experiences including a main restaurant, satellites restaurants, room service, specialty restaurants, cafes, bars, and buffets to name a few. Some restaurants on these cruise ships required reservations and specific dress codes.'\n",
    "testing(text, model1, cat1, LEN=128)\n",
    "testing(text, model1_bal, cat1, LEN=128)"
   ]
  },
  {
   "cell_type": "code",
   "execution_count": 26,
   "metadata": {},
   "outputs": [
    {
     "name": "stdout",
     "output_type": "stream",
     "text": [
      "car\n",
      "[('0.0%', 'beauty'), ('100.0%', 'car'), ('0.0%', 'education'), ('0.0%', 'entertainment'), ('0.0%', 'financial'), ('0.0%', 'fitness'), ('0.0%', 'food'), ('0.0%', 'health'), ('0.0%', 'housework'), ('0.0%', 'law')]\n",
      "car\n",
      "[('0.0%', 'beauty'), ('100.0%', 'car'), ('0.0%', 'education'), ('0.0%', 'entertainment'), ('0.0%', 'financial'), ('0.0%', 'fitness'), ('0.0%', 'food'), ('0.0%', 'health'), ('0.0%', 'housework'), ('0.0%', 'law')]\n"
     ]
    }
   ],
   "source": [
    "text = 'An auto mechanic (automotive technician in most of North America, light vehicle technician in British English, and motor mechanic in Australian English) is a mechanic with a variety of automobile makes or either in a specific area or in a specific make of automobile. In repairing cars, their main role is to diagnose the problem accurately and quickly. They often have to quote prices for their customers before commencing work or after partial disassembly for inspection. Their job may involve the repair of a specific part or the replacement of one or more parts as assemblies. Basic vehicle maintenance is a fundamental part of a mechanic\\'s work in modern industrialized countries while in others they are only consulted when a vehicle is already showing signs of malfunction. Preventive maintenance is also a fundamental part of a mechanic\\'s job, but this is not possible in the case of vehicles that are not regularly maintained by a mechanic. One misunderstood aspect of preventive maintenance is scheduled replacement of various parts, which occurs before failure to avoid far more expensive damage. Because this means that parts are replaced before any problem is observed, many vehicle owners will not understand why the expense is necessary. With the rapid advancement in technology, the mechanics job has evolved from purely mechanical, to include electronic technology. Because vehicles today possess complex computer and electronic systems, mechanics need to have a broader base of knowledge than in the past.'\n",
    "testing(text, model1, cat1, LEN=128)\n",
    "testing(text, model1_bal, cat1, LEN=128)"
   ]
  },
  {
   "cell_type": "code",
   "execution_count": 27,
   "metadata": {},
   "outputs": [],
   "source": [
    "split_sz = int(len(df_sentsplit) * 0.8)\n",
    "train = df_sentsplit[:split_sz]\n",
    "test = df_sentsplit[split_sz:]"
   ]
  },
  {
   "cell_type": "markdown",
   "metadata": {},
   "source": [
    "# Reformating the corpus using Glove embeddings"
   ]
  },
  {
   "cell_type": "code",
   "execution_count": 28,
   "metadata": {},
   "outputs": [],
   "source": [
    "glove_address = os.path.join(FOLDER_PATH, 'data', 'glove_data', 'glove.6B.300d.txt')"
   ]
  },
  {
   "cell_type": "code",
   "execution_count": 29,
   "metadata": {
    "scrolled": true
   },
   "outputs": [
    {
     "name": "stderr",
     "output_type": "stream",
     "text": [
      "34865it [14:59, 38.75it/s]\n",
      "7it [00:00, 69.62it/s]"
     ]
    },
    {
     "name": "stdout",
     "output_type": "stream",
     "text": [
      "Removed 17.85458195898465% of entries, due to being short corpus length.\n"
     ]
    },
    {
     "name": "stderr",
     "output_type": "stream",
     "text": [
      "8662it [03:41, 39.10it/s]\n"
     ]
    },
    {
     "name": "stdout",
     "output_type": "stream",
     "text": [
      "Removed 18.29831447702609% of entries, due to being short corpus length.\n",
      "size of each balanced class =  598\n"
     ]
    }
   ],
   "source": [
    "cat2 = categoryDetection(train, test, tokenizer, max_seq_len=128, glove_embeddings_address=glove_address, glove_sentence_similarity=True)"
   ]
  },
  {
   "cell_type": "markdown",
   "metadata": {},
   "source": [
    "# Glove similarity with Unbal. Training Data"
   ]
  },
  {
   "cell_type": "code",
   "execution_count": 30,
   "metadata": {},
   "outputs": [
    {
     "name": "stdout",
     "output_type": "stream",
     "text": [
      "class beauty = 10.59%\n",
      "class car = 9.12%\n",
      "class education = 2.09%\n",
      "class entertainment = 7.6%\n",
      "class financial = 2.69%\n",
      "class fitness = 4.18%\n",
      "class food = 29.33%\n",
      "class health = 12.07%\n",
      "class housework = 19.25%\n",
      "class law = 3.08%\n"
     ]
    }
   ],
   "source": [
    "get_classes_distribution(cat2.train_y, cat2.classes)"
   ]
  },
  {
   "cell_type": "code",
   "execution_count": 31,
   "metadata": {},
   "outputs": [
    {
     "name": "stdout",
     "output_type": "stream",
     "text": [
      "Done loading 196 BERT weights from: /home/vahidsanei_google_com/data/uncased_L-12_H-768_A-12/bert_model.ckpt into <bert.model.BertModelLayer object at 0x7fbd9c6b5290> (prefix:bert_2). Count of weights not found in the checkpoint was: [0]. Count of weights with mismatched shape: [0]\n",
      "Unused weights from checkpoint: \n",
      "\tbert/embeddings/token_type_embeddings\n",
      "\tbert/pooler/dense/bias\n",
      "\tbert/pooler/dense/kernel\n",
      "\tcls/predictions/output_bias\n",
      "\tcls/predictions/transform/LayerNorm/beta\n",
      "\tcls/predictions/transform/LayerNorm/gamma\n",
      "\tcls/predictions/transform/dense/bias\n",
      "\tcls/predictions/transform/dense/kernel\n",
      "\tcls/seq_relationship/output_bias\n",
      "\tcls/seq_relationship/output_weights\n",
      "Model: \"model_2\"\n",
      "_________________________________________________________________\n",
      "Layer (type)                 Output Shape              Param #   \n",
      "=================================================================\n",
      "input_ids (InputLayer)       [(None, 128)]             0         \n",
      "_________________________________________________________________\n",
      "bert (BertModelLayer)        (None, 128, 768)          108890112 \n",
      "_________________________________________________________________\n",
      "lambda_2 (Lambda)            (None, 768)               0         \n",
      "_________________________________________________________________\n",
      "dropout_6 (Dropout)          (None, 768)               0         \n",
      "_________________________________________________________________\n",
      "dense_6 (Dense)              (None, 800)               615200    \n",
      "_________________________________________________________________\n",
      "dropout_7 (Dropout)          (None, 800)               0         \n",
      "_________________________________________________________________\n",
      "dense_7 (Dense)              (None, 800)               640800    \n",
      "_________________________________________________________________\n",
      "dropout_8 (Dropout)          (None, 800)               0         \n",
      "_________________________________________________________________\n",
      "dense_8 (Dense)              (None, 10)                8010      \n",
      "=================================================================\n",
      "Total params: 110,154,122\n",
      "Trainable params: 110,154,122\n",
      "Non-trainable params: 0\n",
      "_________________________________________________________________\n",
      "None\n",
      "Epoch 1/20\n",
      "1701/1701 [==============================] - 481s 283ms/step - loss: 1.8981 - acc: 0.5675 - val_loss: 1.7170 - val_acc: 0.7479\n",
      "Epoch 2/20\n",
      "1701/1701 [==============================] - 474s 279ms/step - loss: 1.6967 - acc: 0.7682 - val_loss: 1.6629 - val_acc: 0.7982\n",
      "Epoch 3/20\n",
      "1701/1701 [==============================] - 473s 278ms/step - loss: 1.6498 - acc: 0.8145 - val_loss: 1.6276 - val_acc: 0.8331\n",
      "Epoch 4/20\n",
      "1701/1701 [==============================] - 475s 279ms/step - loss: 1.6305 - acc: 0.8320 - val_loss: 1.6285 - val_acc: 0.8317\n",
      "Epoch 5/20\n",
      "1701/1701 [==============================] - 480s 282ms/step - loss: 1.6201 - acc: 0.8419 - val_loss: 1.6252 - val_acc: 0.8380\n",
      "Epoch 6/20\n",
      "1701/1701 [==============================] - 475s 279ms/step - loss: 1.6123 - acc: 0.8500 - val_loss: 1.6229 - val_acc: 0.8387\n",
      "Epoch 7/20\n",
      "1701/1701 [==============================] - 479s 282ms/step - loss: 1.6083 - acc: 0.8535 - val_loss: 1.6048 - val_acc: 0.8561\n",
      "Epoch 8/20\n",
      "1701/1701 [==============================] - 479s 282ms/step - loss: 1.6088 - acc: 0.8526 - val_loss: 1.6116 - val_acc: 0.8513\n",
      "Epoch 9/20\n",
      "1701/1701 [==============================] - 476s 280ms/step - loss: 1.6033 - acc: 0.8588 - val_loss: 1.5968 - val_acc: 0.8638\n",
      "Epoch 10/20\n",
      "1701/1701 [==============================] - 474s 279ms/step - loss: 1.5963 - acc: 0.8656 - val_loss: 1.6092 - val_acc: 0.8520\n",
      "Epoch 11/20\n",
      "1701/1701 [==============================] - 476s 280ms/step - loss: 1.5949 - acc: 0.8667 - val_loss: 1.6037 - val_acc: 0.8568\n",
      "Epoch 12/20\n",
      "1701/1701 [==============================] - 476s 280ms/step - loss: 1.5877 - acc: 0.8736 - val_loss: 1.5954 - val_acc: 0.8652\n",
      "Epoch 13/20\n",
      "1701/1701 [==============================] - 477s 280ms/step - loss: 1.5888 - acc: 0.8725 - val_loss: 1.6093 - val_acc: 0.8520\n",
      "Epoch 14/20\n",
      "1701/1701 [==============================] - 477s 280ms/step - loss: 1.5905 - acc: 0.8708 - val_loss: 1.5963 - val_acc: 0.8645\n",
      "Epoch 15/20\n",
      "1701/1701 [==============================] - 482s 283ms/step - loss: 1.5871 - acc: 0.8741 - val_loss: 1.6008 - val_acc: 0.8603\n",
      "Epoch 16/20\n",
      "1701/1701 [==============================] - 479s 282ms/step - loss: 1.5855 - acc: 0.8756 - val_loss: 1.5967 - val_acc: 0.8638\n",
      "Epoch 17/20\n",
      "1701/1701 [==============================] - 478s 281ms/step - loss: 1.5867 - acc: 0.8745 - val_loss: 1.5948 - val_acc: 0.8659\n",
      "Epoch 18/20\n",
      "1701/1701 [==============================] - 493s 290ms/step - loss: 1.5847 - acc: 0.8764 - val_loss: 1.5925 - val_acc: 0.8687\n",
      "Epoch 19/20\n",
      "1701/1701 [==============================] - 512s 301ms/step - loss: 1.5795 - acc: 0.8820 - val_loss: 1.5895 - val_acc: 0.8715\n",
      "Epoch 20/20\n",
      "1701/1701 [==============================] - 478s 281ms/step - loss: 1.5814 - acc: 0.8800 - val_loss: 1.5920 - val_acc: 0.8694\n",
      "Accuracy on test set:\n",
      "222/222 [==============================] - 23s 105ms/step - loss: 1.6051 - acc: 0.8560\n"
     ]
    }
   ],
   "source": [
    "model2 = cat2.build_model(bert_config_file, bert_ckpt_file, max_seq_len=128, adapter_size=None)\n",
    "cat2.compile_model(model2, cat2.train_x, cat2.train_y, n_epochs=20)\n",
    "print('Accuracy on test set:')\n",
    "model2.evaluate(cat2.test_x, cat2.test_y);"
   ]
  },
  {
   "cell_type": "markdown",
   "metadata": {},
   "source": [
    "# Glove similarity with Bal. Training Data"
   ]
  },
  {
   "cell_type": "code",
   "execution_count": 32,
   "metadata": {
    "scrolled": true
   },
   "outputs": [
    {
     "name": "stdout",
     "output_type": "stream",
     "text": [
      "Done loading 196 BERT weights from: /home/vahidsanei_google_com/data/uncased_L-12_H-768_A-12/bert_model.ckpt into <bert.model.BertModelLayer object at 0x7fbd3c5960d0> (prefix:bert_3). Count of weights not found in the checkpoint was: [0]. Count of weights with mismatched shape: [0]\n",
      "Unused weights from checkpoint: \n",
      "\tbert/embeddings/token_type_embeddings\n",
      "\tbert/pooler/dense/bias\n",
      "\tbert/pooler/dense/kernel\n",
      "\tcls/predictions/output_bias\n",
      "\tcls/predictions/transform/LayerNorm/beta\n",
      "\tcls/predictions/transform/LayerNorm/gamma\n",
      "\tcls/predictions/transform/dense/bias\n",
      "\tcls/predictions/transform/dense/kernel\n",
      "\tcls/seq_relationship/output_bias\n",
      "\tcls/seq_relationship/output_weights\n",
      "Model: \"model_3\"\n",
      "_________________________________________________________________\n",
      "Layer (type)                 Output Shape              Param #   \n",
      "=================================================================\n",
      "input_ids (InputLayer)       [(None, 128)]             0         \n",
      "_________________________________________________________________\n",
      "bert (BertModelLayer)        (None, 128, 768)          108890112 \n",
      "_________________________________________________________________\n",
      "lambda_3 (Lambda)            (None, 768)               0         \n",
      "_________________________________________________________________\n",
      "dropout_9 (Dropout)          (None, 768)               0         \n",
      "_________________________________________________________________\n",
      "dense_9 (Dense)              (None, 800)               615200    \n",
      "_________________________________________________________________\n",
      "dropout_10 (Dropout)         (None, 800)               0         \n",
      "_________________________________________________________________\n",
      "dense_10 (Dense)             (None, 800)               640800    \n",
      "_________________________________________________________________\n",
      "dropout_11 (Dropout)         (None, 800)               0         \n",
      "_________________________________________________________________\n",
      "dense_11 (Dense)             (None, 10)                8010      \n",
      "=================================================================\n",
      "Total params: 110,154,122\n",
      "Trainable params: 110,154,122\n",
      "Non-trainable params: 0\n",
      "_________________________________________________________________\n",
      "None\n",
      "Epoch 1/20\n",
      "356/356 [==============================] - 102s 287ms/step - loss: 2.3056 - acc: 0.1079 - val_loss: 2.3357 - val_acc: 0.0000e+00\n",
      "Epoch 2/20\n",
      "356/356 [==============================] - 99s 279ms/step - loss: 2.2193 - acc: 0.2334 - val_loss: 2.1626 - val_acc: 0.2776\n",
      "Epoch 3/20\n",
      "356/356 [==============================] - 99s 278ms/step - loss: 1.9309 - acc: 0.5693 - val_loss: 2.0817 - val_acc: 0.4615\n",
      "Epoch 4/20\n",
      "356/356 [==============================] - 99s 278ms/step - loss: 1.7866 - acc: 0.7011 - val_loss: 1.7850 - val_acc: 0.7057\n",
      "Epoch 5/20\n",
      "356/356 [==============================] - 100s 280ms/step - loss: 1.7170 - acc: 0.7692 - val_loss: 1.6862 - val_acc: 0.7759\n",
      "Epoch 6/20\n",
      "356/356 [==============================] - 99s 279ms/step - loss: 1.6671 - acc: 0.8155 - val_loss: 1.7371 - val_acc: 0.7191\n",
      "Epoch 7/20\n",
      "356/356 [==============================] - 99s 279ms/step - loss: 1.6318 - acc: 0.8432 - val_loss: 1.6574 - val_acc: 0.8060\n",
      "Epoch 8/20\n",
      "356/356 [==============================] - 100s 282ms/step - loss: 1.6186 - acc: 0.8530 - val_loss: 1.6603 - val_acc: 0.8027\n",
      "Epoch 9/20\n",
      "356/356 [==============================] - 100s 280ms/step - loss: 1.6015 - acc: 0.8685 - val_loss: 1.5998 - val_acc: 0.8629\n",
      "Epoch 10/20\n",
      "356/356 [==============================] - 99s 279ms/step - loss: 1.5986 - acc: 0.8683 - val_loss: 1.7212 - val_acc: 0.7391\n",
      "Epoch 11/20\n",
      "356/356 [==============================] - 99s 279ms/step - loss: 1.5910 - acc: 0.8756 - val_loss: 1.6141 - val_acc: 0.8428\n",
      "Epoch 12/20\n",
      "356/356 [==============================] - 99s 278ms/step - loss: 1.5822 - acc: 0.8842 - val_loss: 1.6405 - val_acc: 0.8161\n",
      "Epoch 13/20\n",
      "356/356 [==============================] - 99s 279ms/step - loss: 1.5794 - acc: 0.8849 - val_loss: 1.6456 - val_acc: 0.8161\n",
      "Epoch 14/20\n",
      "356/356 [==============================] - 100s 280ms/step - loss: 1.5778 - acc: 0.8861 - val_loss: 1.6163 - val_acc: 0.8462\n",
      "Epoch 15/20\n",
      "356/356 [==============================] - 99s 279ms/step - loss: 1.5714 - acc: 0.8917 - val_loss: 1.6437 - val_acc: 0.8127\n",
      "Epoch 16/20\n",
      "356/356 [==============================] - 99s 279ms/step - loss: 1.5682 - acc: 0.8953 - val_loss: 1.6455 - val_acc: 0.8161\n",
      "Epoch 17/20\n",
      "356/356 [==============================] - 100s 280ms/step - loss: 1.5649 - acc: 0.8977 - val_loss: 1.6378 - val_acc: 0.8194\n",
      "Epoch 18/20\n",
      "356/356 [==============================] - 100s 281ms/step - loss: 1.5622 - acc: 0.9007 - val_loss: 1.6445 - val_acc: 0.8161\n",
      "Epoch 19/20\n",
      "356/356 [==============================] - 101s 284ms/step - loss: 1.5629 - acc: 0.8995 - val_loss: 1.6526 - val_acc: 0.8094\n",
      "Epoch 20/20\n",
      "356/356 [==============================] - 101s 285ms/step - loss: 1.5629 - acc: 0.8986 - val_loss: 1.6681 - val_acc: 0.7926\n",
      "Accuracy on test set:\n",
      "222/222 [==============================] - 24s 106ms/step - loss: 1.6509 - acc: 0.8097\n"
     ]
    }
   ],
   "source": [
    "model2_bal = cat2.build_model(bert_config_file, bert_ckpt_file, max_seq_len=128, adapter_size=None);\n",
    "cat2.compile_model(model2_bal, cat2.balanced_train_x, cat2.balanced_train_y, n_epochs=20);\n",
    "print('Accuracy on test set:')\n",
    "model2_bal.evaluate(cat2.test_x, cat2.test_y);"
   ]
  },
  {
   "cell_type": "code",
   "execution_count": 33,
   "metadata": {
    "scrolled": true
   },
   "outputs": [
    {
     "name": "stdout",
     "output_type": "stream",
     "text": [
      "food\n",
      "[('0.0%', 'beauty'), ('0.0%', 'car'), ('0.0%', 'education'), ('0.0%', 'entertainment'), ('0.0%', 'financial'), ('0.0%', 'fitness'), ('100.0%', 'food'), ('0.0%', 'health'), ('0.0%', 'housework'), ('0.0%', 'law')]\n",
      "food\n",
      "[('0.0%', 'beauty'), ('0.0%', 'car'), ('0.0%', 'education'), ('0.0%', 'entertainment'), ('0.0%', 'financial'), ('0.0%', 'fitness'), ('100.0%', 'food'), ('0.0%', 'health'), ('0.0%', 'housework'), ('0.0%', 'law')]\n"
     ]
    }
   ],
   "source": [
    "text = 'Restaurants are classified or distinguished in many different ways. The primary factors are usually the food itself (e.g. vegetarian, seafood, steak); the cuisine (e.g. Italian, Chinese, Japanese, Indian, French, Mexican, Thai) or the style of offering (e.g. tapas bar, a sushi train, a tastet restaurant, a buffet restaurant or a yum cha restaurant). Beyond this, restaurants may differentiate themselves on factors including speed (see fast food), formality, location, cost, service, or novelty themes (such as automated restaurants). Some of these include fine dining, casual dining, contemporary casual, family style, fast casual, fast food, cafes, buffet, concession stands, food trucks, pop-up restaurants, and ghost restaurants. Restaurants range from inexpensive and informal lunching or dining places catering to people working nearby, with modest food served in simple settings at low prices, to expensive establishments serving refined food and fine wines in a formal setting. In the former case, customers usually wear casual clothing. In the latter case, depending on culture and local traditions, customers might wear semi-casual, semi-formal or formal wear. Typically, at mid- to high-priced restaurants, customers sit at tables, their orders are taken by a waiter, who brings the food when it is ready. After eating, the customers then pay the bill. In some restaurants, such as workplace cafeterias, there are no waiters; the customers use trays, on which they place cold items that they select from a refrigerated container and hot items which they request from cooks, and then they pay a cashier before they sit down. Another restaurant approach which uses few waiters is the buffet restaurant. Customers serve food onto their own plates and then pay at the end of the meal. Buffet restaurants typically still have waiters to serve drinks and alcoholic beverages. Fast food restaurants are also considered a restaurant. In addition, food trucks are another popular option for people who want quick food service. Tourists around the world can enjoy dining services on railway cars and cruise ships dining rooms, which are essentially traveling restaurants. Many railways dining services cater to the needs of travelers by providing railway refreshment rooms at railway stations. The fondness for such refreshment rooms, however, may be purely cultural as not one refreshing crumb of them has ever been witnessed in the United States. In the 2000s, a number of traveling restaurants, specifically designed for tourists, had been created. These can be found on trams, boats, buses, etc. Unfortunately, in 2020 little evidence remains of them in the United States. Many cruise ships provide a variety of dining experiences including a main restaurant, satellites restaurants, room service, specialty restaurants, cafes, bars, and buffets to name a few. Some restaurants on these cruise ships required reservations and specific dress codes.'\n",
    "testing(text, model2, cat2, LEN=128)\n",
    "testing(text, model2_bal, cat2, LEN=128)"
   ]
  },
  {
   "cell_type": "code",
   "execution_count": 34,
   "metadata": {
    "scrolled": false
   },
   "outputs": [
    {
     "name": "stdout",
     "output_type": "stream",
     "text": [
      "car\n",
      "[('0.0%', 'beauty'), ('100.0%', 'car'), ('0.0%', 'education'), ('0.0%', 'entertainment'), ('0.0%', 'financial'), ('0.0%', 'fitness'), ('0.0%', 'food'), ('0.0%', 'health'), ('0.0%', 'housework'), ('0.0%', 'law')]\n",
      "car\n",
      "[('0.0%', 'beauty'), ('100.0%', 'car'), ('0.0%', 'education'), ('0.0%', 'entertainment'), ('0.0%', 'financial'), ('0.0%', 'fitness'), ('0.0%', 'food'), ('0.0%', 'health'), ('0.0%', 'housework'), ('0.0%', 'law')]\n"
     ]
    }
   ],
   "source": [
    "text = 'An auto mechanic (automotive technician in most of North America, light vehicle technician in British English, and motor mechanic in Australian English) is a mechanic with a variety of automobile makes or either in a specific area or in a specific make of automobile. In repairing cars, their main role is to diagnose the problem accurately and quickly. They often have to quote prices for their customers before commencing work or after partial disassembly for inspection. Their job may involve the repair of a specific part or the replacement of one or more parts as assemblies. Basic vehicle maintenance is a fundamental part of a mechanic\\'s work in modern industrialized countries while in others they are only consulted when a vehicle is already showing signs of malfunction. Preventive maintenance is also a fundamental part of a mechanic\\'s job, but this is not possible in the case of vehicles that are not regularly maintained by a mechanic. One misunderstood aspect of preventive maintenance is scheduled replacement of various parts, which occurs before failure to avoid far more expensive damage. Because this means that parts are replaced before any problem is observed, many vehicle owners will not understand why the expense is necessary. With the rapid advancement in technology, the mechanics job has evolved from purely mechanical, to include electronic technology. Because vehicles today possess complex computer and electronic systems, mechanics need to have a broader base of knowledge than in the past.'\n",
    "testing(text, model2, cat2, LEN=128)\n",
    "testing(text, model2_bal, cat2, LEN=128)"
   ]
  },
  {
   "cell_type": "markdown",
   "metadata": {},
   "source": [
    "# Reformating the corpus using Bert"
   ]
  },
  {
   "cell_type": "code",
   "execution_count": null,
   "metadata": {},
   "outputs": [
    {
     "name": "stdout",
     "output_type": "stream",
     "text": [
      "Preparing data for the pretraining step ...\n"
     ]
    },
    {
     "name": "stderr",
     "output_type": "stream",
     "text": [
      "34865it [07:20, 79.16it/s] \n"
     ]
    },
    {
     "name": "stdout",
     "output_type": "stream",
     "text": [
      "Done loading 196 BERT weights from: /home/vahidsanei_google_com/data/uncased_L-12_H-768_A-12/bert_model.ckpt into <bert.model.BertModelLayer object at 0x7fbd3579d050> (prefix:bert_4). Count of weights not found in the checkpoint was: [0]. Count of weights with mismatched shape: [0]\n",
      "Unused weights from checkpoint: \n",
      "\tbert/embeddings/token_type_embeddings\n",
      "\tbert/pooler/dense/bias\n",
      "\tbert/pooler/dense/kernel\n",
      "\tcls/predictions/output_bias\n",
      "\tcls/predictions/transform/LayerNorm/beta\n",
      "\tcls/predictions/transform/LayerNorm/gamma\n",
      "\tcls/predictions/transform/dense/bias\n",
      "\tcls/predictions/transform/dense/kernel\n",
      "\tcls/seq_relationship/output_bias\n",
      "\tcls/seq_relationship/output_weights\n",
      "Pretraining model ...\n",
      "size of each balanced class =  22232\n",
      "Model: \"model_4\"\n",
      "_________________________________________________________________\n",
      "Layer (type)                 Output Shape              Param #   \n",
      "=================================================================\n",
      "input_ids (InputLayer)       [(None, 20)]              0         \n",
      "_________________________________________________________________\n",
      "bert (BertModelLayer)        (None, 20, 768)           108890112 \n",
      "_________________________________________________________________\n",
      "lambda_4 (Lambda)            (None, 768)               0         \n",
      "_________________________________________________________________\n",
      "dropout_12 (Dropout)         (None, 768)               0         \n",
      "_________________________________________________________________\n",
      "dense_12 (Dense)             (None, 800)               615200    \n",
      "_________________________________________________________________\n",
      "dropout_13 (Dropout)         (None, 800)               0         \n",
      "_________________________________________________________________\n",
      "dense_13 (Dense)             (None, 10)                8010      \n",
      "=================================================================\n",
      "Total params: 109,513,322\n",
      "Trainable params: 109,513,322\n",
      "Non-trainable params: 0\n",
      "_________________________________________________________________\n",
      "None\n",
      "Epoch 1/10\n",
      "6948/6948 [==============================] - 1522s 219ms/step - loss: 2.0006 - acc: 0.4531\n",
      "Epoch 2/10\n",
      "6948/6948 [==============================] - 1550s 223ms/step - loss: 1.9019 - acc: 0.5553\n",
      "Epoch 3/10\n",
      "6948/6948 [==============================] - 1538s 221ms/step - loss: 1.8781 - acc: 0.5801\n",
      "Epoch 4/10\n",
      "6948/6948 [==============================] - 1551s 223ms/step - loss: 1.8608 - acc: 0.5981\n",
      "Epoch 5/10\n",
      "6948/6948 [==============================] - 1573s 226ms/step - loss: 1.8503 - acc: 0.6086\n",
      "Epoch 6/10\n",
      "6948/6948 [==============================] - 1554s 224ms/step - loss: 1.8400 - acc: 0.6194\n",
      "Epoch 7/10\n",
      "6948/6948 [==============================] - 1577s 227ms/step - loss: 1.8333 - acc: 0.6262\n",
      "Epoch 8/10\n",
      "6948/6948 [==============================] - 1601s 230ms/step - loss: 1.8262 - acc: 0.6330\n",
      "Epoch 9/10\n",
      "6948/6948 [==============================] - 1617s 233ms/step - loss: 1.8206 - acc: 0.6390\n",
      "Epoch 10/10\n",
      "6948/6948 [==============================] - 1563s 225ms/step - loss: 1.8150 - acc: 0.6448\n"
     ]
    },
    {
     "name": "stderr",
     "output_type": "stream",
     "text": [
      "31it [00:49,  1.18s/it]"
     ]
    },
    {
     "name": "stdout",
     "output_type": "stream",
     "text": [
      "Rehab Directives Home Home About us Therapy Services Insurances New Patients Contact PHYSICAL OCCUPATIONAL SPEECH THERAPY About Us 01 ABOUT US Rehab Directives provides physical occupational and speech therapy treatments in Las Vegas from our centrally located clinics#Our pediatric clinic SPOT 4 TOTS has a team of therapist dedicated to the specific needs of children#More information can be seen here#The team at Rehab Directives use the most advanced treatment techniques to help you xe2x80x9cget back your healthy lifexe2x80x9d as quickly as possible#The spacious clean modern facilities of Rehab Directives are home to some of the worldxe2x80x99s most advanced physical rehabilitation technologies and treatments#Our goal at Rehab Directives is to help you feel and perform to your best#We want every patient to move without pain and we want you to get stronger to avoid future problems or reinjury#Our mission is to help you return to work and all of the prior activities of daily living witho\n",
      "****************************************************************************************************\n"
     ]
    },
    {
     "name": "stderr",
     "output_type": "stream",
     "text": [
      "33it [00:51,  1.00it/s]"
     ]
    },
    {
     "name": "stdout",
     "output_type": "stream",
     "text": [
      "This can take from 314 days depending on the insurer Rehab Directives Home Home About us Therapy Services Insurances New Patients Contact PHYSICAL OCCUPATIONAL SPEECH THERAPY About Us 01 ABOUT US Rehab Directives provides physical occupational and speech therapy treatments in Las Vegas from our centrally located clinics Our pediatric clinic SPOT 4 TOTS has a team of therapist dedicated to the specific needs of children The team at Rehab Directives use the most advanced treatment techniques to help you xe2x80x9cget back your healthy lifexe2x80x9d as quickly as possible The spacious clean modern facilities of Rehab Directives are home to some of the worldxe2x80x99s most advanced physical rehabilitation technologies and treatments Our goal at Rehab Directives is to help you feel and perform to your best We want every patient to move without pain and we want you to get stronger to avoid future problems or reinjury Our mission is to help you return to work and all of the prior activities of\n",
      "####################################################################################################\n",
      "####################################################################################################\n"
     ]
    },
    {
     "name": "stderr",
     "output_type": "stream",
     "text": [
      "35it [00:51,  1.67it/s]"
     ]
    },
    {
     "name": "stdout",
     "output_type": "stream",
     "text": [
      "Sugar Bowl Scottsdale Scottsdale Ice Cream Parlor and Restaurant since 1958 Home Our History Sugar Bowl Fiesta Family Circus Sugar Bowl Menu Contact Us Search Menu Sugar Bowl Scottsdale COVID19 UPDATE FOR OUR GUESTS For more than 60 years the Sugar Bowl Scottsdale has been dedicated to serving our community and we wanted to express our sincere concern for everyone who has been impacted by the coronavirus COVID19#While we have reopened and are looking forward to banana splits and tasty meals the health and well being of our staff members and guests is our top priority#Following the recommendations by local authorities we have made many positive changes to protect your safety while at the same time providing the old fashioned hospitality and delicious memorable food youxe2x80x99ve come to expect from us#We look forward to serving you at the tastiest corner in Old Town#If you are a long time Valley resident or just in town for the weekend we invite you down to Old Town Scottsdale to exper\n",
      "****************************************************************************************************\n"
     ]
    },
    {
     "name": "stderr",
     "output_type": "stream",
     "text": [
      "\r",
      "36it [00:52,  1.81it/s]"
     ]
    },
    {
     "name": "stdout",
     "output_type": "stream",
     "text": [
      "Sugar Bowl Scottsdale Scottsdale Ice Cream Parlor and Restaurant since 1958 Home Our History Sugar Bowl Fiesta Family Circus Sugar Bowl Menu Contact Us Search Menu Sugar Bowl Scottsdale COVID19 UPDATE FOR OUR GUESTS For more than 60 years the Sugar Bowl Scottsdale has been dedicated to serving our community and we wanted to express our sincere concern for everyone who has been impacted by the coronavirus COVID19 We look forward to serving you at the tastiest corner in Old Town Whether you are in the mood for savory soups sandwiches or salads or maybe something a little more fun like an ice cream cone sundae or floatwe can satisfy any craving If you are a long time Valley resident or just in town for the weekend we invite you down to Old Town Scottsdale to experience our full menu and fountain treats in the style and tradition we have been providing since 1958 While we have reopened and are looking forward to banana splits and tasty meals the health and well being of our staff members a\n",
      "####################################################################################################\n",
      "####################################################################################################\n",
      "Viking Cleaners Viking Textile Restoration Dry Cleaning Dry Cleaners Phoenix 85018 Delivery NARD Services Dry Cleaning Laundry Bridal Speciality Household Items Alterations Repairs Pickup Delivery Restoration Textile Restoration Salvation Army Program Restoration FAQ About Us About Us Hours Locations Price List FAQs Employment Contact Viking Cleaners Services Dry Cleaning Laundry Bridal Speciality Household Items Alterations Repairs Pickup Delivery Restoration Textile Restoration Salvation Army Program Restoration FAQ About Us About Us Hours Locations Price List FAQs Employment Contact The Mark of Quality#We Are Open for Business Following Governor Duceyxe2x80x99s updated Covid19 stayathome orders announced on June 29th we continue to remain open to provide essential services to our customers#Our drivethrough is currently open MondayFriday 7 am 7 pm and Saturday 8 am 4 pm#Contactless drop off through our drivethrough is available#Itxe2x80x99s as easy as 1 Enter your code to open the dr\n",
      "****************************************************************************************************\n"
     ]
    },
    {
     "name": "stderr",
     "output_type": "stream",
     "text": [
      "38it [00:53,  1.63it/s]"
     ]
    },
    {
     "name": "stdout",
     "output_type": "stream",
     "text": [
      "Our drivethrough is currently open MondayFriday 7 am 7 pm and Saturday 8 am 4 pm For any specific questions or requests please call 602 9563280 We offer a drivethru service and 247 drop off to further accommodate your busy schedule Sign up today Enjoy the convenience of free pick up delivery Over the past 50 years we have prided ourselves on continually working towards improving how we do business Viking Cleaners Viking Textile Restoration Dry Cleaning Dry Cleaners Phoenix 85018 Delivery NARD Services Dry Cleaning Laundry Bridal Speciality Household Items Alterations Repairs Pickup Delivery Restoration Textile Restoration Salvation Army Program Restoration FAQ About Us About Us Hours Locations Price List FAQs Employment Contact Viking Cleaners Services Dry Cleaning Laundry Bridal Speciality Household Items Alterations Repairs Pickup Delivery Restoration Textile Restoration Salvation Army Program Restoration FAQ About Us About Us Hours Locations Price List FAQs Employment Contact The Ma\n",
      "####################################################################################################\n",
      "####################################################################################################\n"
     ]
    },
    {
     "name": "stderr",
     "output_type": "stream",
     "text": [
      "48it [00:57,  2.01it/s]"
     ]
    },
    {
     "name": "stdout",
     "output_type": "stream",
     "text": [
      "Access to this page has been denied#Please verify you are a human Access to this page has been denied because we believe you are using automation tools to browse the website#This may happen as a result of the following Javascript is disabled or blocked by an extension ad blockers for example Your browser does not support cookies Please make sure that Javascript and cookies are enabled on your browser and that you are not blocking them from loading#Reference ID fee8a970c3bc11ea92e19fa98f2e6aa8 Powered by PerimeterX Inc\n",
      "****************************************************************************************************\n",
      "Please verify you are a human Access to this page has been denied because we believe you are using automation tools to browse the website Reference ID fee8a970c3bc11ea92e19fa98f2e6aa8 Powered by PerimeterX Inc Access to this page has been denied This may happen as a result of the following Javascript is disabled or blocked by an extension ad blockers for example Your browser does not support cookies Please make sure that Javascript and cookies are enabled on your browser and that you are not blocking them from loading\n",
      "####################################################################################################\n",
      "####################################################################################################\n"
     ]
    },
    {
     "name": "stderr",
     "output_type": "stream",
     "text": [
      "54it [01:04,  1.16it/s]"
     ]
    },
    {
     "name": "stdout",
     "output_type": "stream",
     "text": [
      "Not Found The Keg Steakhouse Bar Skip to menu Skip to main content Choose your restaurant English Franxc3xa7ais Main navigation Expand mobile navigation Menu Dinner Lunch Bar Wine Cocktail Hour Kids Desserts Locations Gift cards Careers Get a table Order Online Get a table Not Found 404 Unfortunately the page you are looking for is no longer available#Back to homepage Sign up for our newsletter Sign up for our newsletter serving up exclusive sneak peeks at upcoming special events limitedtime seasonal menus news promotions drink recipes and more#Sign up Main footer Connect with us Facebook Instagram Twitter LinkedIn Guest Feedback Contact us Franchises Investors Keg income fund The Keg Spirit Foundation Keg products Accessibility policy Terms of use Privacy\n",
      "****************************************************************************************************\n",
      "Not Found The Keg Steakhouse Bar Skip to menu Skip to main content Choose your restaurant English Franxc3xa7ais Main navigation Expand mobile navigation Menu Dinner Lunch Bar Wine Cocktail Hour Kids Desserts Locations Gift cards Careers Get a table Order Online Get a table Not Found 404 Unfortunately the page you are looking for is no longer available Sign up Main footer Connect with us Facebook Instagram Twitter LinkedIn Guest Feedback Contact us Franchises Investors Keg income fund The Keg Spirit Foundation Keg products Accessibility policy Terms of use Privacy Back to homepage Sign up for our newsletter Sign up for our newsletter serving up exclusive sneak peeks at upcoming special events limitedtime seasonal menus news promotions drink recipes and more\n",
      "####################################################################################################\n",
      "####################################################################################################\n"
     ]
    },
    {
     "name": "stderr",
     "output_type": "stream",
     "text": [
      "33825it [11:32:55,  1.66it/s]"
     ]
    }
   ],
   "source": [
    "cat3 = categoryDetection(train, test, tokenizer, max_seq_len=128, bert_sentence_similarity=True, bert_ckpt_file=bert_ckpt_file, bert_config_file=bert_config_file, bert_pretrained_max_sent_len=20)"
   ]
  },
  {
   "cell_type": "markdown",
   "metadata": {},
   "source": [
    "# Bert Pretraining Algo with Unbal. Data"
   ]
  },
  {
   "cell_type": "code",
   "execution_count": null,
   "metadata": {},
   "outputs": [],
   "source": [
    "get_classes_distribution(cat3.train_y, cat3.classes)"
   ]
  },
  {
   "cell_type": "code",
   "execution_count": null,
   "metadata": {},
   "outputs": [],
   "source": [
    "model3 = cat3.build_model(bert_config_file, bert_ckpt_file, max_seq_len=128, adapter_size=None);\n",
    "cat3.compile_model(model3, cat3.train_x, cat3.train_y, n_epochs=20);\n",
    "print('Accuracy on test set:')\n",
    "model3.evaluate(cat3.test_x, cat3.test_y);"
   ]
  },
  {
   "cell_type": "markdown",
   "metadata": {},
   "source": [
    "# Bert Pretraining Algo with Bal. Data"
   ]
  },
  {
   "cell_type": "code",
   "execution_count": null,
   "metadata": {
    "scrolled": true
   },
   "outputs": [],
   "source": [
    "model3_bal = cat3.build_model(bert_config_file, bert_ckpt_file, max_seq_len=128, adapter_size=None);\n",
    "cat3.compile_model(model3_bal, cat3.balanced_train_x, cat3.balanced_train_y, n_epochs=20);\n",
    "print('Accuracy on test set:')\n",
    "model3_bal.evaluate(cat3.test_x, cat3.test_y);"
   ]
  },
  {
   "cell_type": "code",
   "execution_count": null,
   "metadata": {},
   "outputs": [],
   "source": [
    "find_wrongs(cat1, model1_bal, count=5)"
   ]
  },
  {
   "cell_type": "code",
   "execution_count": null,
   "metadata": {},
   "outputs": [],
   "source": [
    "find_wrongs(cat2, model2_bal, count=5)"
   ]
  },
  {
   "cell_type": "code",
   "execution_count": null,
   "metadata": {},
   "outputs": [],
   "source": [
    "find_wrongs(cat3, model3_bal, count=5)"
   ]
  },
  {
   "cell_type": "code",
   "execution_count": null,
   "metadata": {},
   "outputs": [],
   "source": [
    "text = 'Our location: Texas, School, Coffee'\n",
    "testing(text, cat3.pretrain_model, cat3, LEN=20)"
   ]
  },
  {
   "cell_type": "code",
   "execution_count": null,
   "metadata": {},
   "outputs": [],
   "source": []
  }
 ],
 "metadata": {
  "kernelspec": {
   "display_name": "Python 3",
   "language": "python",
   "name": "python3"
  },
  "language_info": {
   "codemirror_mode": {
    "name": "ipython",
    "version": 3
   },
   "file_extension": ".py",
   "mimetype": "text/x-python",
   "name": "python",
   "nbconvert_exporter": "python",
   "pygments_lexer": "ipython3",
   "version": "3.7.6"
  }
 },
 "nbformat": 4,
 "nbformat_minor": 4
}
