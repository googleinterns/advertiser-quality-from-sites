{
 "cells": [
  {
   "cell_type": "code",
   "execution_count": 1,
   "metadata": {},
   "outputs": [],
   "source": [
    "import os\n",
    "import math\n",
    "import datetime\n",
    "from tqdm import tqdm\n",
    "import pandas as pd\n",
    "import numpy as np\n",
    "\n",
    "import tensorflow as tf\n",
    "from tensorflow import keras\n",
    "\n",
    "from bs4 import BeautifulSoup\n",
    "from bs4.element import Comment\n",
    "import re\n",
    "from langdetect import detect_langs\n",
    "\n",
    "from bert import BertModelLayer\n",
    "from bert.loader import StockBertConfig, map_stock_config_to_params, load_stock_weights\n",
    "from bert.tokenization.bert_tokenization import FullTokenizer\n",
    "\n",
    "import seaborn as sns\n",
    "import matplotlib.pyplot as plt\n",
    "\n",
    "from sklearn.metrics import classification_report"
   ]
  },
  {
   "cell_type": "code",
   "execution_count": 89,
   "metadata": {},
   "outputs": [],
   "source": [
    "%matplotlib inline\n",
    "%config InlineBackend.figure_format='retina'"
   ]
  },
  {
   "cell_type": "code",
   "execution_count": 3,
   "metadata": {},
   "outputs": [
    {
     "data": {
      "text/html": [
       "<div>\n",
       "<style scoped>\n",
       "    .dataframe tbody tr th:only-of-type {\n",
       "        vertical-align: middle;\n",
       "    }\n",
       "\n",
       "    .dataframe tbody tr th {\n",
       "        vertical-align: top;\n",
       "    }\n",
       "\n",
       "    .dataframe thead th {\n",
       "        text-align: right;\n",
       "    }\n",
       "</style>\n",
       "<table border=\"1\" class=\"dataframe\">\n",
       "  <thead>\n",
       "    <tr style=\"text-align: right;\">\n",
       "      <th></th>\n",
       "      <th>business_id</th>\n",
       "      <th>name</th>\n",
       "      <th>address</th>\n",
       "      <th>city</th>\n",
       "      <th>state</th>\n",
       "      <th>postal_code</th>\n",
       "      <th>latitude</th>\n",
       "      <th>longitude</th>\n",
       "      <th>stars</th>\n",
       "      <th>review_count</th>\n",
       "      <th>is_open</th>\n",
       "      <th>attributes</th>\n",
       "      <th>categories</th>\n",
       "      <th>hours</th>\n",
       "      <th>url</th>\n",
       "      <th>webpage_text</th>\n",
       "    </tr>\n",
       "  </thead>\n",
       "  <tbody>\n",
       "    <tr>\n",
       "      <th>0</th>\n",
       "      <td>f9NumwFMBDn751xgFiRbNA</td>\n",
       "      <td>The Range At Lake Norman</td>\n",
       "      <td>10913 Bailey Rd</td>\n",
       "      <td>Cornelius</td>\n",
       "      <td>NC</td>\n",
       "      <td>28031</td>\n",
       "      <td>35.462724</td>\n",
       "      <td>-80.852612</td>\n",
       "      <td>3.5</td>\n",
       "      <td>36</td>\n",
       "      <td>1</td>\n",
       "      <td>{'BusinessAcceptsCreditCards': 'True', 'BikePa...</td>\n",
       "      <td>Active Life, Gun/Rifle Ranges, Guns &amp; Ammo, Sh...</td>\n",
       "      <td>{'Monday': '10:0-18:0', 'Tuesday': '11:0-20:0'...</td>\n",
       "      <td>http://www.therangeatlakenorman.com/</td>\n",
       "      <td>b'&lt;!DOCTYPE html&gt;\\n&lt;html lang=\"en-US\"&gt;\\n&lt;head&gt;...</td>\n",
       "    </tr>\n",
       "    <tr>\n",
       "      <th>1</th>\n",
       "      <td>XNoUzKckATkOD1hP6vghZg</td>\n",
       "      <td>Felinus</td>\n",
       "      <td>3554 Rue Notre-Dame O</td>\n",
       "      <td>Montreal</td>\n",
       "      <td>QC</td>\n",
       "      <td>H4C 1P4</td>\n",
       "      <td>45.479984</td>\n",
       "      <td>-73.580070</td>\n",
       "      <td>5.0</td>\n",
       "      <td>5</td>\n",
       "      <td>1</td>\n",
       "      <td>NaN</td>\n",
       "      <td>Pets, Pet Services, Pet Groomers</td>\n",
       "      <td>NaN</td>\n",
       "      <td>http://www.felinus.ca</td>\n",
       "      <td>b'&lt;!DOCTYPE html PUBLIC \"-//W3C//DTD XHTML 1.0...</td>\n",
       "    </tr>\n",
       "    <tr>\n",
       "      <th>2</th>\n",
       "      <td>51M2Kk903DFYI6gnB5I6SQ</td>\n",
       "      <td>USE MY GUY SERVICES LLC</td>\n",
       "      <td>4827 E Downing Cir</td>\n",
       "      <td>Mesa</td>\n",
       "      <td>AZ</td>\n",
       "      <td>85205</td>\n",
       "      <td>33.428065</td>\n",
       "      <td>-111.726649</td>\n",
       "      <td>4.5</td>\n",
       "      <td>26</td>\n",
       "      <td>1</td>\n",
       "      <td>{'BusinessAcceptsCreditCards': 'True', 'ByAppo...</td>\n",
       "      <td>Home Services, Plumbing, Electricians, Handyma...</td>\n",
       "      <td>{'Monday': '0:0-0:0', 'Tuesday': '9:0-16:0', '...</td>\n",
       "      <td>https://www.usemyguyservices.com</td>\n",
       "      <td>b'&lt;!DOCTYPE html&gt;\\n&lt;html lang=\"en-US\" prefix=\"...</td>\n",
       "    </tr>\n",
       "    <tr>\n",
       "      <th>3</th>\n",
       "      <td>cKyLV5oWZJ2NudWgqs8VZw</td>\n",
       "      <td>Oasis Auto Center - Gilbert</td>\n",
       "      <td>1720 W Elliot Rd, Ste 105</td>\n",
       "      <td>Gilbert</td>\n",
       "      <td>AZ</td>\n",
       "      <td>85233</td>\n",
       "      <td>33.350399</td>\n",
       "      <td>-111.827142</td>\n",
       "      <td>4.5</td>\n",
       "      <td>38</td>\n",
       "      <td>1</td>\n",
       "      <td>{'BusinessAcceptsCreditCards': 'True'}</td>\n",
       "      <td>Auto Repair, Automotive, Oil Change Stations, ...</td>\n",
       "      <td>{'Monday': '7:0-18:0', 'Tuesday': '7:0-18:0', ...</td>\n",
       "      <td>http://oasisautocenter.net</td>\n",
       "      <td>b'&lt;!DOCTYPE html&gt;\\n&lt;html lang=\"en-US\" prefix=\"...</td>\n",
       "    </tr>\n",
       "    <tr>\n",
       "      <th>4</th>\n",
       "      <td>ScYkbYNkDgCneBrD9vqhCQ</td>\n",
       "      <td>Junction Tire &amp; Auto Service</td>\n",
       "      <td>6910 E Southern Ave</td>\n",
       "      <td>Mesa</td>\n",
       "      <td>AZ</td>\n",
       "      <td>85209</td>\n",
       "      <td>33.393885</td>\n",
       "      <td>-111.682226</td>\n",
       "      <td>5.0</td>\n",
       "      <td>18</td>\n",
       "      <td>1</td>\n",
       "      <td>{'BusinessAcceptsCreditCards': 'True', 'ByAppo...</td>\n",
       "      <td>Auto Repair, Oil Change Stations, Automotive, ...</td>\n",
       "      <td>{'Monday': '7:30-17:0', 'Tuesday': '7:30-17:0'...</td>\n",
       "      <td>http://junctiontire.net/tires-auto-repair-mesa-az</td>\n",
       "      <td>b'&lt;!DOCTYPE html&gt;\\r\\n&lt;html lang=\"en\"&gt;\\r\\n&lt;head...</td>\n",
       "    </tr>\n",
       "  </tbody>\n",
       "</table>\n",
       "</div>"
      ],
      "text/plain": [
       "              business_id                          name  \\\n",
       "0  f9NumwFMBDn751xgFiRbNA      The Range At Lake Norman   \n",
       "1  XNoUzKckATkOD1hP6vghZg                       Felinus   \n",
       "2  51M2Kk903DFYI6gnB5I6SQ       USE MY GUY SERVICES LLC   \n",
       "3  cKyLV5oWZJ2NudWgqs8VZw   Oasis Auto Center - Gilbert   \n",
       "4  ScYkbYNkDgCneBrD9vqhCQ  Junction Tire & Auto Service   \n",
       "\n",
       "                     address       city state postal_code   latitude  \\\n",
       "0            10913 Bailey Rd  Cornelius    NC       28031  35.462724   \n",
       "1      3554 Rue Notre-Dame O   Montreal    QC     H4C 1P4  45.479984   \n",
       "2         4827 E Downing Cir       Mesa    AZ       85205  33.428065   \n",
       "3  1720 W Elliot Rd, Ste 105    Gilbert    AZ       85233  33.350399   \n",
       "4        6910 E Southern Ave       Mesa    AZ       85209  33.393885   \n",
       "\n",
       "    longitude  stars  review_count  is_open  \\\n",
       "0  -80.852612    3.5            36        1   \n",
       "1  -73.580070    5.0             5        1   \n",
       "2 -111.726649    4.5            26        1   \n",
       "3 -111.827142    4.5            38        1   \n",
       "4 -111.682226    5.0            18        1   \n",
       "\n",
       "                                          attributes  \\\n",
       "0  {'BusinessAcceptsCreditCards': 'True', 'BikePa...   \n",
       "1                                                NaN   \n",
       "2  {'BusinessAcceptsCreditCards': 'True', 'ByAppo...   \n",
       "3             {'BusinessAcceptsCreditCards': 'True'}   \n",
       "4  {'BusinessAcceptsCreditCards': 'True', 'ByAppo...   \n",
       "\n",
       "                                          categories  \\\n",
       "0  Active Life, Gun/Rifle Ranges, Guns & Ammo, Sh...   \n",
       "1                   Pets, Pet Services, Pet Groomers   \n",
       "2  Home Services, Plumbing, Electricians, Handyma...   \n",
       "3  Auto Repair, Automotive, Oil Change Stations, ...   \n",
       "4  Auto Repair, Oil Change Stations, Automotive, ...   \n",
       "\n",
       "                                               hours  \\\n",
       "0  {'Monday': '10:0-18:0', 'Tuesday': '11:0-20:0'...   \n",
       "1                                                NaN   \n",
       "2  {'Monday': '0:0-0:0', 'Tuesday': '9:0-16:0', '...   \n",
       "3  {'Monday': '7:0-18:0', 'Tuesday': '7:0-18:0', ...   \n",
       "4  {'Monday': '7:30-17:0', 'Tuesday': '7:30-17:0'...   \n",
       "\n",
       "                                                 url  \\\n",
       "0               http://www.therangeatlakenorman.com/   \n",
       "1                              http://www.felinus.ca   \n",
       "2                   https://www.usemyguyservices.com   \n",
       "3                         http://oasisautocenter.net   \n",
       "4  http://junctiontire.net/tires-auto-repair-mesa-az   \n",
       "\n",
       "                                        webpage_text  \n",
       "0  b'<!DOCTYPE html>\\n<html lang=\"en-US\">\\n<head>...  \n",
       "1  b'<!DOCTYPE html PUBLIC \"-//W3C//DTD XHTML 1.0...  \n",
       "2  b'<!DOCTYPE html>\\n<html lang=\"en-US\" prefix=\"...  \n",
       "3  b'<!DOCTYPE html>\\n<html lang=\"en-US\" prefix=\"...  \n",
       "4  b'<!DOCTYPE html>\\r\\n<html lang=\"en\">\\r\\n<head...  "
      ]
     },
     "execution_count": 3,
     "metadata": {},
     "output_type": "execute_result"
    }
   ],
   "source": [
    "df = pd.read_csv(os.path.join('..', '..', 'data', 'yelp_data', 'updated', 'business.csv'))\n",
    "df.head()"
   ]
  },
  {
   "cell_type": "code",
   "execution_count": 4,
   "metadata": {
    "scrolled": true
   },
   "outputs": [
    {
     "name": "stdout",
     "output_type": "stream",
     "text": [
      "<class 'pandas.core.frame.DataFrame'>\n",
      "RangeIndex: 56065 entries, 0 to 56064\n",
      "Data columns (total 16 columns):\n",
      " #   Column        Non-Null Count  Dtype  \n",
      "---  ------        --------------  -----  \n",
      " 0   business_id   56065 non-null  object \n",
      " 1   name          56065 non-null  object \n",
      " 2   address       53689 non-null  object \n",
      " 3   city          56065 non-null  object \n",
      " 4   state         56065 non-null  object \n",
      " 5   postal_code   55956 non-null  object \n",
      " 6   latitude      56065 non-null  float64\n",
      " 7   longitude     56065 non-null  float64\n",
      " 8   stars         56065 non-null  float64\n",
      " 9   review_count  56065 non-null  int64  \n",
      " 10  is_open       56065 non-null  int64  \n",
      " 11  attributes    48188 non-null  object \n",
      " 12  categories    55963 non-null  object \n",
      " 13  hours         45045 non-null  object \n",
      " 14  url           56065 non-null  object \n",
      " 15  webpage_text  50471 non-null  object \n",
      "dtypes: float64(3), int64(2), object(11)\n",
      "memory usage: 6.8+ MB\n"
     ]
    }
   ],
   "source": [
    "df.info()"
   ]
  },
  {
   "cell_type": "code",
   "execution_count": 5,
   "metadata": {},
   "outputs": [],
   "source": [
    "classes = [1.0, 1.5, 2.0, 2.5, 3.0, 3.5, 4.0, 4.5, 5.0]\n",
    "\n",
    "#convert column stars to one hot encoding\n",
    "df['stars'] = pd.Categorical(df['stars'], categories=classes)\n",
    "dummies = pd.get_dummies(df['stars'])\n",
    "df = pd.concat([df, dummies], axis=1)"
   ]
  },
  {
   "cell_type": "code",
   "execution_count": 6,
   "metadata": {
    "scrolled": false
   },
   "outputs": [
    {
     "data": {
      "text/html": [
       "<div>\n",
       "<style scoped>\n",
       "    .dataframe tbody tr th:only-of-type {\n",
       "        vertical-align: middle;\n",
       "    }\n",
       "\n",
       "    .dataframe tbody tr th {\n",
       "        vertical-align: top;\n",
       "    }\n",
       "\n",
       "    .dataframe thead th {\n",
       "        text-align: right;\n",
       "    }\n",
       "</style>\n",
       "<table border=\"1\" class=\"dataframe\">\n",
       "  <thead>\n",
       "    <tr style=\"text-align: right;\">\n",
       "      <th></th>\n",
       "      <th>1.0</th>\n",
       "      <th>1.5</th>\n",
       "      <th>2.0</th>\n",
       "      <th>2.5</th>\n",
       "      <th>3.0</th>\n",
       "      <th>3.5</th>\n",
       "      <th>4.0</th>\n",
       "      <th>4.5</th>\n",
       "      <th>5.0</th>\n",
       "    </tr>\n",
       "  </thead>\n",
       "  <tbody>\n",
       "    <tr>\n",
       "      <th>0</th>\n",
       "      <td>0</td>\n",
       "      <td>0</td>\n",
       "      <td>0</td>\n",
       "      <td>0</td>\n",
       "      <td>0</td>\n",
       "      <td>1</td>\n",
       "      <td>0</td>\n",
       "      <td>0</td>\n",
       "      <td>0</td>\n",
       "    </tr>\n",
       "    <tr>\n",
       "      <th>1</th>\n",
       "      <td>0</td>\n",
       "      <td>0</td>\n",
       "      <td>0</td>\n",
       "      <td>0</td>\n",
       "      <td>0</td>\n",
       "      <td>0</td>\n",
       "      <td>0</td>\n",
       "      <td>0</td>\n",
       "      <td>1</td>\n",
       "    </tr>\n",
       "    <tr>\n",
       "      <th>2</th>\n",
       "      <td>0</td>\n",
       "      <td>0</td>\n",
       "      <td>0</td>\n",
       "      <td>0</td>\n",
       "      <td>0</td>\n",
       "      <td>0</td>\n",
       "      <td>0</td>\n",
       "      <td>1</td>\n",
       "      <td>0</td>\n",
       "    </tr>\n",
       "    <tr>\n",
       "      <th>3</th>\n",
       "      <td>0</td>\n",
       "      <td>0</td>\n",
       "      <td>0</td>\n",
       "      <td>0</td>\n",
       "      <td>0</td>\n",
       "      <td>0</td>\n",
       "      <td>0</td>\n",
       "      <td>1</td>\n",
       "      <td>0</td>\n",
       "    </tr>\n",
       "    <tr>\n",
       "      <th>4</th>\n",
       "      <td>0</td>\n",
       "      <td>0</td>\n",
       "      <td>0</td>\n",
       "      <td>0</td>\n",
       "      <td>0</td>\n",
       "      <td>0</td>\n",
       "      <td>0</td>\n",
       "      <td>0</td>\n",
       "      <td>1</td>\n",
       "    </tr>\n",
       "  </tbody>\n",
       "</table>\n",
       "</div>"
      ],
      "text/plain": [
       "   1.0  1.5  2.0  2.5  3.0  3.5  4.0  4.5  5.0\n",
       "0    0    0    0    0    0    1    0    0    0\n",
       "1    0    0    0    0    0    0    0    0    1\n",
       "2    0    0    0    0    0    0    0    1    0\n",
       "3    0    0    0    0    0    0    0    1    0\n",
       "4    0    0    0    0    0    0    0    0    1"
      ]
     },
     "execution_count": 6,
     "metadata": {},
     "output_type": "execute_result"
    }
   ],
   "source": [
    "df[classes].head()"
   ]
  },
  {
   "cell_type": "code",
   "execution_count": 7,
   "metadata": {},
   "outputs": [],
   "source": [
    "train_sz = int(len(df) * 0.8)\n",
    "train = df[:train_sz]\n",
    "test = df[train_sz:]"
   ]
  },
  {
   "cell_type": "code",
   "execution_count": 8,
   "metadata": {},
   "outputs": [],
   "source": [
    "def visible_tags(item):\n",
    "    return not item.parent.name in {'meta', 'head', 'script', 'style', '[document]'} and not isinstance(item, Comment)\n",
    "\n",
    "def get_corpus(df, output_path=None, df_address_with_corpus=None):\n",
    "        \n",
    "    if not df_address_with_corpus is None:\n",
    "        df = pd.read_csv(df_address_with_corpus)\n",
    "    else:\n",
    "        if os.path.isdir(output_path) is False:\n",
    "            print('Error: the output path does not exists!')\n",
    "            return\n",
    "        is_eng = []\n",
    "        webpage_corpus = []\n",
    "        max_text_size = 20 # maximum size for language detection\n",
    "\n",
    "        for page_content in tqdm(df['webpage_text']):\n",
    "            is_eng.append(False)\n",
    "            webpage_corpus.append(None)\n",
    "            if page_content is np.nan: continue\n",
    "            try:\n",
    "                soup = BeautifulSoup(page_content, 'html.parser')\n",
    "            except:\n",
    "                continue\n",
    "            texts = soup.findAll(text=True)\n",
    "            visible_texts = filter(visible_tags, texts)\n",
    "            visible_texts = u' '.join(s.strip() for s in visible_texts)\n",
    "            if visible_texts is None: continue\n",
    "            visible_texts = visible_texts.replace('`', '')\n",
    "            #print(visible_texts[:100])\n",
    "            visible_texts = visible_texts.replace('\\\\n', ' ').replace('\\\\r', '').replace('\\\\t', '')\n",
    "            #visible_texts = re.sub('\\\\?', '', visible_texts)\n",
    "            visible_texts = re.sub('[^a-zA-Z0-9\\s]', '', visible_texts)\n",
    "            visible_texts = visible_texts.split()\n",
    "            visible_texts = ' '.join(visible_texts)\n",
    "            try:\n",
    "                langs = detect_langs(visible_texts[:max_text_size])\n",
    "                for i in range(min(2, len(langs))):\n",
    "                    if langs[i].lang == 'en':\n",
    "                        is_eng[-1] = True\n",
    "                        webpage_corpus[-1] = visible_texts\n",
    "            except Exception as e:\n",
    "                #print(e)\n",
    "                pass\n",
    "\n",
    "        df['is_eng'] = is_eng\n",
    "        df['webpage_corpus'] = webpage_corpus\n",
    "        try:\n",
    "            output_path = '' if output_path is None else output_path\n",
    "            df.to_csv(os.path.join(output_path, 'bussiness_with_corpus.csv'))\n",
    "        except Exception as e:\n",
    "            print(e)\n",
    "    return df"
   ]
  },
  {
   "cell_type": "code",
   "execution_count": 9,
   "metadata": {},
   "outputs": [],
   "source": [
    "df = get_corpus(df, output_path=None, df_address_with_corpus=os.path.join('..', '..', 'data', 'yelp_data', 'updated', 'bussiness_with_corpus.csv'))"
   ]
  },
  {
   "cell_type": "code",
   "execution_count": 10,
   "metadata": {},
   "outputs": [
    {
     "name": "stdout",
     "output_type": "stream",
     "text": [
      "<class 'pandas.core.frame.DataFrame'>\n",
      "RangeIndex: 56065 entries, 0 to 56064\n",
      "Data columns (total 28 columns):\n",
      " #   Column          Non-Null Count  Dtype  \n",
      "---  ------          --------------  -----  \n",
      " 0   Unnamed: 0      56065 non-null  int64  \n",
      " 1   business_id     56065 non-null  object \n",
      " 2   name            56065 non-null  object \n",
      " 3   address         53689 non-null  object \n",
      " 4   city            56065 non-null  object \n",
      " 5   state           56065 non-null  object \n",
      " 6   postal_code     55956 non-null  object \n",
      " 7   latitude        56065 non-null  float64\n",
      " 8   longitude       56065 non-null  float64\n",
      " 9   stars           56065 non-null  float64\n",
      " 10  review_count    56065 non-null  int64  \n",
      " 11  is_open         56065 non-null  int64  \n",
      " 12  attributes      48188 non-null  object \n",
      " 13  categories      55963 non-null  object \n",
      " 14  hours           45045 non-null  object \n",
      " 15  url             56065 non-null  object \n",
      " 16  webpage_text    50471 non-null  object \n",
      " 17  1.0             56065 non-null  int64  \n",
      " 18  1.5             56065 non-null  int64  \n",
      " 19  2.0             56065 non-null  int64  \n",
      " 20  2.5             56065 non-null  int64  \n",
      " 21  3.0             56065 non-null  int64  \n",
      " 22  3.5             56065 non-null  int64  \n",
      " 23  4.0             56065 non-null  int64  \n",
      " 24  4.5             56065 non-null  int64  \n",
      " 25  5.0             56065 non-null  int64  \n",
      " 26  is_eng          56065 non-null  bool   \n",
      " 27  webpage_corpus  32595 non-null  object \n",
      "dtypes: bool(1), float64(3), int64(12), object(12)\n",
      "memory usage: 11.6+ MB\n"
     ]
    }
   ],
   "source": [
    "df.info()"
   ]
  },
  {
   "cell_type": "code",
   "execution_count": 123,
   "metadata": {},
   "outputs": [
    {
     "name": "stdout",
     "output_type": "stream",
     "text": [
      "0 Shooting Ranges Gun Rental Charlotte NC The Range at Lake Norman Skip to content Menu Home Contact Hours FaceBook FAQ Calendar Shoot with us Lane reservations Personal instruction Memberships Membership Levels Range Rules Ammo policy Daily Rates Rental firearms The Simulator Parties Events Ladies night Try a Firearm Competitive Shooting Firearm Sales and Transfers Purchase a firearm Firearms Consultation Transfers NFA Devices Exchange Program Safes About Gunsmithing and Restoration Gun Services What People are Saying Helpful Links Cart State of the Art Indoor Shooting Range The Range at Lake Norman the Charlotte areas Premier NSSF Five Star Shooting range is a state of the art indoor firearms shooting range and training center located in Cornelius NCxc2xa0 We offer indoor shooting ranges for rifles pistols and shotgunsxc2xa0 Our lanes are all video monitored and climate controlled offering a comfortable shooting environmentxc2xa0 We offer the most technologically advanced and cleanest gun range in North Carolina by having implemented a state of the art air handling system our triple filter system ensures that the quality of air you breathe in the range is safe and properly filtered Our 15 shooting lanes are broken down into two baysxc2xa0 Bay 1 consists of 625 yard rifle rated lanes Bay 2 consists of 925 yard pistol rated lanesxc2xa0 Rifle Shotgun and Muzzleloader shooters are always welcomed too Our facility is equipped with the TI Systems simulator a state of the art classroom a professionally decorated members lounge and public wifi throughout We are open 7 days a week to the general public and offer memberships as wellxc2xa0 Come in and visit our staff and facility and see how The Range provides the ultimate shooting experience Hours of operation 11 am 8 pm Monday Saturday 1 pm 6 pm Sunday Accept Credit Cards Events Calendar June 2020 S M T W T F S 31 1 2 3 4 5 6 7 8 9 10 11 12 13 14 15 16 17 18 19 20 21 22 23 24 25 26 27 28 29 30 1 2 3 4 Fri 26 Try a firearm June 26 500 PM 800 PM Sat 27 Concealed Weapons Permit Class June 27 900 AM 500 PM Tue 30 Ladies Night June 30 600 PM 800 PM Cart Range Info 10913 Bailey Rd Cornelius NC 28031 Phone 7048953155 Hours TueSat 117 Sun 16 email us 2020 Shooting Ranges Gun Rental Charlotte NC The Range at Lake Norman Powered by GeneratePress WP Like Button Plugin by Free WordPress Templates\n",
      "****************************************************************************************************\n",
      "1 nan\n",
      "****************************************************************************************************\n",
      "2 Home Renovations and Repairs Phoenix AZ Home Use My Guy Services Skip to Content chevronleft chevronright chevronup chevronright chevronleft arrowback star phone quote checkboxchecked search wrench info shield play connection mobile coindollar spoonknife ticket pushpin location gift fire feed bubbles home heart calendar pricetag creditcard clock envelop facebook instagram twitter youtube pinterest yelp google reddit linkedin envelope bbb pinterest homeadvisor angies Corona Virus Update Call Now For A Free Estimate 6023169187 menu What We Do Kitchen Remodel Bathroom Remodel Plumbing Services Repair Electrical Services Outdoor Services Home Embellishments FINANCING Promotions About Us Contact Us Testimonials Blog Leave a Review What We Do show submenu Kitchen Remodel Bathroom Remodel Plumbing Services Repair Electrical Services Outdoor Services Home Embellishments FINANCING Promotions About Us Contact Us Testimonials Blog Leave a Review Where your renovation is our dedication Contact Us PROFESSIONAL HOME RENOVATIONS AND REPAIRS IN PHOENIX AZ Use My Guy Services is a familyowned and operated business in the heart of the East Valley We have been a local resident and business since our inception in 2011 We are founded on the commitment to serve our neighbors and support the growth of other local businesses as we grow As a licensed general contractor we provide highquality service backed by over 35 years of experience in our industry We specialize in bathroom and kitchen remodels and provide many more home improvement services including electrical plumbing drywall repair water heater replacement and painting We take care of all your home improvement renovation and repair needs When we do work in your home we treat it like our home That means when we do a job we do it right the first time and we guarantee our work Turn your HoneyDo list into a Honey Done list with Use My Guy Services We are proud to be a licensed general contractor xe2x80x93 AZ ROC 317939 Contact Us Our Services Kitchen Remodel Bathroom Remodel Plumbing Services Repair Electrical Services Outdoor Services Home Embellishments Contact Us Phoenix AZxe2x80x99s Premier Contractors Use My Guy Services is your local home improvement experts serving clients from Phoenix to Apache Junction Queen Creek to Scottsdale and the surrounding areasxc2xa0 We are a licensed and insured general contractor Our specialty teams take care of everything from the ceiling to the floor and a whole lot more Our areas of expertise include plumbing electrical tub or shower replacement backsplash installation water heater service and replacement drywall repair and painting xc2xa0 When the decor is appealing and the fixtures are functional a residence is more pleasant to retire to after a long day We strive to create comfort and peace of mind by turning your home into a place of solace Contact us today to discuss your needs Use My Guy Services can take care of every area that requires repair or renovationxc2xa0 Check out our complete list of services to see all that our professional home improvement experts can take care of inside and outside of your home Learn More Integrity and Higher Standards Our standard is to treat your home like our ownxc2xa0 That means that we intend to provide a finished product inside and out that exceeds what we would expect in our own homexc2xa0 All of our work is guaranteed If our work is not completed correctly we believe in restoring integrity with our customers by returning to redress any errors Our high standards of service have earned us dozens of 5star reviews on Yelp an A rating from The Better Business Bureau a 2015 Super Service Award from Angiexe2x80x99s List and the Small Business of the Year Award from The Queen Creek Chamber of Commercexc2xa0 We recognize that it is by making your satisfaction our highest priority that we have received these and many other acknowledgments of our service The highest recognition we receive is from our customers who invite us back for their next project and refer us to their family and friends Contact Us Customer Reviews I called Use my Guy Services to fix a leaking shower though the wall I was able to secure services within days On the day of my appointment I received numerous text messages informing me of my technicians arrival status Upon arrival he quickly evaluated the task at hand made a recommendation to fix and we scheduled a follow on appointment On the day of my work I again received numerous emails on the status of his arrival The technician quickly fixed my roble they were highly professional efficient friendly and answer all my questions I would recommend Use My Guy Services Sam Sebring 02202019 Use My Guys was professional and competent from beginning to end The diverse repairs were completed in a timely fashion with Josh and Jacob accompanied by a drywall expert who all did a great job and were pleasant to be around I would definitely recommend the company to my friends Susan Stockton 04202019 We used their service to have shutters removed and reinstalled for a window replacement The team that showed up was courteous professional and completed the job as discussed The attention to detail was great I would use them again Warren Wasescha 04202019 Everyone was so polite and professional He was quick fixing my linking sink and garbage disposal We were right in the middle of making a wedding cake when the sink flooded Will definitely use them again Thank you Cindy Bousquet 04202019 I love using My Guy Services They are like family to us We count on them for repairs that we cannot do on our own They are the best Ron Adams 03202019 Fast dispatch great repair good price Wouldnt hesitate to use them again or refer my friends and family Thank You Samantha McCanless 05202019 Came the days they said they would and charged what we were quoted They responded quickly when we had questions Appreciated the prompt scheduling of the repairs also Janelle Thompson 02202019 I have used UMGS twice now after moving to a new house Great service by really decent people always on time good prices I will continue to use them in the future Mark Ennamorato 02202019 The technician was prompt and very friendly He did a great job and cleaned up after The quality of workmanship was excellent Was notified before he arrived and given pictures of a person coming I appreciated that Great service would use again and recommend to others T Johnson 10202018 Renewal by Anderson sent a Use My Guy repairman out to install some tile to resolve an installation issue left by their guys He did an excellent job and pointed out I had two different finishes on the spare tile leftover from the previous owners Ill definitely give them a try on a few other projects that are beyond what I can do Shannon Shaneyfelt 09202018 The workers were great showed up on time and fished the job hired for in a professional manner Cleaned up afterward to where you didnt even know they were there Would recommend the company for any job needed Dale Gelder 11202018 Josh and Ben quickly and professionally replaced my high ceiling bedroom ceiling fan They retrofit the wireless control into the new fan and everything is like new again Ill keep their phone number on my contact list for future repairs and improvements David Kankelfritz 09202018 The Use My Guy Service people were knowledgeable and efficient They came on time worked quickly and carefully and even gave me advice on a problem I needed to solve related to my project All this and friendly too I plan to use them again in the future and I highly recommend them Vicki Hartford 10202018 I love these guys They are on point send reminders communicate progress and clean up I dont even consider using anyone else and refer them often Lora Vance 10202018 Great team to work with Finished the job quick and easy Cleaned up and even disposed of materials they werent responsible for Would definitely use again Jaron Warner 07202018 More Reviews Use My Guy Services 6023169187 Hours of Operation Monday 800 AM 400 PM Tuesday 800 AM 400 PM Wednesday 800 AM 400 PM Thursday 800 AM 400 PM Friday 800 AM 400 PM Serving Scottsdale xe2x80x93 Tempe xe2x80x93 Queen Creek xe2x80x93 Chandler Gilbert xe2x80x93 Mesa xe2x80x93 Phoenix Arizona First Name Required Last Name Required Phone Required Email Required Address City Zip Code Start Date must be mmddyyyy format Subscribe to Our Monthly Newsletter Want 10 off of your first service call AND access to great monthly deals Subscribe to our monthly newsletter and get the latest exclusive coupons and deals For subscribers only How can we help you Required 1 1 Required CAPTCHA Email This field is for validation purposes and should be left unchanged This iframe contains the logic required to handle Ajax powered Gravity Forms Back to the top 6023169187 Contact Us Areas of Service Scottsdale xc2xa0Tempe Chandler xc2xa0Gilbert Mesa xc2xa0Phoenix Arizona Paradise Valley xc2xa0Queen Creek Members Of Accredited Better Business Bureau Small Business Alliance Mesa and Queen Creek Chambers BNI Arizona Contractors License ROC 317939 Home What We Do Project Gallery Financing Promotions About Us Contact Us Leave a Review Join the Team 2020 Use My Guy Services All Rights Reserved Privacy Policy Sitemap\n",
      "****************************************************************************************************\n"
     ]
    }
   ],
   "source": [
    "for i in range(3):\n",
    "    print(i, df['webpage_corpus'][i])\n",
    "    print('*' * 100)"
   ]
  },
  {
   "cell_type": "code",
   "execution_count": 11,
   "metadata": {},
   "outputs": [],
   "source": [
    "train_sz = int(len(df) * 0.8)\n",
    "train = df[:train_sz]\n",
    "test = df[train_sz:]"
   ]
  },
  {
   "cell_type": "code",
   "execution_count": 47,
   "metadata": {},
   "outputs": [
    {
     "data": {
      "text/plain": [
       "{1.0, 1.5, 2.0, 2.5, 3.0, 3.5, 4.0, 4.5, 5.0}"
      ]
     },
     "execution_count": 47,
     "metadata": {},
     "output_type": "execute_result"
    }
   ],
   "source": [
    "set(df['stars'])"
   ]
  },
  {
   "cell_type": "code",
   "execution_count": 46,
   "metadata": {
    "scrolled": true
   },
   "outputs": [
    {
     "data": {
      "image/png": "[encoded data removed]",
      "text/plain": [
       "<Figure size 432x288 with 1 Axes>"
      ]
     },
     "metadata": {
      "image/png": {
       "height": 277,
       "width": 401
      },
      "needs_background": "light"
     },
     "output_type": "display_data"
    }
   ],
   "source": [
    "chart = sns.countplot(df['stars'], palette='RdYlGn')\n",
    "plt.title('Number of business per Rating')\n",
    "chart.set_xticklabels(chart.get_xticklabels(), horizontalalignment='center');"
   ]
  },
  {
   "cell_type": "code",
   "execution_count": 124,
   "metadata": {},
   "outputs": [],
   "source": [
    "class RateWebsites:    \n",
    "    def __init__(self, train, test, tokenizer: FullTokenizer, text_colname=None, label_colname=None, max_seq_len=128):\n",
    "        \"\"\"  \n",
    "        \"\"\"\n",
    "        self.text_colname = 'webpage_corpus' if text_colname is None else text_colname\n",
    "        if not self.text_colname in train.columns or not self.text_colname in test.columns:\n",
    "            print('Error: Please specify a proper column name in the input dataframe as the corpus.')\n",
    "            return\n",
    "        \n",
    "        self.label_colname = 'stars' if label_colname is None else label_colname\n",
    "        if not self.label_colname in train.columns or not self.label_colname in test.columns:\n",
    "            print('Error: Please specify a proper column name in the input dataframe as the labels.')\n",
    "            return\n",
    "        \n",
    "        self.classes = train[self.label_colname].unique().astype('float32').tolist()\n",
    "        self.classes.sort()\n",
    "        \n",
    "        train = train.dropna(subset=[self.text_colname])\n",
    "        test = test.dropna(subset=[self.text_colname])\n",
    "        \n",
    "        self.max_seq_len = 0\n",
    "        self.tokenizer = tokenizer\n",
    "        (self.train_x, self.train_y), (self.test_x, self.test_y) = map(self._tokanize, [train, test])\n",
    "        self.max_seq_len = min(self.max_seq_len, max_seq_len)\n",
    "        self.train_x, self.test_x = map(self._cut_with_padding, [self.train_x, self.test_x])\n",
    "    \n",
    "    def build_model(self, bert_config_file, bert_ckpt_file, dropout=0.6):\n",
    "        \"\"\"\n",
    "        \"\"\"\n",
    "        bert = self._load_bert(bert_config_file, bert_ckpt_file)\n",
    "        input_ = keras.layers.Input(shape=(self.max_seq_len, ), dtype='int64')\n",
    "        x = bert(input_)\n",
    "        #get the first embedding from the output of BERT\n",
    "        x = keras.layers.Lambda(lambda seq: seq[:,0,:])(x)\n",
    "        \n",
    "        x = keras.layers.Dropout(dropout)(x)\n",
    "        x = keras.layers.Dense(300, activation='relu')(x)\n",
    "        x = keras.layers.Dense(300, activation='relu')(x)\n",
    "        output_ = keras.layers.Dense(units=len(self.classes), activation='softmax')(x)\n",
    "        \n",
    "        model = keras.Model(inputs=input_, outputs=output_)\n",
    "        model.build(input_shape=(None, self.max_seq_len))\n",
    "        \n",
    "        load_stock_weights(bert, bert_ckpt_file)\n",
    "        \n",
    "        return model\n",
    "    \n",
    "    def _load_bert(self, bert_config_file, bert_ckpt_file):\n",
    "        try:\n",
    "            with tf.io.gfile.GFile(bert_config_file, 'r') as gf:\n",
    "                bert_config = StockBertConfig.from_json_string(gf.read())\n",
    "                bert_params = map_stock_config_to_params(bert_config)\n",
    "                bert_params.adapter_size = None\n",
    "                bert = BertModelLayer.from_params(bert_params, name='bert')\n",
    "                return bert\n",
    "        except Exception as e:\n",
    "            print(e)\n",
    "    \n",
    "    def _tokanize(self, df):\n",
    "        \"\"\"\n",
    "        \"\"\"\n",
    "        X, y = [], []\n",
    "        for _, entry in tqdm(df.iterrows()):\n",
    "            corpus, label = entry[self.text_colname], entry[self.label_colname]\n",
    "            tokens = self.tokenizer.tokenize(corpus)\n",
    "            tokens = ['[CLS]'] + tokens + ['[SEP]']\n",
    "            ids = self.tokenizer.convert_tokens_to_ids(tokens)\n",
    "            self.max_seq_len = max(self.max_seq_len, len(ids))\n",
    "            X.append(ids)\n",
    "            y.append(self.classes.index(label))\n",
    "        return np.asarray(X), np.asarray(y)\n",
    "    \n",
    "    def _cut_with_padding(self, ids):\n",
    "        \"\"\"\n",
    "        \"\"\"\n",
    "        X = []\n",
    "        CLS_id = self.tokenizer.convert_tokens_to_ids(['[CLS]'])\n",
    "        SEP_id = self.tokenizer.convert_tokens_to_ids(['[SEP]'])\n",
    "        for token_id in ids:\n",
    "            # ignore tokens '[CLS]' and '[SEP]' for now\n",
    "            arr = token_id[1:-1]\n",
    "            sz = min(len(arr), self.max_seq_len - 2)\n",
    "            arr = CLS_id + arr[:sz] + SEP_id\n",
    "            # pad the remaining cells with zero\n",
    "            arr = arr + [0] * (self.max_seq_len - len(arr))\n",
    "            X.append(np.asarray(arr))\n",
    "        return np.asarray(X)"
   ]
  },
  {
   "cell_type": "code",
   "execution_count": 125,
   "metadata": {
    "scrolled": true
   },
   "outputs": [
    {
     "name": "stdout",
     "output_type": "stream",
     "text": [
      "['this', 'is', 'an', 'open', '-', 'source', 'project', 'for', 'rating', 'businesses', 'based', 'on', 'their', 'website', 'quality', '!']\n",
      "[2023, 2003, 2019, 2330, 1011, 3120, 2622, 2005, 5790, 5661, 2241, 2006, 2037, 4037, 3737, 999]\n"
     ]
    }
   ],
   "source": [
    "folder_path = os.path.join('..', '..', 'data','uncased_L-12_H-768_A-12')\n",
    "tokenizer = FullTokenizer(vocab_file=os.path.join(folder_path, 'vocab.txt'))\n",
    "\n",
    "bert_ckpt_file = os.path.join(folder_path, 'bert_model.ckpt')\n",
    "bert_config_file = os.path.join(folder_path, 'bert_config.json')\n",
    "\n",
    "tokens_test = tokenizer.tokenize('This is an open-source project for rating businesses based on their website quality!')\n",
    "print(tokens_test)\n",
    "print(tokenizer.convert_tokens_to_ids(tokens_test))"
   ]
  },
  {
   "cell_type": "code",
   "execution_count": 126,
   "metadata": {},
   "outputs": [],
   "source": [
    "def compile_model(rater:RateWebsites, model):\n",
    "    model.compile(optimizer=keras.optimizers.Adam(1e-5),\n",
    "              loss=keras.losses.SparseCategoricalCrossentropy(from_logits=True),\n",
    "              metrics=[keras.metrics.SparseCategoricalAccuracy(name='acc')])\n",
    "    print(model.summary())\n",
    "    history = model.fit(\n",
    "        x=rater.train_x,\n",
    "        y=rater.train_y,\n",
    "        validation_split=0.05,\n",
    "        batch_size=64,\n",
    "        shuffle=True,\n",
    "        epochs=10\n",
    "    )"
   ]
  },
  {
   "cell_type": "code",
   "execution_count": 127,
   "metadata": {
    "scrolled": true
   },
   "outputs": [
    {
     "name": "stderr",
     "output_type": "stream",
     "text": [
      "26096it [05:01, 86.47it/s] \n",
      "6499it [01:12, 89.50it/s] \n"
     ]
    },
    {
     "name": "stdout",
     "output_type": "stream",
     "text": [
      "<class 'bert.model.BertModelLayer'>\n",
      "Done loading 196 BERT weights from: ../../data/uncased_L-12_H-768_A-12/bert_model.ckpt into <bert.model.BertModelLayer object at 0x7f942c1b9750> (prefix:bert_6). Count of weights not found in the checkpoint was: [0]. Count of weights with mismatched shape: [0]\n",
      "Unused weights from checkpoint: \n",
      "\tbert/embeddings/token_type_embeddings\n",
      "\tbert/pooler/dense/bias\n",
      "\tbert/pooler/dense/kernel\n",
      "\tcls/predictions/output_bias\n",
      "\tcls/predictions/transform/LayerNorm/beta\n",
      "\tcls/predictions/transform/LayerNorm/gamma\n",
      "\tcls/predictions/transform/dense/bias\n",
      "\tcls/predictions/transform/dense/kernel\n",
      "\tcls/seq_relationship/output_bias\n",
      "\tcls/seq_relationship/output_weights\n"
     ]
    }
   ],
   "source": [
    "rater = RateWebsites(train, test, tokenizer, max_seq_len=100)\n",
    "model = rater.build_model(bert_config_file, bert_ckpt_file)"
   ]
  },
  {
   "cell_type": "code",
   "execution_count": 129,
   "metadata": {
    "scrolled": true
   },
   "outputs": [
    {
     "name": "stdout",
     "output_type": "stream",
     "text": [
      "Model: \"model_6\"\n",
      "_________________________________________________________________\n",
      "Layer (type)                 Output Shape              Param #   \n",
      "=================================================================\n",
      "input_7 (InputLayer)         [(None, 100)]             0         \n",
      "_________________________________________________________________\n",
      "bert (BertModelLayer)        (None, 100, 768)          108890112 \n",
      "_________________________________________________________________\n",
      "lambda_6 (Lambda)            (None, 768)               0         \n",
      "_________________________________________________________________\n",
      "dropout_6 (Dropout)          (None, 768)               0         \n",
      "_________________________________________________________________\n",
      "dense_15 (Dense)             (None, 300)               230700    \n",
      "_________________________________________________________________\n",
      "dense_16 (Dense)             (None, 300)               90300     \n",
      "_________________________________________________________________\n",
      "dense_17 (Dense)             (None, 9)                 2709      \n",
      "=================================================================\n",
      "Total params: 109,213,821\n",
      "Trainable params: 109,213,821\n",
      "Non-trainable params: 0\n",
      "_________________________________________________________________\n",
      "None\n",
      "Epoch 1/10\n",
      "388/388 [==============================] - 210s 540ms/step - loss: 2.1463 - acc: 0.1908 - val_loss: 2.1526 - val_acc: 0.1824\n",
      "Epoch 2/10\n",
      "388/388 [==============================] - 207s 533ms/step - loss: 2.1415 - acc: 0.1968 - val_loss: 2.1660 - val_acc: 0.1709\n",
      "Epoch 3/10\n",
      "388/388 [==============================] - 207s 533ms/step - loss: 2.1357 - acc: 0.2085 - val_loss: 2.1582 - val_acc: 0.1716\n",
      "Epoch 4/10\n",
      "388/388 [==============================] - 207s 534ms/step - loss: 2.1222 - acc: 0.2281 - val_loss: 2.1610 - val_acc: 0.1793\n",
      "Epoch 5/10\n",
      "388/388 [==============================] - 207s 533ms/step - loss: 2.1056 - acc: 0.2510 - val_loss: 2.1733 - val_acc: 0.1762\n",
      "Epoch 6/10\n",
      "388/388 [==============================] - 207s 533ms/step - loss: 2.0834 - acc: 0.2767 - val_loss: 2.1787 - val_acc: 0.1724\n",
      "Epoch 7/10\n",
      "388/388 [==============================] - 207s 534ms/step - loss: 2.0626 - acc: 0.3008 - val_loss: 2.1796 - val_acc: 0.1747\n",
      "Epoch 8/10\n",
      "388/388 [==============================] - 207s 533ms/step - loss: 2.0419 - acc: 0.3237 - val_loss: 2.1827 - val_acc: 0.1678\n",
      "Epoch 9/10\n",
      "388/388 [==============================] - 207s 533ms/step - loss: 2.0229 - acc: 0.3421 - val_loss: 2.1820 - val_acc: 0.1762\n",
      "Epoch 10/10\n",
      "388/388 [==============================] - 206s 532ms/step - loss: 2.0072 - acc: 0.3603 - val_loss: 2.1856 - val_acc: 0.1762\n"
     ]
    }
   ],
   "source": [
    "compile_model(rater, model)"
   ]
  },
  {
   "cell_type": "code",
   "execution_count": 130,
   "metadata": {},
   "outputs": [
    {
     "name": "stdout",
     "output_type": "stream",
     "text": [
      "204/204 [==============================] - 18s 86ms/step - loss: 2.1883 - acc: 0.1689\n"
     ]
    }
   ],
   "source": [
    "loss, acc = model.evaluate(rater.test_x, rater.test_y)"
   ]
  },
  {
   "cell_type": "code",
   "execution_count": 131,
   "metadata": {
    "scrolled": true
   },
   "outputs": [
    {
     "data": {
      "image/png": "[encoded data removed]",
      "text/plain": [
       "<Figure size 432x288 with 1 Axes>"
      ]
     },
     "metadata": {
      "image/png": {
       "height": 277,
       "width": 401
      },
      "needs_background": "light"
     },
     "output_type": "display_data"
    }
   ],
   "source": [
    "df2 = df.copy(deep=True)\n",
    "df2['stars'] = df2['stars'].apply(lambda x: int(x))\n",
    "train_sz = int(len(df) * 0.8)\n",
    "train2 = df2[:train_sz]\n",
    "test2 = df2[train_sz:]\n",
    "chart = sns.countplot(df2['stars'], palette='RdYlGn')\n",
    "plt.title('Number of business per Rating')\n",
    "chart.set_xticklabels(chart.get_xticklabels(), horizontalalignment='center');"
   ]
  },
  {
   "cell_type": "code",
   "execution_count": 132,
   "metadata": {
    "scrolled": true
   },
   "outputs": [
    {
     "name": "stderr",
     "output_type": "stream",
     "text": [
      "26096it [04:44, 91.65it/s] \n",
      "6499it [01:09, 92.91it/s] \n"
     ]
    },
    {
     "name": "stdout",
     "output_type": "stream",
     "text": [
      "<class 'bert.model.BertModelLayer'>\n",
      "Done loading 196 BERT weights from: ../../data/uncased_L-12_H-768_A-12/bert_model.ckpt into <bert.model.BertModelLayer object at 0x7f9030ea3450> (prefix:bert_7). Count of weights not found in the checkpoint was: [0]. Count of weights with mismatched shape: [0]\n",
      "Unused weights from checkpoint: \n",
      "\tbert/embeddings/token_type_embeddings\n",
      "\tbert/pooler/dense/bias\n",
      "\tbert/pooler/dense/kernel\n",
      "\tcls/predictions/output_bias\n",
      "\tcls/predictions/transform/LayerNorm/beta\n",
      "\tcls/predictions/transform/LayerNorm/gamma\n",
      "\tcls/predictions/transform/dense/bias\n",
      "\tcls/predictions/transform/dense/kernel\n",
      "\tcls/seq_relationship/output_bias\n",
      "\tcls/seq_relationship/output_weights\n"
     ]
    }
   ],
   "source": [
    "rater2 = RateWebsites(train2, test2, tokenizer, max_seq_len=100)"
   ]
  },
  {
   "cell_type": "code",
   "execution_count": 135,
   "metadata": {},
   "outputs": [
    {
     "name": "stdout",
     "output_type": "stream",
     "text": [
      "<class 'bert.model.BertModelLayer'>\n",
      "Done loading 196 BERT weights from: ../../data/uncased_L-12_H-768_A-12/bert_model.ckpt into <bert.model.BertModelLayer object at 0x7f9027cf2b90> (prefix:bert_8). Count of weights not found in the checkpoint was: [0]. Count of weights with mismatched shape: [0]\n",
      "Unused weights from checkpoint: \n",
      "\tbert/embeddings/token_type_embeddings\n",
      "\tbert/pooler/dense/bias\n",
      "\tbert/pooler/dense/kernel\n",
      "\tcls/predictions/output_bias\n",
      "\tcls/predictions/transform/LayerNorm/beta\n",
      "\tcls/predictions/transform/LayerNorm/gamma\n",
      "\tcls/predictions/transform/dense/bias\n",
      "\tcls/predictions/transform/dense/kernel\n",
      "\tcls/seq_relationship/output_bias\n",
      "\tcls/seq_relationship/output_weights\n"
     ]
    }
   ],
   "source": [
    "model2 = rater2.build_model(bert_config_file, bert_ckpt_file)"
   ]
  },
  {
   "cell_type": "code",
   "execution_count": 136,
   "metadata": {
    "scrolled": true
   },
   "outputs": [
    {
     "name": "stdout",
     "output_type": "stream",
     "text": [
      "Model: \"model_8\"\n",
      "_________________________________________________________________\n",
      "Layer (type)                 Output Shape              Param #   \n",
      "=================================================================\n",
      "input_9 (InputLayer)         [(None, 100)]             0         \n",
      "_________________________________________________________________\n",
      "bert (BertModelLayer)        (None, 100, 768)          108890112 \n",
      "_________________________________________________________________\n",
      "lambda_8 (Lambda)            (None, 768)               0         \n",
      "_________________________________________________________________\n",
      "dropout_8 (Dropout)          (None, 768)               0         \n",
      "_________________________________________________________________\n",
      "dense_21 (Dense)             (None, 300)               230700    \n",
      "_________________________________________________________________\n",
      "dense_22 (Dense)             (None, 300)               90300     \n",
      "_________________________________________________________________\n",
      "dense_23 (Dense)             (None, 5)                 1505      \n",
      "=================================================================\n",
      "Total params: 109,212,617\n",
      "Trainable params: 109,212,617\n",
      "Non-trainable params: 0\n",
      "_________________________________________________________________\n",
      "None\n",
      "Epoch 1/10\n",
      "388/388 [==============================] - 209s 538ms/step - loss: 1.5322 - acc: 0.3195 - val_loss: 1.5334 - val_acc: 0.3088\n",
      "Epoch 2/10\n",
      "388/388 [==============================] - 206s 532ms/step - loss: 1.5240 - acc: 0.3240 - val_loss: 1.5335 - val_acc: 0.3103\n",
      "Epoch 3/10\n",
      "388/388 [==============================] - 206s 531ms/step - loss: 1.5226 - acc: 0.3294 - val_loss: 1.5381 - val_acc: 0.3073\n",
      "Epoch 4/10\n",
      "388/388 [==============================] - 206s 530ms/step - loss: 1.5185 - acc: 0.3447 - val_loss: 1.5366 - val_acc: 0.2966\n",
      "Epoch 5/10\n",
      "388/388 [==============================] - 207s 533ms/step - loss: 1.5127 - acc: 0.3571 - val_loss: 1.5486 - val_acc: 0.2966\n",
      "Epoch 6/10\n",
      "388/388 [==============================] - 207s 532ms/step - loss: 1.5019 - acc: 0.3790 - val_loss: 1.5573 - val_acc: 0.3073\n",
      "Epoch 7/10\n",
      "388/388 [==============================] - 206s 532ms/step - loss: 1.4778 - acc: 0.4118 - val_loss: 1.5716 - val_acc: 0.3019\n",
      "Epoch 8/10\n",
      "388/388 [==============================] - 207s 533ms/step - loss: 1.4481 - acc: 0.4467 - val_loss: 1.5836 - val_acc: 0.3034\n",
      "Epoch 9/10\n",
      "388/388 [==============================] - 206s 531ms/step - loss: 1.4243 - acc: 0.4717 - val_loss: 1.5828 - val_acc: 0.3103\n",
      "Epoch 10/10\n",
      "388/388 [==============================] - 206s 532ms/step - loss: 1.4069 - acc: 0.4900 - val_loss: 1.5880 - val_acc: 0.3050\n"
     ]
    }
   ],
   "source": [
    "compile_model(rater2, model2)"
   ]
  },
  {
   "cell_type": "code",
   "execution_count": 137,
   "metadata": {
    "scrolled": true
   },
   "outputs": [
    {
     "name": "stdout",
     "output_type": "stream",
     "text": [
      "204/204 [==============================] - 18s 86ms/step - loss: 1.5612 - acc: 0.3301\n"
     ]
    },
    {
     "data": {
      "text/plain": [
       "[1.5611721277236938, 0.3300507664680481]"
      ]
     },
     "execution_count": 137,
     "metadata": {},
     "output_type": "execute_result"
    }
   ],
   "source": [
    "model2.evaluate(rater2.test_x, rater2.test_y)"
   ]
  },
  {
   "cell_type": "code",
   "execution_count": 142,
   "metadata": {
    "scrolled": true
   },
   "outputs": [
    {
     "data": {
      "image/png": "[encoded data removed]",
      "text/plain": [
       "<Figure size 432x288 with 1 Axes>"
      ]
     },
     "metadata": {
      "image/png": {
       "height": 277,
       "width": 401
      },
      "needs_background": "light"
     },
     "output_type": "display_data"
    }
   ],
   "source": [
    "df3 = df.copy(deep=True)\n",
    "df3['stars'] = df3['stars'].apply(lambda x: 0 if int(x) <= 3 else 1)\n",
    "train_sz = int(len(df3) * 0.8)\n",
    "train3 = df3[:train_sz]\n",
    "test3 = df3[train_sz:]\n",
    "chart = sns.countplot(df3['stars'], palette='RdYlGn')\n",
    "plt.title('Number of business per Rating')\n",
    "chart.set_xticklabels(['bad', 'good'], horizontalalignment='center');"
   ]
  },
  {
   "cell_type": "code",
   "execution_count": 143,
   "metadata": {
    "scrolled": true
   },
   "outputs": [
    {
     "name": "stderr",
     "output_type": "stream",
     "text": [
      "26096it [04:46, 90.93it/s] \n",
      "6499it [01:10, 91.69it/s] \n"
     ]
    },
    {
     "name": "stdout",
     "output_type": "stream",
     "text": [
      "<class 'bert.model.BertModelLayer'>\n",
      "Done loading 196 BERT weights from: ../../data/uncased_L-12_H-768_A-12/bert_model.ckpt into <bert.model.BertModelLayer object at 0x7f902cd16bd0> (prefix:bert_10). Count of weights not found in the checkpoint was: [0]. Count of weights with mismatched shape: [0]\n",
      "Unused weights from checkpoint: \n",
      "\tbert/embeddings/token_type_embeddings\n",
      "\tbert/pooler/dense/bias\n",
      "\tbert/pooler/dense/kernel\n",
      "\tcls/predictions/output_bias\n",
      "\tcls/predictions/transform/LayerNorm/beta\n",
      "\tcls/predictions/transform/LayerNorm/gamma\n",
      "\tcls/predictions/transform/dense/bias\n",
      "\tcls/predictions/transform/dense/kernel\n",
      "\tcls/seq_relationship/output_bias\n",
      "\tcls/seq_relationship/output_weights\n"
     ]
    }
   ],
   "source": [
    "rater3 = RateWebsites(train3, test3, tokenizer, max_seq_len=100)"
   ]
  },
  {
   "cell_type": "code",
   "execution_count": 146,
   "metadata": {},
   "outputs": [
    {
     "name": "stdout",
     "output_type": "stream",
     "text": [
      "<class 'bert.model.BertModelLayer'>\n",
      "Done loading 196 BERT weights from: ../../data/uncased_L-12_H-768_A-12/bert_model.ckpt into <bert.model.BertModelLayer object at 0x7f902cf7ecd0> (prefix:bert_11). Count of weights not found in the checkpoint was: [0]. Count of weights with mismatched shape: [0]\n",
      "Unused weights from checkpoint: \n",
      "\tbert/embeddings/token_type_embeddings\n",
      "\tbert/pooler/dense/bias\n",
      "\tbert/pooler/dense/kernel\n",
      "\tcls/predictions/output_bias\n",
      "\tcls/predictions/transform/LayerNorm/beta\n",
      "\tcls/predictions/transform/LayerNorm/gamma\n",
      "\tcls/predictions/transform/dense/bias\n",
      "\tcls/predictions/transform/dense/kernel\n",
      "\tcls/seq_relationship/output_bias\n",
      "\tcls/seq_relationship/output_weights\n"
     ]
    }
   ],
   "source": [
    "model3 = rater3.build_model(bert_config_file, bert_ckpt_file)"
   ]
  },
  {
   "cell_type": "code",
   "execution_count": 147,
   "metadata": {
    "scrolled": false
   },
   "outputs": [
    {
     "name": "stdout",
     "output_type": "stream",
     "text": [
      "Model: \"model_11\"\n",
      "_________________________________________________________________\n",
      "Layer (type)                 Output Shape              Param #   \n",
      "=================================================================\n",
      "input_12 (InputLayer)        [(None, 100)]             0         \n",
      "_________________________________________________________________\n",
      "bert (BertModelLayer)        (None, 100, 768)          108890112 \n",
      "_________________________________________________________________\n",
      "lambda_11 (Lambda)           (None, 768)               0         \n",
      "_________________________________________________________________\n",
      "dropout_11 (Dropout)         (None, 768)               0         \n",
      "_________________________________________________________________\n",
      "dense_30 (Dense)             (None, 300)               230700    \n",
      "_________________________________________________________________\n",
      "dense_31 (Dense)             (None, 300)               90300     \n",
      "_________________________________________________________________\n",
      "dense_32 (Dense)             (None, 2)                 602       \n",
      "=================================================================\n",
      "Total params: 109,211,714\n",
      "Trainable params: 109,211,714\n",
      "Non-trainable params: 0\n",
      "_________________________________________________________________\n",
      "None\n",
      "Epoch 1/10\n"
     ]
    },
    {
     "ename": "ResourceExhaustedError",
     "evalue": "2 root error(s) found.\n  (0) Resource exhausted:  OOM when allocating tensor with shape[64,100,3072] and type float on /job:localhost/replica:0/task:0/device:GPU:0 by allocator GPU_0_bfc\n\t [[node gradient_tape/model_11/bert/encoder/layer_10/intermediate/mul_3/Mul_1 (defined at <ipython-input-126-948f7d0cc2e6>:12) ]]\nHint: If you want to see a list of allocated tensors when OOM happens, add report_tensor_allocations_upon_oom to RunOptions for current allocation info.\n\n\t [[gradient_tape/model_11/bert/embeddings/word_embeddings/embedding_lookup/Reshape/_550]]\nHint: If you want to see a list of allocated tensors when OOM happens, add report_tensor_allocations_upon_oom to RunOptions for current allocation info.\n\n  (1) Resource exhausted:  OOM when allocating tensor with shape[64,100,3072] and type float on /job:localhost/replica:0/task:0/device:GPU:0 by allocator GPU_0_bfc\n\t [[node gradient_tape/model_11/bert/encoder/layer_10/intermediate/mul_3/Mul_1 (defined at <ipython-input-126-948f7d0cc2e6>:12) ]]\nHint: If you want to see a list of allocated tensors when OOM happens, add report_tensor_allocations_upon_oom to RunOptions for current allocation info.\n\n0 successful operations.\n0 derived errors ignored. [Op:__inference_train_function_503620]\n\nErrors may have originated from an input operation.\nInput Source operations connected to node gradient_tape/model_11/bert/encoder/layer_10/intermediate/mul_3/Mul_1:\n model_11/bert/encoder/layer_10/intermediate/BiasAdd (defined at /opt/conda/lib/python3.7/site-packages/bert/transformer.py:179)\n\nInput Source operations connected to node gradient_tape/model_11/bert/encoder/layer_10/intermediate/mul_3/Mul_1:\n model_11/bert/encoder/layer_10/intermediate/BiasAdd (defined at /opt/conda/lib/python3.7/site-packages/bert/transformer.py:179)\n\nFunction call stack:\ntrain_function -> train_function\n",
     "output_type": "error",
     "traceback": [
      "\u001b[0;31m---------------------------------------------------------------------------\u001b[0m",
      "\u001b[0;31mResourceExhaustedError\u001b[0m                    Traceback (most recent call last)",
      "\u001b[0;32m<ipython-input-147-f953467c39a6>\u001b[0m in \u001b[0;36m<module>\u001b[0;34m\u001b[0m\n\u001b[0;32m----> 1\u001b[0;31m \u001b[0mcompile_model\u001b[0m\u001b[0;34m(\u001b[0m\u001b[0mrater3\u001b[0m\u001b[0;34m,\u001b[0m \u001b[0mmodel3\u001b[0m\u001b[0;34m)\u001b[0m\u001b[0;34m\u001b[0m\u001b[0;34m\u001b[0m\u001b[0m\n\u001b[0m",
      "\u001b[0;32m<ipython-input-126-948f7d0cc2e6>\u001b[0m in \u001b[0;36mcompile_model\u001b[0;34m(rater, model)\u001b[0m\n\u001b[1;32m     10\u001b[0m         \u001b[0mbatch_size\u001b[0m\u001b[0;34m=\u001b[0m\u001b[0;36m64\u001b[0m\u001b[0;34m,\u001b[0m\u001b[0;34m\u001b[0m\u001b[0;34m\u001b[0m\u001b[0m\n\u001b[1;32m     11\u001b[0m         \u001b[0mshuffle\u001b[0m\u001b[0;34m=\u001b[0m\u001b[0;32mTrue\u001b[0m\u001b[0;34m,\u001b[0m\u001b[0;34m\u001b[0m\u001b[0;34m\u001b[0m\u001b[0m\n\u001b[0;32m---> 12\u001b[0;31m         \u001b[0mepochs\u001b[0m\u001b[0;34m=\u001b[0m\u001b[0;36m10\u001b[0m\u001b[0;34m\u001b[0m\u001b[0;34m\u001b[0m\u001b[0m\n\u001b[0m\u001b[1;32m     13\u001b[0m     )\n",
      "\u001b[0;32m/opt/conda/lib/python3.7/site-packages/tensorflow/python/keras/engine/training.py\u001b[0m in \u001b[0;36m_method_wrapper\u001b[0;34m(self, *args, **kwargs)\u001b[0m\n\u001b[1;32m     64\u001b[0m   \u001b[0;32mdef\u001b[0m \u001b[0m_method_wrapper\u001b[0m\u001b[0;34m(\u001b[0m\u001b[0mself\u001b[0m\u001b[0;34m,\u001b[0m \u001b[0;34m*\u001b[0m\u001b[0margs\u001b[0m\u001b[0;34m,\u001b[0m \u001b[0;34m**\u001b[0m\u001b[0mkwargs\u001b[0m\u001b[0;34m)\u001b[0m\u001b[0;34m:\u001b[0m\u001b[0;34m\u001b[0m\u001b[0;34m\u001b[0m\u001b[0m\n\u001b[1;32m     65\u001b[0m     \u001b[0;32mif\u001b[0m \u001b[0;32mnot\u001b[0m \u001b[0mself\u001b[0m\u001b[0;34m.\u001b[0m\u001b[0m_in_multi_worker_mode\u001b[0m\u001b[0;34m(\u001b[0m\u001b[0;34m)\u001b[0m\u001b[0;34m:\u001b[0m  \u001b[0;31m# pylint: disable=protected-access\u001b[0m\u001b[0;34m\u001b[0m\u001b[0;34m\u001b[0m\u001b[0m\n\u001b[0;32m---> 66\u001b[0;31m       \u001b[0;32mreturn\u001b[0m \u001b[0mmethod\u001b[0m\u001b[0;34m(\u001b[0m\u001b[0mself\u001b[0m\u001b[0;34m,\u001b[0m \u001b[0;34m*\u001b[0m\u001b[0margs\u001b[0m\u001b[0;34m,\u001b[0m \u001b[0;34m**\u001b[0m\u001b[0mkwargs\u001b[0m\u001b[0;34m)\u001b[0m\u001b[0;34m\u001b[0m\u001b[0;34m\u001b[0m\u001b[0m\n\u001b[0m\u001b[1;32m     67\u001b[0m \u001b[0;34m\u001b[0m\u001b[0m\n\u001b[1;32m     68\u001b[0m     \u001b[0;31m# Running inside `run_distribute_coordinator` already.\u001b[0m\u001b[0;34m\u001b[0m\u001b[0;34m\u001b[0m\u001b[0;34m\u001b[0m\u001b[0m\n",
      "\u001b[0;32m/opt/conda/lib/python3.7/site-packages/tensorflow/python/keras/engine/training.py\u001b[0m in \u001b[0;36mfit\u001b[0;34m(self, x, y, batch_size, epochs, verbose, callbacks, validation_split, validation_data, shuffle, class_weight, sample_weight, initial_epoch, steps_per_epoch, validation_steps, validation_batch_size, validation_freq, max_queue_size, workers, use_multiprocessing)\u001b[0m\n\u001b[1;32m    846\u001b[0m                 batch_size=batch_size):\n\u001b[1;32m    847\u001b[0m               \u001b[0mcallbacks\u001b[0m\u001b[0;34m.\u001b[0m\u001b[0mon_train_batch_begin\u001b[0m\u001b[0;34m(\u001b[0m\u001b[0mstep\u001b[0m\u001b[0;34m)\u001b[0m\u001b[0;34m\u001b[0m\u001b[0;34m\u001b[0m\u001b[0m\n\u001b[0;32m--> 848\u001b[0;31m               \u001b[0mtmp_logs\u001b[0m \u001b[0;34m=\u001b[0m \u001b[0mtrain_function\u001b[0m\u001b[0;34m(\u001b[0m\u001b[0miterator\u001b[0m\u001b[0;34m)\u001b[0m\u001b[0;34m\u001b[0m\u001b[0;34m\u001b[0m\u001b[0m\n\u001b[0m\u001b[1;32m    849\u001b[0m               \u001b[0;31m# Catch OutOfRangeError for Datasets of unknown size.\u001b[0m\u001b[0;34m\u001b[0m\u001b[0;34m\u001b[0m\u001b[0;34m\u001b[0m\u001b[0m\n\u001b[1;32m    850\u001b[0m               \u001b[0;31m# This blocks until the batch has finished executing.\u001b[0m\u001b[0;34m\u001b[0m\u001b[0;34m\u001b[0m\u001b[0;34m\u001b[0m\u001b[0m\n",
      "\u001b[0;32m/opt/conda/lib/python3.7/site-packages/tensorflow/python/eager/def_function.py\u001b[0m in \u001b[0;36m__call__\u001b[0;34m(self, *args, **kwds)\u001b[0m\n\u001b[1;32m    578\u001b[0m         \u001b[0mxla_context\u001b[0m\u001b[0;34m.\u001b[0m\u001b[0mExit\u001b[0m\u001b[0;34m(\u001b[0m\u001b[0;34m)\u001b[0m\u001b[0;34m\u001b[0m\u001b[0;34m\u001b[0m\u001b[0m\n\u001b[1;32m    579\u001b[0m     \u001b[0;32melse\u001b[0m\u001b[0;34m:\u001b[0m\u001b[0;34m\u001b[0m\u001b[0;34m\u001b[0m\u001b[0m\n\u001b[0;32m--> 580\u001b[0;31m       \u001b[0mresult\u001b[0m \u001b[0;34m=\u001b[0m \u001b[0mself\u001b[0m\u001b[0;34m.\u001b[0m\u001b[0m_call\u001b[0m\u001b[0;34m(\u001b[0m\u001b[0;34m*\u001b[0m\u001b[0margs\u001b[0m\u001b[0;34m,\u001b[0m \u001b[0;34m**\u001b[0m\u001b[0mkwds\u001b[0m\u001b[0;34m)\u001b[0m\u001b[0;34m\u001b[0m\u001b[0;34m\u001b[0m\u001b[0m\n\u001b[0m\u001b[1;32m    581\u001b[0m \u001b[0;34m\u001b[0m\u001b[0m\n\u001b[1;32m    582\u001b[0m     \u001b[0;32mif\u001b[0m \u001b[0mtracing_count\u001b[0m \u001b[0;34m==\u001b[0m \u001b[0mself\u001b[0m\u001b[0;34m.\u001b[0m\u001b[0m_get_tracing_count\u001b[0m\u001b[0;34m(\u001b[0m\u001b[0;34m)\u001b[0m\u001b[0;34m:\u001b[0m\u001b[0;34m\u001b[0m\u001b[0;34m\u001b[0m\u001b[0m\n",
      "\u001b[0;32m/opt/conda/lib/python3.7/site-packages/tensorflow/python/eager/def_function.py\u001b[0m in \u001b[0;36m_call\u001b[0;34m(self, *args, **kwds)\u001b[0m\n\u001b[1;32m    642\u001b[0m         \u001b[0;31m# Lifting succeeded, so variables are initialized and we can run the\u001b[0m\u001b[0;34m\u001b[0m\u001b[0;34m\u001b[0m\u001b[0;34m\u001b[0m\u001b[0m\n\u001b[1;32m    643\u001b[0m         \u001b[0;31m# stateless function.\u001b[0m\u001b[0;34m\u001b[0m\u001b[0;34m\u001b[0m\u001b[0;34m\u001b[0m\u001b[0m\n\u001b[0;32m--> 644\u001b[0;31m         \u001b[0;32mreturn\u001b[0m \u001b[0mself\u001b[0m\u001b[0;34m.\u001b[0m\u001b[0m_stateless_fn\u001b[0m\u001b[0;34m(\u001b[0m\u001b[0;34m*\u001b[0m\u001b[0margs\u001b[0m\u001b[0;34m,\u001b[0m \u001b[0;34m**\u001b[0m\u001b[0mkwds\u001b[0m\u001b[0;34m)\u001b[0m\u001b[0;34m\u001b[0m\u001b[0;34m\u001b[0m\u001b[0m\n\u001b[0m\u001b[1;32m    645\u001b[0m     \u001b[0;32melse\u001b[0m\u001b[0;34m:\u001b[0m\u001b[0;34m\u001b[0m\u001b[0;34m\u001b[0m\u001b[0m\n\u001b[1;32m    646\u001b[0m       \u001b[0mcanon_args\u001b[0m\u001b[0;34m,\u001b[0m \u001b[0mcanon_kwds\u001b[0m \u001b[0;34m=\u001b[0m\u001b[0;31m \u001b[0m\u001b[0;31m\\\u001b[0m\u001b[0;34m\u001b[0m\u001b[0;34m\u001b[0m\u001b[0m\n",
      "\u001b[0;32m/opt/conda/lib/python3.7/site-packages/tensorflow/python/eager/function.py\u001b[0m in \u001b[0;36m__call__\u001b[0;34m(self, *args, **kwargs)\u001b[0m\n\u001b[1;32m   2418\u001b[0m     \u001b[0;32mwith\u001b[0m \u001b[0mself\u001b[0m\u001b[0;34m.\u001b[0m\u001b[0m_lock\u001b[0m\u001b[0;34m:\u001b[0m\u001b[0;34m\u001b[0m\u001b[0;34m\u001b[0m\u001b[0m\n\u001b[1;32m   2419\u001b[0m       \u001b[0mgraph_function\u001b[0m\u001b[0;34m,\u001b[0m \u001b[0margs\u001b[0m\u001b[0;34m,\u001b[0m \u001b[0mkwargs\u001b[0m \u001b[0;34m=\u001b[0m \u001b[0mself\u001b[0m\u001b[0;34m.\u001b[0m\u001b[0m_maybe_define_function\u001b[0m\u001b[0;34m(\u001b[0m\u001b[0margs\u001b[0m\u001b[0;34m,\u001b[0m \u001b[0mkwargs\u001b[0m\u001b[0;34m)\u001b[0m\u001b[0;34m\u001b[0m\u001b[0;34m\u001b[0m\u001b[0m\n\u001b[0;32m-> 2420\u001b[0;31m     \u001b[0;32mreturn\u001b[0m \u001b[0mgraph_function\u001b[0m\u001b[0;34m.\u001b[0m\u001b[0m_filtered_call\u001b[0m\u001b[0;34m(\u001b[0m\u001b[0margs\u001b[0m\u001b[0;34m,\u001b[0m \u001b[0mkwargs\u001b[0m\u001b[0;34m)\u001b[0m  \u001b[0;31m# pylint: disable=protected-access\u001b[0m\u001b[0;34m\u001b[0m\u001b[0;34m\u001b[0m\u001b[0m\n\u001b[0m\u001b[1;32m   2421\u001b[0m \u001b[0;34m\u001b[0m\u001b[0m\n\u001b[1;32m   2422\u001b[0m   \u001b[0;34m@\u001b[0m\u001b[0mproperty\u001b[0m\u001b[0;34m\u001b[0m\u001b[0;34m\u001b[0m\u001b[0m\n",
      "\u001b[0;32m/opt/conda/lib/python3.7/site-packages/tensorflow/python/eager/function.py\u001b[0m in \u001b[0;36m_filtered_call\u001b[0;34m(self, args, kwargs)\u001b[0m\n\u001b[1;32m   1663\u001b[0m          if isinstance(t, (ops.Tensor,\n\u001b[1;32m   1664\u001b[0m                            resource_variable_ops.BaseResourceVariable))),\n\u001b[0;32m-> 1665\u001b[0;31m         self.captured_inputs)\n\u001b[0m\u001b[1;32m   1666\u001b[0m \u001b[0;34m\u001b[0m\u001b[0m\n\u001b[1;32m   1667\u001b[0m   \u001b[0;32mdef\u001b[0m \u001b[0m_call_flat\u001b[0m\u001b[0;34m(\u001b[0m\u001b[0mself\u001b[0m\u001b[0;34m,\u001b[0m \u001b[0margs\u001b[0m\u001b[0;34m,\u001b[0m \u001b[0mcaptured_inputs\u001b[0m\u001b[0;34m,\u001b[0m \u001b[0mcancellation_manager\u001b[0m\u001b[0;34m=\u001b[0m\u001b[0;32mNone\u001b[0m\u001b[0;34m)\u001b[0m\u001b[0;34m:\u001b[0m\u001b[0;34m\u001b[0m\u001b[0;34m\u001b[0m\u001b[0m\n",
      "\u001b[0;32m/opt/conda/lib/python3.7/site-packages/tensorflow/python/eager/function.py\u001b[0m in \u001b[0;36m_call_flat\u001b[0;34m(self, args, captured_inputs, cancellation_manager)\u001b[0m\n\u001b[1;32m   1744\u001b[0m       \u001b[0;31m# No tape is watching; skip to running the function.\u001b[0m\u001b[0;34m\u001b[0m\u001b[0;34m\u001b[0m\u001b[0;34m\u001b[0m\u001b[0m\n\u001b[1;32m   1745\u001b[0m       return self._build_call_outputs(self._inference_function.call(\n\u001b[0;32m-> 1746\u001b[0;31m           ctx, args, cancellation_manager=cancellation_manager))\n\u001b[0m\u001b[1;32m   1747\u001b[0m     forward_backward = self._select_forward_and_backward_functions(\n\u001b[1;32m   1748\u001b[0m         \u001b[0margs\u001b[0m\u001b[0;34m,\u001b[0m\u001b[0;34m\u001b[0m\u001b[0;34m\u001b[0m\u001b[0m\n",
      "\u001b[0;32m/opt/conda/lib/python3.7/site-packages/tensorflow/python/eager/function.py\u001b[0m in \u001b[0;36mcall\u001b[0;34m(self, ctx, args, cancellation_manager)\u001b[0m\n\u001b[1;32m    596\u001b[0m               \u001b[0minputs\u001b[0m\u001b[0;34m=\u001b[0m\u001b[0margs\u001b[0m\u001b[0;34m,\u001b[0m\u001b[0;34m\u001b[0m\u001b[0;34m\u001b[0m\u001b[0m\n\u001b[1;32m    597\u001b[0m               \u001b[0mattrs\u001b[0m\u001b[0;34m=\u001b[0m\u001b[0mattrs\u001b[0m\u001b[0;34m,\u001b[0m\u001b[0;34m\u001b[0m\u001b[0;34m\u001b[0m\u001b[0m\n\u001b[0;32m--> 598\u001b[0;31m               ctx=ctx)\n\u001b[0m\u001b[1;32m    599\u001b[0m         \u001b[0;32melse\u001b[0m\u001b[0;34m:\u001b[0m\u001b[0;34m\u001b[0m\u001b[0;34m\u001b[0m\u001b[0m\n\u001b[1;32m    600\u001b[0m           outputs = execute.execute_with_cancellation(\n",
      "\u001b[0;32m/opt/conda/lib/python3.7/site-packages/tensorflow/python/eager/execute.py\u001b[0m in \u001b[0;36mquick_execute\u001b[0;34m(op_name, num_outputs, inputs, attrs, ctx, name)\u001b[0m\n\u001b[1;32m     58\u001b[0m     \u001b[0mctx\u001b[0m\u001b[0;34m.\u001b[0m\u001b[0mensure_initialized\u001b[0m\u001b[0;34m(\u001b[0m\u001b[0;34m)\u001b[0m\u001b[0;34m\u001b[0m\u001b[0;34m\u001b[0m\u001b[0m\n\u001b[1;32m     59\u001b[0m     tensors = pywrap_tfe.TFE_Py_Execute(ctx._handle, device_name, op_name,\n\u001b[0;32m---> 60\u001b[0;31m                                         inputs, attrs, num_outputs)\n\u001b[0m\u001b[1;32m     61\u001b[0m   \u001b[0;32mexcept\u001b[0m \u001b[0mcore\u001b[0m\u001b[0;34m.\u001b[0m\u001b[0m_NotOkStatusException\u001b[0m \u001b[0;32mas\u001b[0m \u001b[0me\u001b[0m\u001b[0;34m:\u001b[0m\u001b[0;34m\u001b[0m\u001b[0;34m\u001b[0m\u001b[0m\n\u001b[1;32m     62\u001b[0m     \u001b[0;32mif\u001b[0m \u001b[0mname\u001b[0m \u001b[0;32mis\u001b[0m \u001b[0;32mnot\u001b[0m \u001b[0;32mNone\u001b[0m\u001b[0;34m:\u001b[0m\u001b[0;34m\u001b[0m\u001b[0;34m\u001b[0m\u001b[0m\n",
      "\u001b[0;31mResourceExhaustedError\u001b[0m: 2 root error(s) found.\n  (0) Resource exhausted:  OOM when allocating tensor with shape[64,100,3072] and type float on /job:localhost/replica:0/task:0/device:GPU:0 by allocator GPU_0_bfc\n\t [[node gradient_tape/model_11/bert/encoder/layer_10/intermediate/mul_3/Mul_1 (defined at <ipython-input-126-948f7d0cc2e6>:12) ]]\nHint: If you want to see a list of allocated tensors when OOM happens, add report_tensor_allocations_upon_oom to RunOptions for current allocation info.\n\n\t [[gradient_tape/model_11/bert/embeddings/word_embeddings/embedding_lookup/Reshape/_550]]\nHint: If you want to see a list of allocated tensors when OOM happens, add report_tensor_allocations_upon_oom to RunOptions for current allocation info.\n\n  (1) Resource exhausted:  OOM when allocating tensor with shape[64,100,3072] and type float on /job:localhost/replica:0/task:0/device:GPU:0 by allocator GPU_0_bfc\n\t [[node gradient_tape/model_11/bert/encoder/layer_10/intermediate/mul_3/Mul_1 (defined at <ipython-input-126-948f7d0cc2e6>:12) ]]\nHint: If you want to see a list of allocated tensors when OOM happens, add report_tensor_allocations_upon_oom to RunOptions for current allocation info.\n\n0 successful operations.\n0 derived errors ignored. [Op:__inference_train_function_503620]\n\nErrors may have originated from an input operation.\nInput Source operations connected to node gradient_tape/model_11/bert/encoder/layer_10/intermediate/mul_3/Mul_1:\n model_11/bert/encoder/layer_10/intermediate/BiasAdd (defined at /opt/conda/lib/python3.7/site-packages/bert/transformer.py:179)\n\nInput Source operations connected to node gradient_tape/model_11/bert/encoder/layer_10/intermediate/mul_3/Mul_1:\n model_11/bert/encoder/layer_10/intermediate/BiasAdd (defined at /opt/conda/lib/python3.7/site-packages/bert/transformer.py:179)\n\nFunction call stack:\ntrain_function -> train_function\n"
     ]
    }
   ],
   "source": [
    "compile_model(rater3, model3)"
   ]
  },
  {
   "cell_type": "code",
   "execution_count": null,
   "metadata": {},
   "outputs": [],
   "source": []
  }
 ],
 "metadata": {
  "kernelspec": {
   "display_name": "Python 3",
   "language": "python",
   "name": "python3"
  },
  "language_info": {
   "codemirror_mode": {
    "name": "ipython",
    "version": 3
   },
   "file_extension": ".py",
   "mimetype": "text/x-python",
   "name": "python",
   "nbconvert_exporter": "python",
   "pygments_lexer": "ipython3",
   "version": "3.7.6"
  }
 },
 "nbformat": 4,
 "nbformat_minor": 4
}
