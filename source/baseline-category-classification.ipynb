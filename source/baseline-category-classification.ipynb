{
 "cells": [
  {
   "cell_type": "code",
   "execution_count": 1,
   "metadata": {},
   "outputs": [],
   "source": [
    "import sys\n",
    "import os\n",
    "import math\n",
    "import datetime\n",
    "from tqdm import tqdm\n",
    "import pandas as pd\n",
    "import numpy as np\n",
    "\n",
    "import tensorflow as tf\n",
    "from tensorflow import keras\n",
    "\n",
    "from bs4 import BeautifulSoup\n",
    "from bs4.element import Comment\n",
    "import re\n",
    "from langdetect import detect_langs\n",
    "import nltk\n",
    "from nltk.corpus import stopwords\n",
    "\n",
    "from bert import BertModelLayer\n",
    "from bert.loader import StockBertConfig, map_stock_config_to_params, load_stock_weights\n",
    "from bert.tokenization.bert_tokenization import FullTokenizer\n",
    "\n",
    "import seaborn as sns\n",
    "import matplotlib.pyplot as plt\n",
    "\n",
    "from sklearn.metrics import classification_report\n",
    "\n",
    "%matplotlib inline\n",
    "%config InlineBackend.figure_format='retina'\n",
    "\n",
    "try:\n",
    "    nltk.data.find('tokenizers/punkt')\n",
    "except LookupError:\n",
    "    nltk.download('punkt')\n",
    "    if sys.version_info > (3.0):\n",
    "        os.system('python3 -m nltk.downloader stopwords')\n",
    "    else:\n",
    "        os.system('pyhton -m nltk.downloader.stopwords')\n",
    "        \n",
    "%matplotlib inline\n",
    "FOLDER_PATH = '/home/vahidsanei_google_com/'"
   ]
  },
  {
   "cell_type": "code",
   "execution_count": 2,
   "metadata": {},
   "outputs": [
    {
     "name": "stdout",
     "output_type": "stream",
     "text": [
      "/opt/conda/lib/python3.7/runpy.py:125: RuntimeWarning: 'nltk.downloader' found in sys.modules after import of package 'nltk', but prior to execution of 'nltk.downloader'; this may result in unpredictable behaviour\n",
      "  warn(RuntimeWarning(msg))\n",
      "[nltk_data] Downloading package stopwords to\n",
      "[nltk_data]     /home/vahidsanei_google_com/nltk_data...\n",
      "[nltk_data]   Package stopwords is already up-to-date!\n"
     ]
    }
   ],
   "source": [
    "!python -m nltk.downloader stopwords"
   ]
  },
  {
   "cell_type": "code",
   "execution_count": 3,
   "metadata": {
    "scrolled": true
   },
   "outputs": [
    {
     "data": {
      "text/html": [
       "<div>\n",
       "<style scoped>\n",
       "    .dataframe tbody tr th:only-of-type {\n",
       "        vertical-align: middle;\n",
       "    }\n",
       "\n",
       "    .dataframe tbody tr th {\n",
       "        vertical-align: top;\n",
       "    }\n",
       "\n",
       "    .dataframe thead th {\n",
       "        text-align: right;\n",
       "    }\n",
       "</style>\n",
       "<table border=\"1\" class=\"dataframe\">\n",
       "  <thead>\n",
       "    <tr style=\"text-align: right;\">\n",
       "      <th></th>\n",
       "      <th>Unnamed: 0</th>\n",
       "      <th>business_id</th>\n",
       "      <th>name</th>\n",
       "      <th>address</th>\n",
       "      <th>city</th>\n",
       "      <th>state</th>\n",
       "      <th>postal_code</th>\n",
       "      <th>latitude</th>\n",
       "      <th>longitude</th>\n",
       "      <th>stars</th>\n",
       "      <th>review_count</th>\n",
       "      <th>is_open</th>\n",
       "      <th>attributes</th>\n",
       "      <th>categories</th>\n",
       "      <th>hours</th>\n",
       "      <th>url</th>\n",
       "      <th>webpage_text</th>\n",
       "      <th>is_eng</th>\n",
       "      <th>webpage_corpus</th>\n",
       "    </tr>\n",
       "  </thead>\n",
       "  <tbody>\n",
       "    <tr>\n",
       "      <th>0</th>\n",
       "      <td>0</td>\n",
       "      <td>f9NumwFMBDn751xgFiRbNA</td>\n",
       "      <td>The Range At Lake Norman</td>\n",
       "      <td>10913 Bailey Rd</td>\n",
       "      <td>Cornelius</td>\n",
       "      <td>NC</td>\n",
       "      <td>28031</td>\n",
       "      <td>35.462724</td>\n",
       "      <td>-80.852612</td>\n",
       "      <td>3.5</td>\n",
       "      <td>36</td>\n",
       "      <td>1</td>\n",
       "      <td>{'BusinessAcceptsCreditCards': 'True', 'BikePa...</td>\n",
       "      <td>Active Life, Gun/Rifle Ranges, Guns &amp; Ammo, Sh...</td>\n",
       "      <td>{'Monday': '10:0-18:0', 'Tuesday': '11:0-20:0'...</td>\n",
       "      <td>http://www.therangeatlakenorman.com/</td>\n",
       "      <td>&lt;html lang=\"en-US\"&gt;&lt;head&gt;\\n\\t&lt;meta charset=\"UT...</td>\n",
       "      <td>True</td>\n",
       "      <td>Shooting Ranges Gun Rental Charlotte NC The Ra...</td>\n",
       "    </tr>\n",
       "    <tr>\n",
       "      <th>1</th>\n",
       "      <td>1</td>\n",
       "      <td>XNoUzKckATkOD1hP6vghZg</td>\n",
       "      <td>Felinus</td>\n",
       "      <td>3554 Rue Notre-Dame O</td>\n",
       "      <td>Montreal</td>\n",
       "      <td>QC</td>\n",
       "      <td>H4C 1P4</td>\n",
       "      <td>45.479984</td>\n",
       "      <td>-73.580070</td>\n",
       "      <td>5.0</td>\n",
       "      <td>5</td>\n",
       "      <td>1</td>\n",
       "      <td>NaN</td>\n",
       "      <td>Pets, Pet Services, Pet Groomers</td>\n",
       "      <td>NaN</td>\n",
       "      <td>http://www.felinus.ca</td>\n",
       "      <td>&lt;html xmlns=\"http://www.w3.org/1999/xhtml\" xml...</td>\n",
       "      <td>False</td>\n",
       "      <td>NaN</td>\n",
       "    </tr>\n",
       "    <tr>\n",
       "      <th>2</th>\n",
       "      <td>2</td>\n",
       "      <td>51M2Kk903DFYI6gnB5I6SQ</td>\n",
       "      <td>USE MY GUY SERVICES LLC</td>\n",
       "      <td>4827 E Downing Cir</td>\n",
       "      <td>Mesa</td>\n",
       "      <td>AZ</td>\n",
       "      <td>85205</td>\n",
       "      <td>33.428065</td>\n",
       "      <td>-111.726648</td>\n",
       "      <td>4.5</td>\n",
       "      <td>26</td>\n",
       "      <td>1</td>\n",
       "      <td>{'BusinessAcceptsCreditCards': 'True', 'ByAppo...</td>\n",
       "      <td>Home Services, Plumbing, Electricians, Handyma...</td>\n",
       "      <td>{'Monday': '0:0-0:0', 'Tuesday': '9:0-16:0', '...</td>\n",
       "      <td>https://www.usemyguyservices.com</td>\n",
       "      <td>&lt;html lang=\"en-US\" prefix=\"og: http://ogp.me/n...</td>\n",
       "      <td>True</td>\n",
       "      <td>Home Renovations and Repairs Phoenix AZ Home U...</td>\n",
       "    </tr>\n",
       "    <tr>\n",
       "      <th>3</th>\n",
       "      <td>3</td>\n",
       "      <td>cKyLV5oWZJ2NudWgqs8VZw</td>\n",
       "      <td>Oasis Auto Center - Gilbert</td>\n",
       "      <td>1720 W Elliot Rd, Ste 105</td>\n",
       "      <td>Gilbert</td>\n",
       "      <td>AZ</td>\n",
       "      <td>85233</td>\n",
       "      <td>33.350399</td>\n",
       "      <td>-111.827142</td>\n",
       "      <td>4.5</td>\n",
       "      <td>38</td>\n",
       "      <td>1</td>\n",
       "      <td>{'BusinessAcceptsCreditCards': 'True'}</td>\n",
       "      <td>Auto Repair, Automotive, Oil Change Stations, ...</td>\n",
       "      <td>{'Monday': '7:0-18:0', 'Tuesday': '7:0-18:0', ...</td>\n",
       "      <td>http://oasisautocenter.net</td>\n",
       "      <td>&lt;html lang=\"en-US\" prefix=\"og: http://ogp.me/n...</td>\n",
       "      <td>False</td>\n",
       "      <td>NaN</td>\n",
       "    </tr>\n",
       "    <tr>\n",
       "      <th>4</th>\n",
       "      <td>4</td>\n",
       "      <td>pQeaRpvuhoEqudo3uymHIQ</td>\n",
       "      <td>The Empanadas House</td>\n",
       "      <td>404 E Green St</td>\n",
       "      <td>Champaign</td>\n",
       "      <td>IL</td>\n",
       "      <td>61820</td>\n",
       "      <td>40.110446</td>\n",
       "      <td>-88.233073</td>\n",
       "      <td>4.5</td>\n",
       "      <td>5</td>\n",
       "      <td>1</td>\n",
       "      <td>{'RestaurantsAttire': \"u'casual'\", 'Restaurant...</td>\n",
       "      <td>Ethnic Food, Food Trucks, Specialty Food, Impo...</td>\n",
       "      <td>{'Monday': '11:30-14:30', 'Tuesday': '11:30-14...</td>\n",
       "      <td>http://www.theempanadashouse.com</td>\n",
       "      <td>&lt;html&gt;&lt;head&gt;\\n&lt;title&gt;Website Disabled&lt;/title&gt;\\...</td>\n",
       "      <td>True</td>\n",
       "      <td>Website Disabled Sorry the site you requested ...</td>\n",
       "    </tr>\n",
       "  </tbody>\n",
       "</table>\n",
       "</div>"
      ],
      "text/plain": [
       "   Unnamed: 0             business_id                         name  \\\n",
       "0           0  f9NumwFMBDn751xgFiRbNA     The Range At Lake Norman   \n",
       "1           1  XNoUzKckATkOD1hP6vghZg                      Felinus   \n",
       "2           2  51M2Kk903DFYI6gnB5I6SQ      USE MY GUY SERVICES LLC   \n",
       "3           3  cKyLV5oWZJ2NudWgqs8VZw  Oasis Auto Center - Gilbert   \n",
       "4           4  pQeaRpvuhoEqudo3uymHIQ          The Empanadas House   \n",
       "\n",
       "                     address       city state postal_code   latitude  \\\n",
       "0            10913 Bailey Rd  Cornelius    NC       28031  35.462724   \n",
       "1      3554 Rue Notre-Dame O   Montreal    QC     H4C 1P4  45.479984   \n",
       "2         4827 E Downing Cir       Mesa    AZ       85205  33.428065   \n",
       "3  1720 W Elliot Rd, Ste 105    Gilbert    AZ       85233  33.350399   \n",
       "4             404 E Green St  Champaign    IL       61820  40.110446   \n",
       "\n",
       "    longitude  stars  review_count  is_open  \\\n",
       "0  -80.852612    3.5            36        1   \n",
       "1  -73.580070    5.0             5        1   \n",
       "2 -111.726648    4.5            26        1   \n",
       "3 -111.827142    4.5            38        1   \n",
       "4  -88.233073    4.5             5        1   \n",
       "\n",
       "                                          attributes  \\\n",
       "0  {'BusinessAcceptsCreditCards': 'True', 'BikePa...   \n",
       "1                                                NaN   \n",
       "2  {'BusinessAcceptsCreditCards': 'True', 'ByAppo...   \n",
       "3             {'BusinessAcceptsCreditCards': 'True'}   \n",
       "4  {'RestaurantsAttire': \"u'casual'\", 'Restaurant...   \n",
       "\n",
       "                                          categories  \\\n",
       "0  Active Life, Gun/Rifle Ranges, Guns & Ammo, Sh...   \n",
       "1                   Pets, Pet Services, Pet Groomers   \n",
       "2  Home Services, Plumbing, Electricians, Handyma...   \n",
       "3  Auto Repair, Automotive, Oil Change Stations, ...   \n",
       "4  Ethnic Food, Food Trucks, Specialty Food, Impo...   \n",
       "\n",
       "                                               hours  \\\n",
       "0  {'Monday': '10:0-18:0', 'Tuesday': '11:0-20:0'...   \n",
       "1                                                NaN   \n",
       "2  {'Monday': '0:0-0:0', 'Tuesday': '9:0-16:0', '...   \n",
       "3  {'Monday': '7:0-18:0', 'Tuesday': '7:0-18:0', ...   \n",
       "4  {'Monday': '11:30-14:30', 'Tuesday': '11:30-14...   \n",
       "\n",
       "                                    url  \\\n",
       "0  http://www.therangeatlakenorman.com/   \n",
       "1                 http://www.felinus.ca   \n",
       "2      https://www.usemyguyservices.com   \n",
       "3            http://oasisautocenter.net   \n",
       "4      http://www.theempanadashouse.com   \n",
       "\n",
       "                                        webpage_text  is_eng  \\\n",
       "0  <html lang=\"en-US\"><head>\\n\\t<meta charset=\"UT...    True   \n",
       "1  <html xmlns=\"http://www.w3.org/1999/xhtml\" xml...   False   \n",
       "2  <html lang=\"en-US\" prefix=\"og: http://ogp.me/n...    True   \n",
       "3  <html lang=\"en-US\" prefix=\"og: http://ogp.me/n...   False   \n",
       "4  <html><head>\\n<title>Website Disabled</title>\\...    True   \n",
       "\n",
       "                                      webpage_corpus  \n",
       "0  Shooting Ranges Gun Rental Charlotte NC The Ra...  \n",
       "1                                                NaN  \n",
       "2  Home Renovations and Repairs Phoenix AZ Home U...  \n",
       "3                                                NaN  \n",
       "4  Website Disabled Sorry the site you requested ...  "
      ]
     },
     "execution_count": 3,
     "metadata": {},
     "output_type": "execute_result"
    }
   ],
   "source": [
    "df = pd.read_csv(os.path.join(FOLDER_PATH, 'data', 'yelp_data', 'updated', 'business_with_corpus.csv'))\n",
    "df.head()"
   ]
  },
  {
   "cell_type": "code",
   "execution_count": 4,
   "metadata": {},
   "outputs": [
    {
     "data": {
      "text/plain": [
       "Index(['Unnamed: 0', 'business_id', 'name', 'address', 'city', 'state',\n",
       "       'postal_code', 'latitude', 'longitude', 'stars', 'review_count',\n",
       "       'is_open', 'attributes', 'categories', 'hours', 'url', 'webpage_text',\n",
       "       'is_eng', 'webpage_corpus'],\n",
       "      dtype='object')"
      ]
     },
     "execution_count": 4,
     "metadata": {},
     "output_type": "execute_result"
    }
   ],
   "source": [
    "df.columns"
   ]
  },
  {
   "cell_type": "code",
   "execution_count": 5,
   "metadata": {
    "scrolled": true
   },
   "outputs": [
    {
     "name": "stdout",
     "output_type": "stream",
     "text": [
      "<class 'pandas.core.frame.DataFrame'>\n",
      "Int64Index: 5104 entries, 0 to 5106\n",
      "Data columns (total 19 columns):\n",
      " #   Column          Non-Null Count  Dtype  \n",
      "---  ------          --------------  -----  \n",
      " 0   Unnamed: 0      5104 non-null   int64  \n",
      " 1   business_id     5104 non-null   object \n",
      " 2   name            5104 non-null   object \n",
      " 3   address         4860 non-null   object \n",
      " 4   city            5104 non-null   object \n",
      " 5   state           5104 non-null   object \n",
      " 6   postal_code     5098 non-null   object \n",
      " 7   latitude        5104 non-null   float64\n",
      " 8   longitude       5104 non-null   float64\n",
      " 9   stars           5104 non-null   float64\n",
      " 10  review_count    5104 non-null   int64  \n",
      " 11  is_open         5104 non-null   int64  \n",
      " 12  attributes      4398 non-null   object \n",
      " 13  categories      5104 non-null   object \n",
      " 14  hours           4336 non-null   object \n",
      " 15  url             5104 non-null   object \n",
      " 16  webpage_text    5104 non-null   object \n",
      " 17  is_eng          5104 non-null   bool   \n",
      " 18  webpage_corpus  3198 non-null   object \n",
      "dtypes: bool(1), float64(3), int64(3), object(12)\n",
      "memory usage: 762.6+ KB\n"
     ]
    }
   ],
   "source": [
    "df = df[df['categories'].notnull()]\n",
    "df.info()"
   ]
  },
  {
   "cell_type": "code",
   "execution_count": 6,
   "metadata": {},
   "outputs": [],
   "source": [
    "df['categories'] = df['categories'].apply(lambda x: re.split('[,;&]', x))"
   ]
  },
  {
   "cell_type": "code",
   "execution_count": 7,
   "metadata": {
    "scrolled": true
   },
   "outputs": [
    {
     "name": "stderr",
     "output_type": "stream",
     "text": [
      "/opt/conda/lib/python3.7/site-packages/ipykernel_launcher.py:15: MatplotlibDeprecationWarning: Using a string of single character colors as a color sequence is deprecated. Use an explicit list instead.\n",
      "  from ipykernel import kernelapp as app\n"
     ]
    },
    {
     "data": {
      "image/png": "[encoded data removed]",
      "text/plain": [
       "<Figure size 432x288 with 1 Axes>"
      ]
     },
     "metadata": {
      "image/png": {
       "height": 284,
       "width": 381
      },
      "needs_background": "light"
     },
     "output_type": "display_data"
    }
   ],
   "source": [
    "Categories={}\n",
    "\n",
    "for x in df.categories:\n",
    "    for cls in x:\n",
    "        cls = cls.strip()\n",
    "        if len(cls) < 2: continue\n",
    "        if cls not in Categories: Categories[cls]=1\n",
    "        else: Categories[cls]+=1\n",
    "\n",
    "All_categories=list(Categories.keys())\n",
    "classes=[[x,Categories[x]] for x in All_categories]\n",
    "classes=sorted(classes, key=lambda x: x[1], reverse=True)\n",
    "all_classes = classes\n",
    "classes=classes[:10]\n",
    "plt.bar(range(len(classes)),[x[1] for x in classes] ,align='center', color='rgybk')\n",
    "plt.xticks(range(len(classes)), [x[0] for x in classes], rotation=30);"
   ]
  },
  {
   "cell_type": "code",
   "execution_count": 8,
   "metadata": {},
   "outputs": [],
   "source": [
    "all_classes=sorted(all_classes, key=lambda x: x[1], reverse=True)"
   ]
  },
  {
   "cell_type": "code",
   "execution_count": null,
   "metadata": {},
   "outputs": [],
   "source": [
    "map_classes = {\n",
    "                'Restaurants': 'Food', 'Food': 'Food', 'Frozen Yogurt': 'Food', 'Pizza': 'Food', 'Bars': 'Food', 'Coffee': 'Food',\n",
    "                'Cafes': 'Food', 'Fast Food': 'Food', 'Bakeries': 'Food', 'Tea' : 'Food', 'Breakfast': 'Food',\n",
    "                'Wine': 'Food', 'Sandwiches': 'Food', 'Burgers': 'Food', 'Brunch': 'Food', 'Breakfast': 'Food', 'Desserts': 'Food',\n",
    "                'Vegetarian': 'Food', 'Vegan': 'Food', \n",
    "\n",
    "                'Health': 'Health', 'Dentists': 'Health', 'Doctors': 'Health', 'Medical Centers': 'Health', 'Drugstores': 'Health',\n",
    "\n",
    "                'Local Services': 'Local Services', 'Car Dealers': 'Local Services', 'Professional Services': 'Local Services', \n",
    "                'Home Services': 'Local Services','Garden': 'Local Services', 'Real Estate': 'Local Services',\n",
    "                'Auto Repair': 'Local Services', 'Pet Services': 'Local Services', 'Home Cleaning': 'Local Services', \n",
    "                'Public Services': 'Local Services', 'Home Decor': 'Local Services', \n",
    "                'Automotive': 'Local Services', 'Pets': 'Local Services',\n",
    "    \n",
    "                'Hair Salons': 'Fashion', 'Nail Salons': 'Fashion', 'Beauty': 'Fashion', 'Hair Salons': 'Fashion', 'Makeup Artists': 'Fashion',\n",
    "                'Hair Removal': 'Fashion', 'Massage': 'Fashion', 'Barbers': 'Fashion', 'Beauty Supply': 'Fashion',\n",
    "                \n",
    "                'Entertainment': 'Entertainment', 'Event Planning': 'Entertainment', 'Golf': 'Entertainment',\n",
    "                'Active Life': 'Entertainment', 'Nightlife': 'Entertainment',\n",
    "\n",
    "                'Hotels': 'Travel', 'Travel': 'Travel',\n",
    "    \n",
    "                'Jewelry': 'Fashion', 'Shopping': 'Fashion', 'Hobby Shops': 'Fashion', \n",
    "\n",
    "                'Fitness': 'Fitness', 'Sporting Goods': 'Fitness', 'Gyms': 'Fitness', 'Sports Bars': 'Fitness', \n",
    "    \n",
    "                'Churches': 'Religious','Religious Organizations': 'Religious',\n",
    "    \n",
    "                'Education': 'Education',\n",
    "    \n",
    "                'Banks': 'Financial Services', 'Financial Services': 'Financial Services',\n",
    "        }"
   ]
  },
  {
   "cell_type": "code",
   "execution_count": null,
   "metadata": {},
   "outputs": [],
   "source": [
    "map_classes = {\n",
    "                'Restaurants': 'Food', 'Food': 'Food', 'Frozen Yogurt': 'Food', 'Pizza': 'Food', 'Bars': 'Food', 'Coffee': 'Food',\n",
    "                'Cafes': 'Food', 'Fast Food': 'Food', 'Bakeries': 'Food', 'Tea' : 'Food', 'Breakfast': 'Food',\n",
    "                'Wine': 'Food', 'Sandwiches': 'Food', 'Burgers': 'Food', 'Brunch': 'Food', 'Breakfast': 'Food', 'Desserts': 'Food',\n",
    "                'Vegetarian': 'Food', 'Vegan': 'Food', \n",
    "\n",
    "                'Health': 'nonFood', 'Dentists': 'nonFood', 'Doctors': 'nonFood', 'Medical Centers': 'nonFood', 'Drugstores': 'nonFood',\n",
    "                'Local Services': 'nonFood', \n",
    "\n",
    "                'Local Services': 'nonFood', 'Car Dealers': 'nonFood', 'Professional Services': 'nonFood', \n",
    "                'Home Services': 'nonFood','Garden': 'nonFood', 'Real Estate': 'nonFood',\n",
    "                'Auto Repair': 'nonFood', 'Pet Services': 'nonFood', 'Home Cleaning': 'nonFood', \n",
    "                'Public Services': 'nonFood', 'Home Decor': 'nonFood', 'Automotive': 'nonFood', 'Pets': 'nonFood',\n",
    "    \n",
    "                'Hair Salons': 'nonFood', 'Nail Salons': 'nonFood', 'Beauty': 'nonFood', 'Hair Salons': 'nonFood', 'Makeup Artists': 'nonFood',\n",
    "                'Hair Removal': 'nonFood', 'Massage': 'nonFood', 'Barbers': 'nonFood', 'Beauty Supply': 'nonFood',\n",
    "                \n",
    "                'Entertainment': 'nonFood', 'Event Planning': 'nonFood', 'Golf': 'nonFood',\n",
    "                'Active Life': 'nonFood', 'Nightlife': 'nonFood',\n",
    "\n",
    "                'Hotels': 'nonFood', 'Travel': 'nonFood',\n",
    "    \n",
    "                'Jewelry': 'nonFood', 'Shopping': 'nonFood', 'Hobby Shops': 'nonFood', \n",
    "\n",
    "                'Fitness': 'nonFood', 'Sporting Goods': 'nonFood', 'Gyms': 'nonFood', 'Sports Bars': 'nonFood', \n",
    "            \n",
    "                'Banks': 'nonFood', 'Financial Services': 'nonFood',\n",
    "    \n",
    "                'Mass Media': 'nonFood', 'Churches' : 'nonFood', 'Education': 'nonFood'\n",
    "        }"
   ]
  },
  {
   "cell_type": "code",
   "execution_count": 9,
   "metadata": {},
   "outputs": [],
   "source": [
    "map_classes = {\n",
    "                'Restaurants': 'Food', 'Food': 'Food', 'Frozen Yogurt': 'Food', 'Pizza': 'Food', 'Bars': 'Food', 'Coffee': 'Food',\n",
    "                'Cafes': 'Food', 'Fast Food': 'Food', 'Bakeries': 'Food', 'Tea' : 'Food', 'Breakfast': 'Food',\n",
    "                'Wine': 'Food', 'Sandwiches': 'Food', 'Burgers': 'Food', 'Brunch': 'Food', 'Breakfast': 'Food', 'Desserts': 'Food',\n",
    "                'Vegetarian': 'Food', 'Vegan': 'Food', \n",
    "\n",
    "                'Health': 'Health', 'Dentists': 'Health', 'Doctors': 'Health', 'Medical Centers': 'Health', 'Drugstores': 'Health',\n",
    "                'Local Services': 'Health', \n",
    "\n",
    "                'Local Services': 'Local Services', 'Car Dealers': 'Local Services', 'Professional Services': 'Local Services', \n",
    "                'Home Services': 'Local Services','Garden': 'Local Services', 'Real Estate': 'Local Services',\n",
    "                'Auto Repair': 'Local Services', 'Pet Services': 'Local Services', 'Home Cleaning': 'Local Services', \n",
    "                'Public Services': 'Local Services', 'Home Decor': 'Local Services', \n",
    "                'Automotive': 'Local Services', 'Pets': 'Local Services',\n",
    "    \n",
    "                'Hair Salons': 'Local Services', 'Nail Salons': 'Local Services', 'Beauty': 'Local Services', 'Hair Salons': 'Local Services', 'Makeup Artists': 'Local Services',\n",
    "                'Hair Removal': 'Local Services', 'Massage': 'Local Services', 'Barbers': 'Local Services', 'Beauty Supply': 'Local Services',\n",
    "                \n",
    "                'Entertainment': 'Entertainment', 'Event Planning': 'Entertainment', 'Golf': 'Entertainment',\n",
    "                'Active Life': 'Entertainment', 'Nightlife': 'Entertainment',\n",
    "\n",
    "                'Hotels': 'Entertainment', 'Travel': 'Entertainment',\n",
    "    \n",
    "                'Jewelry': 'Entertainment', 'Shopping': 'Entertainment', 'Hobby Shops': 'Entertainment', \n",
    "\n",
    "                'Fitness': 'Entertainment', 'Sporting Goods': 'Entertainment', 'Gyms': 'Entertainment', 'Sports Bars': 'Entertainment', \n",
    "            \n",
    "                'Banks': 'Financial Services', 'Financial Services': 'Financial Services',\n",
    "    \n",
    "                'Mass Media': 'Entertainment'\n",
    "        }"
   ]
  },
  {
   "cell_type": "code",
   "execution_count": 10,
   "metadata": {
    "scrolled": false
   },
   "outputs": [
    {
     "name": "stdout",
     "output_type": "stream",
     "text": [
      "50\n"
     ]
    }
   ],
   "source": [
    "cat = {}\n",
    "bad = []\n",
    "for x in df.categories:\n",
    "    flg = False\n",
    "    for cls in x:\n",
    "        cls = cls.strip()\n",
    "        if not cls in map_classes: continue\n",
    "        flg = True\n",
    "        mapped_cls = map_classes[cls]\n",
    "        if mapped_cls not in cat: cat[mapped_cls]=1\n",
    "        else: cat[mapped_cls]+=1\n",
    "    if flg is False:\n",
    "        bad.append(x)\n",
    "        \n",
    "print(len(bad))\n",
    "#bad[:100]"
   ]
  },
  {
   "cell_type": "code",
   "execution_count": 11,
   "metadata": {},
   "outputs": [
    {
     "data": {
      "text/plain": [
       "{'Entertainment', 'Financial Services', 'Food', 'Health', 'Local Services'}"
      ]
     },
     "execution_count": 11,
     "metadata": {},
     "output_type": "execute_result"
    }
   ],
   "source": [
    "classes_set = set(map_classes.values())\n",
    "classes_set"
   ]
  },
  {
   "cell_type": "code",
   "execution_count": 12,
   "metadata": {},
   "outputs": [],
   "source": [
    "test = []\n",
    "val = 0\n",
    "for arr in df['categories']:\n",
    "    test.append(None)\n",
    "    for x in arr:\n",
    "        cls = x.strip()\n",
    "        if not cls in map_classes:\n",
    "            continue\n",
    "        val += 1\n",
    "        test[-1] = map_classes[cls]\n",
    "        break"
   ]
  },
  {
   "cell_type": "code",
   "execution_count": 13,
   "metadata": {},
   "outputs": [],
   "source": [
    "df['categories'] = test\n",
    "df = df[df['categories'].notnull()]"
   ]
  },
  {
   "cell_type": "code",
   "execution_count": 14,
   "metadata": {
    "scrolled": true
   },
   "outputs": [
    {
     "data": {
      "image/png": "[encoded data removed]",
      "text/plain": [
       "<Figure size 432x288 with 1 Axes>"
      ]
     },
     "metadata": {
      "image/png": {
       "height": 357,
       "width": 395
      },
      "needs_background": "light"
     },
     "output_type": "display_data"
    }
   ],
   "source": [
    "chart = sns.countplot(df['categories'], palette='hls')\n",
    "plt.title('Number of business per Category')\n",
    "chart.set_xticklabels(chart.get_xticklabels(), horizontalalignment='center', rotation=90);"
   ]
  },
  {
   "cell_type": "code",
   "execution_count": 15,
   "metadata": {},
   "outputs": [
    {
     "name": "stdout",
     "output_type": "stream",
     "text": [
      "<class 'pandas.core.frame.DataFrame'>\n",
      "Int64Index: 5054 entries, 0 to 5106\n",
      "Data columns (total 19 columns):\n",
      " #   Column          Non-Null Count  Dtype  \n",
      "---  ------          --------------  -----  \n",
      " 0   Unnamed: 0      5054 non-null   int64  \n",
      " 1   business_id     5054 non-null   object \n",
      " 2   name            5054 non-null   object \n",
      " 3   address         4810 non-null   object \n",
      " 4   city            5054 non-null   object \n",
      " 5   state           5054 non-null   object \n",
      " 6   postal_code     5048 non-null   object \n",
      " 7   latitude        5054 non-null   float64\n",
      " 8   longitude       5054 non-null   float64\n",
      " 9   stars           5054 non-null   float64\n",
      " 10  review_count    5054 non-null   int64  \n",
      " 11  is_open         5054 non-null   int64  \n",
      " 12  attributes      4387 non-null   object \n",
      " 13  categories      5054 non-null   object \n",
      " 14  hours           4306 non-null   object \n",
      " 15  url             5054 non-null   object \n",
      " 16  webpage_text    5054 non-null   object \n",
      " 17  is_eng          5054 non-null   bool   \n",
      " 18  webpage_corpus  3159 non-null   object \n",
      "dtypes: bool(1), float64(3), int64(3), object(12)\n",
      "memory usage: 915.1+ KB\n"
     ]
    }
   ],
   "source": [
    "df.info()"
   ]
  },
  {
   "cell_type": "code",
   "execution_count": 16,
   "metadata": {
    "scrolled": true
   },
   "outputs": [
    {
     "name": "stdout",
     "output_type": "stream",
     "text": [
      "['this', 'is', 'an', 'open', '-', 'source', 'project', 'for', 'category', 'detection', 'of', 'businesses', 'based', 'on', 'their', 'website', 'contents', '!']\n",
      "[2023, 2003, 2019, 2330, 1011, 3120, 2622, 2005, 4696, 10788, 1997, 5661, 2241, 2006, 2037, 4037, 8417, 999]\n"
     ]
    }
   ],
   "source": [
    "folder_path = os.path.join(FOLDER_PATH, 'data','uncased_L-12_H-768_A-12')\n",
    "tokenizer = FullTokenizer(vocab_file=os.path.join(folder_path, 'vocab.txt'))\n",
    "\n",
    "bert_ckpt_file = os.path.join(folder_path, 'bert_model.ckpt')\n",
    "bert_config_file = os.path.join(folder_path, 'bert_config.json')\n",
    "\n",
    "tokens_test = tokenizer.tokenize('This is an open-source project for category detection of businesses based on their website contents!')\n",
    "print(tokens_test)\n",
    "print(tokenizer.convert_tokens_to_ids(tokens_test))"
   ]
  },
  {
   "cell_type": "code",
   "execution_count": 17,
   "metadata": {},
   "outputs": [],
   "source": [
    "def flatten_layers(root_layer):\n",
    "    if isinstance(root_layer, keras.layers.Layer):\n",
    "        yield root_layer\n",
    "    for layer in root_layer._layers:\n",
    "        for sub_layer in flatten_layers(layer):\n",
    "            yield sub_layer\n",
    "\n",
    "def freeze_bert_layers(l_bert):\n",
    "    \"\"\"\n",
    "    Freezes all but LayerNorm and adapter layers - see arXiv:1902.00751.\n",
    "    \"\"\"\n",
    "    for layer in flatten_layers(l_bert):\n",
    "        if layer.name in [\"LayerNorm\", \"adapter-down\", \"adapter-up\"]:\n",
    "            layer.trainable = True\n",
    "        elif len(layer._layers) == 0:\n",
    "            layer.trainable = False\n",
    "        l_bert.embeddings_layer.trainable = False"
   ]
  },
  {
   "cell_type": "code",
   "execution_count": 18,
   "metadata": {},
   "outputs": [],
   "source": [
    "class categoryDetection:    \n",
    "    def __init__(self, train, test, tokenizer: FullTokenizer, text_colname=None, label_colname=None, max_seq_len=128):\n",
    "        \"\"\"  \n",
    "        \"\"\"\n",
    "        self.text_colname = 'webpage_corpus' if text_colname is None else text_colname\n",
    "        if not self.text_colname in train.columns or not self.text_colname in test.columns:\n",
    "            print('Error: Please specify a proper column name in the input dataframe as the corpus.')\n",
    "            return\n",
    "        \n",
    "        self.label_colname = 'categories' if label_colname is None else label_colname\n",
    "        if not self.label_colname in train.columns or not self.label_colname in test.columns:\n",
    "            print('Error: Please specify a proper column name in the input dataframe as the labels.')\n",
    "            return\n",
    "        \n",
    "        self.classes = train[self.label_colname].unique().tolist()\n",
    "        self.classes.sort()\n",
    "        \n",
    "        train = train.dropna(subset=[self.text_colname])\n",
    "        test = test.dropna(subset=[self.text_colname])\n",
    "        \n",
    "        self.max_seq_len = 0\n",
    "        self.tokenizer = tokenizer\n",
    "        (self.train_x, self.train_y), (self.test_x, self.test_y) = map(self._tokanize, [train, test])\n",
    "        self.max_seq_len = min(self.max_seq_len, max_seq_len)\n",
    "        self.train_x, self.test_x = map(self._cut_with_padding, [self.train_x, self.test_x])\n",
    "    \n",
    "    def build_model(self, bert_config_file, bert_ckpt_file, dropout=0.5, adapter_size=64):\n",
    "        \"\"\"\n",
    "        \"\"\"\n",
    "        bert = self._load_bert(bert_config_file, bert_ckpt_file, adapter_size)\n",
    "        input_ = keras.layers.Input(shape=(self.max_seq_len, ), dtype='int64', name=\"input_ids\")\n",
    "        x = bert(input_)\n",
    "        #get the first embedding from the output of BERT\n",
    "        x = keras.layers.Lambda(lambda seq: seq[:,0,:])(x)\n",
    "        \n",
    "        x = keras.layers.Dropout(dropout)(x)\n",
    "        x = keras.layers.Dense(800, activation='relu')(x)\n",
    "        #x = keras.layers.Dense(300, activation='relu')(x)\n",
    "        output_ = keras.layers.Dense(units=len(self.classes), activation='softmax')(x)\n",
    "        \n",
    "        model = keras.Model(inputs=input_, outputs=output_)\n",
    "        model.build(input_shape=(None, self.max_seq_len))\n",
    "        \n",
    "        load_stock_weights(bert, bert_ckpt_file)\n",
    "        \n",
    "        if adapter_size is not None:\n",
    "            freeze_bert_layers(bert)\n",
    " \n",
    "        return model\n",
    "    \n",
    "    def _load_bert(self, bert_config_file, bert_ckpt_file, adapter_size):\n",
    "        try:\n",
    "            with tf.io.gfile.GFile(bert_config_file, 'r') as gf:\n",
    "                bert_config = StockBertConfig.from_json_string(gf.read())\n",
    "                bert_params = map_stock_config_to_params(bert_config)\n",
    "                bert_params.adapter_size = adapter_size\n",
    "                bert = BertModelLayer.from_params(bert_params, name='bert')\n",
    "                return bert\n",
    "        except Exception as e:\n",
    "            print(e)\n",
    "    \n",
    "    def _tokanize(self, df):\n",
    "        \"\"\"\n",
    "        \"\"\"\n",
    "        X, y = [], []\n",
    "        all_tokens = []\n",
    "        for _, entry in tqdm(df.iterrows()):\n",
    "            corpus, label = entry[self.text_colname], entry[self.label_colname]\n",
    "            tokens = self.tokenizer.tokenize(corpus)\n",
    "            tokens = self._clean_tokens(tokens)\n",
    "            tokens = ['[CLS]'] + tokens + ['[SEP]']\n",
    "            L = 0\n",
    "            for x in tokens:\n",
    "                if '#' in x: continue\n",
    "                L += 1\n",
    "            L -= 2\n",
    "            if L <= 50:\n",
    "            #    print(tokens)\n",
    "                continue\n",
    "            all_tokens.append(tokens)\n",
    "            ids = self.tokenizer.convert_tokens_to_ids(tokens)\n",
    "            self.max_seq_len = max(self.max_seq_len, len(ids))\n",
    "            X.append(ids)\n",
    "            y.append(self.classes.index(label))\n",
    "            \n",
    "        print('{}%'.format(len(X) / len(df) * 100.0))\n",
    "        all_tokens = sorted(all_tokens, key=lambda x: len(x))\n",
    "        #print(all_tokens[:20])\n",
    "        \n",
    "        return np.asarray(X), np.asarray(y)\n",
    "    \n",
    "    \n",
    "    def _clean_tokens(self, tokens):\n",
    "        # STOPS = set(stopwords.words('english'))\n",
    "        clean_tokens = []\n",
    "        for token in tokens:\n",
    "            if any(map(str.isdigit, token)): \n",
    "                continue\n",
    "            clean_tokens.append(token)\n",
    "        return clean_tokens\n",
    "    def _cut_with_padding(self, ids):\n",
    "        \"\"\"\n",
    "        \"\"\"\n",
    "        X = []\n",
    "        CLS_id = self.tokenizer.convert_tokens_to_ids(['[CLS]'])\n",
    "        SEP_id = self.tokenizer.convert_tokens_to_ids(['[SEP]'])\n",
    "        for token_id in ids:\n",
    "            # ignore tokens '[CLS]' and '[SEP]' for now\n",
    "            arr = token_id[1:-1]\n",
    "            sz = min(len(arr), self.max_seq_len - 2)\n",
    "            arr = CLS_id + arr[:sz] + SEP_id\n",
    "            # pad the remaining cells with zero\n",
    "            arr = arr + [0] * (self.max_seq_len - len(arr))\n",
    "            X.append(np.asarray(arr))\n",
    "        return np.asarray(X)"
   ]
  },
  {
   "cell_type": "code",
   "execution_count": 19,
   "metadata": {},
   "outputs": [],
   "source": [
    "def compile_model(cat:categoryDetection, model, validation_split=0.05, batch_size=16, n_epochs=30, shuffle=True):\n",
    "    #log_dir = \"/home/wliang_google_com/Documents/workspace/notebook/.log/website_rating/\" + datetime.datetime.now().strftime(\"%Y%m%d-%H%M%s\")\n",
    "    #tensorboard_callback = keras.callbacks.TensorBoard(log_dir=log_dir)\n",
    "\n",
    "    model.compile(optimizer=keras.optimizers.Adam(1e-5),\n",
    "              loss=keras.losses.SparseCategoricalCrossentropy(from_logits=True),\n",
    "              metrics=[keras.metrics.SparseCategoricalAccuracy(name='acc')])\n",
    "    print(model.summary())\n",
    "    # early_stopping = tf.keras.callbacks.EarlyStopping(monitor='loss', patience=5)\n",
    "    history = model.fit(\n",
    "        x=cat.train_x,\n",
    "        y=cat.train_y,\n",
    "        validation_split=validation_split,\n",
    "        batch_size=batch_size,\n",
    "        shuffle=shuffle,\n",
    "        verbose=1,\n",
    "        epochs=n_epochs,\n",
    "        #callbacks=[tensorboard_callback],\n",
    "    )"
   ]
  },
  {
   "cell_type": "code",
   "execution_count": 20,
   "metadata": {},
   "outputs": [
    {
     "data": {
      "text/plain": [
       "0    Shooting Ranges Gun Rental Charlotte NC The Ra...\n",
       "1                                                  NaN\n",
       "2    Home Renovations and Repairs Phoenix AZ Home U...\n",
       "3                                                  NaN\n",
       "4    Website Disabled Sorry the site you requested ...\n",
       "5    1 Choice for Fitness MMA in Etobicoke GTA 4165...\n",
       "6                                                  NaN\n",
       "7    Chocolate Shoppe Ice Cream Skip to main conten...\n",
       "8    Home Convertabath Menu Home Remodeling TruSton...\n",
       "9    Not Found Not Found HTTP Error 404 The request...\n",
       "Name: webpage_corpus, dtype: object"
      ]
     },
     "execution_count": 20,
     "metadata": {},
     "output_type": "execute_result"
    }
   ],
   "source": [
    "df['webpage_corpus'][:10]"
   ]
  },
  {
   "cell_type": "code",
   "execution_count": 21,
   "metadata": {},
   "outputs": [],
   "source": [
    "split_sz = int(len(df) * 0.8)\n",
    "train = df[:split_sz]\n",
    "test = df[split_sz:]"
   ]
  },
  {
   "cell_type": "code",
   "execution_count": 22,
   "metadata": {
    "scrolled": false
   },
   "outputs": [
    {
     "name": "stderr",
     "output_type": "stream",
     "text": [
      "2527it [00:31, 79.54it/s] \n",
      "4it [00:00, 38.38it/s]"
     ]
    },
    {
     "name": "stdout",
     "output_type": "stream",
     "text": [
      "89.39453897902652%\n"
     ]
    },
    {
     "name": "stderr",
     "output_type": "stream",
     "text": [
      "632it [00:08, 76.30it/s] \n"
     ]
    },
    {
     "name": "stdout",
     "output_type": "stream",
     "text": [
      "87.9746835443038%\n"
     ]
    }
   ],
   "source": [
    "cat = categoryDetection(train, test, tokenizer, max_seq_len=256)"
   ]
  },
  {
   "cell_type": "code",
   "execution_count": 23,
   "metadata": {},
   "outputs": [
    {
     "name": "stdout",
     "output_type": "stream",
     "text": [
      "loader: No value for:[bert/encoder/layer_0/attention/output/adapter-down/kernel:0], i.e.:[bert/encoder/layer_0/attention/output/adapter-down/kernel] in:[/home/vahidsanei_google_com/data/uncased_L-12_H-768_A-12/bert_model.ckpt]\n",
      "loader: No value for:[bert/encoder/layer_0/attention/output/adapter-down/bias:0], i.e.:[bert/encoder/layer_0/attention/output/adapter-down/bias] in:[/home/vahidsanei_google_com/data/uncased_L-12_H-768_A-12/bert_model.ckpt]\n",
      "loader: No value for:[bert/encoder/layer_0/attention/output/adapter-up/kernel:0], i.e.:[bert/encoder/layer_0/attention/output/adapter-up/kernel] in:[/home/vahidsanei_google_com/data/uncased_L-12_H-768_A-12/bert_model.ckpt]\n",
      "loader: No value for:[bert/encoder/layer_0/attention/output/adapter-up/bias:0], i.e.:[bert/encoder/layer_0/attention/output/adapter-up/bias] in:[/home/vahidsanei_google_com/data/uncased_L-12_H-768_A-12/bert_model.ckpt]\n",
      "loader: No value for:[bert/encoder/layer_0/output/adapter-down/kernel:0], i.e.:[bert/encoder/layer_0/output/adapter-down/kernel] in:[/home/vahidsanei_google_com/data/uncased_L-12_H-768_A-12/bert_model.ckpt]\n",
      "loader: No value for:[bert/encoder/layer_0/output/adapter-down/bias:0], i.e.:[bert/encoder/layer_0/output/adapter-down/bias] in:[/home/vahidsanei_google_com/data/uncased_L-12_H-768_A-12/bert_model.ckpt]\n",
      "loader: No value for:[bert/encoder/layer_0/output/adapter-up/kernel:0], i.e.:[bert/encoder/layer_0/output/adapter-up/kernel] in:[/home/vahidsanei_google_com/data/uncased_L-12_H-768_A-12/bert_model.ckpt]\n",
      "loader: No value for:[bert/encoder/layer_0/output/adapter-up/bias:0], i.e.:[bert/encoder/layer_0/output/adapter-up/bias] in:[/home/vahidsanei_google_com/data/uncased_L-12_H-768_A-12/bert_model.ckpt]\n",
      "loader: No value for:[bert/encoder/layer_1/attention/output/adapter-down/kernel:0], i.e.:[bert/encoder/layer_1/attention/output/adapter-down/kernel] in:[/home/vahidsanei_google_com/data/uncased_L-12_H-768_A-12/bert_model.ckpt]\n",
      "loader: No value for:[bert/encoder/layer_1/attention/output/adapter-down/bias:0], i.e.:[bert/encoder/layer_1/attention/output/adapter-down/bias] in:[/home/vahidsanei_google_com/data/uncased_L-12_H-768_A-12/bert_model.ckpt]\n",
      "loader: No value for:[bert/encoder/layer_1/attention/output/adapter-up/kernel:0], i.e.:[bert/encoder/layer_1/attention/output/adapter-up/kernel] in:[/home/vahidsanei_google_com/data/uncased_L-12_H-768_A-12/bert_model.ckpt]\n",
      "loader: No value for:[bert/encoder/layer_1/attention/output/adapter-up/bias:0], i.e.:[bert/encoder/layer_1/attention/output/adapter-up/bias] in:[/home/vahidsanei_google_com/data/uncased_L-12_H-768_A-12/bert_model.ckpt]\n",
      "loader: No value for:[bert/encoder/layer_1/output/adapter-down/kernel:0], i.e.:[bert/encoder/layer_1/output/adapter-down/kernel] in:[/home/vahidsanei_google_com/data/uncased_L-12_H-768_A-12/bert_model.ckpt]\n",
      "loader: No value for:[bert/encoder/layer_1/output/adapter-down/bias:0], i.e.:[bert/encoder/layer_1/output/adapter-down/bias] in:[/home/vahidsanei_google_com/data/uncased_L-12_H-768_A-12/bert_model.ckpt]\n",
      "loader: No value for:[bert/encoder/layer_1/output/adapter-up/kernel:0], i.e.:[bert/encoder/layer_1/output/adapter-up/kernel] in:[/home/vahidsanei_google_com/data/uncased_L-12_H-768_A-12/bert_model.ckpt]\n",
      "loader: No value for:[bert/encoder/layer_1/output/adapter-up/bias:0], i.e.:[bert/encoder/layer_1/output/adapter-up/bias] in:[/home/vahidsanei_google_com/data/uncased_L-12_H-768_A-12/bert_model.ckpt]\n",
      "loader: No value for:[bert/encoder/layer_2/attention/output/adapter-down/kernel:0], i.e.:[bert/encoder/layer_2/attention/output/adapter-down/kernel] in:[/home/vahidsanei_google_com/data/uncased_L-12_H-768_A-12/bert_model.ckpt]\n",
      "loader: No value for:[bert/encoder/layer_2/attention/output/adapter-down/bias:0], i.e.:[bert/encoder/layer_2/attention/output/adapter-down/bias] in:[/home/vahidsanei_google_com/data/uncased_L-12_H-768_A-12/bert_model.ckpt]\n",
      "loader: No value for:[bert/encoder/layer_2/attention/output/adapter-up/kernel:0], i.e.:[bert/encoder/layer_2/attention/output/adapter-up/kernel] in:[/home/vahidsanei_google_com/data/uncased_L-12_H-768_A-12/bert_model.ckpt]\n",
      "loader: No value for:[bert/encoder/layer_2/attention/output/adapter-up/bias:0], i.e.:[bert/encoder/layer_2/attention/output/adapter-up/bias] in:[/home/vahidsanei_google_com/data/uncased_L-12_H-768_A-12/bert_model.ckpt]\n",
      "loader: No value for:[bert/encoder/layer_2/output/adapter-down/kernel:0], i.e.:[bert/encoder/layer_2/output/adapter-down/kernel] in:[/home/vahidsanei_google_com/data/uncased_L-12_H-768_A-12/bert_model.ckpt]\n",
      "loader: No value for:[bert/encoder/layer_2/output/adapter-down/bias:0], i.e.:[bert/encoder/layer_2/output/adapter-down/bias] in:[/home/vahidsanei_google_com/data/uncased_L-12_H-768_A-12/bert_model.ckpt]\n",
      "loader: No value for:[bert/encoder/layer_2/output/adapter-up/kernel:0], i.e.:[bert/encoder/layer_2/output/adapter-up/kernel] in:[/home/vahidsanei_google_com/data/uncased_L-12_H-768_A-12/bert_model.ckpt]\n",
      "loader: No value for:[bert/encoder/layer_2/output/adapter-up/bias:0], i.e.:[bert/encoder/layer_2/output/adapter-up/bias] in:[/home/vahidsanei_google_com/data/uncased_L-12_H-768_A-12/bert_model.ckpt]\n",
      "loader: No value for:[bert/encoder/layer_3/attention/output/adapter-down/kernel:0], i.e.:[bert/encoder/layer_3/attention/output/adapter-down/kernel] in:[/home/vahidsanei_google_com/data/uncased_L-12_H-768_A-12/bert_model.ckpt]\n",
      "loader: No value for:[bert/encoder/layer_3/attention/output/adapter-down/bias:0], i.e.:[bert/encoder/layer_3/attention/output/adapter-down/bias] in:[/home/vahidsanei_google_com/data/uncased_L-12_H-768_A-12/bert_model.ckpt]\n",
      "loader: No value for:[bert/encoder/layer_3/attention/output/adapter-up/kernel:0], i.e.:[bert/encoder/layer_3/attention/output/adapter-up/kernel] in:[/home/vahidsanei_google_com/data/uncased_L-12_H-768_A-12/bert_model.ckpt]\n",
      "loader: No value for:[bert/encoder/layer_3/attention/output/adapter-up/bias:0], i.e.:[bert/encoder/layer_3/attention/output/adapter-up/bias] in:[/home/vahidsanei_google_com/data/uncased_L-12_H-768_A-12/bert_model.ckpt]\n",
      "loader: No value for:[bert/encoder/layer_3/output/adapter-down/kernel:0], i.e.:[bert/encoder/layer_3/output/adapter-down/kernel] in:[/home/vahidsanei_google_com/data/uncased_L-12_H-768_A-12/bert_model.ckpt]\n",
      "loader: No value for:[bert/encoder/layer_3/output/adapter-down/bias:0], i.e.:[bert/encoder/layer_3/output/adapter-down/bias] in:[/home/vahidsanei_google_com/data/uncased_L-12_H-768_A-12/bert_model.ckpt]\n",
      "loader: No value for:[bert/encoder/layer_3/output/adapter-up/kernel:0], i.e.:[bert/encoder/layer_3/output/adapter-up/kernel] in:[/home/vahidsanei_google_com/data/uncased_L-12_H-768_A-12/bert_model.ckpt]\n",
      "loader: No value for:[bert/encoder/layer_3/output/adapter-up/bias:0], i.e.:[bert/encoder/layer_3/output/adapter-up/bias] in:[/home/vahidsanei_google_com/data/uncased_L-12_H-768_A-12/bert_model.ckpt]\n",
      "loader: No value for:[bert/encoder/layer_4/attention/output/adapter-down/kernel:0], i.e.:[bert/encoder/layer_4/attention/output/adapter-down/kernel] in:[/home/vahidsanei_google_com/data/uncased_L-12_H-768_A-12/bert_model.ckpt]\n",
      "loader: No value for:[bert/encoder/layer_4/attention/output/adapter-down/bias:0], i.e.:[bert/encoder/layer_4/attention/output/adapter-down/bias] in:[/home/vahidsanei_google_com/data/uncased_L-12_H-768_A-12/bert_model.ckpt]\n",
      "loader: No value for:[bert/encoder/layer_4/attention/output/adapter-up/kernel:0], i.e.:[bert/encoder/layer_4/attention/output/adapter-up/kernel] in:[/home/vahidsanei_google_com/data/uncased_L-12_H-768_A-12/bert_model.ckpt]\n",
      "loader: No value for:[bert/encoder/layer_4/attention/output/adapter-up/bias:0], i.e.:[bert/encoder/layer_4/attention/output/adapter-up/bias] in:[/home/vahidsanei_google_com/data/uncased_L-12_H-768_A-12/bert_model.ckpt]\n",
      "loader: No value for:[bert/encoder/layer_4/output/adapter-down/kernel:0], i.e.:[bert/encoder/layer_4/output/adapter-down/kernel] in:[/home/vahidsanei_google_com/data/uncased_L-12_H-768_A-12/bert_model.ckpt]\n",
      "loader: No value for:[bert/encoder/layer_4/output/adapter-down/bias:0], i.e.:[bert/encoder/layer_4/output/adapter-down/bias] in:[/home/vahidsanei_google_com/data/uncased_L-12_H-768_A-12/bert_model.ckpt]\n",
      "loader: No value for:[bert/encoder/layer_4/output/adapter-up/kernel:0], i.e.:[bert/encoder/layer_4/output/adapter-up/kernel] in:[/home/vahidsanei_google_com/data/uncased_L-12_H-768_A-12/bert_model.ckpt]\n",
      "loader: No value for:[bert/encoder/layer_4/output/adapter-up/bias:0], i.e.:[bert/encoder/layer_4/output/adapter-up/bias] in:[/home/vahidsanei_google_com/data/uncased_L-12_H-768_A-12/bert_model.ckpt]\n",
      "loader: No value for:[bert/encoder/layer_5/attention/output/adapter-down/kernel:0], i.e.:[bert/encoder/layer_5/attention/output/adapter-down/kernel] in:[/home/vahidsanei_google_com/data/uncased_L-12_H-768_A-12/bert_model.ckpt]\n",
      "loader: No value for:[bert/encoder/layer_5/attention/output/adapter-down/bias:0], i.e.:[bert/encoder/layer_5/attention/output/adapter-down/bias] in:[/home/vahidsanei_google_com/data/uncased_L-12_H-768_A-12/bert_model.ckpt]\n",
      "loader: No value for:[bert/encoder/layer_5/attention/output/adapter-up/kernel:0], i.e.:[bert/encoder/layer_5/attention/output/adapter-up/kernel] in:[/home/vahidsanei_google_com/data/uncased_L-12_H-768_A-12/bert_model.ckpt]\n",
      "loader: No value for:[bert/encoder/layer_5/attention/output/adapter-up/bias:0], i.e.:[bert/encoder/layer_5/attention/output/adapter-up/bias] in:[/home/vahidsanei_google_com/data/uncased_L-12_H-768_A-12/bert_model.ckpt]\n",
      "loader: No value for:[bert/encoder/layer_5/output/adapter-down/kernel:0], i.e.:[bert/encoder/layer_5/output/adapter-down/kernel] in:[/home/vahidsanei_google_com/data/uncased_L-12_H-768_A-12/bert_model.ckpt]\n",
      "loader: No value for:[bert/encoder/layer_5/output/adapter-down/bias:0], i.e.:[bert/encoder/layer_5/output/adapter-down/bias] in:[/home/vahidsanei_google_com/data/uncased_L-12_H-768_A-12/bert_model.ckpt]\n",
      "loader: No value for:[bert/encoder/layer_5/output/adapter-up/kernel:0], i.e.:[bert/encoder/layer_5/output/adapter-up/kernel] in:[/home/vahidsanei_google_com/data/uncased_L-12_H-768_A-12/bert_model.ckpt]\n",
      "loader: No value for:[bert/encoder/layer_5/output/adapter-up/bias:0], i.e.:[bert/encoder/layer_5/output/adapter-up/bias] in:[/home/vahidsanei_google_com/data/uncased_L-12_H-768_A-12/bert_model.ckpt]\n",
      "loader: No value for:[bert/encoder/layer_6/attention/output/adapter-down/kernel:0], i.e.:[bert/encoder/layer_6/attention/output/adapter-down/kernel] in:[/home/vahidsanei_google_com/data/uncased_L-12_H-768_A-12/bert_model.ckpt]\n",
      "loader: No value for:[bert/encoder/layer_6/attention/output/adapter-down/bias:0], i.e.:[bert/encoder/layer_6/attention/output/adapter-down/bias] in:[/home/vahidsanei_google_com/data/uncased_L-12_H-768_A-12/bert_model.ckpt]\n",
      "loader: No value for:[bert/encoder/layer_6/attention/output/adapter-up/kernel:0], i.e.:[bert/encoder/layer_6/attention/output/adapter-up/kernel] in:[/home/vahidsanei_google_com/data/uncased_L-12_H-768_A-12/bert_model.ckpt]\n",
      "loader: No value for:[bert/encoder/layer_6/attention/output/adapter-up/bias:0], i.e.:[bert/encoder/layer_6/attention/output/adapter-up/bias] in:[/home/vahidsanei_google_com/data/uncased_L-12_H-768_A-12/bert_model.ckpt]\n",
      "loader: No value for:[bert/encoder/layer_6/output/adapter-down/kernel:0], i.e.:[bert/encoder/layer_6/output/adapter-down/kernel] in:[/home/vahidsanei_google_com/data/uncased_L-12_H-768_A-12/bert_model.ckpt]\n",
      "loader: No value for:[bert/encoder/layer_6/output/adapter-down/bias:0], i.e.:[bert/encoder/layer_6/output/adapter-down/bias] in:[/home/vahidsanei_google_com/data/uncased_L-12_H-768_A-12/bert_model.ckpt]\n",
      "loader: No value for:[bert/encoder/layer_6/output/adapter-up/kernel:0], i.e.:[bert/encoder/layer_6/output/adapter-up/kernel] in:[/home/vahidsanei_google_com/data/uncased_L-12_H-768_A-12/bert_model.ckpt]\n",
      "loader: No value for:[bert/encoder/layer_6/output/adapter-up/bias:0], i.e.:[bert/encoder/layer_6/output/adapter-up/bias] in:[/home/vahidsanei_google_com/data/uncased_L-12_H-768_A-12/bert_model.ckpt]\n",
      "loader: No value for:[bert/encoder/layer_7/attention/output/adapter-down/kernel:0], i.e.:[bert/encoder/layer_7/attention/output/adapter-down/kernel] in:[/home/vahidsanei_google_com/data/uncased_L-12_H-768_A-12/bert_model.ckpt]\n",
      "loader: No value for:[bert/encoder/layer_7/attention/output/adapter-down/bias:0], i.e.:[bert/encoder/layer_7/attention/output/adapter-down/bias] in:[/home/vahidsanei_google_com/data/uncased_L-12_H-768_A-12/bert_model.ckpt]\n",
      "loader: No value for:[bert/encoder/layer_7/attention/output/adapter-up/kernel:0], i.e.:[bert/encoder/layer_7/attention/output/adapter-up/kernel] in:[/home/vahidsanei_google_com/data/uncased_L-12_H-768_A-12/bert_model.ckpt]\n",
      "loader: No value for:[bert/encoder/layer_7/attention/output/adapter-up/bias:0], i.e.:[bert/encoder/layer_7/attention/output/adapter-up/bias] in:[/home/vahidsanei_google_com/data/uncased_L-12_H-768_A-12/bert_model.ckpt]\n",
      "loader: No value for:[bert/encoder/layer_7/output/adapter-down/kernel:0], i.e.:[bert/encoder/layer_7/output/adapter-down/kernel] in:[/home/vahidsanei_google_com/data/uncased_L-12_H-768_A-12/bert_model.ckpt]\n",
      "loader: No value for:[bert/encoder/layer_7/output/adapter-down/bias:0], i.e.:[bert/encoder/layer_7/output/adapter-down/bias] in:[/home/vahidsanei_google_com/data/uncased_L-12_H-768_A-12/bert_model.ckpt]\n",
      "loader: No value for:[bert/encoder/layer_7/output/adapter-up/kernel:0], i.e.:[bert/encoder/layer_7/output/adapter-up/kernel] in:[/home/vahidsanei_google_com/data/uncased_L-12_H-768_A-12/bert_model.ckpt]\n",
      "loader: No value for:[bert/encoder/layer_7/output/adapter-up/bias:0], i.e.:[bert/encoder/layer_7/output/adapter-up/bias] in:[/home/vahidsanei_google_com/data/uncased_L-12_H-768_A-12/bert_model.ckpt]\n"
     ]
    },
    {
     "name": "stdout",
     "output_type": "stream",
     "text": [
      "loader: No value for:[bert/encoder/layer_8/attention/output/adapter-down/kernel:0], i.e.:[bert/encoder/layer_8/attention/output/adapter-down/kernel] in:[/home/vahidsanei_google_com/data/uncased_L-12_H-768_A-12/bert_model.ckpt]\n",
      "loader: No value for:[bert/encoder/layer_8/attention/output/adapter-down/bias:0], i.e.:[bert/encoder/layer_8/attention/output/adapter-down/bias] in:[/home/vahidsanei_google_com/data/uncased_L-12_H-768_A-12/bert_model.ckpt]\n",
      "loader: No value for:[bert/encoder/layer_8/attention/output/adapter-up/kernel:0], i.e.:[bert/encoder/layer_8/attention/output/adapter-up/kernel] in:[/home/vahidsanei_google_com/data/uncased_L-12_H-768_A-12/bert_model.ckpt]\n",
      "loader: No value for:[bert/encoder/layer_8/attention/output/adapter-up/bias:0], i.e.:[bert/encoder/layer_8/attention/output/adapter-up/bias] in:[/home/vahidsanei_google_com/data/uncased_L-12_H-768_A-12/bert_model.ckpt]\n",
      "loader: No value for:[bert/encoder/layer_8/output/adapter-down/kernel:0], i.e.:[bert/encoder/layer_8/output/adapter-down/kernel] in:[/home/vahidsanei_google_com/data/uncased_L-12_H-768_A-12/bert_model.ckpt]\n",
      "loader: No value for:[bert/encoder/layer_8/output/adapter-down/bias:0], i.e.:[bert/encoder/layer_8/output/adapter-down/bias] in:[/home/vahidsanei_google_com/data/uncased_L-12_H-768_A-12/bert_model.ckpt]\n",
      "loader: No value for:[bert/encoder/layer_8/output/adapter-up/kernel:0], i.e.:[bert/encoder/layer_8/output/adapter-up/kernel] in:[/home/vahidsanei_google_com/data/uncased_L-12_H-768_A-12/bert_model.ckpt]\n",
      "loader: No value for:[bert/encoder/layer_8/output/adapter-up/bias:0], i.e.:[bert/encoder/layer_8/output/adapter-up/bias] in:[/home/vahidsanei_google_com/data/uncased_L-12_H-768_A-12/bert_model.ckpt]\n",
      "loader: No value for:[bert/encoder/layer_9/attention/output/adapter-down/kernel:0], i.e.:[bert/encoder/layer_9/attention/output/adapter-down/kernel] in:[/home/vahidsanei_google_com/data/uncased_L-12_H-768_A-12/bert_model.ckpt]\n",
      "loader: No value for:[bert/encoder/layer_9/attention/output/adapter-down/bias:0], i.e.:[bert/encoder/layer_9/attention/output/adapter-down/bias] in:[/home/vahidsanei_google_com/data/uncased_L-12_H-768_A-12/bert_model.ckpt]\n",
      "loader: No value for:[bert/encoder/layer_9/attention/output/adapter-up/kernel:0], i.e.:[bert/encoder/layer_9/attention/output/adapter-up/kernel] in:[/home/vahidsanei_google_com/data/uncased_L-12_H-768_A-12/bert_model.ckpt]\n",
      "loader: No value for:[bert/encoder/layer_9/attention/output/adapter-up/bias:0], i.e.:[bert/encoder/layer_9/attention/output/adapter-up/bias] in:[/home/vahidsanei_google_com/data/uncased_L-12_H-768_A-12/bert_model.ckpt]\n",
      "loader: No value for:[bert/encoder/layer_9/output/adapter-down/kernel:0], i.e.:[bert/encoder/layer_9/output/adapter-down/kernel] in:[/home/vahidsanei_google_com/data/uncased_L-12_H-768_A-12/bert_model.ckpt]\n",
      "loader: No value for:[bert/encoder/layer_9/output/adapter-down/bias:0], i.e.:[bert/encoder/layer_9/output/adapter-down/bias] in:[/home/vahidsanei_google_com/data/uncased_L-12_H-768_A-12/bert_model.ckpt]\n",
      "loader: No value for:[bert/encoder/layer_9/output/adapter-up/kernel:0], i.e.:[bert/encoder/layer_9/output/adapter-up/kernel] in:[/home/vahidsanei_google_com/data/uncased_L-12_H-768_A-12/bert_model.ckpt]\n",
      "loader: No value for:[bert/encoder/layer_9/output/adapter-up/bias:0], i.e.:[bert/encoder/layer_9/output/adapter-up/bias] in:[/home/vahidsanei_google_com/data/uncased_L-12_H-768_A-12/bert_model.ckpt]\n",
      "loader: No value for:[bert/encoder/layer_10/attention/output/adapter-down/kernel:0], i.e.:[bert/encoder/layer_10/attention/output/adapter-down/kernel] in:[/home/vahidsanei_google_com/data/uncased_L-12_H-768_A-12/bert_model.ckpt]\n",
      "loader: No value for:[bert/encoder/layer_10/attention/output/adapter-down/bias:0], i.e.:[bert/encoder/layer_10/attention/output/adapter-down/bias] in:[/home/vahidsanei_google_com/data/uncased_L-12_H-768_A-12/bert_model.ckpt]\n",
      "loader: No value for:[bert/encoder/layer_10/attention/output/adapter-up/kernel:0], i.e.:[bert/encoder/layer_10/attention/output/adapter-up/kernel] in:[/home/vahidsanei_google_com/data/uncased_L-12_H-768_A-12/bert_model.ckpt]\n",
      "loader: No value for:[bert/encoder/layer_10/attention/output/adapter-up/bias:0], i.e.:[bert/encoder/layer_10/attention/output/adapter-up/bias] in:[/home/vahidsanei_google_com/data/uncased_L-12_H-768_A-12/bert_model.ckpt]\n",
      "loader: No value for:[bert/encoder/layer_10/output/adapter-down/kernel:0], i.e.:[bert/encoder/layer_10/output/adapter-down/kernel] in:[/home/vahidsanei_google_com/data/uncased_L-12_H-768_A-12/bert_model.ckpt]\n",
      "loader: No value for:[bert/encoder/layer_10/output/adapter-down/bias:0], i.e.:[bert/encoder/layer_10/output/adapter-down/bias] in:[/home/vahidsanei_google_com/data/uncased_L-12_H-768_A-12/bert_model.ckpt]\n",
      "loader: No value for:[bert/encoder/layer_10/output/adapter-up/kernel:0], i.e.:[bert/encoder/layer_10/output/adapter-up/kernel] in:[/home/vahidsanei_google_com/data/uncased_L-12_H-768_A-12/bert_model.ckpt]\n",
      "loader: No value for:[bert/encoder/layer_10/output/adapter-up/bias:0], i.e.:[bert/encoder/layer_10/output/adapter-up/bias] in:[/home/vahidsanei_google_com/data/uncased_L-12_H-768_A-12/bert_model.ckpt]\n",
      "loader: No value for:[bert/encoder/layer_11/attention/output/adapter-down/kernel:0], i.e.:[bert/encoder/layer_11/attention/output/adapter-down/kernel] in:[/home/vahidsanei_google_com/data/uncased_L-12_H-768_A-12/bert_model.ckpt]\n",
      "loader: No value for:[bert/encoder/layer_11/attention/output/adapter-down/bias:0], i.e.:[bert/encoder/layer_11/attention/output/adapter-down/bias] in:[/home/vahidsanei_google_com/data/uncased_L-12_H-768_A-12/bert_model.ckpt]\n",
      "loader: No value for:[bert/encoder/layer_11/attention/output/adapter-up/kernel:0], i.e.:[bert/encoder/layer_11/attention/output/adapter-up/kernel] in:[/home/vahidsanei_google_com/data/uncased_L-12_H-768_A-12/bert_model.ckpt]\n",
      "loader: No value for:[bert/encoder/layer_11/attention/output/adapter-up/bias:0], i.e.:[bert/encoder/layer_11/attention/output/adapter-up/bias] in:[/home/vahidsanei_google_com/data/uncased_L-12_H-768_A-12/bert_model.ckpt]\n",
      "loader: No value for:[bert/encoder/layer_11/output/adapter-down/kernel:0], i.e.:[bert/encoder/layer_11/output/adapter-down/kernel] in:[/home/vahidsanei_google_com/data/uncased_L-12_H-768_A-12/bert_model.ckpt]\n",
      "loader: No value for:[bert/encoder/layer_11/output/adapter-down/bias:0], i.e.:[bert/encoder/layer_11/output/adapter-down/bias] in:[/home/vahidsanei_google_com/data/uncased_L-12_H-768_A-12/bert_model.ckpt]\n",
      "loader: No value for:[bert/encoder/layer_11/output/adapter-up/kernel:0], i.e.:[bert/encoder/layer_11/output/adapter-up/kernel] in:[/home/vahidsanei_google_com/data/uncased_L-12_H-768_A-12/bert_model.ckpt]\n",
      "loader: No value for:[bert/encoder/layer_11/output/adapter-up/bias:0], i.e.:[bert/encoder/layer_11/output/adapter-up/bias] in:[/home/vahidsanei_google_com/data/uncased_L-12_H-768_A-12/bert_model.ckpt]\n",
      "Done loading 196 BERT weights from: /home/vahidsanei_google_com/data/uncased_L-12_H-768_A-12/bert_model.ckpt into <bert.model.BertModelLayer object at 0x7f5a6b3d13d0> (prefix:bert). Count of weights not found in the checkpoint was: [96]. Count of weights with mismatched shape: [0]\n",
      "Unused weights from checkpoint: \n",
      "\tbert/embeddings/token_type_embeddings\n",
      "\tbert/pooler/dense/bias\n",
      "\tbert/pooler/dense/kernel\n",
      "\tcls/predictions/output_bias\n",
      "\tcls/predictions/transform/LayerNorm/beta\n",
      "\tcls/predictions/transform/LayerNorm/gamma\n",
      "\tcls/predictions/transform/dense/bias\n",
      "\tcls/predictions/transform/dense/kernel\n",
      "\tcls/seq_relationship/output_bias\n",
      "\tcls/seq_relationship/output_weights\n"
     ]
    }
   ],
   "source": [
    "model = cat.build_model(bert_config_file, bert_ckpt_file)"
   ]
  },
  {
   "cell_type": "code",
   "execution_count": 24,
   "metadata": {
    "scrolled": false
   },
   "outputs": [
    {
     "name": "stdout",
     "output_type": "stream",
     "text": [
      "Model: \"model\"\n",
      "_________________________________________________________________\n",
      "Layer (type)                 Output Shape              Param #   \n",
      "=================================================================\n",
      "input_ids (InputLayer)       [(None, 256)]             0         \n",
      "_________________________________________________________________\n",
      "bert (BertModelLayer)        (None, 256, 768)          111269376 \n",
      "_________________________________________________________________\n",
      "lambda (Lambda)              (None, 768)               0         \n",
      "_________________________________________________________________\n",
      "dropout (Dropout)            (None, 768)               0         \n",
      "_________________________________________________________________\n",
      "dense (Dense)                (None, 800)               615200    \n",
      "_________________________________________________________________\n",
      "dense_1 (Dense)              (None, 5)                 4005      \n",
      "=================================================================\n",
      "Total params: 111,888,581\n",
      "Trainable params: 3,035,333\n",
      "Non-trainable params: 108,853,248\n",
      "_________________________________________________________________\n",
      "None\n",
      "Epoch 1/30\n",
      "135/135 [==============================] - 40s 299ms/step - loss: 1.5552 - acc: 0.3355 - val_loss: 1.4909 - val_acc: 0.3982\n",
      "Epoch 2/30\n",
      "135/135 [==============================] - 36s 266ms/step - loss: 1.5085 - acc: 0.3733 - val_loss: 1.4728 - val_acc: 0.3982\n",
      "Epoch 3/30\n",
      "135/135 [==============================] - 36s 268ms/step - loss: 1.4823 - acc: 0.4096 - val_loss: 1.4310 - val_acc: 0.4248\n",
      "Epoch 4/30\n",
      "135/135 [==============================] - 36s 268ms/step - loss: 1.4338 - acc: 0.4860 - val_loss: 1.3250 - val_acc: 0.6018\n",
      "Epoch 5/30\n",
      "135/135 [==============================] - 36s 270ms/step - loss: 1.3334 - acc: 0.5960 - val_loss: 1.2329 - val_acc: 0.7080\n",
      "Epoch 6/30\n",
      "135/135 [==============================] - 36s 267ms/step - loss: 1.2643 - acc: 0.6626 - val_loss: 1.2016 - val_acc: 0.7257\n",
      "Epoch 7/30\n",
      "135/135 [==============================] - 36s 268ms/step - loss: 1.2272 - acc: 0.6948 - val_loss: 1.1913 - val_acc: 0.7168\n",
      "Epoch 8/30\n",
      "135/135 [==============================] - 36s 268ms/step - loss: 1.2093 - acc: 0.7116 - val_loss: 1.1849 - val_acc: 0.7257\n",
      "Epoch 9/30\n",
      "135/135 [==============================] - 36s 269ms/step - loss: 1.1946 - acc: 0.7241 - val_loss: 1.1791 - val_acc: 0.7168\n",
      "Epoch 10/30\n",
      "135/135 [==============================] - 36s 269ms/step - loss: 1.1875 - acc: 0.7246 - val_loss: 1.1733 - val_acc: 0.7168\n",
      "Epoch 11/30\n",
      "135/135 [==============================] - 36s 269ms/step - loss: 1.1814 - acc: 0.7302 - val_loss: 1.1787 - val_acc: 0.7168\n",
      "Epoch 12/30\n",
      "135/135 [==============================] - 36s 269ms/step - loss: 1.1729 - acc: 0.7363 - val_loss: 1.1725 - val_acc: 0.7345\n",
      "Epoch 13/30\n",
      "135/135 [==============================] - 37s 273ms/step - loss: 1.1717 - acc: 0.7339 - val_loss: 1.1769 - val_acc: 0.7168\n",
      "Epoch 14/30\n",
      "135/135 [==============================] - 36s 269ms/step - loss: 1.1655 - acc: 0.7428 - val_loss: 1.1686 - val_acc: 0.7257\n",
      "Epoch 15/30\n",
      "135/135 [==============================] - 36s 269ms/step - loss: 1.1625 - acc: 0.7488 - val_loss: 1.1662 - val_acc: 0.7434\n",
      "Epoch 16/30\n",
      "135/135 [==============================] - 36s 269ms/step - loss: 1.1622 - acc: 0.7437 - val_loss: 1.1708 - val_acc: 0.7168\n",
      "Epoch 17/30\n",
      "135/135 [==============================] - 36s 269ms/step - loss: 1.1579 - acc: 0.7451 - val_loss: 1.1650 - val_acc: 0.7345\n",
      "Epoch 18/30\n",
      "135/135 [==============================] - 36s 269ms/step - loss: 1.1577 - acc: 0.7498 - val_loss: 1.1726 - val_acc: 0.7080\n",
      "Epoch 19/30\n",
      "135/135 [==============================] - 36s 269ms/step - loss: 1.1554 - acc: 0.7516 - val_loss: 1.1685 - val_acc: 0.7168\n",
      "Epoch 20/30\n",
      "135/135 [==============================] - 36s 269ms/step - loss: 1.1544 - acc: 0.7512 - val_loss: 1.1764 - val_acc: 0.7345\n",
      "Epoch 21/30\n",
      "135/135 [==============================] - 37s 271ms/step - loss: 1.1507 - acc: 0.7530 - val_loss: 1.1733 - val_acc: 0.7168\n",
      "Epoch 22/30\n",
      "135/135 [==============================] - 37s 272ms/step - loss: 1.1483 - acc: 0.7554 - val_loss: 1.1735 - val_acc: 0.7168\n",
      "Epoch 23/30\n",
      "135/135 [==============================] - 36s 269ms/step - loss: 1.1438 - acc: 0.7647 - val_loss: 1.1787 - val_acc: 0.7168\n",
      "Epoch 24/30\n",
      "135/135 [==============================] - 36s 270ms/step - loss: 1.1439 - acc: 0.7596 - val_loss: 1.1706 - val_acc: 0.7257\n",
      "Epoch 25/30\n",
      "135/135 [==============================] - 36s 270ms/step - loss: 1.1424 - acc: 0.7610 - val_loss: 1.1680 - val_acc: 0.7257\n",
      "Epoch 26/30\n",
      "135/135 [==============================] - 37s 272ms/step - loss: 1.1441 - acc: 0.7619 - val_loss: 1.1738 - val_acc: 0.7257\n",
      "Epoch 27/30\n",
      "135/135 [==============================] - 37s 272ms/step - loss: 1.1398 - acc: 0.7610 - val_loss: 1.1540 - val_acc: 0.7257\n",
      "Epoch 28/30\n",
      "135/135 [==============================] - 36s 270ms/step - loss: 1.1013 - acc: 0.8099 - val_loss: 1.0986 - val_acc: 0.7965\n",
      "Epoch 29/30\n",
      "135/135 [==============================] - 36s 270ms/step - loss: 1.0813 - acc: 0.8304 - val_loss: 1.0960 - val_acc: 0.8142\n",
      "Epoch 30/30\n",
      "135/135 [==============================] - 38s 278ms/step - loss: 1.0792 - acc: 0.8299 - val_loss: 1.0943 - val_acc: 0.8142\n"
     ]
    }
   ],
   "source": [
    "compile_model(cat, model)"
   ]
  },
  {
   "cell_type": "code",
   "execution_count": 25,
   "metadata": {
    "scrolled": true
   },
   "outputs": [
    {
     "name": "stdout",
     "output_type": "stream",
     "text": [
      "18/18 [==============================] - 4s 209ms/step - loss: 1.1186 - acc: 0.7788\n"
     ]
    }
   ],
   "source": [
    "model.evaluate(cat.test_x, cat.test_y);"
   ]
  },
  {
   "cell_type": "code",
   "execution_count": 46,
   "metadata": {},
   "outputs": [],
   "source": [
    "def testing(text, LEN=256):\n",
    "    tokens = tokenizer.tokenize(text)\n",
    "    ids = tokenizer.convert_tokens_to_ids(tokens)\n",
    "    ids = ids + [0 for _ in range(LEN  - len(ids))]\n",
    "    ids = ids[:LEN]\n",
    "    y_pred = model.predict([ids])\n",
    "    print(cat.classes[np.argmax(y_pred)])\n",
    "    print(y_pred)"
   ]
  },
  {
   "cell_type": "code",
   "execution_count": 49,
   "metadata": {},
   "outputs": [
    {
     "name": "stdout",
     "output_type": "stream",
     "text": [
      "Food\n",
      "[[1.4111267e-02 1.0460065e-03 9.8196614e-01 2.8112798e-03 6.5169086e-05]]\n"
     ]
    }
   ],
   "source": [
    "text = 'Restaurants are classified or distinguished in many different ways. The primary factors are usually the food itself (e.g. vegetarian, seafood, steak); the cuisine (e.g. Italian, Chinese, Japanese, Indian, French, Mexican, Thai) or the style of offering (e.g. tapas bar, a sushi train, a tastet restaurant, a buffet restaurant or a yum cha restaurant). Beyond this, restaurants may differentiate themselves on factors including speed (see fast food), formality, location, cost, service, or novelty themes (such as automated restaurants). Some of these include fine dining, casual dining, contemporary casual, family style, fast casual, fast food, cafes, buffet, concession stands, food trucks, pop-up restaurants, and ghost restaurants. Restaurants range from inexpensive and informal lunching or dining places catering to people working nearby, with modest food served in simple settings at low prices, to expensive establishments serving refined food and fine wines in a formal setting. In the former case, customers usually wear casual clothing. In the latter case, depending on culture and local traditions, customers might wear semi-casual, semi-formal or formal wear. Typically, at mid- to high-priced restaurants, customers sit at tables, their orders are taken by a waiter, who brings the food when it is ready. After eating, the customers then pay the bill. In some restaurants, such as workplace cafeterias, there are no waiters; the customers use trays, on which they place cold items that they select from a refrigerated container and hot items which they request from cooks, and then they pay a cashier before they sit down. Another restaurant approach which uses few waiters is the buffet restaurant. Customers serve food onto their own plates and then pay at the end of the meal. Buffet restaurants typically still have waiters to serve drinks and alcoholic beverages. Fast food restaurants are also considered a restaurant. In addition, food trucks are another popular option for people who want quick food service. Tourists around the world can enjoy dining services on railway cars and cruise ships dining rooms, which are essentially traveling restaurants. Many railways dining services cater to the needs of travelers by providing railway refreshment rooms at railway stations. The fondness for such refreshment rooms, however, may be purely cultural as not one refreshing crumb of them has ever been witnessed in the United States. In the 2000s, a number of traveling restaurants, specifically designed for tourists, had been created. These can be found on trams, boats, buses, etc. Unfortunately, in 2020 little evidence remains of them in the United States. Many cruise ships provide a variety of dining experiences including a main restaurant, satellites restaurants, room service, specialty restaurants, cafes, bars, and buffets to name a few. Some restaurants on these cruise ships required reservations and specific dress codes.'\n",
    "testing(text)"
   ]
  },
  {
   "cell_type": "code",
   "execution_count": 54,
   "metadata": {},
   "outputs": [
    {
     "name": "stdout",
     "output_type": "stream",
     "text": [
      "Local Services\n",
      "[[4.6295552e-03 7.9173871e-05 6.0874696e-05 2.8093143e-03 9.9242109e-01]]\n"
     ]
    }
   ],
   "source": [
    "text = 'An auto mechanic (automotive technician in most of North America, light vehicle technician in British English, and motor mechanic in Australian English) is a mechanic with a variety of automobile makes or either in a specific area or in a specific make of automobile. In repairing cars, their main role is to diagnose the problem accurately and quickly. They often have to quote prices for their customers before commencing work or after partial disassembly for inspection. Their job may involve the repair of a specific part or the replacement of one or more parts as assemblies. Basic vehicle maintenance is a fundamental part of a mechanic\\'s work in modern industrialized countries while in others they are only consulted when a vehicle is already showing signs of malfunction. Preventive maintenance is also a fundamental part of a mechanic\\'s job, but this is not possible in the case of vehicles that are not regularly maintained by a mechanic. One misunderstood aspect of preventive maintenance is scheduled replacement of various parts, which occurs before failure to avoid far more expensive damage. Because this means that parts are replaced before any problem is observed, many vehicle owners will not understand why the expense is necessary. With the rapid advancement in technology, the mechanics job has evolved from purely mechanical, to include electronic technology. Because vehicles today possess complex computer and electronic systems, mechanics need to have a broader base of knowledge than in the past.'\n",
    "testing(text)"
   ]
  },
  {
   "cell_type": "code",
   "execution_count": null,
   "metadata": {},
   "outputs": [],
   "source": []
  }
 ],
 "metadata": {
  "kernelspec": {
   "display_name": "Python 3",
   "language": "python",
   "name": "python3"
  },
  "language_info": {
   "codemirror_mode": {
    "name": "ipython",
    "version": 3
   },
   "file_extension": ".py",
   "mimetype": "text/x-python",
   "name": "python",
   "nbconvert_exporter": "python",
   "pygments_lexer": "ipython3",
   "version": "3.7.6"
  }
 },
 "nbformat": 4,
 "nbformat_minor": 4
}
