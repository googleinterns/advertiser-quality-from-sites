{
 "cells": [
  {
   "cell_type": "code",
   "execution_count": 1,
   "metadata": {},
   "outputs": [],
   "source": [
    "import os\n",
    "import math\n",
    "import datetime\n",
    "from tqdm import tqdm\n",
    "import pandas as pd\n",
    "import numpy as np\n",
    "\n",
    "import tensorflow as tf\n",
    "from tensorflow import keras\n",
    "\n",
    "from bs4 import BeautifulSoup\n",
    "from bs4.element import Comment\n",
    "import re\n",
    "from langdetect import detect_langs\n",
    "\n",
    "from bert import BertModelLayer\n",
    "from bert.loader import StockBertConfig, map_stock_config_to_params, load_stock_weights\n",
    "from bert.tokenization.bert_tokenization import FullTokenizer\n",
    "\n",
    "import seaborn as sns\n",
    "import matplotlib.pyplot as plt\n",
    "\n",
    "from sklearn.metrics import classification_report\n",
    "\n",
    "%matplotlib inline\n",
    "%config InlineBackend.figure_format='retina'"
   ]
  },
  {
   "cell_type": "code",
   "execution_count": 2,
   "metadata": {
    "scrolled": true
   },
   "outputs": [
    {
     "data": {
      "text/html": [
       "<div>\n",
       "<style scoped>\n",
       "    .dataframe tbody tr th:only-of-type {\n",
       "        vertical-align: middle;\n",
       "    }\n",
       "\n",
       "    .dataframe tbody tr th {\n",
       "        vertical-align: top;\n",
       "    }\n",
       "\n",
       "    .dataframe thead th {\n",
       "        text-align: right;\n",
       "    }\n",
       "</style>\n",
       "<table border=\"1\" class=\"dataframe\">\n",
       "  <thead>\n",
       "    <tr style=\"text-align: right;\">\n",
       "      <th></th>\n",
       "      <th>Unnamed: 0</th>\n",
       "      <th>business_id</th>\n",
       "      <th>name</th>\n",
       "      <th>address</th>\n",
       "      <th>city</th>\n",
       "      <th>state</th>\n",
       "      <th>postal_code</th>\n",
       "      <th>latitude</th>\n",
       "      <th>longitude</th>\n",
       "      <th>stars</th>\n",
       "      <th>...</th>\n",
       "      <th>1.5</th>\n",
       "      <th>2.0</th>\n",
       "      <th>2.5</th>\n",
       "      <th>3.0</th>\n",
       "      <th>3.5</th>\n",
       "      <th>4.0</th>\n",
       "      <th>4.5</th>\n",
       "      <th>5.0</th>\n",
       "      <th>is_eng</th>\n",
       "      <th>webpage_corpus</th>\n",
       "    </tr>\n",
       "  </thead>\n",
       "  <tbody>\n",
       "    <tr>\n",
       "      <th>0</th>\n",
       "      <td>0</td>\n",
       "      <td>f9NumwFMBDn751xgFiRbNA</td>\n",
       "      <td>The Range At Lake Norman</td>\n",
       "      <td>10913 Bailey Rd</td>\n",
       "      <td>Cornelius</td>\n",
       "      <td>NC</td>\n",
       "      <td>28031</td>\n",
       "      <td>35.462724</td>\n",
       "      <td>-80.852612</td>\n",
       "      <td>3.5</td>\n",
       "      <td>...</td>\n",
       "      <td>0</td>\n",
       "      <td>0</td>\n",
       "      <td>0</td>\n",
       "      <td>0</td>\n",
       "      <td>1</td>\n",
       "      <td>0</td>\n",
       "      <td>0</td>\n",
       "      <td>0</td>\n",
       "      <td>True</td>\n",
       "      <td>Shooting Ranges Gun Rental Charlotte NC The Ra...</td>\n",
       "    </tr>\n",
       "    <tr>\n",
       "      <th>1</th>\n",
       "      <td>1</td>\n",
       "      <td>XNoUzKckATkOD1hP6vghZg</td>\n",
       "      <td>Felinus</td>\n",
       "      <td>3554 Rue Notre-Dame O</td>\n",
       "      <td>Montreal</td>\n",
       "      <td>QC</td>\n",
       "      <td>H4C 1P4</td>\n",
       "      <td>45.479984</td>\n",
       "      <td>-73.580070</td>\n",
       "      <td>5.0</td>\n",
       "      <td>...</td>\n",
       "      <td>0</td>\n",
       "      <td>0</td>\n",
       "      <td>0</td>\n",
       "      <td>0</td>\n",
       "      <td>0</td>\n",
       "      <td>0</td>\n",
       "      <td>0</td>\n",
       "      <td>1</td>\n",
       "      <td>False</td>\n",
       "      <td>NaN</td>\n",
       "    </tr>\n",
       "    <tr>\n",
       "      <th>2</th>\n",
       "      <td>2</td>\n",
       "      <td>51M2Kk903DFYI6gnB5I6SQ</td>\n",
       "      <td>USE MY GUY SERVICES LLC</td>\n",
       "      <td>4827 E Downing Cir</td>\n",
       "      <td>Mesa</td>\n",
       "      <td>AZ</td>\n",
       "      <td>85205</td>\n",
       "      <td>33.428065</td>\n",
       "      <td>-111.726648</td>\n",
       "      <td>4.5</td>\n",
       "      <td>...</td>\n",
       "      <td>0</td>\n",
       "      <td>0</td>\n",
       "      <td>0</td>\n",
       "      <td>0</td>\n",
       "      <td>0</td>\n",
       "      <td>0</td>\n",
       "      <td>1</td>\n",
       "      <td>0</td>\n",
       "      <td>True</td>\n",
       "      <td>Home Renovations and Repairs Phoenix AZ Home U...</td>\n",
       "    </tr>\n",
       "    <tr>\n",
       "      <th>3</th>\n",
       "      <td>3</td>\n",
       "      <td>cKyLV5oWZJ2NudWgqs8VZw</td>\n",
       "      <td>Oasis Auto Center - Gilbert</td>\n",
       "      <td>1720 W Elliot Rd, Ste 105</td>\n",
       "      <td>Gilbert</td>\n",
       "      <td>AZ</td>\n",
       "      <td>85233</td>\n",
       "      <td>33.350399</td>\n",
       "      <td>-111.827142</td>\n",
       "      <td>4.5</td>\n",
       "      <td>...</td>\n",
       "      <td>0</td>\n",
       "      <td>0</td>\n",
       "      <td>0</td>\n",
       "      <td>0</td>\n",
       "      <td>0</td>\n",
       "      <td>0</td>\n",
       "      <td>1</td>\n",
       "      <td>0</td>\n",
       "      <td>True</td>\n",
       "      <td>Home Oasis Auto CenterOasis Auto Center Pages ...</td>\n",
       "    </tr>\n",
       "    <tr>\n",
       "      <th>4</th>\n",
       "      <td>4</td>\n",
       "      <td>ScYkbYNkDgCneBrD9vqhCQ</td>\n",
       "      <td>Junction Tire &amp; Auto Service</td>\n",
       "      <td>6910 E Southern Ave</td>\n",
       "      <td>Mesa</td>\n",
       "      <td>AZ</td>\n",
       "      <td>85209</td>\n",
       "      <td>33.393885</td>\n",
       "      <td>-111.682226</td>\n",
       "      <td>5.0</td>\n",
       "      <td>...</td>\n",
       "      <td>0</td>\n",
       "      <td>0</td>\n",
       "      <td>0</td>\n",
       "      <td>0</td>\n",
       "      <td>0</td>\n",
       "      <td>0</td>\n",
       "      <td>0</td>\n",
       "      <td>1</td>\n",
       "      <td>True</td>\n",
       "      <td>Contact Junction Tire Tires Auto Repair Shop i...</td>\n",
       "    </tr>\n",
       "  </tbody>\n",
       "</table>\n",
       "<p>5 rows × 28 columns</p>\n",
       "</div>"
      ],
      "text/plain": [
       "   Unnamed: 0             business_id                          name  \\\n",
       "0           0  f9NumwFMBDn751xgFiRbNA      The Range At Lake Norman   \n",
       "1           1  XNoUzKckATkOD1hP6vghZg                       Felinus   \n",
       "2           2  51M2Kk903DFYI6gnB5I6SQ       USE MY GUY SERVICES LLC   \n",
       "3           3  cKyLV5oWZJ2NudWgqs8VZw   Oasis Auto Center - Gilbert   \n",
       "4           4  ScYkbYNkDgCneBrD9vqhCQ  Junction Tire & Auto Service   \n",
       "\n",
       "                     address       city state postal_code   latitude  \\\n",
       "0            10913 Bailey Rd  Cornelius    NC       28031  35.462724   \n",
       "1      3554 Rue Notre-Dame O   Montreal    QC     H4C 1P4  45.479984   \n",
       "2         4827 E Downing Cir       Mesa    AZ       85205  33.428065   \n",
       "3  1720 W Elliot Rd, Ste 105    Gilbert    AZ       85233  33.350399   \n",
       "4        6910 E Southern Ave       Mesa    AZ       85209  33.393885   \n",
       "\n",
       "    longitude  stars  ...  1.5  2.0 2.5 3.0 3.5 4.0 4.5  5.0  is_eng  \\\n",
       "0  -80.852612    3.5  ...    0    0   0   0   1   0   0    0    True   \n",
       "1  -73.580070    5.0  ...    0    0   0   0   0   0   0    1   False   \n",
       "2 -111.726648    4.5  ...    0    0   0   0   0   0   1    0    True   \n",
       "3 -111.827142    4.5  ...    0    0   0   0   0   0   1    0    True   \n",
       "4 -111.682226    5.0  ...    0    0   0   0   0   0   0    1    True   \n",
       "\n",
       "                                      webpage_corpus  \n",
       "0  Shooting Ranges Gun Rental Charlotte NC The Ra...  \n",
       "1                                                NaN  \n",
       "2  Home Renovations and Repairs Phoenix AZ Home U...  \n",
       "3  Home Oasis Auto CenterOasis Auto Center Pages ...  \n",
       "4  Contact Junction Tire Tires Auto Repair Shop i...  \n",
       "\n",
       "[5 rows x 28 columns]"
      ]
     },
     "execution_count": 2,
     "metadata": {},
     "output_type": "execute_result"
    }
   ],
   "source": [
    "df = pd.read_csv(os.path.join('..', '..', 'data', 'yelp_data', 'updated', 'bussiness_with_corpus.csv'))\n",
    "df.head()"
   ]
  },
  {
   "cell_type": "code",
   "execution_count": 3,
   "metadata": {},
   "outputs": [
    {
     "data": {
      "text/plain": [
       "Index(['Unnamed: 0', 'business_id', 'name', 'address', 'city', 'state',\n",
       "       'postal_code', 'latitude', 'longitude', 'stars', 'review_count',\n",
       "       'is_open', 'attributes', 'categories', 'hours', 'url', 'webpage_text',\n",
       "       '1.0', '1.5', '2.0', '2.5', '3.0', '3.5', '4.0', '4.5', '5.0', 'is_eng',\n",
       "       'webpage_corpus'],\n",
       "      dtype='object')"
      ]
     },
     "execution_count": 3,
     "metadata": {},
     "output_type": "execute_result"
    }
   ],
   "source": [
    "df.columns"
   ]
  },
  {
   "cell_type": "code",
   "execution_count": 4,
   "metadata": {
    "scrolled": true
   },
   "outputs": [
    {
     "name": "stdout",
     "output_type": "stream",
     "text": [
      "<class 'pandas.core.frame.DataFrame'>\n",
      "Int64Index: 55963 entries, 0 to 56064\n",
      "Data columns (total 28 columns):\n",
      " #   Column          Non-Null Count  Dtype  \n",
      "---  ------          --------------  -----  \n",
      " 0   Unnamed: 0      55963 non-null  int64  \n",
      " 1   business_id     55963 non-null  object \n",
      " 2   name            55963 non-null  object \n",
      " 3   address         53592 non-null  object \n",
      " 4   city            55963 non-null  object \n",
      " 5   state           55963 non-null  object \n",
      " 6   postal_code     55854 non-null  object \n",
      " 7   latitude        55963 non-null  float64\n",
      " 8   longitude       55963 non-null  float64\n",
      " 9   stars           55963 non-null  float64\n",
      " 10  review_count    55963 non-null  int64  \n",
      " 11  is_open         55963 non-null  int64  \n",
      " 12  attributes      48188 non-null  object \n",
      " 13  categories      55963 non-null  object \n",
      " 14  hours           45045 non-null  object \n",
      " 15  url             55963 non-null  object \n",
      " 16  webpage_text    50380 non-null  object \n",
      " 17  1.0             55963 non-null  int64  \n",
      " 18  1.5             55963 non-null  int64  \n",
      " 19  2.0             55963 non-null  int64  \n",
      " 20  2.5             55963 non-null  int64  \n",
      " 21  3.0             55963 non-null  int64  \n",
      " 22  3.5             55963 non-null  int64  \n",
      " 23  4.0             55963 non-null  int64  \n",
      " 24  4.5             55963 non-null  int64  \n",
      " 25  5.0             55963 non-null  int64  \n",
      " 26  is_eng          55963 non-null  bool   \n",
      " 27  webpage_corpus  32531 non-null  object \n",
      "dtypes: bool(1), float64(3), int64(12), object(12)\n",
      "memory usage: 12.0+ MB\n"
     ]
    }
   ],
   "source": [
    "df = df[df['categories'].notnull()]\n",
    "df.info()"
   ]
  },
  {
   "cell_type": "code",
   "execution_count": 5,
   "metadata": {},
   "outputs": [],
   "source": [
    "df['categories'] = df['categories'].apply(lambda x: re.split('[,;&]', x))"
   ]
  },
  {
   "cell_type": "code",
   "execution_count": 6,
   "metadata": {
    "scrolled": true
   },
   "outputs": [
    {
     "name": "stderr",
     "output_type": "stream",
     "text": [
      "/opt/conda/lib/python3.7/site-packages/ipykernel_launcher.py:15: MatplotlibDeprecationWarning: Using a string of single character colors as a color sequence is deprecated. Use an explicit list instead.\n",
      "  from ipykernel import kernelapp as app\n"
     ]
    },
    {
     "data": {
      "image/png": "[encoded data removed]",
      "text/plain": [
       "<Figure size 432x288 with 1 Axes>"
      ]
     },
     "metadata": {
      "image/png": {
       "height": 284,
       "width": 388
      },
      "needs_background": "light"
     },
     "output_type": "display_data"
    }
   ],
   "source": [
    "Categories={}\n",
    "\n",
    "for x in df.categories:\n",
    "    for cls in x:\n",
    "        cls = cls.strip()\n",
    "        if len(cls) < 2: continue\n",
    "        if cls not in Categories: Categories[cls]=1\n",
    "        else: Categories[cls]+=1\n",
    "\n",
    "All_categories=list(Categories.keys())\n",
    "classes=[[x,Categories[x]] for x in All_categories]\n",
    "classes=sorted(classes, key=lambda x: x[1], reverse=True)\n",
    "all_classes = classes\n",
    "classes=classes[:10]\n",
    "plt.bar(range(len(classes)),[x[1] for x in classes] ,align='center', color='rgybk')\n",
    "plt.xticks(range(len(classes)), [x[0] for x in classes], rotation=30);"
   ]
  },
  {
   "cell_type": "code",
   "execution_count": 7,
   "metadata": {},
   "outputs": [
    {
     "name": "stdout",
     "output_type": "stream",
     "text": [
      "[['Restaurants', 15961], ['Shopping', 9697], ['Food', 8674], ['Home Services', 6332], ['Beauty', 5470], ['Spas', 5470], ['Health', 5467], ['Medical', 5467], ['Local Services', 4355], ['Automotive', 4162], ['Nightlife', 3610], ['Event Planning', 3572], ['Services', 3308], ['Bars', 3131], ['Active Life', 2920], ['Hotels', 2589], ['Arts', 2396], ['Fashion', 2337], ['Coffee', 2292], ['Home', 2282], ['Tea', 2279], ['Fast Food', 2246], ['Garden', 2142], ['Sandwiches', 2097], ['Hair Salons', 1978], ['Professional Services', 1927], ['American (Traditional)', 1915], ['Pizza', 1908], ['Auto Repair', 1907], ['Doctors', 1907], ['Real Estate', 1858], ['Entertainment', 1857], ['Travel', 1820], ['Burgers', 1643], ['Breakfast', 1619], ['Brunch', 1553], ['Fitness', 1410], ['Instruction', 1410], ['Specialty Food', 1373], ['Nail Salons', 1367], ['American (New)', 1336], ['Mexican', 1317], ['Italian', 1316], ['Pets', 1262], ['Hair Removal', 1221], ['Dentists', 1104], ['Chinese', 1098], ['Bakeries', 1085], ['Education', 1067], ['Skin Care', 1055], ['Grocery', 1010], ['Financial Services', 1010], ['Desserts', 996], ['Contractors', 989], [\"Women's Clothing\", 923], ['Pet Services', 896], ['Cafes', 884], ['Apartments', 858], ['General Dentistry', 847], ['Chicken Wings', 828], ['Day Spas', 802], ['Ice Cream', 785], ['Frozen Yogurt', 785], ['Waxing', 771], ['Massage', 768], ['Salad', 767], ['Caterers', 756], ['Tires', 736], ['Japanese', 727], ['Oil Change Stations', 717], ['Venues', 710], ['Event Spaces', 710], ['Gyms', 708], ['Car Dealers', 688], ['Home Decor', 683], ['Cosmetics', 677], ['Beauty Supply', 677], ['Furniture Stores', 671], ['Cosmetic Dentists', 669], ['Supplies', 666], ['Sporting Goods', 664], ['Accessories', 662], ['Auto Parts', 662], ['Seafood', 650], ['Beer', 648], ['Wine', 648], ['Spirits', 648], ['Sports Bars', 644], ['Flowers', 616], ['Gifts', 614], ['Sushi Bars', 605], ['Barbers', 596], [\"Men's Clothing\", 590], ['Convenience Stores', 589], ['Hair Stylists', 585], ['Trainers', 576], ['Medical Centers', 567], ['Pubs', 562], ['Appliances', 560], ['Eyelash Service', 555], ['Crafts', 539], ['Massage Therapy', 534], ['Jewelry', 534], ['Gas Stations', 532], ['Electronics', 522], ['Asian Fusion', 515], ['IT Services', 514], ['Computer Repair', 514], ['Specialty Schools', 514], ['Delis', 514], ['Department Stores', 510], ['Real Estate Services', 510], ['Juice Bars', 508], ['Smoothies', 508], ['Drugstores', 506], ['Music', 500], ['Repair', 497], ['Mediterranean', 497], ['Canadian (New)', 487], ['Pet Groomers', 485], ['Lounges', 483], ['Barbeque', 481], ['Heating', 475], ['Air Conditioning/HVAC', 475], ['Dry Cleaning', 468], ['Shoe Stores', 459], ['Body Shops', 451], ['Plumbing', 445], ['Banks', 442], ['Credit Unions', 442], ['Party', 432], ['Home Cleaning', 423], ['Medical Spas', 422], ['Steakhouses', 414], ['Optometrists', 413], ['Veterinarians', 411], ['Books', 408], ['Mags', 408], ['Video', 408], ['Chiropractors', 403], ['Landscaping', 402], ['Pet Sitting', 400], ['Indian', 400], ['Local Flavor', 398], ['Pool', 377], ['Makeup Artists', 373], ['Cocktail Bars', 372], ['Eyewear', 371], ['Opticians', 371], ['Mobile Phones', 368], ['Real Estate Agents', 368], ['Public Services', 366], ['Government', 366], ['Laundry Services', 364], ['Pet Stores', 360], ['Middle Eastern', 359], ['Printing Services', 358], ['Laundry', 357], ['Auto Detailing', 357], ['Yoga', 355], ['Lawyers', 351], ['Thai', 347], ['Car Wash', 341], ['Property Management', 341], ['Wine Bars', 340], ['Diners', 337], ['Physical Therapy', 327], ['Kitchen', 322], ['Bath', 322], ['Performing Arts', 316], ['Self Storage', 315], ['Auto Glass Services', 314], ['Vegetarian', 310], ['Hair Extensions', 309], ['Movers', 308], ['Building Supplies', 307], ['Carpet Cleaning', 306], ['Car Rental', 305], ['Orthodontists', 305], ['Florists', 303], ['Sewing', 301], ['Alterations', 301], ['Oral Surgeons', 301], ['Discount Store', 301], ['Transportation', 298], ['Music Venues', 298], ['Insurance', 296], ['Flooring', 293], ['Vietnamese', 288], ['Hardware Stores', 287], ['Photographers', 285], ['Parks', 276], ['Greek', 273], ['Vegan', 262], ['Tacos', 262], ['Food Delivery Services', 261], ['Food Trucks', 260], ['Health Markets', 260], [\"Men's Hair Salons\", 259], ['Tanning', 252], ['Donuts', 251], ['French', 251], ['Gluten-Free', 248], ['Soup', 248], ['Ethnic Food', 246], ['Weight Loss Centers', 244], ['Mattresses', 241], ['Dance Clubs', 241], ['Comfort Food', 240], ['Art Galleries', 239], ['Sports Wear', 238], ['Hobby Shops', 236], ['Child Care', 236], ['Day Care', 236], ['Buffets', 234], ['Wedding Planning', 232], ['Preschools', 232], ['Tattoo', 232], ['Gift Shops', 229], ['Family Practice', 228], ['Transmission Repair', 227], ['Shipping Centers', 227], ['Tex-Mex', 224], ['Mortgage Brokers', 224], ['Pediatric Dentists', 222], ['Acupuncture', 222], ['Tobacco Shops', 218], ['Tours', 218], ['Endodontists', 218], ['Mobile Phone Repair', 216], ['Interior Design', 215], ['Blow Dry/Out Services', 214], ['Community Service/Non-Profit', 213], ['Bridal', 211], ['Used', 211], ['Vintage', 211], ['Consignment', 211], ['Hot Tub Service', 209], ['Towing', 205], ['Korean', 204], ['Golf', 200], ['Painters', 200], ['Hot Dogs', 200], ['Laser Hair Removal', 198], ['Pool Cleaners', 196], ['Nurseries', 195], ['Gardening', 195], ['Thrift Stores', 195], ['Pest Control', 193], ['Electronics Repair', 189], ['Toy Stores', 187], ['Diagnostic Services', 186], ['Nutritionists', 184], ['Elementary Schools', 183], ['Chicken Shop', 182], ['Breweries', 182], ['Pet Training', 181], ['Vape Shops', 180], [\"Children's Clothing\", 179], ['Office Cleaning', 179], ['Handyman', 177], ['Water Heater Installation/Repair', 177], ['Permanent Makeup', 175], ['Notaries', 175], ['Eyebrow Services', 174], ['Reflexology', 173], ['Religious Organizations', 172], ['Naturopathic/Holistic', 172], ['Antiques', 171], ['Caribbean', 169], ['Mobile Phone Accessories', 168], ['Computers', 168], ['Bookstores', 168], ['Halal', 168], ['Bagels', 167], ['Shopping Centers', 164], ['Swimming Pools', 163], ['Graphic Design', 163], ['Martial Arts', 162], ['Periodontists', 162], ['Session Photography', 161], ['Carpeting', 161], ['Bubble Tea', 160], ['Bikes', 160], ['Latin American', 159], ['Electricians', 158], ['Gastropubs', 158], ['Cosmetic Surgeons', 156], ['Event Photography', 155], ['Used Car Dealers', 155], ['Windows Installation', 155], ['Photography Stores', 153], ['Urgent Care', 153], ['Security Systems', 151], ['Telecommunications', 150], ['Personal Injury Law', 150], ['Hot Tub', 149], ['Roofing', 148], ['Beer Bar', 147], ['Tree Services', 146], ['Auto Insurance', 146], ['Pharmacy', 146], ['Damage Restoration', 145], ['Obstetricians', 145], ['Gynecologists', 145], ['Dive Bars', 144], ['Chocolatiers', 144], ['Shops', 144], ['Meat Shops', 143], ['Festivals', 142], ['Churches', 142], ['Counseling', 142], ['Mental Health', 142], ['Noodles', 141], ['Rental Insurance', 140], ['Masonry/Concrete', 140], ['Windshield Installation', 139], ['Travel Services', 138], ['Landscape Architects', 138], ['Internet Service Providers', 137], ['Southern', 137], ['Tapas/Small Plates', 137], ['Farmers Market', 137], ['Sports Clubs', 136], ['Outdoor Gear', 135], ['Casinos', 134], ['Auto Customization', 133], ['Party Supplies', 133], ['Office Equipment', 133], ['Tea Rooms', 133], ['Hospitals', 131], ['Internal Medicine', 130], ['Ophthalmologists', 130], ['Watches', 130], ['Lighting Fixtures', 129], ['Equipment', 129], ['Cinema', 128], ['Divorce', 128], ['Family Law', 128], ['Sports Medicine', 128], ['Art Supplies', 126], ['Shades', 124], ['Blinds', 124], ['Pilates', 123], ['Pediatricians', 122], ['Pakistani', 120], ['Spray Tanning', 120], ['Piercing', 120], ['Boot Camps', 119], ['Musical Instruments', 119], ['Teachers', 119], ['Tax Services', 119], ['Marketing', 118], ['Couriers', 118], ['Delivery Services', 118], ['Dance Studios', 117], ['Recreation Centers', 116], ['Outlet Stores', 114], ['Home Inspectors', 114], ['Baby Gear', 113], ['Furniture', 113], ['Amusement Parks', 113], ['Cupcakes', 113], ['Vitamins', 112], ['Supplements', 112], ['Wholesale Stores', 112], ['Keys', 112], ['Locksmiths', 112], ['Arcades', 110], ['Museums', 109], ['Nail Technicians', 109], ['Candy Stores', 109], ['Custom Cakes', 109], ['Signmaking', 108], ['Jewelry Repair', 108], ['Pet Boarding', 108], ['Fruits', 107], ['Veggies', 107], ['Window Washing', 106], ['Kids Activities', 106], ['Tapas Bars', 106], ['Gardeners', 105], ['Limos', 103], ['Tiling', 103], ['Imported Food', 102], ['Wheel', 102], ['Rim Repair', 102], ['Formal Wear', 102], ['Food Stands', 100], ['Web Design', 100], ['Irrigation', 100], ['Mailbox Centers', 100], ['Threading Services', 99], ['Door Sales/Installation', 99], ['Garage Door Services', 99], ['Financial Advising', 99], ['Orthopedists', 99], ['Street Vendors', 98], ['Cards', 98], ['Stationery', 98], ['Motorcycle Dealers', 98], ['Videos', 98], ['Video Game Rental', 98], ['Middle Schools', 97], ['High Schools', 97], ['Smog Check Stations', 97], ['Adult Entertainment', 97], ['Cabinetry', 96], ['Dermatologists', 96], ['Reiki', 96], ['Criminal Defense Law', 95], ['Party Equipment Rentals', 95], ['Home Health Care', 94], ['Junk Removal', 94], ['Hauling', 94], ['Fish', 93], ['Chips', 93], ['Rehabilitation Center', 93], ['Karaoke', 93], ['Motorcycle Repair', 92], ['DVDs', 92], ['Airport Shuttles', 92], ['Educational Services', 91], ['Bike Repair/Maintenance', 91], ['Truck Rental', 90], ['Mass Media', 90], ['Bike Rentals', 90], ['Dog Walkers', 90], ['Pressure Washers', 89], ['Cajun/Creole', 87], ['Legal Services', 87], ['Accountants', 87], ['Car Window Tinting', 86], ['Playgrounds', 86], ['Soul Food', 85], ['Air Duct Cleaning', 85], ['Colleges', 84], ['Universities', 84], ['Hawaiian', 84], ['Life Insurance', 83], ['Laser Eye Surgery/Lasik', 83], ['Libraries', 83], ['Laboratory Testing', 81], ['Shoe Repair', 81], ['Furniture Reupholstery', 80], ['Diagnostic Imaging', 78], ['Pain Management', 77], ['Check Cashing/Pay-day Loans', 77], ['Watch Repair', 77], ['Patisserie/Cake Shop', 76], ['Surgeons', 76], ['Bowling', 76], ['Drywall Installation', 75], ['Life Coach', 75], ['Glass', 75], ['Mirrors', 75], ['Auto Loan Providers', 74], ['Art Classes', 74], ['Summer Camps', 73], ['Pawn Shops', 73], ['Lingerie', 73], ['Guns', 72], ['Ammo', 72], ['Interval Training Gyms', 72], ['Water Purification Services', 72], ['Advertising', 72], ['Dim Sum', 71], ['Ramen', 71], ['Coffee Roasteries', 71], ['Video/Film Production', 71], ['Leather Goods', 70], ['Butcher', 70], ['Traditional Chinese Medicine', 70], ['Dance Schools', 69], ['Comic Books', 69], ['Carpet Installation', 69], ['Creperies', 69], ['Home Window Tinting', 68], ['Mortgage Lenders', 68], ['Bankruptcy Law', 67], ['Packing Services', 67], ['Commercial Real Estate', 67], ['Gold Buyers', 67], ['Shaved Ice', 67], ['Hookah Bars', 67], ['Taxis', 66], ['Bed', 66], ['Taiwanese', 66], ['Floral Designers', 66], ['Post Offices', 65], ['General Litigation', 65], ['Car Stereo Installation', 65], ['DJs', 64], ['Fabric Stores', 64], ['Home Automation', 64], ['RV Repair', 64], ['DUI Law', 63], ['Filipino', 63], ['Gutter Services', 63], ['Medical Supplies', 63], ['Airports', 63], ['Estate Planning Law', 63], ['Boxing', 62], ['Podiatrists', 62], ['Amateur Sports Teams', 62], ['Cheesesteaks', 61], ['Musical Instrument Services', 61], ['Funeral Services', 60], ['Cemeteries', 60], ['Organic Stores', 60], ['Food Court', 60], ['Tutoring Centers', 59], ['Head Shops', 59], ['Framing', 59], ['Lebanese', 59], ['Packing Supplies', 58], ['Modern European', 58], ['Solar Installation', 58], ['Portuguese', 58], ['Hiking', 58], ['Resorts', 58], ['Do-It-Yourself Food', 58], ['Rugs', 58], ['Employment Agencies', 58], ['Fences', 58], ['Gates', 58], ['Seafood Markets', 58], ['Barre Classes', 57], ['Social Clubs', 57], ['Public Transportation', 57], ['Real Estate Law', 56], ['Cannabis Clinics', 56], ['Home Theatre Installation', 56], ['Video Game Stores', 56], ['Adult', 56], ['Escape Games', 55], ['Refinishing Services', 55], ['Wraps', 55], ['Television Service Providers', 55], ['Retirement Homes', 54], ['Walk-in Clinics', 54], ['Cosmetology Schools', 54], ['Plus Size Fashion', 54], ['Personal Shopping', 53], ['Data Recovery', 53], ['Tattoo Removal', 53], ['Persian/Iranian', 52], ['Tanning Beds', 52], ['Adult Education', 52], ['Wineries', 52], ['Cheese Shops', 52], ['Pet Adoption', 52], ['Gay Bars', 52], ['Dog Parks', 51], ['Investing', 51], ['Driving Schools', 51], ['Knitting Supplies', 51], ['Comedy Clubs', 51], ['Art Schools', 51], ['Cannabis Dispensaries', 51], ['Customized Merchandise', 51], ['Poke', 51], ['Home Organization', 50], ['Occupational Therapy', 50], ['Parking', 50], ['Videographers', 50], ['Ear Nose', 50], ['Throat', 50], ['Pool Halls', 50], ['Screen Printing/T-Shirt Printing', 50], ['Grout Services', 49], ['Airlines', 49], ['Business Law', 49], ['Cardiologists', 48], ['Animal Shelters', 48], ['Stadiums', 48], ['Arenas', 48], ['Metal Fabricators', 48], ['Internet Cafes', 47], ['Hair Loss Centers', 47], ['Irish', 47], ['Bespoke Clothing', 46], ['Gelato', 46], ['Departments of Motor Vehicles', 46], ['Private Tutors', 46], ['Roadside Assistance', 46], ['Septic Services', 45], ['Vehicle Wraps', 45], ['Assisted Living Facilities', 45], ['Countertop Installation', 45], ['Landmarks', 45], ['Historical Buildings', 45], ['Shutters', 45], ['Wigs', 45], ['Gun/Rifle Ranges', 44], ['Poutineries', 44], ['Laundromat', 44], ['African', 44], ['Teeth Whitening', 44], ['Boating', 44], ['Paint Stores', 44], ['Recycling Center', 44], ['Spanish', 43], ['Cardio Classes', 43], ['Swimming Lessons/Schools', 43], ['Country Clubs', 42], ['Party Bus Rentals', 42], ['Supernatural Readings', 42], ['Vacation Rentals', 42], ['Acai Bowls', 42], ['Photo Booth Rentals', 41], ['Costumes', 41], ['Team Building Activities', 41], ['Afghan', 41], ['Business Consulting', 41], ['Allergists', 40], ['Security Services', 40], ['Kosher', 40], ['Patio Coverings', 40], ['Neurologist', 40], ['Plastic Surgeons', 39], ['Vocational', 39], ['Technical School', 39], ['Radio Stations', 39], ['International Grocery', 38], ['Battery Stores', 38], ['Artificial Turf', 38], ['Jazz', 38], ['Blues', 38], ['Waffles', 38], ['Fireplace Services', 38], ['Brasseries', 38], ['Payroll Services', 38], ['Immigration Law', 37], ['Falafel', 37], ['University Housing', 37], ['Vinyl Records', 37], ['Body Contouring', 37], ['Bistros', 37], ['Utilities', 36], ['Shared Office Spaces', 36], ['Test Preparation', 36], ['Print Media', 36], ['Meditation Centers', 36], ['Carpenters', 35], ['Radiologists', 35], ['Title Loans', 35], ['Turkish', 34], ['RV Dealers', 34], ['Insulation Installation', 34], ['Herbs', 34], ['Spices', 34], ['Peruvian', 34], ['Snow Removal', 34], ['Irish Pub', 34], ['Screen Printing', 34], ['Boat Repair', 34], ['Appraisal Services', 34], ['Candle Stores', 33], ['Personal Chefs', 33], ['Skating Rinks', 33], ['Employment Law', 33], ['Psychiatrists', 33], ['Propane', 33], ['Swimwear', 33], ['Cycling Classes', 32], ['Registration Services', 32], ['Urologists', 32], ['Outdoor Furniture Stores', 32], ['Gymnastics', 31], ['Siding', 31], ['Embroidery', 31], ['Crochet', 31], ['Cantonese', 31], ['Brewpubs', 31], ['Fitness/Exercise Equipment', 31], ['Audiologist', 31], ['Sleep Specialists', 30], ['Guitar Stores', 30], ['Tabletop Games', 30], ['TV Mounting', 30], ['Hearing Aid Providers', 30], ['Delicatessen', 30], ['Cooking Schools', 29], ['Golf Equipment', 29], ['German', 29], ['Indoor Playcentre', 29], ['Commercial Truck Repair', 29], ['Dental Hygienists', 29], ['Wholesalers', 29], ['Hot Pot', 29], ['Bookkeepers', 29], ['Professional Sports Teams', 29], ['Tennis', 28], ['Special Education', 28], ['Paint', 28], ['Sip', 28], ['Pasta Shops', 28], ['IV Hydration', 28], ['Wills', 28], ['Trusts', 28], ['Probates', 28], ['Speech Therapists', 27], ['Hypnosis/Hypnotherapy', 27], ['Emergency Pet Hospital', 27], ['Uniforms', 27], ['Career Counseling', 27], ['Campgrounds', 27], ['Trailer Repair', 27], ['Cuban', 27], ['Car Buyers', 27], ['Soccer', 26], ['Beer Gardens', 26], ['Brazilian', 26], ['Lawn Services', 25], ['British', 25], ['Szechuan', 25], ['Waterproofing', 25], ['RV Parks', 25], ['Hunting', 25], ['Fishing Supplies', 25], ['Cooking Classes', 24], ['Mountain Biking', 24], ['Horseback Riding', 24], ['Shredding Services', 24], ['Mini Golf', 24], ['Home Network Installation', 24], ['Oncologist', 24], ['Gastroenterologist', 24], ['Wildlife Control', 24], ['Beaches', 24], ['Yelp Events', 24], ['Pan Asian', 24], ['Orthotics', 23], ['Trampoline Parks', 23], ['Polish', 23], ['Hospice', 23], ['Kickboxing', 23], ['Auto Upholstery', 23], ['Leisure Centers', 23], ['Wine Tasting Room', 23], ['Salvadoran', 23], ['Stucco Services', 23], ['Live/Raw Food', 23], ['Firearm Training', 22], ['RV Rental', 22], ['Furniture Repair', 22], ['Musicians', 22], ['Motorcycle Gear', 22], ['Real Estate Photography', 22], ['Luggage', 22], ['Walking Tours', 22], ['Souvenir Shops', 22], ['Service Stations', 22], ['Karate', 22], ['Decks', 21], ['Railing', 21], ['Taekwondo', 21], ['Midwives', 21], ['Magicians', 21], ['Osteopathic Physicians', 21], ['Home Staging', 21], ['Whiskey Bars', 21], ['Pet Breeders', 21], ['Clothing Rental', 21], ['Pretzels', 20], ['Ticket Sales', 20], ['Police Departments', 20], ['Malaysian', 20], ['Kids Hair Salons', 20], ['Day Camps', 20], ['Engraving', 20], ['Spiritual Shop', 20], ['Farms', 20], ['Himalayan/Nepalese', 20], ['Auction Houses', 20], ['Awnings', 20], ['Commercial Truck Dealers', 20], ['Rafting/Kayaking', 20], ['Billiards', 19], ['Water Stores', 19], ['Brazilian Jiu-jitsu', 19], ['Henna Artists', 19], ['Estheticians', 19], ['Travel Agents', 19], ['Popcorn Shops', 19], ['Holiday Decorations', 19], ['Lactation Services', 19], ['Macarons', 19], ['Furniture Assembly', 19], ['Wedding Chapels', 19], ['Installment Loans', 19], ['Aestheticians', 19], ['Kebab', 18], ['Acne Treatment', 18], ['Psychologists', 18], ['Addiction Medicine', 18], ['Water Delivery', 18], ['Pulmonologist', 18], ['Strip Clubs', 18], ['Knife Sharpening', 18], ['Aquarium Services', 18], ['Laser Tag', 18], ['Montessori Schools', 18], ['Doulas', 18], ['Cremation Services', 18], ['Skilled Nursing', 18], ['Archery', 18], ['Fertility', 18], ['Aquariums', 18], ['New Mexican Cuisine', 18], ['Private Investigation', 18], ['Sunglasses', 18], ['Buses', 17], ['Vehicle Shipping', 17], ['ATV Rentals/Tours', 17], ['Boat Dealers', 17], ['Bus Tours', 17], ['Golf Lessons', 17], ['Endocrinologists', 17], ['Prosthodontists', 17], ['Zoos', 17], ['Train Stations', 17], ['Auto Security', 17], ['Hats', 17], ['Medical Transportation', 17], ['Mobile Dent Repair', 17], ['Balloon Services', 17], ['Condominiums', 17], ['Hydro-jetting', 17], ['Moroccan', 17], ['Hydrotherapy', 17], ['Alternative Medicine', 16], ['Boudoir Photography', 16], ['Architects', 16], ['Donairs', 16], ['Christmas Trees', 16], ['Donation Center', 16], ['Farming Equipment', 16], ['Smokehouse', 16], ['Go Karts', 16], ['Grilling Equipment', 16], ['Demolition Services', 16], ['Race Tracks', 16], ['Prenatal/Perinatal Care', 16], ['Argentine', 15], ['Saunas', 15], ['Mobility Equipment Sales', 15], ['Skate Shops', 15], ['Recording', 15], ['Rehearsal Studios', 15], ['Nanny Services', 15], ['Float Spa', 15], ['Community Centers', 15], ['Speakeasies', 15], ['Hakka', 15], ['Challenge Courses', 15], ['Arabian', 15], ['Lighting Stores', 15], ['Psychics', 15], ['CPR Classes', 15], ['Emergency Rooms', 15], ['Pet Cremation Services', 15], ['Colonics', 15], ['Personal Assistants', 15], ['Local Fish Stores', 15], ['Paint-Your-Own Pottery', 14], ['Medical Law', 14], ['Opera', 14], ['Ballet', 14], ['Diving', 14], ['Public Relations', 14], ['Motorcycle Rental', 14], ['Circuit Training Gyms', 14], ['Cabaret', 14], ['Airport Lounges', 14], ['Furniture Rental', 14], ['Officiants', 14], ['Ethiopian', 14], ['Art Museums', 14], ['Anesthesiologists', 14], ['Pet Photography', 14], ['Farm Equipment Repair', 14], ['Trailer Dealers', 14], ['Safe Stores', 14], ['Medical Cannabis Referrals', 14], ['Estate Liquidation', 14], ['Sugaring', 14], ['Debt Relief Services', 14], ['Climbing', 14], ['Paddleboarding', 14], ['Boat Charters', 14], ['Fishing', 13], ['Rock Climbing', 13], ['Distilleries', 13], ['Personal Care Services', 13], ['Self-defense Classes', 13], ['Perfume', 13], ['Piano Services', 13], ['Vacation Rental Agents', 13], ['Spine Surgeons', 13], ['Bartenders', 13], ['Courthouses', 13], ['Health Coach', 13], ['Roof Inspectors', 13], ['Tea Supplies', 13], ['Workers Compensation Law', 13], ['Trophy Shops', 13], ['Maternity Wear', 13], ['Health Insurance Offices', 12], ['Scuba Diving', 12], ['Environmental Abatement', 12], ['Historical Tours', 12], ['Nurse Practitioner', 12], ['Axe Throwing', 12], ['Used Bookstore', 12], ['Cafeteria', 12], ['Trailer Rental', 12], ['Pop-up Shops', 12], ['Face Painting', 12], ['Childbirth Education', 12], ['First Aid Classes', 12], ['Massage Schools', 12], ['Fire Protection Services', 12], ['Social Security Law', 12], ['Newspapers', 12], ['Magazines', 12], ['LAN Centers', 12], ['Ski', 12], ['Snowboard Shops', 12], ['Hostels', 12], ['International', 12], ['Car Brokers', 12], ['Paintball', 11], ['Fondue', 11], ['Russian', 11], ['Skate Parks', 11], ['Races', 11], ['Competitions', 11], ['Business Financing', 11], ['Beer Tours', 11], ['Guest Houses', 11], ['Eatertainment', 11], ['Bail Bondsmen', 11], ['Traffic Ticketing Law', 11], ['Powder Coating', 11], ['Mobile Home Parks', 11], ['Dumpster Rental', 11], ['Lakes', 11], ['Venezuelan', 11], ['Solar Panel Cleaning', 11], ['Cultural Center', 11], ['Batting Cages', 10], ['Aerial Tours', 10], ['Home Energy Auditors', 10], ['Tai Chi', 10], ['Blood', 10], ['Plasma Donation Centers', 10], ['Belgian', 10], ['House Sitters', 10], ['Public Markets', 10], ['Sri Lankan', 10], ['Restaurant Supplies', 10], ['Chimney Sweeps', 10], ['Bounce House Rentals', 10], ['Tenant and Eviction Law', 10], ['Foundation Repair', 10], ['Livestock Feed', 10], ['Supply', 10], ['Wallpapering', 10], ['Hungarian', 10], ['Memory Care', 10], ['Piano Bars', 10], ['Process Servers', 10], ['Town Car Service', 10], ['Cryotherapy', 10], ['Tui Na', 10], ['Software Development', 10], ['Flea Markets', 10], ['Food Tours', 10], ['Wine Tours', 10], ['South African', 10], ['Television Stations', 9], ['Jet Skis', 9], ['High Fidelity Audio Equipment', 9], ['CSA', 9], ['Tasting Classes', 9], ['Herbal Shops', 9], ['Religious Schools', 9], ['Vascular Medicine', 9], ['Beverage Store', 9], ['Machine', 9], ['Tool Rental', 9], ['Environmental Testing', 9], ['Mortuary Services', 9], ['Home Developers', 9], ['Indonesian', 9], ['Translation Services', 9], [\"Children's Museums\", 9], ['Preventive Medicine', 8], ['Flight Instruction', 8], ['Ukrainian', 8], ['Singaporean', 8], ['Cideries', 8], ['Talent Agencies', 8], ['Psychic Mediums', 8], ['Holistic Animal Care', 8], ['Currency Exchange', 8], ['Airport Terminals', 8], ['Editorial Services', 8], ['Izakaya', 8], ['Hong Kong Style Cafe', 8], ['Pick Your Own Farms', 8], ['Outdoor Power Equipment Services', 8], ['Champagne Bars', 8], ['Prosthetics', 8], ['Haunted Houses', 8], ['Bird Shops', 8], ['Valet Services', 8], ['Fingerprinting', 8], ['Homeowner Association', 8], ['Themed Cafes', 8], ['Parenting Classes', 8], ['Mongolian', 8], ['Shoe Shine', 8], ['Cambodian', 8], ['Empanadas', 7], ['Dumplings', 7], ['Bar Crawl', 7], ['Matchmakers', 7], ['Wine Tasting Classes', 7], ['Product Design', 7], ['Cigar Bars', 7], ['Brewing Supplies', 7], ['Placenta Encapsulations', 7], ['Bartending Schools', 7], ['Basketball Courts', 7], ['Virtual Reality Centers', 7], ['Bingo Halls', 7], ['Pet Transportation', 7], ['Kitchen Supplies', 7], ['Ethical Grocery', 7], ['Teppanyaki', 7], ['Botanical Gardens', 7], ['Health Retreats', 7], ['Halotherapy', 7], ['Party Characters', 6], ['Hockey Equipment', 6], ['Golf Cart Rentals', 6], ['Motorsport Vehicle Dealers', 6], ['Dietitians', 6], ['Pole Dancing Classes', 6], ['Attraction Farms', 6], ['Horse Racing', 6], ['Music Production Services', 6], ['Firewood', 6], ['Generator Installation/Repair', 6], ['Misting System Services', 6], ['Emergency Medicine', 6], ['Excavation Services', 6], ['Tax Law', 6], ['Country Dance Halls', 6], ['Commissioned Artists', 6], ['Ultrasound Imaging Centers', 6], ['Language Schools', 6], ['Horse Equipment Shops', 6], ['Hot Air Balloons', 6], ['Muay Thai', 6], ['Colombian', 6], ['Golf Cart Dealers', 5], ['Cannabis Tours', 5], ['Car Share Services', 5], ['Skydiving', 5], ['Pet Waste Removal', 5], ['Rheumatologists', 5], ['Immunodermatologists', 5], ['College Counseling', 5], ['Tableware', 5], ['Dinner Theater', 5], ['Aerial Fitness', 5], ['Dance Wear', 5], ['Behavior Analysts', 5], ['Gunsmith', 5], ['Elder Care Planning', 5], ['Hybrid Car Repair', 5], ['Hazardous Waste Disposal', 5], ['Art Restoration', 5], ['Machine Shops', 5], ['Pumpkin Patches', 5], ['Mobile Home Dealers', 5], ['Concierge Medicine', 5], ['Diamond Buyers', 5], ['Buddhist Temples', 5], ['Bike tours', 5], ['Contract Law', 5], ['Lice Services', 5], ['Mediators', 5], ['Sex Therapists', 5], ['Oxygen Bars', 5], ['Fire Departments', 5], ['Gemstones', 5], ['Minerals', 5], ['Ethnic Grocery', 5], ['Golf Equipment Shops', 5], ['Mobile Home Repair', 5], ['Fur Clothing', 5], ['Audio/Visual Equipment Rental', 5], ['Clock Repair', 5], ['Haitian', 5], ['Dominican', 5], ['Puerto Rican', 5], ['Drive-In Theater', 5], ['Reptile Shops', 5], ['Olive Oil', 5], ['Passport', 5], ['Visa Services', 5], ['Trains', 5], ['Club Crawl', 5], ['Supper Clubs', 5], ['Egyptian', 5], ['Australian', 4], ['Senior Centers', 4], ['Military Surplus', 4], ['Honey', 4], ['Game Truck Rental', 4], ['Nursing Schools', 4], ['Clowns', 4], ['Pathologists', 4], ['Petting Zoos', 4], ['Disc Golf', 4], ['Infectious Disease Specialists', 4], ['3D Printing', 4], ['IP', 4], ['Internet Law', 4], ['Car Auctions', 4], ['Junkyards', 4], ['Bangladeshi', 4], ['Striptease Dancers', 4], ['Pet Hospice', 4], ['Synagogues', 4], ['Shaved Snow', 4], ['Glass Blowing', 4], ['Racing Experience', 4], ['Embassy', 4], ['Disability Law', 4], ['Water Parks', 4], ['Ice Delivery', 4], ['Sandblasting', 4], ['Adoption Services', 4], ['Meaderies', 4], ['Pancakes', 4], ['Tiki Bars', 4], ['Art Space Rentals', 3], ['Chinese Martial Arts', 3], ['Carpet Dyeing', 3], ['Conveyor Belt Sushi', 3], ['Surfing', 3], ['Civic Center', 3], ['Childproofing', 3], ['Retina Specialists', 3], ['Visitor Centers', 3], ['Digitizing Services', 3], ['Proctologists', 3], ['Qi Gong', 3], ['Astrologers', 3], ['Playsets', 3], ['Surf Shop', 3], ['Reproductive Health Services', 3], ['Snorkeling', 3], ['Party Bike Rentals', 3], ['Motorsport Vehicle Repairs', 3], ['Ski Resorts', 3], ['Private Schools', 3], ['Religious Items', 3], ['Laotian', 3], ['Basque', 3], ['Art Tours', 3], ['Sailing', 3], ['Motorcycle Parts', 3], ['Grill Services', 3], ['Rolfing', 3], ['Crane Services', 3], ['Architectural Tours', 3], ['Syrian', 3], ['Beach Equipment Rentals', 3], ['Food Banks', 3], ['Planetarium', 3], ['Sugar Shacks', 3], ['Unofficial Yelp Events', 3], ['Ziplining', 3], ['Car Inspectors', 3], ['Cannabis Collective', 3], ['Gerontologists', 3], ['Holiday Decorating Services', 3], ['Photography Classes', 3], ['Fireworks', 3], ['Veterans Organizations', 3], ['Bookbinding', 3], ['Honduran', 3], ['Safety Equipment', 3], ['Ayurveda', 3], ['Spin Classes', 3], ['Dive Shops', 3], ['Burmese', 3], ['Observatories', 3], ['Scooter Rentals', 3], ['Japanese Curry', 3], ['Marinas', 3], ['Piano Stores', 3], ['Neurotologists', 3], ['Public Adjusters', 2], ['Hotel bar', 2], ['Bike Sharing', 2], ['Drones', 2], ['Storefront Clinics', 2], ['Ranches', 2], ['Nudist', 2], ['Hydroponics', 2], ['Baseball Fields', 2], ['Backflow Services', 2], ['Habilitative Services', 2], ['Interlock Systems', 2], ['Austrian', 2], ['Well Drilling', 2], ['Otologists', 2], ['Scooter Tours', 2], ['Traffic Schools', 2], ['Scandinavian', 2], ['Water Suppliers', 2], ['Badminton', 2], ['Private Jet Charter', 2], ['Bicycles', 2], ['Bike Shop', 2], ['Coffeeshops', 2], ['Duty-Free Shops', 2], ['Duplication Services', 2], ['Scottish', 2], ['Props', 2], ['Hindu Temples', 2], ['Surf Schools', 2], ['Game Meat', 2], ['Airsoft', 2], ['Foot Care', 2], ['Iberian', 2], ['Kombucha', 2], ['Scavenger Hunts', 2], ['Nephrologists', 2], ['Pickleball', 2], ['Tubing', 2], ['Crisis Pregnancy Centers', 2], ['Trinidadian', 2], ['Makerspaces', 2], ['Public Art', 2], ['Aviation Services', 2], ['Pet Insurance', 2], ['Pop-Up Restaurants', 2], ['Consumer Law', 2], ['Land Surveying', 2], ['Signature Cuisine', 1], ['Slovakian', 1], ['Vocal Coach', 1], ['Auto Electric Services', 1], ['Medical Foot Care', 1], ['Trivia Hosts', 1], ['Sheds', 1], ['Outdoor Storage', 1], ['Beach Bars', 1], ['Milkshake Bars', 1], ['Apartment Agents', 1], ['Municipality', 1], ['Concept Shops', 1], ['Stonemasons', 1], ['Undersea/Hyperbaric Medicine', 1], ['Soba', 1], ['Ski Schools', 1], ['Portable Toilet Services', 1], ['Structural Engineers', 1], ['Bocce Ball', 1], ['Animal Physical Therapy', 1], ['Homeless Shelters', 1], ['Boat Tours', 1], ['Calabrian', 1], ['Fencing Clubs', 1], ['Eastern European', 1], ['Jails', 1], ['Prisons', 1], ['Horse Boarding', 1], ['General Festivals', 1], ['Carousels', 1], ['Aircraft Dealers', 1], ['Bus Rental', 1], ['Osteopaths', 1], ['Biohazard Cleanup', 1], ['Drama Schools', 1], ['Homeopathic', 1], ['Elder Law', 1], ['Sikh Temples', 1], ['Bus Stations', 1], ['Guamanian', 1], ['Food Safety Training', 1], ['Rest Stops', 1], ['Armenian', 1], ['EV Charging Stations', 1], ['Chimney Cakes', 1], ['Czech', 1], ['Free Diving', 1], ['Art Consultants', 1], ['Ceremonial Clothing', 1], ['Beer Hall', 1], ['Hang Gliding', 1], ['Market Stalls', 1], ['Udon', 1], ['Geneticists', 1], ['Customs Brokers', 1], ['Indoor Landscaping', 1], ['Sauna Installation', 1], ['Shanghainese', 1], ['Tickets', 1], ['Town Hall', 1], ['Pub Food', 1], ['Boat Parts', 1], ['Polynesian', 1], ['Hepatologists', 1], ['Electricity Suppliers', 1], ['Natural Gas Suppliers', 1], ['Flyboarding', 1], ['Dialysis Clinics', 1], ['Mauritius', 1], ['Uzbek', 1], ['Pedicabs', 1], ['Experiences', 1], ['Cheerleading', 1]]\n"
     ]
    }
   ],
   "source": [
    "all_classes=sorted(all_classes, key=lambda x: x[1], reverse=True)\n",
    "print(all_classes)"
   ]
  },
  {
   "cell_type": "code",
   "execution_count": 8,
   "metadata": {},
   "outputs": [],
   "source": [
    "map_classes = {\n",
    "                'Restaurants': 'Food', 'Food': 'Food', 'Frozen Yogurt': 'Food', 'Pizza': 'Food', 'Bars': 'Food', 'Coffee': 'Food',\n",
    "                'Cafes': 'Food', 'Fast Food': 'Food', 'Bakeries': 'Food', 'Tea' : 'Food', 'Breakfast': 'Food',\n",
    "                'Wine': 'Food', 'Sandwiches': 'Food', 'Burgers': 'Food', 'Brunch': 'Food', 'Breakfast': 'Food', 'Desserts': 'Food',\n",
    "                'Vegetarian': 'Food', 'Vegan': 'Food', \n",
    "\n",
    "                'Health': 'Health', 'Dentists': 'Health', 'Doctors': 'Health', 'Medical Centers': 'Health', 'Drugstores': 'Health',\n",
    "                'Local Services': 'Health', \n",
    "\n",
    "                'Local Services': 'Local Services', 'Car Dealers': 'Local Services', 'Professional Services': 'Local Services', \n",
    "                'Home Services': 'Local Services','Garden': 'Local Services', 'Real Estate': 'Local Services',\n",
    "                'Auto Repair': 'Local Services', 'Pet Services': 'Local Services', 'Home Cleaning': 'Local Services', \n",
    "                'Public Services': 'Local Services', 'Home Decor': 'Local Services', \n",
    "                'Automotive': 'Local Services', 'Pets': 'Local Services',\n",
    "    \n",
    "                'Hair Salons': 'Salons', 'Nail Salons': 'Salons', 'Beauty': 'Salons', 'Hair Salons': 'Salons', 'Makeup Artists': 'Salons',\n",
    "                'Hair Removal': 'Salons', 'Massage': 'Salons', 'Barbers': 'Salons', 'Beauty Supply': 'Salons',\n",
    "                \n",
    "                'Entertainment': 'Entertainment', 'Event Planning': 'Entertainment', 'Golf': 'Entertainment',\n",
    "                'Active Life': 'Entertainment', 'Nightlife': 'Entertainment',\n",
    "\n",
    "                'Hotels': 'Travel', 'Travel': 'Travel',\n",
    "    \n",
    "                'Jewelry': 'Shopping', 'Shopping': 'Shopping', 'Hobby Shops': 'Shopping', \n",
    "\n",
    "                'Fitness': 'Fitness', 'Sporting Goods': 'Fitness', 'Gyms': 'Fitness', 'Sports Bars': 'Fitness', \n",
    "    \n",
    "                'Churches': 'Religious','Religious Organizations': 'Religious',\n",
    "    \n",
    "                'Education': 'Education',\n",
    "    \n",
    "                'Banks': 'Financial Services', 'Financial Services': 'Financial Services',\n",
    "    \n",
    "                'Mass Media': 'Media'\n",
    "        }"
   ]
  },
  {
   "cell_type": "code",
   "execution_count": 9,
   "metadata": {},
   "outputs": [
    {
     "name": "stdout",
     "output_type": "stream",
     "text": [
      "24\n"
     ]
    },
    {
     "data": {
      "text/plain": [
       "[['Local Flavor'],\n",
       " ['Local Flavor'],\n",
       " ['Local Flavor', ' Yelp Events'],\n",
       " ['Yelp Events', ' Local Flavor'],\n",
       " ['Yelp Events', ' Local Flavor'],\n",
       " ['Local Flavor'],\n",
       " ['Yelp Events', ' Local Flavor'],\n",
       " ['Local Flavor'],\n",
       " ['Local Flavor', ' Yelp Events'],\n",
       " ['Local Flavor', ' Yelp Events'],\n",
       " ['Local Flavor', ' Yelp Events'],\n",
       " ['Local Flavor'],\n",
       " ['Local Flavor', ' Yelp Events'],\n",
       " ['Local Flavor'],\n",
       " ['Local Flavor', ' Yelp Events'],\n",
       " ['Local Flavor'],\n",
       " ['Local Flavor', ' Yelp Events'],\n",
       " ['Yelp Events', ' Local Flavor'],\n",
       " ['Local Flavor'],\n",
       " ['Local Flavor'],\n",
       " ['Yelp Events', ' Local Flavor'],\n",
       " ['Local Flavor', ' Yelp Events'],\n",
       " ['Local Flavor'],\n",
       " ['Yelp Events', ' Local Flavor']]"
      ]
     },
     "execution_count": 9,
     "metadata": {},
     "output_type": "execute_result"
    }
   ],
   "source": [
    "cat = {}\n",
    "bad = []\n",
    "for x in df.categories:\n",
    "    flg = False\n",
    "    for cls in x:\n",
    "        cls = cls.strip()\n",
    "        if not cls in map_classes: continue\n",
    "        flg = True\n",
    "        mapped_cls = map_classes[cls]\n",
    "        if mapped_cls not in cat: cat[mapped_cls]=1\n",
    "        else: cat[mapped_cls]+=1\n",
    "    if flg is False:\n",
    "        bad.append(x)\n",
    "        \n",
    "print(len(bad))\n",
    "bad[:100]"
   ]
  },
  {
   "cell_type": "code",
   "execution_count": 10,
   "metadata": {},
   "outputs": [],
   "source": [
    "classes_set = set(map_classes.values())"
   ]
  },
  {
   "cell_type": "code",
   "execution_count": 11,
   "metadata": {},
   "outputs": [],
   "source": [
    "test = []\n",
    "for arr in df['categories']:\n",
    "    test.append(None)\n",
    "    for x in arr:\n",
    "        cls = x.strip()\n",
    "        if not cls in classes_set: \n",
    "            continue\n",
    "        test[-1] = map_classes[cls]\n",
    "        break\n",
    "df['categories'] = test"
   ]
  },
  {
   "cell_type": "code",
   "execution_count": 12,
   "metadata": {},
   "outputs": [],
   "source": [
    "df = df[df['categories'].notnull()]"
   ]
  },
  {
   "cell_type": "code",
   "execution_count": 13,
   "metadata": {
    "scrolled": true
   },
   "outputs": [
    {
     "data": {
      "image/png": "[encoded data removed]",
      "text/plain": [
       "<Figure size 432x288 with 1 Axes>"
      ]
     },
     "metadata": {
      "image/png": {
       "height": 357,
       "width": 395
      },
      "needs_background": "light"
     },
     "output_type": "display_data"
    }
   ],
   "source": [
    "chart = sns.countplot(df['categories'], palette='hls')\n",
    "plt.title('Number of business per Category')\n",
    "chart.set_xticklabels(chart.get_xticklabels(), horizontalalignment='center', rotation=90);"
   ]
  },
  {
   "cell_type": "code",
   "execution_count": 14,
   "metadata": {},
   "outputs": [
    {
     "name": "stdout",
     "output_type": "stream",
     "text": [
      "<class 'pandas.core.frame.DataFrame'>\n",
      "Int64Index: 30222 entries, 0 to 56061\n",
      "Data columns (total 28 columns):\n",
      " #   Column          Non-Null Count  Dtype  \n",
      "---  ------          --------------  -----  \n",
      " 0   Unnamed: 0      30222 non-null  int64  \n",
      " 1   business_id     30222 non-null  object \n",
      " 2   name            30222 non-null  object \n",
      " 3   address         29151 non-null  object \n",
      " 4   city            30222 non-null  object \n",
      " 5   state           30222 non-null  object \n",
      " 6   postal_code     30160 non-null  object \n",
      " 7   latitude        30222 non-null  float64\n",
      " 8   longitude       30222 non-null  float64\n",
      " 9   stars           30222 non-null  float64\n",
      " 10  review_count    30222 non-null  int64  \n",
      " 11  is_open         30222 non-null  int64  \n",
      " 12  attributes      26532 non-null  object \n",
      " 13  categories      30222 non-null  object \n",
      " 14  hours           24629 non-null  object \n",
      " 15  url             30222 non-null  object \n",
      " 16  webpage_text    27327 non-null  object \n",
      " 17  1.0             30222 non-null  int64  \n",
      " 18  1.5             30222 non-null  int64  \n",
      " 19  2.0             30222 non-null  int64  \n",
      " 20  2.5             30222 non-null  int64  \n",
      " 21  3.0             30222 non-null  int64  \n",
      " 22  3.5             30222 non-null  int64  \n",
      " 23  4.0             30222 non-null  int64  \n",
      " 24  4.5             30222 non-null  int64  \n",
      " 25  5.0             30222 non-null  int64  \n",
      " 26  is_eng          30222 non-null  bool   \n",
      " 27  webpage_corpus  17823 non-null  object \n",
      "dtypes: bool(1), float64(3), int64(12), object(12)\n",
      "memory usage: 7.7+ MB\n"
     ]
    }
   ],
   "source": [
    "df.info()"
   ]
  },
  {
   "cell_type": "code",
   "execution_count": 15,
   "metadata": {},
   "outputs": [
    {
     "name": "stdout",
     "output_type": "stream",
     "text": [
      "['this', 'is', 'an', 'open', '-', 'source', 'project', 'for', 'category', 'detection', 'of', 'businesses', 'based', 'on', 'their', 'website', 'contents', '!']\n",
      "[2023, 2003, 2019, 2330, 1011, 3120, 2622, 2005, 4696, 10788, 1997, 5661, 2241, 2006, 2037, 4037, 8417, 999]\n"
     ]
    }
   ],
   "source": [
    "folder_path = os.path.join('..', '..', 'data','uncased_L-12_H-768_A-12')\n",
    "tokenizer = FullTokenizer(vocab_file=os.path.join(folder_path, 'vocab.txt'))\n",
    "\n",
    "bert_ckpt_file = os.path.join(folder_path, 'bert_model.ckpt')\n",
    "bert_config_file = os.path.join(folder_path, 'bert_config.json')\n",
    "\n",
    "tokens_test = tokenizer.tokenize('This is an open-source project for category detection of businesses based on their website contents!')\n",
    "print(tokens_test)\n",
    "print(tokenizer.convert_tokens_to_ids(tokens_test))"
   ]
  },
  {
   "cell_type": "code",
   "execution_count": 16,
   "metadata": {},
   "outputs": [],
   "source": [
    "class categoryDetection:    \n",
    "    def __init__(self, train, test, tokenizer: FullTokenizer, text_colname=None, label_colname=None, max_seq_len=128):\n",
    "        \"\"\"  \n",
    "        \"\"\"\n",
    "        self.text_colname = 'webpage_corpus' if text_colname is None else text_colname\n",
    "        if not self.text_colname in train.columns or not self.text_colname in test.columns:\n",
    "            print('Error: Please specify a proper column name in the input dataframe as the corpus.')\n",
    "            return\n",
    "        \n",
    "        self.label_colname = 'categories' if label_colname is None else label_colname\n",
    "        if not self.label_colname in train.columns or not self.label_colname in test.columns:\n",
    "            print('Error: Please specify a proper column name in the input dataframe as the labels.')\n",
    "            return\n",
    "        \n",
    "        self.classes = train[self.label_colname].unique().tolist()\n",
    "        self.classes.sort()\n",
    "        \n",
    "        train = train.dropna(subset=[self.text_colname])\n",
    "        test = test.dropna(subset=[self.text_colname])\n",
    "        \n",
    "        self.max_seq_len = 0\n",
    "        self.tokenizer = tokenizer\n",
    "        (self.train_x, self.train_y), (self.test_x, self.test_y) = map(self._tokanize, [train, test])\n",
    "        self.max_seq_len = min(self.max_seq_len, max_seq_len)\n",
    "        self.train_x, self.test_x = map(self._cut_with_padding, [self.train_x, self.test_x])\n",
    "    \n",
    "    def build_model(self, bert_config_file, bert_ckpt_file, dropout=0.6):\n",
    "        \"\"\"\n",
    "        \"\"\"\n",
    "        bert = self._load_bert(bert_config_file, bert_ckpt_file)\n",
    "        input_ = keras.layers.Input(shape=(self.max_seq_len, ), dtype='int64')\n",
    "        x = bert(input_)\n",
    "        #get the first embedding from the output of BERT\n",
    "        x = keras.layers.Lambda(lambda seq: seq[:,0,:])(x)\n",
    "        \n",
    "        x = keras.layers.Dropout(dropout)(x)\n",
    "        x = keras.layers.Dense(300, activation='relu')(x)\n",
    "        x = keras.layers.Dense(300, activation='relu')(x)\n",
    "        output_ = keras.layers.Dense(units=len(self.classes), activation='softmax')(x)\n",
    "        \n",
    "        model = keras.Model(inputs=input_, outputs=output_)\n",
    "        model.build(input_shape=(None, self.max_seq_len))\n",
    "        \n",
    "        load_stock_weights(bert, bert_ckpt_file)\n",
    "        \n",
    "        return model\n",
    "    \n",
    "    def _load_bert(self, bert_config_file, bert_ckpt_file):\n",
    "        try:\n",
    "            with tf.io.gfile.GFile(bert_config_file, 'r') as gf:\n",
    "                bert_config = StockBertConfig.from_json_string(gf.read())\n",
    "                bert_params = map_stock_config_to_params(bert_config)\n",
    "                bert_params.adapter_size = None\n",
    "                bert = BertModelLayer.from_params(bert_params, name='bert')\n",
    "                return bert\n",
    "        except Exception as e:\n",
    "            print(e)\n",
    "    \n",
    "    def _tokanize(self, df):\n",
    "        \"\"\"\n",
    "        \"\"\"\n",
    "        X, y = [], []\n",
    "        for _, entry in tqdm(df.iterrows()):\n",
    "            corpus, label = entry[self.text_colname], entry[self.label_colname]\n",
    "            tokens = self.tokenizer.tokenize(corpus)\n",
    "            tokens = ['[CLS]'] + tokens + ['[SEP]']\n",
    "            ids = self.tokenizer.convert_tokens_to_ids(tokens)\n",
    "            self.max_seq_len = max(self.max_seq_len, len(ids))\n",
    "            X.append(ids)\n",
    "            y.append(self.classes.index(label))\n",
    "        return np.asarray(X), np.asarray(y)\n",
    "    \n",
    "    def _cut_with_padding(self, ids):\n",
    "        \"\"\"\n",
    "        \"\"\"\n",
    "        X = []\n",
    "        CLS_id = self.tokenizer.convert_tokens_to_ids(['[CLS]'])\n",
    "        SEP_id = self.tokenizer.convert_tokens_to_ids(['[SEP]'])\n",
    "        for token_id in ids:\n",
    "            # ignore tokens '[CLS]' and '[SEP]' for now\n",
    "            arr = token_id[1:-1]\n",
    "            sz = min(len(arr), self.max_seq_len - 2)\n",
    "            arr = CLS_id + arr[:sz] + SEP_id\n",
    "            # pad the remaining cells with zero\n",
    "            arr = arr + [0] * (self.max_seq_len - len(arr))\n",
    "            X.append(np.asarray(arr))\n",
    "        return np.asarray(X)"
   ]
  },
  {
   "cell_type": "code",
   "execution_count": 17,
   "metadata": {},
   "outputs": [],
   "source": [
    "def compile_model(cat:categoryDetection, model, validation_split=0.05, batch_size=64, n_epochs=10, shuffle=True):\n",
    "    model.compile(optimizer=keras.optimizers.Adam(1e-5),\n",
    "              loss=keras.losses.SparseCategoricalCrossentropy(from_logits=True),\n",
    "              metrics=[keras.metrics.SparseCategoricalAccuracy(name='acc')])\n",
    "    print(model.summary())\n",
    "    history = model.fit(\n",
    "        x=cat.train_x,\n",
    "        y=cat.train_y,\n",
    "        validation_split=validation_split,\n",
    "        batch_size=batch_size,\n",
    "        shuffle=shuffle,\n",
    "        epochs=n_epochs\n",
    "    )"
   ]
  },
  {
   "cell_type": "code",
   "execution_count": 18,
   "metadata": {},
   "outputs": [],
   "source": [
    "split_sz = int(len(df) * 0.8)\n",
    "train = df[:split_sz]\n",
    "test = df[split_sz:]"
   ]
  },
  {
   "cell_type": "code",
   "execution_count": 19,
   "metadata": {
    "scrolled": false
   },
   "outputs": [
    {
     "name": "stderr",
     "output_type": "stream",
     "text": [
      "14313it [02:49, 84.49it/s] \n",
      "3510it [00:38, 91.34it/s] \n"
     ]
    }
   ],
   "source": [
    "cat = categoryDetection(train, test, tokenizer, max_seq_len=100)"
   ]
  },
  {
   "cell_type": "code",
   "execution_count": 20,
   "metadata": {},
   "outputs": [
    {
     "name": "stdout",
     "output_type": "stream",
     "text": [
      "Done loading 196 BERT weights from: ../../data/uncased_L-12_H-768_A-12/bert_model.ckpt into <bert.model.BertModelLayer object at 0x7f11950bb390> (prefix:bert). Count of weights not found in the checkpoint was: [0]. Count of weights with mismatched shape: [0]\n",
      "Unused weights from checkpoint: \n",
      "\tbert/embeddings/token_type_embeddings\n",
      "\tbert/pooler/dense/bias\n",
      "\tbert/pooler/dense/kernel\n",
      "\tcls/predictions/output_bias\n",
      "\tcls/predictions/transform/LayerNorm/beta\n",
      "\tcls/predictions/transform/LayerNorm/gamma\n",
      "\tcls/predictions/transform/dense/bias\n",
      "\tcls/predictions/transform/dense/kernel\n",
      "\tcls/seq_relationship/output_bias\n",
      "\tcls/seq_relationship/output_weights\n"
     ]
    }
   ],
   "source": [
    "model = cat.build_model(bert_config_file, bert_ckpt_file)"
   ]
  },
  {
   "cell_type": "code",
   "execution_count": 21,
   "metadata": {},
   "outputs": [
    {
     "name": "stdout",
     "output_type": "stream",
     "text": [
      "Model: \"model\"\n",
      "_________________________________________________________________\n",
      "Layer (type)                 Output Shape              Param #   \n",
      "=================================================================\n",
      "input_1 (InputLayer)         [(None, 100)]             0         \n",
      "_________________________________________________________________\n",
      "bert (BertModelLayer)        (None, 100, 768)          108890112 \n",
      "_________________________________________________________________\n",
      "lambda (Lambda)              (None, 768)               0         \n",
      "_________________________________________________________________\n",
      "dropout (Dropout)            (None, 768)               0         \n",
      "_________________________________________________________________\n",
      "dense (Dense)                (None, 300)               230700    \n",
      "_________________________________________________________________\n",
      "dense_1 (Dense)              (None, 300)               90300     \n",
      "_________________________________________________________________\n",
      "dense_2 (Dense)              (None, 9)                 2709      \n",
      "=================================================================\n",
      "Total params: 109,213,821\n",
      "Trainable params: 109,213,821\n",
      "Non-trainable params: 0\n",
      "_________________________________________________________________\n",
      "None\n",
      "Epoch 1/10\n",
      "213/213 [==============================] - 117s 548ms/step - loss: 2.0749 - acc: 0.2855 - val_loss: 2.0716 - val_acc: 0.2751\n",
      "Epoch 2/10\n",
      "213/213 [==============================] - 114s 533ms/step - loss: 1.9961 - acc: 0.3718 - val_loss: 2.1088 - val_acc: 0.2402\n",
      "Epoch 3/10\n",
      "213/213 [==============================] - 113s 533ms/step - loss: 1.9624 - acc: 0.4042 - val_loss: 2.1055 - val_acc: 0.2570\n",
      "Epoch 4/10\n",
      "213/213 [==============================] - 113s 532ms/step - loss: 1.9527 - acc: 0.4136 - val_loss: 2.1097 - val_acc: 0.2500\n",
      "Epoch 5/10\n",
      "213/213 [==============================] - 113s 532ms/step - loss: 1.9392 - acc: 0.4291 - val_loss: 2.1061 - val_acc: 0.2626\n",
      "Epoch 6/10\n",
      "213/213 [==============================] - 113s 532ms/step - loss: 1.9266 - acc: 0.4426 - val_loss: 2.1081 - val_acc: 0.2542\n",
      "Epoch 7/10\n",
      "213/213 [==============================] - 113s 532ms/step - loss: 1.9156 - acc: 0.4561 - val_loss: 2.1061 - val_acc: 0.2626\n",
      "Epoch 8/10\n",
      "213/213 [==============================] - 113s 531ms/step - loss: 1.9048 - acc: 0.4662 - val_loss: 2.1189 - val_acc: 0.2416\n",
      "Epoch 9/10\n",
      "213/213 [==============================] - 114s 534ms/step - loss: 1.9003 - acc: 0.4708 - val_loss: 2.1037 - val_acc: 0.2626\n",
      "Epoch 10/10\n",
      "213/213 [==============================] - 113s 532ms/step - loss: 1.8938 - acc: 0.4752 - val_loss: 2.1207 - val_acc: 0.2416\n"
     ]
    }
   ],
   "source": [
    "compile_model(cat, model)"
   ]
  },
  {
   "cell_type": "code",
   "execution_count": 23,
   "metadata": {},
   "outputs": [
    {
     "name": "stdout",
     "output_type": "stream",
     "text": [
      "110/110 [==============================] - 9s 86ms/step - loss: 2.1166 - acc: 0.2481\n"
     ]
    },
    {
     "data": {
      "text/plain": [
       "[2.116631031036377, 0.2481481432914734]"
      ]
     },
     "execution_count": 23,
     "metadata": {},
     "output_type": "execute_result"
    }
   ],
   "source": [
    "model.evaluate(cat.test_x, cat.test_y)"
   ]
  },
  {
   "cell_type": "code",
   "execution_count": null,
   "metadata": {},
   "outputs": [],
   "source": []
  }
 ],
 "metadata": {
  "kernelspec": {
   "display_name": "Python 3",
   "language": "python",
   "name": "python3"
  },
  "language_info": {
   "codemirror_mode": {
    "name": "ipython",
    "version": 3
   },
   "file_extension": ".py",
   "mimetype": "text/x-python",
   "name": "python",
   "nbconvert_exporter": "python",
   "pygments_lexer": "ipython3",
   "version": "3.7.6"
  }
 },
 "nbformat": 4,
 "nbformat_minor": 4
}
