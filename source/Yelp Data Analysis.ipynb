{
 "cells": [
  {
   "cell_type": "code",
   "execution_count": 3,
   "metadata": {},
   "outputs": [],
   "source": [
    "import json\n",
    "import os\n",
    "import pandas as pd\n",
    "import requests\n",
    "import bs4\n",
    "from lxml import html\n",
    "from fake_useragent import UserAgent"
   ]
  },
  {
   "cell_type": "code",
   "execution_count": 4,
   "metadata": {},
   "outputs": [],
   "source": [
    "def get_yelp_data(path):\n",
    "    with open(path, 'r') as file:\n",
    "        raw_data = file.readlines()\n",
    "    raw_data = map(lambda x: x.rstrip(), raw_data)\n",
    "    json_data = '[' + ','.join(raw_data) + ']'\n",
    "    df = pd.read_json(json_data)\n",
    "    return df"
   ]
  },
  {
   "cell_type": "code",
   "execution_count": 5,
   "metadata": {},
   "outputs": [],
   "source": [
    "file_type = 'business'\n",
    "#'checkin' : 'yelp_academic_dataset_checkin.json',\n",
    "#'review' : 'yelp_academic_dataset_review.json', # the file size is 6.3G \n",
    "#'tip' : 'yelp_academic_dataset_tip.json',\n",
    "#'user' : 'yelp_academic_dataset_user.json' # the file size is 3.3G \n",
    "\n",
    "path = os.path.join('..', '..', 'yelp_dataset', 'yelp_academic_dataset_' + file_type + '.json')\n",
    "df = get_yelp_data(path)"
   ]
  },
  {
   "cell_type": "code",
   "execution_count": 6,
   "metadata": {},
   "outputs": [
    {
     "name": "stdout",
     "output_type": "stream",
     "text": [
      "<class 'pandas.core.frame.DataFrame'>\n",
      "RangeIndex: 209393 entries, 0 to 209392\n",
      "Data columns (total 14 columns):\n",
      " #   Column        Non-Null Count   Dtype  \n",
      "---  ------        --------------   -----  \n",
      " 0   business_id   209393 non-null  object \n",
      " 1   name          209393 non-null  object \n",
      " 2   address       209393 non-null  object \n",
      " 3   city          209393 non-null  object \n",
      " 4   state         209393 non-null  object \n",
      " 5   postal_code   209393 non-null  object \n",
      " 6   latitude      209393 non-null  float64\n",
      " 7   longitude     209393 non-null  float64\n",
      " 8   stars         209393 non-null  float64\n",
      " 9   review_count  209393 non-null  int64  \n",
      " 10  is_open       209393 non-null  int64  \n",
      " 11  attributes    180348 non-null  object \n",
      " 12  categories    208869 non-null  object \n",
      " 13  hours         164550 non-null  object \n",
      "dtypes: float64(3), int64(2), object(9)\n",
      "memory usage: 22.4+ MB\n"
     ]
    }
   ],
   "source": [
    "df.info()"
   ]
  },
  {
   "cell_type": "code",
   "execution_count": null,
   "metadata": {},
   "outputs": [],
   "source": []
  }
 ],
 "metadata": {
  "kernelspec": {
   "display_name": "Python 3",
   "language": "python",
   "name": "python3"
  },
  "language_info": {
   "codemirror_mode": {
    "name": "ipython",
    "version": 3
   },
   "file_extension": ".py",
   "mimetype": "text/x-python",
   "name": "python",
   "nbconvert_exporter": "python",
   "pygments_lexer": "ipython3",
   "version": "3.8.2"
  }
 },
 "nbformat": 4,
 "nbformat_minor": 4
}
