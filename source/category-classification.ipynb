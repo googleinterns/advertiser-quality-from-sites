{
 "cells": [
  {
   "cell_type": "code",
   "execution_count": 97,
   "metadata": {},
   "outputs": [],
   "source": [
    "import sys\n",
    "import os\n",
    "import math\n",
    "import datetime\n",
    "from tqdm import tqdm\n",
    "import pandas as pd\n",
    "import numpy as np\n",
    "import math\n",
    "\n",
    "import tensorflow as tf\n",
    "from tensorflow import keras\n",
    "\n",
    "from bs4 import BeautifulSoup\n",
    "from bs4.element import Comment\n",
    "import re\n",
    "from langdetect import detect_langs\n",
    "import nltk\n",
    "from nltk.corpus import stopwords\n",
    "\n",
    "\n",
    "from bert import BertModelLayer\n",
    "from bert.loader import StockBertConfig, map_stock_config_to_params, load_stock_weights\n",
    "from bert.tokenization.bert_tokenization import FullTokenizer\n",
    "\n",
    "import seaborn as sns\n",
    "import matplotlib.pyplot as plt\n",
    "\n",
    "from sklearn.metrics import classification_report\n",
    "\n",
    "from process_websites import get_corpus\n",
    "from my_models import categoryDetection, unify_yelp_data_classes\n",
    "\n",
    "\n",
    "try:\n",
    "    nltk.data.find('tokenizers/punkt')\n",
    "except LookupError:\n",
    "    nltk.download('punkt')\n",
    "    if sys.version_info > (3.0):\n",
    "        os.system('python3 -m nltk.downloader stopwords')\n",
    "    else:\n",
    "        os.system('pyhton -m nltk.downloader.stopwords')\n",
    "        \n",
    "class style():\n",
    "    BLACK = '\\033[30m'\n",
    "    RED = '\\033[31m'\n",
    "    GREEN = '\\033[32m'\n",
    "    YELLOW = '\\033[33m'\n",
    "    BLUE = '\\033[34m'\n",
    "    MAGENTA = '\\033[35m'\n",
    "    CYAN = '\\033[36m'\n",
    "    WHITE = '\\033[37m'\n",
    "    UNDERLINE = '\\033[4m'\n",
    "    RESET = '\\033[0m'\n",
    "        \n",
    "FOLDER_PATH = '/home/vahidsanei_google_com/'"
   ]
  },
  {
   "cell_type": "code",
   "execution_count": 98,
   "metadata": {},
   "outputs": [
    {
     "name": "stdout",
     "output_type": "stream",
     "text": [
      "The autoreload extension is already loaded. To reload it, use:\n",
      "  %reload_ext autoreload\n"
     ]
    }
   ],
   "source": [
    "%matplotlib inline\n",
    "%config InlineBackend.figure_format='retina'\n",
    "%load_ext autoreload\n",
    "%autoreload 2"
   ]
  },
  {
   "cell_type": "code",
   "execution_count": 2,
   "metadata": {
    "scrolled": true
   },
   "outputs": [
    {
     "name": "stdout",
     "output_type": "stream",
     "text": [
      "/opt/conda/lib/python3.7/runpy.py:125: RuntimeWarning: 'nltk.downloader' found in sys.modules after import of package 'nltk', but prior to execution of 'nltk.downloader'; this may result in unpredictable behaviour\n",
      "  warn(RuntimeWarning(msg))\n",
      "[nltk_data] Downloading package stopwords to\n",
      "[nltk_data]     /home/vahidsanei_google_com/nltk_data...\n",
      "[nltk_data]   Package stopwords is already up-to-date!\n"
     ]
    }
   ],
   "source": [
    "!python -m nltk.downloader stopwords"
   ]
  },
  {
   "cell_type": "code",
   "execution_count": 3,
   "metadata": {
    "scrolled": true
   },
   "outputs": [
    {
     "data": {
      "text/html": [
       "<div>\n",
       "<style scoped>\n",
       "    .dataframe tbody tr th:only-of-type {\n",
       "        vertical-align: middle;\n",
       "    }\n",
       "\n",
       "    .dataframe tbody tr th {\n",
       "        vertical-align: top;\n",
       "    }\n",
       "\n",
       "    .dataframe thead th {\n",
       "        text-align: right;\n",
       "    }\n",
       "</style>\n",
       "<table border=\"1\" class=\"dataframe\">\n",
       "  <thead>\n",
       "    <tr style=\"text-align: right;\">\n",
       "      <th></th>\n",
       "      <th>Unnamed: 0</th>\n",
       "      <th>business_id</th>\n",
       "      <th>name</th>\n",
       "      <th>address</th>\n",
       "      <th>city</th>\n",
       "      <th>state</th>\n",
       "      <th>postal_code</th>\n",
       "      <th>latitude</th>\n",
       "      <th>longitude</th>\n",
       "      <th>stars</th>\n",
       "      <th>review_count</th>\n",
       "      <th>is_open</th>\n",
       "      <th>attributes</th>\n",
       "      <th>categories</th>\n",
       "      <th>hours</th>\n",
       "      <th>url</th>\n",
       "      <th>webpage_text</th>\n",
       "      <th>is_eng</th>\n",
       "      <th>webpage_corpus</th>\n",
       "    </tr>\n",
       "  </thead>\n",
       "  <tbody>\n",
       "    <tr>\n",
       "      <th>0</th>\n",
       "      <td>0</td>\n",
       "      <td>f9NumwFMBDn751xgFiRbNA</td>\n",
       "      <td>The Range At Lake Norman</td>\n",
       "      <td>10913 Bailey Rd</td>\n",
       "      <td>Cornelius</td>\n",
       "      <td>NC</td>\n",
       "      <td>28031</td>\n",
       "      <td>35.462724</td>\n",
       "      <td>-80.852612</td>\n",
       "      <td>3.5</td>\n",
       "      <td>36</td>\n",
       "      <td>1</td>\n",
       "      <td>{'BusinessAcceptsCreditCards': 'True', 'BikePa...</td>\n",
       "      <td>Active Life, Gun/Rifle Ranges, Guns &amp; Ammo, Sh...</td>\n",
       "      <td>{'Monday': '10:0-18:0', 'Tuesday': '11:0-20:0'...</td>\n",
       "      <td>http://www.therangeatlakenorman.com/</td>\n",
       "      <td>b'&lt;!DOCTYPE html&gt;\\n&lt;html lang=\"en-US\"&gt;\\n&lt;head&gt;...</td>\n",
       "      <td>True</td>\n",
       "      <td>Shooting Ranges Gun Rental Charlotte NC The Ra...</td>\n",
       "    </tr>\n",
       "    <tr>\n",
       "      <th>1</th>\n",
       "      <td>1</td>\n",
       "      <td>XNoUzKckATkOD1hP6vghZg</td>\n",
       "      <td>Felinus</td>\n",
       "      <td>3554 Rue Notre-Dame O</td>\n",
       "      <td>Montreal</td>\n",
       "      <td>QC</td>\n",
       "      <td>H4C 1P4</td>\n",
       "      <td>45.479984</td>\n",
       "      <td>-73.580070</td>\n",
       "      <td>5.0</td>\n",
       "      <td>5</td>\n",
       "      <td>1</td>\n",
       "      <td>NaN</td>\n",
       "      <td>Pets, Pet Services, Pet Groomers</td>\n",
       "      <td>NaN</td>\n",
       "      <td>http://www.felinus.ca</td>\n",
       "      <td>b'&lt;!DOCTYPE html PUBLIC \"-//W3C//DTD XHTML 1.0...</td>\n",
       "      <td>False</td>\n",
       "      <td>NaN</td>\n",
       "    </tr>\n",
       "    <tr>\n",
       "      <th>2</th>\n",
       "      <td>2</td>\n",
       "      <td>51M2Kk903DFYI6gnB5I6SQ</td>\n",
       "      <td>USE MY GUY SERVICES LLC</td>\n",
       "      <td>4827 E Downing Cir</td>\n",
       "      <td>Mesa</td>\n",
       "      <td>AZ</td>\n",
       "      <td>85205</td>\n",
       "      <td>33.428065</td>\n",
       "      <td>-111.726648</td>\n",
       "      <td>4.5</td>\n",
       "      <td>26</td>\n",
       "      <td>1</td>\n",
       "      <td>{'BusinessAcceptsCreditCards': 'True', 'ByAppo...</td>\n",
       "      <td>Home Services, Plumbing, Electricians, Handyma...</td>\n",
       "      <td>{'Monday': '0:0-0:0', 'Tuesday': '9:0-16:0', '...</td>\n",
       "      <td>https://www.usemyguyservices.com</td>\n",
       "      <td>b'&lt;!DOCTYPE html&gt;\\n&lt;html lang=\"en-US\" prefix=\"...</td>\n",
       "      <td>True</td>\n",
       "      <td>Home Renovations and Repairs Phoenix AZ Home U...</td>\n",
       "    </tr>\n",
       "    <tr>\n",
       "      <th>3</th>\n",
       "      <td>3</td>\n",
       "      <td>cKyLV5oWZJ2NudWgqs8VZw</td>\n",
       "      <td>Oasis Auto Center - Gilbert</td>\n",
       "      <td>1720 W Elliot Rd, Ste 105</td>\n",
       "      <td>Gilbert</td>\n",
       "      <td>AZ</td>\n",
       "      <td>85233</td>\n",
       "      <td>33.350399</td>\n",
       "      <td>-111.827142</td>\n",
       "      <td>4.5</td>\n",
       "      <td>38</td>\n",
       "      <td>1</td>\n",
       "      <td>{'BusinessAcceptsCreditCards': 'True'}</td>\n",
       "      <td>Auto Repair, Automotive, Oil Change Stations, ...</td>\n",
       "      <td>{'Monday': '7:0-18:0', 'Tuesday': '7:0-18:0', ...</td>\n",
       "      <td>http://oasisautocenter.net</td>\n",
       "      <td>b'&lt;!DOCTYPE html&gt;\\n&lt;html lang=\"en-US\" prefix=\"...</td>\n",
       "      <td>True</td>\n",
       "      <td>Home Oasis Auto CenterOasis Auto Center Pages ...</td>\n",
       "    </tr>\n",
       "    <tr>\n",
       "      <th>4</th>\n",
       "      <td>4</td>\n",
       "      <td>ScYkbYNkDgCneBrD9vqhCQ</td>\n",
       "      <td>Junction Tire &amp; Auto Service</td>\n",
       "      <td>6910 E Southern Ave</td>\n",
       "      <td>Mesa</td>\n",
       "      <td>AZ</td>\n",
       "      <td>85209</td>\n",
       "      <td>33.393885</td>\n",
       "      <td>-111.682226</td>\n",
       "      <td>5.0</td>\n",
       "      <td>18</td>\n",
       "      <td>1</td>\n",
       "      <td>{'BusinessAcceptsCreditCards': 'True', 'ByAppo...</td>\n",
       "      <td>Auto Repair, Oil Change Stations, Automotive, ...</td>\n",
       "      <td>{'Monday': '7:30-17:0', 'Tuesday': '7:30-17:0'...</td>\n",
       "      <td>http://junctiontire.net/tires-auto-repair-mesa-az</td>\n",
       "      <td>b'&lt;!DOCTYPE html&gt;\\r\\n&lt;html lang=\"en\"&gt;\\r\\n&lt;head...</td>\n",
       "      <td>True</td>\n",
       "      <td>Contact Junction Tire Tires Auto Repair Shop i...</td>\n",
       "    </tr>\n",
       "  </tbody>\n",
       "</table>\n",
       "</div>"
      ],
      "text/plain": [
       "   Unnamed: 0             business_id                          name  \\\n",
       "0           0  f9NumwFMBDn751xgFiRbNA      The Range At Lake Norman   \n",
       "1           1  XNoUzKckATkOD1hP6vghZg                       Felinus   \n",
       "2           2  51M2Kk903DFYI6gnB5I6SQ       USE MY GUY SERVICES LLC   \n",
       "3           3  cKyLV5oWZJ2NudWgqs8VZw   Oasis Auto Center - Gilbert   \n",
       "4           4  ScYkbYNkDgCneBrD9vqhCQ  Junction Tire & Auto Service   \n",
       "\n",
       "                     address       city state postal_code   latitude  \\\n",
       "0            10913 Bailey Rd  Cornelius    NC       28031  35.462724   \n",
       "1      3554 Rue Notre-Dame O   Montreal    QC     H4C 1P4  45.479984   \n",
       "2         4827 E Downing Cir       Mesa    AZ       85205  33.428065   \n",
       "3  1720 W Elliot Rd, Ste 105    Gilbert    AZ       85233  33.350399   \n",
       "4        6910 E Southern Ave       Mesa    AZ       85209  33.393885   \n",
       "\n",
       "    longitude  stars  review_count  is_open  \\\n",
       "0  -80.852612    3.5            36        1   \n",
       "1  -73.580070    5.0             5        1   \n",
       "2 -111.726648    4.5            26        1   \n",
       "3 -111.827142    4.5            38        1   \n",
       "4 -111.682226    5.0            18        1   \n",
       "\n",
       "                                          attributes  \\\n",
       "0  {'BusinessAcceptsCreditCards': 'True', 'BikePa...   \n",
       "1                                                NaN   \n",
       "2  {'BusinessAcceptsCreditCards': 'True', 'ByAppo...   \n",
       "3             {'BusinessAcceptsCreditCards': 'True'}   \n",
       "4  {'BusinessAcceptsCreditCards': 'True', 'ByAppo...   \n",
       "\n",
       "                                          categories  \\\n",
       "0  Active Life, Gun/Rifle Ranges, Guns & Ammo, Sh...   \n",
       "1                   Pets, Pet Services, Pet Groomers   \n",
       "2  Home Services, Plumbing, Electricians, Handyma...   \n",
       "3  Auto Repair, Automotive, Oil Change Stations, ...   \n",
       "4  Auto Repair, Oil Change Stations, Automotive, ...   \n",
       "\n",
       "                                               hours  \\\n",
       "0  {'Monday': '10:0-18:0', 'Tuesday': '11:0-20:0'...   \n",
       "1                                                NaN   \n",
       "2  {'Monday': '0:0-0:0', 'Tuesday': '9:0-16:0', '...   \n",
       "3  {'Monday': '7:0-18:0', 'Tuesday': '7:0-18:0', ...   \n",
       "4  {'Monday': '7:30-17:0', 'Tuesday': '7:30-17:0'...   \n",
       "\n",
       "                                                 url  \\\n",
       "0               http://www.therangeatlakenorman.com/   \n",
       "1                              http://www.felinus.ca   \n",
       "2                   https://www.usemyguyservices.com   \n",
       "3                         http://oasisautocenter.net   \n",
       "4  http://junctiontire.net/tires-auto-repair-mesa-az   \n",
       "\n",
       "                                        webpage_text  is_eng  \\\n",
       "0  b'<!DOCTYPE html>\\n<html lang=\"en-US\">\\n<head>...    True   \n",
       "1  b'<!DOCTYPE html PUBLIC \"-//W3C//DTD XHTML 1.0...   False   \n",
       "2  b'<!DOCTYPE html>\\n<html lang=\"en-US\" prefix=\"...    True   \n",
       "3  b'<!DOCTYPE html>\\n<html lang=\"en-US\" prefix=\"...    True   \n",
       "4  b'<!DOCTYPE html>\\r\\n<html lang=\"en\">\\r\\n<head...    True   \n",
       "\n",
       "                                      webpage_corpus  \n",
       "0  Shooting Ranges Gun Rental Charlotte NC The Ra...  \n",
       "1                                                NaN  \n",
       "2  Home Renovations and Repairs Phoenix AZ Home U...  \n",
       "3  Home Oasis Auto CenterOasis Auto Center Pages ...  \n",
       "4  Contact Junction Tire Tires Auto Repair Shop i...  "
      ]
     },
     "execution_count": 3,
     "metadata": {},
     "output_type": "execute_result"
    }
   ],
   "source": [
    "df = pd.read_csv('/home/vahidsanei_google_com/data/yelp_data/updated_large/business_with_corpus.csv')\n",
    "df.head()"
   ]
  },
  {
   "cell_type": "code",
   "execution_count": 4,
   "metadata": {
    "scrolled": true
   },
   "outputs": [
    {
     "data": {
      "text/plain": [
       "Index(['Unnamed: 0', 'business_id', 'name', 'address', 'city', 'state',\n",
       "       'postal_code', 'latitude', 'longitude', 'stars', 'review_count',\n",
       "       'is_open', 'attributes', 'categories', 'hours', 'url', 'webpage_text',\n",
       "       'is_eng', 'webpage_corpus'],\n",
       "      dtype='object')"
      ]
     },
     "execution_count": 4,
     "metadata": {},
     "output_type": "execute_result"
    }
   ],
   "source": [
    "df.columns"
   ]
  },
  {
   "cell_type": "code",
   "execution_count": 5,
   "metadata": {
    "scrolled": true
   },
   "outputs": [
    {
     "name": "stdout",
     "output_type": "stream",
     "text": [
      "<class 'pandas.core.frame.DataFrame'>\n",
      "RangeIndex: 78568 entries, 0 to 78567\n",
      "Data columns (total 19 columns):\n",
      " #   Column          Non-Null Count  Dtype  \n",
      "---  ------          --------------  -----  \n",
      " 0   Unnamed: 0      78568 non-null  int64  \n",
      " 1   business_id     78568 non-null  object \n",
      " 2   name            78568 non-null  object \n",
      " 3   address         75147 non-null  object \n",
      " 4   city            78568 non-null  object \n",
      " 5   state           78568 non-null  object \n",
      " 6   postal_code     78410 non-null  object \n",
      " 7   latitude        78568 non-null  float64\n",
      " 8   longitude       78568 non-null  float64\n",
      " 9   stars           78568 non-null  float64\n",
      " 10  review_count    78568 non-null  int64  \n",
      " 11  is_open         78568 non-null  int64  \n",
      " 12  attributes      67645 non-null  object \n",
      " 13  categories      78514 non-null  object \n",
      " 14  hours           67573 non-null  object \n",
      " 15  url             78568 non-null  object \n",
      " 16  webpage_text    78568 non-null  object \n",
      " 17  is_eng          78568 non-null  bool   \n",
      " 18  webpage_corpus  50919 non-null  object \n",
      "dtypes: bool(1), float64(3), int64(3), object(12)\n",
      "memory usage: 10.9+ MB\n"
     ]
    }
   ],
   "source": [
    "df.info()"
   ]
  },
  {
   "cell_type": "code",
   "execution_count": 6,
   "metadata": {
    "scrolled": true
   },
   "outputs": [
    {
     "name": "stdout",
     "output_type": "stream",
     "text": [
      "http://www.thedakotaatcamelback.com\n",
      "##################################################\n",
      "Sorry An error has occured No domain data found for domain wwwthedakotaatcamelbackcom 2020 RentPath LLC All rights reserved All photos videos and floor plans are the property of RentPath LLC All text is the property of this property RentPath is in no way affiliated with the management or ownership of this property\n",
      "**************************************************\n",
      "http://www.alyshaan.com\n",
      "##################################################\n",
      "https://www.kfc.ca//store/415-mount-pleasant-rd-toronto\n",
      "##################################################\n",
      "Be A Franais Sign in FOR SHARING FOR ONE DEALS 0 000 START MY ORDER 415 Mount Pleasant Rd Hours Sunday 1100 AM1000 PM Monday 1100 AM1000 PM Tuesday 1100 AM1000 PM Wednesday 1100 AM1000 PM Thursday 1100 AM1000 PM Friday 1100 AM1000 PM Saturday 1100 AM1000 PM 415 Mount Pleasant Rd 4164810900 Choose Another Location Store Details 415 Mount Pleasant Rd Toronto ON M4S 2L5 4164810900 Order Now Directions km Open Closed Today 1100 AM 1000 PM Monday 1100 AM 1000 PM Tuesday 1100 AM 1000 PM Wednesday 1100 AM 1000 PM Thursday 1100 AM 1000 PM Friday 1100 AM 1000 PM Saturday 1100 AM 1000 PM localshipping wwwkfcca OR 1866KFC4YOU5324968 Distance km localparking Parking Available Colonels Club Not a member Get the app 1866 KFC4YOU 5324968 Quxc3xa9bec 18884 PFKPFK 4735735 Looking for a KFC Find a KFC About Us Our Story Our Values Your Safety News About KFC Global Careers Franchise Info Real Estate Inquiries The C is for Chicken Customer Service Contact Us Find a KFC Gift Cards Coupons Policies Terms of\n",
      "**************************************************\n",
      "http://www.lcslawfamily.com\n",
      "##################################################\n",
      "702 4352121 Facebook Twitter Google Facebook Twitter Google Attorney Profile Criminal Law Arson Assault Burglary DUI DWI in Las Vegas Drug Crimes Juvenile Crimes Misdemeanor Parole Sex Crimes Violent Crimes Weapons Family Law Child Custody Child Support Divorce Domestic Violence Family Relocation Joint Custody Paternity Primary Custody Temporary Protection Order Blog News Videos Location Contact Us Select Page Whats Your Freedom Worth Law Office of Louis Schneider we emphasize our clients rights to be respected and receive honest clear counsel Criminal Law When you need a lawyer for a criminal legal matter you are probably looking first for straightforward answers to some tough questions Legal issues of all types can be intimidating and your future well being often hangs in the balance Learn more Family Law If you do not have a Las Vegas family lawyer to assist you you can lose forever many rights that the law provides for you in family court including rights to money property and chil\n",
      "**************************************************\n",
      "http://twisterkaraoke.com/\n",
      "##################################################\n",
      "Buy a Domain Name Worlds Best Domains For Sale Customer Support 888 6946735 interesteddomainmarketcom Woops We cant find that domain name How about searching for one instead Domain For Sale Buy Now or make an offer What Are the Advantages of a Super Premium Com Domain Increased Traffic Premium names often come with existing traffic since they are exact match terms people are searching for Search Engine Ranking Your new domain will naturally sound like the authority of your industry which helps gain traffic from the search engines Brand Recognition All of our names are easy to recognize and remember which will increase the success of your marketing and advertising campaigns Immediate Presence As soon as you purchase your new name youre ready to start a website or landing page Start doing business today Higher Profits With increased traffic better brand recognition and increased marketing success youre sure to have higher profits Great Investment A premium Com domain adds value to your c\n",
      "**************************************************\n",
      "http://www.salonfortytwo.com\n",
      "##################################################\n",
      "Salon 42 Home Story Services Salons Tribe 42 Weddings Our Press Contact Us Home Story Services Salons Tribe 42 Weddings Our Press Contact Us 42 The answer to life the universe and everything Especially for Hair Salon 42 New Salon Coming Soon To beautiful sunny Charleston SC But for now continue to visit us atxe2x80xa6 Southparkxe2x80xa6 Charlotte NC Indian Landxe2x80xa6Indian Land SC Dilworth xe2x80xa6 Charlotte NC Lake Norman xe2x80xa6 Corneliua NC Did you know 42 people move into Charlotte everydayxe2x80xa6 yepxe2x80xa6itxe2x80x99s our magic number again and we hope to see them all here at Salon 42 What Else is New Learn About the Life of 42xe2x80xa6 42 is the answer to Life the Universe and Everything according to Douglas Adams and the book xe2x80x9cHitchhikers Guide to the Galaxy 42 degrees is the angle at which light must reflect off water in order to create a rainbow The Titanic was traveling at a speed equivalent to 42km when it collided with an iceberg There are 42 principles o\n",
      "**************************************************\n",
      "http://www.sunglasshut.com/us/?cvosrc=display.yelp.LasVegas\n",
      "##################################################\n",
      "Sunglass Hut Online Store Sunglasses for Women Men Kids Skip to content Polarized EGift Cards Versace RayBan Maui Jim Oakley Products 0 View all Sorry no Result found Your might be interested in Oakley 22600 RayBan 19000 Shipping to United States Europe If you wish to ship to another location please select your country below Be aware that changing your location while shopping will remove all items from the Shopping Bag Africa America Asia Europe Middle East Oceania Egypt Morocco South Africa Brasil Canada Chile Mexico United States Hong Kong China India Indonesia Malaysia Singapore Thailand France Germany Netherlands Portugal Spain United Kingdom Turkey Bahrain Jordan Kuwait Lebanon Oman Qatar Saudi Arabia United Arab Emirates Australia New Zealand 60 OFF A SECOND PAIR TCS APPLY USE CODE 60OFF2 READ MORE ABOUT OUR COVID19 RESPONSE AND ACTIONS FREE 2DAY SHIPPING FREE RETURNS FREE EASY RETURNS IN STORE OR BY MAIL GIVE THE GIFT OF CHOICE WITH SUNGLASS HUT EGIFT CARD THE EASIEST SAFEST WAY\n",
      "**************************************************\n",
      "http://www.anoctopussgarden.com\n",
      "##################################################\n",
      "Flower Designs Las Vegas NV An Octopuss Garden Event Flowers Las Vegas NV Corporate Flowers Las Vegas\n",
      "**************************************************\n",
      "http://www.dufferingrovemarket.ca/\n",
      "##################################################\n",
      "https://www.medicalmarijuanacardarizona.org/hours-and-locations/\n",
      "##################################################\n",
      "List of Locations and Hours for Medical Marijuana Doctors in AZ 480 3788530 888 5484846 520 2779057 contactmmjccccom Home Book your Visit The Process FAQ Safety and Efficacy Scientific research Check Application Status Locations Contact Join Us Select Page Hours and Locations Find the most convenient certification office Visits by appointment only We currently offer house callsxc2xa0 Call 888 5484846 xc2xa0for more details PHOENIX TEMPE La Vereda Medical Center at 2600 E Southern Ave Suite G Tempe AZ 85282 NORTH PHOENIX DEER VALLEY 20045 N 19th Ave Building 11 Suite 166 Phoenix AZ 85027 MARICOPA Inside Southwestern Pediatrics xc2xa021300 North John Wayne Parkway Suite 112 Maricopa AZxc2xa0851398963 CENTRAL PHOENIX 550 W Indian School Road Suite 122 Phoenix AZ 85013 MESA Inside Nexus Rehab and Spine at 4838 E Baseline Road Baseline Road Suite 122 Mesaxc2xa0AZ 85206 CENTRAL GILBERT building says Chiropractic on the front 1447 W Elliot Rd Gilbert AZ 85233 TUCSON xc2xa0Wholistic Family Med\n",
      "**************************************************\n"
     ]
    }
   ],
   "source": [
    "for url, corpus in zip(df['url'][-10:], df['webpage_corpus'][-10:]):\n",
    "    try:\n",
    "        print(url)\n",
    "        print('#' * 50)\n",
    "        print(corpus[:1000])\n",
    "        print('*' * 50)\n",
    "    except:\n",
    "        pass"
   ]
  },
  {
   "cell_type": "code",
   "execution_count": 7,
   "metadata": {},
   "outputs": [
    {
     "data": {
      "text/html": [
       "<div>\n",
       "<style scoped>\n",
       "    .dataframe tbody tr th:only-of-type {\n",
       "        vertical-align: middle;\n",
       "    }\n",
       "\n",
       "    .dataframe tbody tr th {\n",
       "        vertical-align: top;\n",
       "    }\n",
       "\n",
       "    .dataframe thead th {\n",
       "        text-align: right;\n",
       "    }\n",
       "</style>\n",
       "<table border=\"1\" class=\"dataframe\">\n",
       "  <thead>\n",
       "    <tr style=\"text-align: right;\">\n",
       "      <th></th>\n",
       "      <th>Unnamed: 0</th>\n",
       "      <th>business_id</th>\n",
       "      <th>name</th>\n",
       "      <th>address</th>\n",
       "      <th>city</th>\n",
       "      <th>state</th>\n",
       "      <th>postal_code</th>\n",
       "      <th>latitude</th>\n",
       "      <th>longitude</th>\n",
       "      <th>stars</th>\n",
       "      <th>review_count</th>\n",
       "      <th>is_open</th>\n",
       "      <th>attributes</th>\n",
       "      <th>categories</th>\n",
       "      <th>hours</th>\n",
       "      <th>url</th>\n",
       "      <th>webpage_text</th>\n",
       "      <th>is_eng</th>\n",
       "      <th>webpage_corpus</th>\n",
       "    </tr>\n",
       "  </thead>\n",
       "  <tbody>\n",
       "    <tr>\n",
       "      <th>0</th>\n",
       "      <td>0</td>\n",
       "      <td>f9NumwFMBDn751xgFiRbNA</td>\n",
       "      <td>The Range At Lake Norman</td>\n",
       "      <td>10913 Bailey Rd</td>\n",
       "      <td>Cornelius</td>\n",
       "      <td>NC</td>\n",
       "      <td>28031</td>\n",
       "      <td>35.462724</td>\n",
       "      <td>-80.852612</td>\n",
       "      <td>3.5</td>\n",
       "      <td>36</td>\n",
       "      <td>1</td>\n",
       "      <td>{'BusinessAcceptsCreditCards': 'True', 'BikePa...</td>\n",
       "      <td>Active Life, Gun/Rifle Ranges, Guns &amp; Ammo, Sh...</td>\n",
       "      <td>{'Monday': '10:0-18:0', 'Tuesday': '11:0-20:0'...</td>\n",
       "      <td>http://www.therangeatlakenorman.com/</td>\n",
       "      <td>b'&lt;!DOCTYPE html&gt;\\n&lt;html lang=\"en-US\"&gt;\\n&lt;head&gt;...</td>\n",
       "      <td>True</td>\n",
       "      <td>Shooting Ranges Gun Rental Charlotte NC The Ra...</td>\n",
       "    </tr>\n",
       "    <tr>\n",
       "      <th>1</th>\n",
       "      <td>1</td>\n",
       "      <td>XNoUzKckATkOD1hP6vghZg</td>\n",
       "      <td>Felinus</td>\n",
       "      <td>3554 Rue Notre-Dame O</td>\n",
       "      <td>Montreal</td>\n",
       "      <td>QC</td>\n",
       "      <td>H4C 1P4</td>\n",
       "      <td>45.479984</td>\n",
       "      <td>-73.580070</td>\n",
       "      <td>5.0</td>\n",
       "      <td>5</td>\n",
       "      <td>1</td>\n",
       "      <td>NaN</td>\n",
       "      <td>Pets, Pet Services, Pet Groomers</td>\n",
       "      <td>NaN</td>\n",
       "      <td>http://www.felinus.ca</td>\n",
       "      <td>b'&lt;!DOCTYPE html PUBLIC \"-//W3C//DTD XHTML 1.0...</td>\n",
       "      <td>False</td>\n",
       "      <td>NaN</td>\n",
       "    </tr>\n",
       "    <tr>\n",
       "      <th>2</th>\n",
       "      <td>2</td>\n",
       "      <td>51M2Kk903DFYI6gnB5I6SQ</td>\n",
       "      <td>USE MY GUY SERVICES LLC</td>\n",
       "      <td>4827 E Downing Cir</td>\n",
       "      <td>Mesa</td>\n",
       "      <td>AZ</td>\n",
       "      <td>85205</td>\n",
       "      <td>33.428065</td>\n",
       "      <td>-111.726648</td>\n",
       "      <td>4.5</td>\n",
       "      <td>26</td>\n",
       "      <td>1</td>\n",
       "      <td>{'BusinessAcceptsCreditCards': 'True', 'ByAppo...</td>\n",
       "      <td>Home Services, Plumbing, Electricians, Handyma...</td>\n",
       "      <td>{'Monday': '0:0-0:0', 'Tuesday': '9:0-16:0', '...</td>\n",
       "      <td>https://www.usemyguyservices.com</td>\n",
       "      <td>b'&lt;!DOCTYPE html&gt;\\n&lt;html lang=\"en-US\" prefix=\"...</td>\n",
       "      <td>True</td>\n",
       "      <td>Home Renovations and Repairs Phoenix AZ Home U...</td>\n",
       "    </tr>\n",
       "    <tr>\n",
       "      <th>3</th>\n",
       "      <td>3</td>\n",
       "      <td>cKyLV5oWZJ2NudWgqs8VZw</td>\n",
       "      <td>Oasis Auto Center - Gilbert</td>\n",
       "      <td>1720 W Elliot Rd, Ste 105</td>\n",
       "      <td>Gilbert</td>\n",
       "      <td>AZ</td>\n",
       "      <td>85233</td>\n",
       "      <td>33.350399</td>\n",
       "      <td>-111.827142</td>\n",
       "      <td>4.5</td>\n",
       "      <td>38</td>\n",
       "      <td>1</td>\n",
       "      <td>{'BusinessAcceptsCreditCards': 'True'}</td>\n",
       "      <td>Auto Repair, Automotive, Oil Change Stations, ...</td>\n",
       "      <td>{'Monday': '7:0-18:0', 'Tuesday': '7:0-18:0', ...</td>\n",
       "      <td>http://oasisautocenter.net</td>\n",
       "      <td>b'&lt;!DOCTYPE html&gt;\\n&lt;html lang=\"en-US\" prefix=\"...</td>\n",
       "      <td>True</td>\n",
       "      <td>Home Oasis Auto CenterOasis Auto Center Pages ...</td>\n",
       "    </tr>\n",
       "    <tr>\n",
       "      <th>4</th>\n",
       "      <td>4</td>\n",
       "      <td>ScYkbYNkDgCneBrD9vqhCQ</td>\n",
       "      <td>Junction Tire &amp; Auto Service</td>\n",
       "      <td>6910 E Southern Ave</td>\n",
       "      <td>Mesa</td>\n",
       "      <td>AZ</td>\n",
       "      <td>85209</td>\n",
       "      <td>33.393885</td>\n",
       "      <td>-111.682226</td>\n",
       "      <td>5.0</td>\n",
       "      <td>18</td>\n",
       "      <td>1</td>\n",
       "      <td>{'BusinessAcceptsCreditCards': 'True', 'ByAppo...</td>\n",
       "      <td>Auto Repair, Oil Change Stations, Automotive, ...</td>\n",
       "      <td>{'Monday': '7:30-17:0', 'Tuesday': '7:30-17:0'...</td>\n",
       "      <td>http://junctiontire.net/tires-auto-repair-mesa-az</td>\n",
       "      <td>b'&lt;!DOCTYPE html&gt;\\r\\n&lt;html lang=\"en\"&gt;\\r\\n&lt;head...</td>\n",
       "      <td>True</td>\n",
       "      <td>Contact Junction Tire Tires Auto Repair Shop i...</td>\n",
       "    </tr>\n",
       "  </tbody>\n",
       "</table>\n",
       "</div>"
      ],
      "text/plain": [
       "   Unnamed: 0             business_id                          name  \\\n",
       "0           0  f9NumwFMBDn751xgFiRbNA      The Range At Lake Norman   \n",
       "1           1  XNoUzKckATkOD1hP6vghZg                       Felinus   \n",
       "2           2  51M2Kk903DFYI6gnB5I6SQ       USE MY GUY SERVICES LLC   \n",
       "3           3  cKyLV5oWZJ2NudWgqs8VZw   Oasis Auto Center - Gilbert   \n",
       "4           4  ScYkbYNkDgCneBrD9vqhCQ  Junction Tire & Auto Service   \n",
       "\n",
       "                     address       city state postal_code   latitude  \\\n",
       "0            10913 Bailey Rd  Cornelius    NC       28031  35.462724   \n",
       "1      3554 Rue Notre-Dame O   Montreal    QC     H4C 1P4  45.479984   \n",
       "2         4827 E Downing Cir       Mesa    AZ       85205  33.428065   \n",
       "3  1720 W Elliot Rd, Ste 105    Gilbert    AZ       85233  33.350399   \n",
       "4        6910 E Southern Ave       Mesa    AZ       85209  33.393885   \n",
       "\n",
       "    longitude  stars  review_count  is_open  \\\n",
       "0  -80.852612    3.5            36        1   \n",
       "1  -73.580070    5.0             5        1   \n",
       "2 -111.726648    4.5            26        1   \n",
       "3 -111.827142    4.5            38        1   \n",
       "4 -111.682226    5.0            18        1   \n",
       "\n",
       "                                          attributes  \\\n",
       "0  {'BusinessAcceptsCreditCards': 'True', 'BikePa...   \n",
       "1                                                NaN   \n",
       "2  {'BusinessAcceptsCreditCards': 'True', 'ByAppo...   \n",
       "3             {'BusinessAcceptsCreditCards': 'True'}   \n",
       "4  {'BusinessAcceptsCreditCards': 'True', 'ByAppo...   \n",
       "\n",
       "                                          categories  \\\n",
       "0  Active Life, Gun/Rifle Ranges, Guns & Ammo, Sh...   \n",
       "1                   Pets, Pet Services, Pet Groomers   \n",
       "2  Home Services, Plumbing, Electricians, Handyma...   \n",
       "3  Auto Repair, Automotive, Oil Change Stations, ...   \n",
       "4  Auto Repair, Oil Change Stations, Automotive, ...   \n",
       "\n",
       "                                               hours  \\\n",
       "0  {'Monday': '10:0-18:0', 'Tuesday': '11:0-20:0'...   \n",
       "1                                                NaN   \n",
       "2  {'Monday': '0:0-0:0', 'Tuesday': '9:0-16:0', '...   \n",
       "3  {'Monday': '7:0-18:0', 'Tuesday': '7:0-18:0', ...   \n",
       "4  {'Monday': '7:30-17:0', 'Tuesday': '7:30-17:0'...   \n",
       "\n",
       "                                                 url  \\\n",
       "0               http://www.therangeatlakenorman.com/   \n",
       "1                              http://www.felinus.ca   \n",
       "2                   https://www.usemyguyservices.com   \n",
       "3                         http://oasisautocenter.net   \n",
       "4  http://junctiontire.net/tires-auto-repair-mesa-az   \n",
       "\n",
       "                                        webpage_text  is_eng  \\\n",
       "0  b'<!DOCTYPE html>\\n<html lang=\"en-US\">\\n<head>...    True   \n",
       "1  b'<!DOCTYPE html PUBLIC \"-//W3C//DTD XHTML 1.0...   False   \n",
       "2  b'<!DOCTYPE html>\\n<html lang=\"en-US\" prefix=\"...    True   \n",
       "3  b'<!DOCTYPE html>\\n<html lang=\"en-US\" prefix=\"...    True   \n",
       "4  b'<!DOCTYPE html>\\r\\n<html lang=\"en\">\\r\\n<head...    True   \n",
       "\n",
       "                                      webpage_corpus  \n",
       "0  Shooting Ranges Gun Rental Charlotte NC The Ra...  \n",
       "1                                                NaN  \n",
       "2  Home Renovations and Repairs Phoenix AZ Home U...  \n",
       "3  Home Oasis Auto CenterOasis Auto Center Pages ...  \n",
       "4  Contact Junction Tire Tires Auto Repair Shop i...  "
      ]
     },
     "execution_count": 7,
     "metadata": {},
     "output_type": "execute_result"
    }
   ],
   "source": [
    "df_sentsplit = pd.read_csv('/home/vahidsanei_google_com/data/yelp_data/updated_large/business_with_corpus_sent_split.csv')\n",
    "df_sentsplit.head()"
   ]
  },
  {
   "cell_type": "code",
   "execution_count": 8,
   "metadata": {
    "scrolled": true
   },
   "outputs": [
    {
     "name": "stdout",
     "output_type": "stream",
     "text": [
      "http://www.thedakotaatcamelback.com\n",
      "##################################################\n",
      "Sorry An error has occured No domain data found for domain wwwthedakotaatcamelbackcom 2020 RentPath LLC All rights reserved All photos videos and floor plans are the property of RentPath LLC All text is the property of this property RentPath is in no way affiliated with the management or ownership of this property\n",
      "**************************************************\n",
      "http://www.alyshaan.com\n",
      "##################################################\n",
      "https://www.kfc.ca//store/415-mount-pleasant-rd-toronto\n",
      "##################################################\n",
      "Be A Franais Sign in FOR SHARING FOR ONE DEALS 0 000 START MY ORDER 415 Mount Pleasant Rd Hours Sunday 1100 AM1000 PM Monday 1100 AM1000 PM Tuesday 1100 AM1000 PM Wednesday 1100 AM1000 PM Thursday 1100 AM1000 PM Friday 1100 AM1000 PM Saturday 1100 AM1000 PM 415 Mount Pleasant Rd 4164810900 Choose Another Location Store Details 415 Mount Pleasant Rd Toronto ON M4S 2L5 4164810900 Order Now Directions km Open Closed Today 1100 AM 1000 PM Monday 1100 AM 1000 PM Tuesday 1100 AM 1000 PM Wednesday 1100 AM 1000 PM Thursday 1100 AM 1000 PM Friday 1100 AM 1000 PM Saturday 1100 AM 1000 PM localshipping wwwkfcca OR 1866KFC4YOU5324968 Distance km localparking Parking Available Colonels Club Not a member Get the app 1866 KFC4YOU 5324968 Quxc3xa9bec 18884 PFKPFK 4735735 Looking for a KFC Find a KFC About Us Our Story Our Values Your Safety News About KFC Global Careers Franchise Info Real Estate Inquiries The C is for Chicken Customer Service Contact Us Find a KFC Gift Cards Coupons Policies Terms of\n",
      "**************************************************\n",
      "http://www.lcslawfamily.com\n",
      "##################################################\n",
      "702 4352121 Facebook Twitter Google Facebook Twitter Google Attorney Profile Criminal Law Arson Assault Burglary DUI DWI in Las Vegas Drug Crimes Juvenile Crimes Misdemeanor Parole Sex Crimes Violent Crimes Weapons Family Law Child Custody Child Support Divorce Domestic Violence Family Relocation Joint Custody Paternity Primary Custody Temporary Protection Order Blog News Videos Location Contact Us Select Page Whats Your Freedom Worth Law Office of Louis Schneider we emphasize our clients rights to be respected and receive honest clear counsel Criminal Law When you need a lawyer for a criminal legal matter you are probably looking first for straightforward answers to some tough questions Legal issues of all types can be intimidating and your future well being often hangs in the balance Learn more Family Law If you do not have a Las Vegas family lawyer to assist you you can lose forever many rights that the law provides for you in family court including rights to money property and chil\n",
      "**************************************************\n",
      "http://twisterkaraoke.com/\n",
      "##################################################\n",
      "Buy a Domain Name Worlds Best Domains For Sale Customer Support 888 6946735 interesteddomainmarketcom Woops We cant find that domain name How about searching for one instead Domain For Sale Buy Now or make an offer What Are the Advantages of a Super Premium Com Domain Increased Traffic Premium names often come with existing traffic since they are exact match terms people are searching for Search Engine Ranking Your new domain will naturally sound like the authority of your industry which helps gain traffic from the search engines Brand Recognition All of our names are easy to recognize and remember which will increase the success of your marketing and advertising campaigns Immediate Presence As soon as you purchase your new name youre ready to start a website or landing page Start doing business today Higher Profits With increased traffic better brand recognition and increased marketing success youre sure to have higher profits Great Investment A premium Com domain adds value to your c\n",
      "**************************************************\n",
      "http://www.salonfortytwo.com\n",
      "##################################################\n",
      "Salon 42 Home Story Services Salons Tribe 42 Weddings Our Press Contact Us Home Story Services Salons Tribe 42 Weddings Our Press Contact Us 42 The answer to life the universe and everything Especially for Hair Salon 42 New Salon Coming Soon To beautiful sunny Charleston SC But for now continue to visit us atxe2x80xa6 Southparkxe2x80xa6 Charlotte NC Indian Landxe2x80xa6Indian Land SC Dilworth xe2x80xa6 Charlotte NC Lake Norman xe2x80xa6 Corneliua NC Did you know 42 people move into Charlotte everydayxe2x80xa6 yepxe2x80xa6itxe2x80x99s our magic number again and we hope to see them all here at Salon 42 What Else is New Learn About the Life of 42xe2x80xa6 42 is the answer to Life the Universe and Everything according to Douglas Adams and the book xe2x80x9cHitchhikers Guide to the Galaxy 42 degrees is the angle at which light must reflect off water in order to create a rainbow The Titanic was traveling at a speed equivalent to 42km when it collided with an iceberg There are 42 principles o\n",
      "**************************************************\n",
      "http://www.sunglasshut.com/us/?cvosrc=display.yelp.LasVegas\n",
      "##################################################\n",
      "Sunglass Hut Online Store Sunglasses for Women Men Kids Skip to content Polarized EGift Cards Versace RayBan Maui Jim Oakley Products 0 View all Sorry no Result found Your might be interested in Oakley 22600 RayBan 19000 Shipping to United States Europe If you wish to ship to another location please select your country below Be aware that changing your location while shopping will remove all items from the Shopping Bag Africa America Asia Europe Middle East Oceania Egypt Morocco South Africa Brasil Canada Chile Mexico United States Hong Kong China India Indonesia Malaysia Singapore Thailand France Germany Netherlands Portugal Spain United Kingdom Turkey Bahrain Jordan Kuwait Lebanon Oman Qatar Saudi Arabia United Arab Emirates Australia New Zealand 60 OFF A SECOND PAIR TCS APPLY USE CODE 60OFF2 READ MORE ABOUT OUR COVID19 RESPONSE AND ACTIONS FREE 2DAY SHIPPING FREE RETURNS FREE EASY RETURNS IN STORE OR BY MAIL GIVE THE GIFT OF CHOICE WITH SUNGLASS HUT EGIFT CARD THE EASIEST SAFEST WAY\n",
      "**************************************************\n",
      "http://www.anoctopussgarden.com\n",
      "##################################################\n",
      "Flower Designs Las Vegas NV An Octopuss Garden Event Flowers Las Vegas NV Corporate Flowers Las Vegas\n",
      "**************************************************\n",
      "http://www.dufferingrovemarket.ca/\n",
      "##################################################\n",
      "https://www.medicalmarijuanacardarizona.org/hours-and-locations/\n",
      "##################################################\n",
      "List of Locations and Hours for Medical Marijuana Doctors in AZ 480 3788530 888 5484846 520 2779057 contactmmjccccom Home Book your Visit The Process FAQ Safety and Efficacy Scientific research Check Application Status Locations Contact Join Us Select Page Hours and Locations Find the most convenient certification office Visits by appointment only We currently offer house callsxc2xa0 Call 888 5484846 xc2xa0for more details PHOENIX TEMPE La Vereda Medical Center at 2600 E Southern Ave Suite G Tempe AZ 85282 NORTH PHOENIX DEER VALLEY 20045 N 19th Ave Building 11 Suite 166 Phoenix AZ 85027 MARICOPA Inside Southwestern Pediatrics xc2xa021300 North John Wayne Parkway Suite 112 Maricopa AZxc2xa0851398963 CENTRAL PHOENIX 550 W Indian School Road Suite 122 Phoenix AZ 85013 MESA Inside Nexus Rehab and Spine at 4838 E Baseline Road Baseline Road Suite 122 Mesaxc2xa0AZ 85206 CENTRAL GILBERT building says Chiropractic on the front 1447 W Elliot Rd Gilbert AZ 85233 TUCSON xc2xa0Wholistic Family Med\n",
      "**************************************************\n"
     ]
    }
   ],
   "source": [
    "for url, corpus in zip(df['url'][-10:], df['webpage_corpus'][-10:]):\n",
    "    try:\n",
    "        print(url)\n",
    "        print('#' * 50)\n",
    "        print(corpus[:1000])\n",
    "        print('*' * 50)\n",
    "    except:\n",
    "        pass"
   ]
  },
  {
   "cell_type": "code",
   "execution_count": 9,
   "metadata": {},
   "outputs": [
    {
     "name": "stdout",
     "output_type": "stream",
     "text": [
      "http://www.thedakotaatcamelback.com\n",
      "##################################################\n",
      "Sorry#An error has occured No domain data found for domain wwwthedakotaatcamelbackcom 2020 RentPath LLC#All rights reserved#All photos videos and floor plans are the property of RentPath LLC#All text is the property of this property#RentPath is in no way affiliated with the management or ownership of this property\n",
      "**************************************************\n",
      "http://www.alyshaan.com\n",
      "##################################################\n",
      "https://www.kfc.ca//store/415-mount-pleasant-rd-toronto\n",
      "##################################################\n",
      "Be A Franais Sign in FOR SHARING FOR ONE DEALS 0 000 START MY ORDER 415 Mount Pleasant Rd Hours Sunday 1100 AM1000 PM Monday 1100 AM1000 PM Tuesday 1100 AM1000 PM Wednesday 1100 AM1000 PM Thursday 1100 AM1000 PM Friday 1100 AM1000 PM Saturday 1100 AM1000 PM 415 Mount Pleasant Rd 4164810900 Choose Another Location Store Details 415 Mount Pleasant Rd Toronto ON M4S 2L5 4164810900 Order Now Directions km Open Closed Today 1100 AM 1000 PM Monday 1100 AM 1000 PM Tuesday 1100 AM 1000 PM Wednesday 1100 AM 1000 PM Thursday 1100 AM 1000 PM Friday 1100 AM 1000 PM Saturday 1100 AM 1000 PM localshipping wwwkfcca OR 1866KFC4YOU5324968 Distance km localparking Parking Available Colonels Club Not a member#Get the app 1866 KFC4YOU 5324968 Quxc3xa9bec 18884 PFKPFK 4735735 Looking for a KFC#Find a KFC About Us Our Story Our Values Your Safety News About KFC Global Careers Franchise Info Real Estate Inquiries The C is for Chicken Customer Service Contact Us Find a KFC Gift Cards Coupons Policies Terms of\n",
      "**************************************************\n",
      "http://www.lcslawfamily.com\n",
      "##################################################\n",
      "702 4352121 Facebook Twitter Google Facebook Twitter Google Attorney Profile Criminal Law Arson Assault Burglary DUI DWI in Las Vegas Drug Crimes Juvenile Crimes Misdemeanor Parole Sex Crimes Violent Crimes Weapons Family Law Child Custody Child Support Divorce Domestic Violence Family Relocation Joint Custody Paternity Primary Custody Temporary Protection Order Blog News Videos Location Contact Us Select Page Whats Your Freedom Worth#Law Office of Louis Schneider we emphasize our clients rights to be respected and receive honest clear counsel#Criminal Law When you need a lawyer for a criminal legal matter you are probably looking first for straightforward answers to some tough questions#Legal issues of all types can be intimidating and your future well being often hangs in the balance Learn more Family Law If you do not have a Las Vegas family lawyer to assist you you can lose forever many rights that the law provides for you in family court including rights to money property and chil\n",
      "**************************************************\n",
      "http://twisterkaraoke.com/\n",
      "##################################################\n",
      "Buy a Domain Name Worlds Best Domains For Sale Customer Support 888 6946735 interesteddomainmarketcom Woops We cant find that domain name#How about searching for one instead#Domain For Sale Buy Now or make an offer What Are the Advantages of a Super Premium Com Domain#Increased Traffic Premium names often come with existing traffic since they are exact match terms people are searching for#Search Engine Ranking Your new domain will naturally sound like the authority of your industry which helps gain traffic from the search engines#Brand Recognition All of our names are easy to recognize and remember which will increase the success of your marketing and advertising campaigns#Immediate Presence As soon as you purchase your new name youre ready to start a website or landing page#Start doing business today#Higher Profits With increased traffic better brand recognition and increased marketing success youre sure to have higher profits#Great Investment A premium Com domain adds value to your c\n",
      "**************************************************\n",
      "http://www.salonfortytwo.com\n",
      "##################################################\n",
      "Salon 42 Home Story Services Salons Tribe 42 Weddings Our Press Contact Us Home Story Services Salons Tribe 42 Weddings Our Press Contact Us 42 The answer to life the universe and everything#Especially for Hair Salon 42 New Salon Coming Soon To beautiful sunny Charleston SC But for now continue to visit us atxe2x80xa6 Southparkxe2x80xa6 Charlotte NC Indian Landxe2x80xa6Indian Land SC Dilworth xe2x80xa6 Charlotte NC Lake Norman xe2x80xa6 Corneliua NC Did you know#42 people move into Charlotte everydayxe2x80xa6 yepxe2x80xa6itxe2x80x99s our magic number again and we hope to see them all here at Salon 42#What Else is New#Learn About the Life of 42xe2x80xa6 42 is the answer to Life the Universe and Everything according to Douglas Adams and the book xe2x80x9cHitchhikers Guide to the Galaxy#42 degrees is the angle at which light must reflect off water in order to create a rainbow#The Titanic was traveling at a speed equivalent to 42km when it collided with an iceberg#There are 42 principles o\n",
      "**************************************************\n",
      "http://www.sunglasshut.com/us/?cvosrc=display.yelp.LasVegas\n",
      "##################################################\n",
      "Sunglass Hut Online Store Sunglasses for Women Men Kids Skip to content Polarized EGift Cards Versace RayBan Maui Jim Oakley Products 0 View all Sorry no Result found Your might be interested in Oakley 22600 RayBan 19000 Shipping to United States Europe If you wish to ship to another location please select your country below#Be aware that changing your location while shopping will remove all items from the Shopping Bag Africa America Asia Europe Middle East Oceania Egypt Morocco South Africa Brasil Canada Chile Mexico United States Hong Kong China India Indonesia Malaysia Singapore Thailand France Germany Netherlands Portugal Spain United Kingdom Turkey Bahrain Jordan Kuwait Lebanon Oman Qatar Saudi Arabia United Arab Emirates Australia New Zealand 60 OFF A SECOND PAIR TCS APPLY USE CODE 60OFF2 READ MORE ABOUT OUR COVID19 RESPONSE AND ACTIONS FREE 2DAY SHIPPING FREE RETURNS FREE EASY RETURNS IN STORE OR BY MAIL GIVE THE GIFT OF CHOICE WITH SUNGLASS HUT EGIFT CARD THE EASIEST SAFEST WAY\n",
      "**************************************************\n",
      "http://www.anoctopussgarden.com\n",
      "##################################################\n",
      "Flower Designs Las Vegas NV An Octopuss Garden Event Flowers Las Vegas NV Corporate Flowers Las Vegas\n",
      "**************************************************\n",
      "http://www.dufferingrovemarket.ca/\n",
      "##################################################\n",
      "https://www.medicalmarijuanacardarizona.org/hours-and-locations/\n",
      "##################################################\n",
      "List of Locations and Hours for Medical Marijuana Doctors in AZ 480 3788530 888 5484846 520 2779057 contactmmjccccom Home Book your Visit The Process FAQ Safety and Efficacy Scientific research Check Application Status Locations Contact Join Us Select Page Hours and Locations Find the most convenient certification office#Visits by appointment only#We currently offer house callsxc2xa0 Call 888 5484846 xc2xa0for more details#PHOENIX TEMPE La Vereda Medical Center at 2600 E Southern Ave Suite G Tempe AZ 85282 NORTH PHOENIX DEER VALLEY 20045 N 19th Ave Building 11 Suite 166 Phoenix AZ 85027 MARICOPA Inside Southwestern Pediatrics xc2xa021300 North John Wayne Parkway Suite 112 Maricopa AZxc2xa0851398963 CENTRAL PHOENIX 550 W Indian School Road Suite 122 Phoenix AZ 85013 MESA Inside Nexus Rehab and Spine at 4838 E Baseline Road Baseline Road Suite 122 Mesaxc2xa0AZ 85206 CENTRAL GILBERT building says Chiropractic on the front 1447 W Elliot Rd Gilbert AZ 85233 TUCSON xc2xa0Wholistic Family Med\n",
      "**************************************************\n"
     ]
    }
   ],
   "source": [
    "for url, corpus in zip(df_sentsplit['url'][-10:], df_sentsplit['webpage_corpus'][-10:]):\n",
    "    try:\n",
    "        print(url)\n",
    "        print('#' * 50)\n",
    "        print(corpus[:1000])\n",
    "        print('*' * 50)\n",
    "    except:\n",
    "        pass"
   ]
  },
  {
   "cell_type": "code",
   "execution_count": 10,
   "metadata": {},
   "outputs": [
    {
     "name": "stderr",
     "output_type": "stream",
     "text": [
      "/home/vahidsanei_google_com/advertiser-quality-from-sites/source/my_models.py:394: SettingWithCopyWarning: \n",
      "A value is trying to be set on a copy of a slice from a DataFrame.\n",
      "Try using .loc[row_indexer,col_indexer] = value instead\n",
      "\n",
      "See the caveats in the documentation: https://pandas.pydata.org/pandas-docs/stable/user_guide/indexing.html#returning-a-view-versus-a-copy\n",
      "  df['categories'] = df['categories'].apply(lambda x: re.split('[,;&]', x))\n",
      "/home/vahidsanei_google_com/advertiser-quality-from-sites/source/my_models.py:407: SettingWithCopyWarning: \n",
      "A value is trying to be set on a copy of a slice from a DataFrame.\n",
      "Try using .loc[row_indexer,col_indexer] = value instead\n",
      "\n",
      "See the caveats in the documentation: https://pandas.pydata.org/pandas-docs/stable/user_guide/indexing.html#returning-a-view-versus-a-copy\n",
      "  df['categories'] = cat\n"
     ]
    }
   ],
   "source": [
    "df = unify_yelp_data_classes(df)"
   ]
  },
  {
   "cell_type": "code",
   "execution_count": 11,
   "metadata": {},
   "outputs": [],
   "source": [
    "df_sentsplit = unify_yelp_data_classes(df_sentsplit)"
   ]
  },
  {
   "cell_type": "code",
   "execution_count": 12,
   "metadata": {
    "scrolled": true
   },
   "outputs": [
    {
     "data": {
      "image/png": "[encoded data removed]",
      "text/plain": [
       "<Figure size 432x288 with 1 Axes>"
      ]
     },
     "metadata": {
      "image/png": {
       "height": 340,
       "width": 401
      },
      "needs_background": "light"
     },
     "output_type": "display_data"
    }
   ],
   "source": [
    "chart = sns.countplot(df['categories'], palette='hls')\n",
    "plt.title('Number of business per Category')\n",
    "chart.set_xticklabels(chart.get_xticklabels(), horizontalalignment='center', rotation=90);"
   ]
  },
  {
   "cell_type": "code",
   "execution_count": 13,
   "metadata": {},
   "outputs": [
    {
     "data": {
      "image/png": "[encoded data removed]",
      "text/plain": [
       "<Figure size 432x288 with 1 Axes>"
      ]
     },
     "metadata": {
      "image/png": {
       "height": 340,
       "width": 401
      },
      "needs_background": "light"
     },
     "output_type": "display_data"
    }
   ],
   "source": [
    "chart = sns.countplot(df_sentsplit['categories'], palette='hls')\n",
    "plt.title('Number of business per Category')\n",
    "chart.set_xticklabels(chart.get_xticklabels(), horizontalalignment='center', rotation=90);"
   ]
  },
  {
   "cell_type": "code",
   "execution_count": 14,
   "metadata": {},
   "outputs": [
    {
     "name": "stdout",
     "output_type": "stream",
     "text": [
      "<class 'pandas.core.frame.DataFrame'>\n",
      "Int64Index: 78483 entries, 0 to 78567\n",
      "Data columns (total 19 columns):\n",
      " #   Column          Non-Null Count  Dtype  \n",
      "---  ------          --------------  -----  \n",
      " 0   Unnamed: 0      78483 non-null  int64  \n",
      " 1   business_id     78483 non-null  object \n",
      " 2   name            78483 non-null  object \n",
      " 3   address         75067 non-null  object \n",
      " 4   city            78483 non-null  object \n",
      " 5   state           78483 non-null  object \n",
      " 6   postal_code     78326 non-null  object \n",
      " 7   latitude        78483 non-null  float64\n",
      " 8   longitude       78483 non-null  float64\n",
      " 9   stars           78483 non-null  float64\n",
      " 10  review_count    78483 non-null  int64  \n",
      " 11  is_open         78483 non-null  int64  \n",
      " 12  attributes      67627 non-null  object \n",
      " 13  categories      78483 non-null  object \n",
      " 14  hours           67565 non-null  object \n",
      " 15  url             78483 non-null  object \n",
      " 16  webpage_text    78483 non-null  object \n",
      " 17  is_eng          78483 non-null  bool   \n",
      " 18  webpage_corpus  50867 non-null  object \n",
      "dtypes: bool(1), float64(3), int64(3), object(12)\n",
      "memory usage: 14.0+ MB\n"
     ]
    }
   ],
   "source": [
    "df.info()"
   ]
  },
  {
   "cell_type": "code",
   "execution_count": 15,
   "metadata": {
    "scrolled": true
   },
   "outputs": [
    {
     "name": "stdout",
     "output_type": "stream",
     "text": [
      "['this', 'is', 'an', 'open', '-', 'source', 'project', 'for', 'category', 'detection', 'of', 'businesses', 'based', 'on', 'their', 'website', 'contents', '!']\n",
      "[2023, 2003, 2019, 2330, 1011, 3120, 2622, 2005, 4696, 10788, 1997, 5661, 2241, 2006, 2037, 4037, 8417, 999]\n"
     ]
    }
   ],
   "source": [
    "folder_path = os.path.join(FOLDER_PATH, 'data','uncased_L-12_H-768_A-12')\n",
    "tokenizer = FullTokenizer(vocab_file=os.path.join(folder_path, 'vocab.txt'))\n",
    "\n",
    "bert_ckpt_file = os.path.join(folder_path, 'bert_model.ckpt')\n",
    "bert_config_file = os.path.join(folder_path, 'bert_config.json')\n",
    "\n",
    "tokens_test = tokenizer.tokenize('This is an open-source project for category detection of businesses based on their website contents!')\n",
    "print(tokens_test)\n",
    "print(tokenizer.convert_tokens_to_ids(tokens_test))"
   ]
  },
  {
   "cell_type": "code",
   "execution_count": 16,
   "metadata": {},
   "outputs": [],
   "source": [
    "split_sz = int(len(df) * 0.8)\n",
    "train = df[:split_sz]\n",
    "test = df[split_sz:]"
   ]
  },
  {
   "cell_type": "code",
   "execution_count": 17,
   "metadata": {
    "scrolled": true
   },
   "outputs": [
    {
     "name": "stderr",
     "output_type": "stream",
     "text": [
      "40760it [08:16, 82.16it/s] \n",
      "8it [00:00, 74.66it/s]"
     ]
    },
    {
     "name": "stdout",
     "output_type": "stream",
     "text": [
      "Removed 17.6864573110893% of entries, due to being short corpus length.\n"
     ]
    },
    {
     "name": "stderr",
     "output_type": "stream",
     "text": [
      "10107it [02:09, 78.15it/s]\n"
     ]
    },
    {
     "name": "stdout",
     "output_type": "stream",
     "text": [
      "Removed 17.77975660433363% of entries, due to being short corpus length.\n"
     ]
    }
   ],
   "source": [
    "cat = categoryDetection(train, test, tokenizer, max_seq_len=300)"
   ]
  },
  {
   "cell_type": "code",
   "execution_count": 18,
   "metadata": {},
   "outputs": [
    {
     "data": {
      "text/plain": [
       "{'entertainment', 'financial', 'food', 'health', 'religious', 'services'}"
      ]
     },
     "execution_count": 18,
     "metadata": {},
     "output_type": "execute_result"
    }
   ],
   "source": [
    "set(df['categories'])"
   ]
  },
  {
   "cell_type": "code",
   "execution_count": 19,
   "metadata": {},
   "outputs": [
    {
     "name": "stdout",
     "output_type": "stream",
     "text": [
      "loader: No value for:[bert/encoder/layer_0/attention/output/adapter-down/kernel:0], i.e.:[bert/encoder/layer_0/attention/output/adapter-down/kernel] in:[/home/vahidsanei_google_com/data/uncased_L-12_H-768_A-12/bert_model.ckpt]\n",
      "loader: No value for:[bert/encoder/layer_0/attention/output/adapter-down/bias:0], i.e.:[bert/encoder/layer_0/attention/output/adapter-down/bias] in:[/home/vahidsanei_google_com/data/uncased_L-12_H-768_A-12/bert_model.ckpt]\n",
      "loader: No value for:[bert/encoder/layer_0/attention/output/adapter-up/kernel:0], i.e.:[bert/encoder/layer_0/attention/output/adapter-up/kernel] in:[/home/vahidsanei_google_com/data/uncased_L-12_H-768_A-12/bert_model.ckpt]\n",
      "loader: No value for:[bert/encoder/layer_0/attention/output/adapter-up/bias:0], i.e.:[bert/encoder/layer_0/attention/output/adapter-up/bias] in:[/home/vahidsanei_google_com/data/uncased_L-12_H-768_A-12/bert_model.ckpt]\n",
      "loader: No value for:[bert/encoder/layer_0/output/adapter-down/kernel:0], i.e.:[bert/encoder/layer_0/output/adapter-down/kernel] in:[/home/vahidsanei_google_com/data/uncased_L-12_H-768_A-12/bert_model.ckpt]\n",
      "loader: No value for:[bert/encoder/layer_0/output/adapter-down/bias:0], i.e.:[bert/encoder/layer_0/output/adapter-down/bias] in:[/home/vahidsanei_google_com/data/uncased_L-12_H-768_A-12/bert_model.ckpt]\n",
      "loader: No value for:[bert/encoder/layer_0/output/adapter-up/kernel:0], i.e.:[bert/encoder/layer_0/output/adapter-up/kernel] in:[/home/vahidsanei_google_com/data/uncased_L-12_H-768_A-12/bert_model.ckpt]\n",
      "loader: No value for:[bert/encoder/layer_0/output/adapter-up/bias:0], i.e.:[bert/encoder/layer_0/output/adapter-up/bias] in:[/home/vahidsanei_google_com/data/uncased_L-12_H-768_A-12/bert_model.ckpt]\n",
      "loader: No value for:[bert/encoder/layer_1/attention/output/adapter-down/kernel:0], i.e.:[bert/encoder/layer_1/attention/output/adapter-down/kernel] in:[/home/vahidsanei_google_com/data/uncased_L-12_H-768_A-12/bert_model.ckpt]\n",
      "loader: No value for:[bert/encoder/layer_1/attention/output/adapter-down/bias:0], i.e.:[bert/encoder/layer_1/attention/output/adapter-down/bias] in:[/home/vahidsanei_google_com/data/uncased_L-12_H-768_A-12/bert_model.ckpt]\n",
      "loader: No value for:[bert/encoder/layer_1/attention/output/adapter-up/kernel:0], i.e.:[bert/encoder/layer_1/attention/output/adapter-up/kernel] in:[/home/vahidsanei_google_com/data/uncased_L-12_H-768_A-12/bert_model.ckpt]\n",
      "loader: No value for:[bert/encoder/layer_1/attention/output/adapter-up/bias:0], i.e.:[bert/encoder/layer_1/attention/output/adapter-up/bias] in:[/home/vahidsanei_google_com/data/uncased_L-12_H-768_A-12/bert_model.ckpt]\n",
      "loader: No value for:[bert/encoder/layer_1/output/adapter-down/kernel:0], i.e.:[bert/encoder/layer_1/output/adapter-down/kernel] in:[/home/vahidsanei_google_com/data/uncased_L-12_H-768_A-12/bert_model.ckpt]\n",
      "loader: No value for:[bert/encoder/layer_1/output/adapter-down/bias:0], i.e.:[bert/encoder/layer_1/output/adapter-down/bias] in:[/home/vahidsanei_google_com/data/uncased_L-12_H-768_A-12/bert_model.ckpt]\n",
      "loader: No value for:[bert/encoder/layer_1/output/adapter-up/kernel:0], i.e.:[bert/encoder/layer_1/output/adapter-up/kernel] in:[/home/vahidsanei_google_com/data/uncased_L-12_H-768_A-12/bert_model.ckpt]\n",
      "loader: No value for:[bert/encoder/layer_1/output/adapter-up/bias:0], i.e.:[bert/encoder/layer_1/output/adapter-up/bias] in:[/home/vahidsanei_google_com/data/uncased_L-12_H-768_A-12/bert_model.ckpt]\n",
      "loader: No value for:[bert/encoder/layer_2/attention/output/adapter-down/kernel:0], i.e.:[bert/encoder/layer_2/attention/output/adapter-down/kernel] in:[/home/vahidsanei_google_com/data/uncased_L-12_H-768_A-12/bert_model.ckpt]\n",
      "loader: No value for:[bert/encoder/layer_2/attention/output/adapter-down/bias:0], i.e.:[bert/encoder/layer_2/attention/output/adapter-down/bias] in:[/home/vahidsanei_google_com/data/uncased_L-12_H-768_A-12/bert_model.ckpt]\n",
      "loader: No value for:[bert/encoder/layer_2/attention/output/adapter-up/kernel:0], i.e.:[bert/encoder/layer_2/attention/output/adapter-up/kernel] in:[/home/vahidsanei_google_com/data/uncased_L-12_H-768_A-12/bert_model.ckpt]\n",
      "loader: No value for:[bert/encoder/layer_2/attention/output/adapter-up/bias:0], i.e.:[bert/encoder/layer_2/attention/output/adapter-up/bias] in:[/home/vahidsanei_google_com/data/uncased_L-12_H-768_A-12/bert_model.ckpt]\n",
      "loader: No value for:[bert/encoder/layer_2/output/adapter-down/kernel:0], i.e.:[bert/encoder/layer_2/output/adapter-down/kernel] in:[/home/vahidsanei_google_com/data/uncased_L-12_H-768_A-12/bert_model.ckpt]\n",
      "loader: No value for:[bert/encoder/layer_2/output/adapter-down/bias:0], i.e.:[bert/encoder/layer_2/output/adapter-down/bias] in:[/home/vahidsanei_google_com/data/uncased_L-12_H-768_A-12/bert_model.ckpt]\n",
      "loader: No value for:[bert/encoder/layer_2/output/adapter-up/kernel:0], i.e.:[bert/encoder/layer_2/output/adapter-up/kernel] in:[/home/vahidsanei_google_com/data/uncased_L-12_H-768_A-12/bert_model.ckpt]\n",
      "loader: No value for:[bert/encoder/layer_2/output/adapter-up/bias:0], i.e.:[bert/encoder/layer_2/output/adapter-up/bias] in:[/home/vahidsanei_google_com/data/uncased_L-12_H-768_A-12/bert_model.ckpt]\n",
      "loader: No value for:[bert/encoder/layer_3/attention/output/adapter-down/kernel:0], i.e.:[bert/encoder/layer_3/attention/output/adapter-down/kernel] in:[/home/vahidsanei_google_com/data/uncased_L-12_H-768_A-12/bert_model.ckpt]\n",
      "loader: No value for:[bert/encoder/layer_3/attention/output/adapter-down/bias:0], i.e.:[bert/encoder/layer_3/attention/output/adapter-down/bias] in:[/home/vahidsanei_google_com/data/uncased_L-12_H-768_A-12/bert_model.ckpt]\n",
      "loader: No value for:[bert/encoder/layer_3/attention/output/adapter-up/kernel:0], i.e.:[bert/encoder/layer_3/attention/output/adapter-up/kernel] in:[/home/vahidsanei_google_com/data/uncased_L-12_H-768_A-12/bert_model.ckpt]\n",
      "loader: No value for:[bert/encoder/layer_3/attention/output/adapter-up/bias:0], i.e.:[bert/encoder/layer_3/attention/output/adapter-up/bias] in:[/home/vahidsanei_google_com/data/uncased_L-12_H-768_A-12/bert_model.ckpt]\n",
      "loader: No value for:[bert/encoder/layer_3/output/adapter-down/kernel:0], i.e.:[bert/encoder/layer_3/output/adapter-down/kernel] in:[/home/vahidsanei_google_com/data/uncased_L-12_H-768_A-12/bert_model.ckpt]\n",
      "loader: No value for:[bert/encoder/layer_3/output/adapter-down/bias:0], i.e.:[bert/encoder/layer_3/output/adapter-down/bias] in:[/home/vahidsanei_google_com/data/uncased_L-12_H-768_A-12/bert_model.ckpt]\n",
      "loader: No value for:[bert/encoder/layer_3/output/adapter-up/kernel:0], i.e.:[bert/encoder/layer_3/output/adapter-up/kernel] in:[/home/vahidsanei_google_com/data/uncased_L-12_H-768_A-12/bert_model.ckpt]\n",
      "loader: No value for:[bert/encoder/layer_3/output/adapter-up/bias:0], i.e.:[bert/encoder/layer_3/output/adapter-up/bias] in:[/home/vahidsanei_google_com/data/uncased_L-12_H-768_A-12/bert_model.ckpt]\n",
      "loader: No value for:[bert/encoder/layer_4/attention/output/adapter-down/kernel:0], i.e.:[bert/encoder/layer_4/attention/output/adapter-down/kernel] in:[/home/vahidsanei_google_com/data/uncased_L-12_H-768_A-12/bert_model.ckpt]\n",
      "loader: No value for:[bert/encoder/layer_4/attention/output/adapter-down/bias:0], i.e.:[bert/encoder/layer_4/attention/output/adapter-down/bias] in:[/home/vahidsanei_google_com/data/uncased_L-12_H-768_A-12/bert_model.ckpt]\n",
      "loader: No value for:[bert/encoder/layer_4/attention/output/adapter-up/kernel:0], i.e.:[bert/encoder/layer_4/attention/output/adapter-up/kernel] in:[/home/vahidsanei_google_com/data/uncased_L-12_H-768_A-12/bert_model.ckpt]\n",
      "loader: No value for:[bert/encoder/layer_4/attention/output/adapter-up/bias:0], i.e.:[bert/encoder/layer_4/attention/output/adapter-up/bias] in:[/home/vahidsanei_google_com/data/uncased_L-12_H-768_A-12/bert_model.ckpt]\n",
      "loader: No value for:[bert/encoder/layer_4/output/adapter-down/kernel:0], i.e.:[bert/encoder/layer_4/output/adapter-down/kernel] in:[/home/vahidsanei_google_com/data/uncased_L-12_H-768_A-12/bert_model.ckpt]\n",
      "loader: No value for:[bert/encoder/layer_4/output/adapter-down/bias:0], i.e.:[bert/encoder/layer_4/output/adapter-down/bias] in:[/home/vahidsanei_google_com/data/uncased_L-12_H-768_A-12/bert_model.ckpt]\n",
      "loader: No value for:[bert/encoder/layer_4/output/adapter-up/kernel:0], i.e.:[bert/encoder/layer_4/output/adapter-up/kernel] in:[/home/vahidsanei_google_com/data/uncased_L-12_H-768_A-12/bert_model.ckpt]\n",
      "loader: No value for:[bert/encoder/layer_4/output/adapter-up/bias:0], i.e.:[bert/encoder/layer_4/output/adapter-up/bias] in:[/home/vahidsanei_google_com/data/uncased_L-12_H-768_A-12/bert_model.ckpt]\n",
      "loader: No value for:[bert/encoder/layer_5/attention/output/adapter-down/kernel:0], i.e.:[bert/encoder/layer_5/attention/output/adapter-down/kernel] in:[/home/vahidsanei_google_com/data/uncased_L-12_H-768_A-12/bert_model.ckpt]\n",
      "loader: No value for:[bert/encoder/layer_5/attention/output/adapter-down/bias:0], i.e.:[bert/encoder/layer_5/attention/output/adapter-down/bias] in:[/home/vahidsanei_google_com/data/uncased_L-12_H-768_A-12/bert_model.ckpt]\n",
      "loader: No value for:[bert/encoder/layer_5/attention/output/adapter-up/kernel:0], i.e.:[bert/encoder/layer_5/attention/output/adapter-up/kernel] in:[/home/vahidsanei_google_com/data/uncased_L-12_H-768_A-12/bert_model.ckpt]\n",
      "loader: No value for:[bert/encoder/layer_5/attention/output/adapter-up/bias:0], i.e.:[bert/encoder/layer_5/attention/output/adapter-up/bias] in:[/home/vahidsanei_google_com/data/uncased_L-12_H-768_A-12/bert_model.ckpt]\n"
     ]
    },
    {
     "name": "stdout",
     "output_type": "stream",
     "text": [
      "loader: No value for:[bert/encoder/layer_5/output/adapter-down/kernel:0], i.e.:[bert/encoder/layer_5/output/adapter-down/kernel] in:[/home/vahidsanei_google_com/data/uncased_L-12_H-768_A-12/bert_model.ckpt]\n",
      "loader: No value for:[bert/encoder/layer_5/output/adapter-down/bias:0], i.e.:[bert/encoder/layer_5/output/adapter-down/bias] in:[/home/vahidsanei_google_com/data/uncased_L-12_H-768_A-12/bert_model.ckpt]\n",
      "loader: No value for:[bert/encoder/layer_5/output/adapter-up/kernel:0], i.e.:[bert/encoder/layer_5/output/adapter-up/kernel] in:[/home/vahidsanei_google_com/data/uncased_L-12_H-768_A-12/bert_model.ckpt]\n",
      "loader: No value for:[bert/encoder/layer_5/output/adapter-up/bias:0], i.e.:[bert/encoder/layer_5/output/adapter-up/bias] in:[/home/vahidsanei_google_com/data/uncased_L-12_H-768_A-12/bert_model.ckpt]\n",
      "loader: No value for:[bert/encoder/layer_6/attention/output/adapter-down/kernel:0], i.e.:[bert/encoder/layer_6/attention/output/adapter-down/kernel] in:[/home/vahidsanei_google_com/data/uncased_L-12_H-768_A-12/bert_model.ckpt]\n",
      "loader: No value for:[bert/encoder/layer_6/attention/output/adapter-down/bias:0], i.e.:[bert/encoder/layer_6/attention/output/adapter-down/bias] in:[/home/vahidsanei_google_com/data/uncased_L-12_H-768_A-12/bert_model.ckpt]\n",
      "loader: No value for:[bert/encoder/layer_6/attention/output/adapter-up/kernel:0], i.e.:[bert/encoder/layer_6/attention/output/adapter-up/kernel] in:[/home/vahidsanei_google_com/data/uncased_L-12_H-768_A-12/bert_model.ckpt]\n",
      "loader: No value for:[bert/encoder/layer_6/attention/output/adapter-up/bias:0], i.e.:[bert/encoder/layer_6/attention/output/adapter-up/bias] in:[/home/vahidsanei_google_com/data/uncased_L-12_H-768_A-12/bert_model.ckpt]\n",
      "loader: No value for:[bert/encoder/layer_6/output/adapter-down/kernel:0], i.e.:[bert/encoder/layer_6/output/adapter-down/kernel] in:[/home/vahidsanei_google_com/data/uncased_L-12_H-768_A-12/bert_model.ckpt]\n",
      "loader: No value for:[bert/encoder/layer_6/output/adapter-down/bias:0], i.e.:[bert/encoder/layer_6/output/adapter-down/bias] in:[/home/vahidsanei_google_com/data/uncased_L-12_H-768_A-12/bert_model.ckpt]\n",
      "loader: No value for:[bert/encoder/layer_6/output/adapter-up/kernel:0], i.e.:[bert/encoder/layer_6/output/adapter-up/kernel] in:[/home/vahidsanei_google_com/data/uncased_L-12_H-768_A-12/bert_model.ckpt]\n",
      "loader: No value for:[bert/encoder/layer_6/output/adapter-up/bias:0], i.e.:[bert/encoder/layer_6/output/adapter-up/bias] in:[/home/vahidsanei_google_com/data/uncased_L-12_H-768_A-12/bert_model.ckpt]\n",
      "loader: No value for:[bert/encoder/layer_7/attention/output/adapter-down/kernel:0], i.e.:[bert/encoder/layer_7/attention/output/adapter-down/kernel] in:[/home/vahidsanei_google_com/data/uncased_L-12_H-768_A-12/bert_model.ckpt]\n",
      "loader: No value for:[bert/encoder/layer_7/attention/output/adapter-down/bias:0], i.e.:[bert/encoder/layer_7/attention/output/adapter-down/bias] in:[/home/vahidsanei_google_com/data/uncased_L-12_H-768_A-12/bert_model.ckpt]\n",
      "loader: No value for:[bert/encoder/layer_7/attention/output/adapter-up/kernel:0], i.e.:[bert/encoder/layer_7/attention/output/adapter-up/kernel] in:[/home/vahidsanei_google_com/data/uncased_L-12_H-768_A-12/bert_model.ckpt]\n",
      "loader: No value for:[bert/encoder/layer_7/attention/output/adapter-up/bias:0], i.e.:[bert/encoder/layer_7/attention/output/adapter-up/bias] in:[/home/vahidsanei_google_com/data/uncased_L-12_H-768_A-12/bert_model.ckpt]\n",
      "loader: No value for:[bert/encoder/layer_7/output/adapter-down/kernel:0], i.e.:[bert/encoder/layer_7/output/adapter-down/kernel] in:[/home/vahidsanei_google_com/data/uncased_L-12_H-768_A-12/bert_model.ckpt]\n",
      "loader: No value for:[bert/encoder/layer_7/output/adapter-down/bias:0], i.e.:[bert/encoder/layer_7/output/adapter-down/bias] in:[/home/vahidsanei_google_com/data/uncased_L-12_H-768_A-12/bert_model.ckpt]\n",
      "loader: No value for:[bert/encoder/layer_7/output/adapter-up/kernel:0], i.e.:[bert/encoder/layer_7/output/adapter-up/kernel] in:[/home/vahidsanei_google_com/data/uncased_L-12_H-768_A-12/bert_model.ckpt]\n",
      "loader: No value for:[bert/encoder/layer_7/output/adapter-up/bias:0], i.e.:[bert/encoder/layer_7/output/adapter-up/bias] in:[/home/vahidsanei_google_com/data/uncased_L-12_H-768_A-12/bert_model.ckpt]\n",
      "loader: No value for:[bert/encoder/layer_8/attention/output/adapter-down/kernel:0], i.e.:[bert/encoder/layer_8/attention/output/adapter-down/kernel] in:[/home/vahidsanei_google_com/data/uncased_L-12_H-768_A-12/bert_model.ckpt]\n",
      "loader: No value for:[bert/encoder/layer_8/attention/output/adapter-down/bias:0], i.e.:[bert/encoder/layer_8/attention/output/adapter-down/bias] in:[/home/vahidsanei_google_com/data/uncased_L-12_H-768_A-12/bert_model.ckpt]\n",
      "loader: No value for:[bert/encoder/layer_8/attention/output/adapter-up/kernel:0], i.e.:[bert/encoder/layer_8/attention/output/adapter-up/kernel] in:[/home/vahidsanei_google_com/data/uncased_L-12_H-768_A-12/bert_model.ckpt]\n",
      "loader: No value for:[bert/encoder/layer_8/attention/output/adapter-up/bias:0], i.e.:[bert/encoder/layer_8/attention/output/adapter-up/bias] in:[/home/vahidsanei_google_com/data/uncased_L-12_H-768_A-12/bert_model.ckpt]\n",
      "loader: No value for:[bert/encoder/layer_8/output/adapter-down/kernel:0], i.e.:[bert/encoder/layer_8/output/adapter-down/kernel] in:[/home/vahidsanei_google_com/data/uncased_L-12_H-768_A-12/bert_model.ckpt]\n",
      "loader: No value for:[bert/encoder/layer_8/output/adapter-down/bias:0], i.e.:[bert/encoder/layer_8/output/adapter-down/bias] in:[/home/vahidsanei_google_com/data/uncased_L-12_H-768_A-12/bert_model.ckpt]\n",
      "loader: No value for:[bert/encoder/layer_8/output/adapter-up/kernel:0], i.e.:[bert/encoder/layer_8/output/adapter-up/kernel] in:[/home/vahidsanei_google_com/data/uncased_L-12_H-768_A-12/bert_model.ckpt]\n",
      "loader: No value for:[bert/encoder/layer_8/output/adapter-up/bias:0], i.e.:[bert/encoder/layer_8/output/adapter-up/bias] in:[/home/vahidsanei_google_com/data/uncased_L-12_H-768_A-12/bert_model.ckpt]\n",
      "loader: No value for:[bert/encoder/layer_9/attention/output/adapter-down/kernel:0], i.e.:[bert/encoder/layer_9/attention/output/adapter-down/kernel] in:[/home/vahidsanei_google_com/data/uncased_L-12_H-768_A-12/bert_model.ckpt]\n",
      "loader: No value for:[bert/encoder/layer_9/attention/output/adapter-down/bias:0], i.e.:[bert/encoder/layer_9/attention/output/adapter-down/bias] in:[/home/vahidsanei_google_com/data/uncased_L-12_H-768_A-12/bert_model.ckpt]\n",
      "loader: No value for:[bert/encoder/layer_9/attention/output/adapter-up/kernel:0], i.e.:[bert/encoder/layer_9/attention/output/adapter-up/kernel] in:[/home/vahidsanei_google_com/data/uncased_L-12_H-768_A-12/bert_model.ckpt]\n",
      "loader: No value for:[bert/encoder/layer_9/attention/output/adapter-up/bias:0], i.e.:[bert/encoder/layer_9/attention/output/adapter-up/bias] in:[/home/vahidsanei_google_com/data/uncased_L-12_H-768_A-12/bert_model.ckpt]\n",
      "loader: No value for:[bert/encoder/layer_9/output/adapter-down/kernel:0], i.e.:[bert/encoder/layer_9/output/adapter-down/kernel] in:[/home/vahidsanei_google_com/data/uncased_L-12_H-768_A-12/bert_model.ckpt]\n",
      "loader: No value for:[bert/encoder/layer_9/output/adapter-down/bias:0], i.e.:[bert/encoder/layer_9/output/adapter-down/bias] in:[/home/vahidsanei_google_com/data/uncased_L-12_H-768_A-12/bert_model.ckpt]\n",
      "loader: No value for:[bert/encoder/layer_9/output/adapter-up/kernel:0], i.e.:[bert/encoder/layer_9/output/adapter-up/kernel] in:[/home/vahidsanei_google_com/data/uncased_L-12_H-768_A-12/bert_model.ckpt]\n",
      "loader: No value for:[bert/encoder/layer_9/output/adapter-up/bias:0], i.e.:[bert/encoder/layer_9/output/adapter-up/bias] in:[/home/vahidsanei_google_com/data/uncased_L-12_H-768_A-12/bert_model.ckpt]\n",
      "loader: No value for:[bert/encoder/layer_10/attention/output/adapter-down/kernel:0], i.e.:[bert/encoder/layer_10/attention/output/adapter-down/kernel] in:[/home/vahidsanei_google_com/data/uncased_L-12_H-768_A-12/bert_model.ckpt]\n",
      "loader: No value for:[bert/encoder/layer_10/attention/output/adapter-down/bias:0], i.e.:[bert/encoder/layer_10/attention/output/adapter-down/bias] in:[/home/vahidsanei_google_com/data/uncased_L-12_H-768_A-12/bert_model.ckpt]\n",
      "loader: No value for:[bert/encoder/layer_10/attention/output/adapter-up/kernel:0], i.e.:[bert/encoder/layer_10/attention/output/adapter-up/kernel] in:[/home/vahidsanei_google_com/data/uncased_L-12_H-768_A-12/bert_model.ckpt]\n",
      "loader: No value for:[bert/encoder/layer_10/attention/output/adapter-up/bias:0], i.e.:[bert/encoder/layer_10/attention/output/adapter-up/bias] in:[/home/vahidsanei_google_com/data/uncased_L-12_H-768_A-12/bert_model.ckpt]\n",
      "loader: No value for:[bert/encoder/layer_10/output/adapter-down/kernel:0], i.e.:[bert/encoder/layer_10/output/adapter-down/kernel] in:[/home/vahidsanei_google_com/data/uncased_L-12_H-768_A-12/bert_model.ckpt]\n",
      "loader: No value for:[bert/encoder/layer_10/output/adapter-down/bias:0], i.e.:[bert/encoder/layer_10/output/adapter-down/bias] in:[/home/vahidsanei_google_com/data/uncased_L-12_H-768_A-12/bert_model.ckpt]\n",
      "loader: No value for:[bert/encoder/layer_10/output/adapter-up/kernel:0], i.e.:[bert/encoder/layer_10/output/adapter-up/kernel] in:[/home/vahidsanei_google_com/data/uncased_L-12_H-768_A-12/bert_model.ckpt]\n",
      "loader: No value for:[bert/encoder/layer_10/output/adapter-up/bias:0], i.e.:[bert/encoder/layer_10/output/adapter-up/bias] in:[/home/vahidsanei_google_com/data/uncased_L-12_H-768_A-12/bert_model.ckpt]\n",
      "loader: No value for:[bert/encoder/layer_11/attention/output/adapter-down/kernel:0], i.e.:[bert/encoder/layer_11/attention/output/adapter-down/kernel] in:[/home/vahidsanei_google_com/data/uncased_L-12_H-768_A-12/bert_model.ckpt]\n",
      "loader: No value for:[bert/encoder/layer_11/attention/output/adapter-down/bias:0], i.e.:[bert/encoder/layer_11/attention/output/adapter-down/bias] in:[/home/vahidsanei_google_com/data/uncased_L-12_H-768_A-12/bert_model.ckpt]\n",
      "loader: No value for:[bert/encoder/layer_11/attention/output/adapter-up/kernel:0], i.e.:[bert/encoder/layer_11/attention/output/adapter-up/kernel] in:[/home/vahidsanei_google_com/data/uncased_L-12_H-768_A-12/bert_model.ckpt]\n",
      "loader: No value for:[bert/encoder/layer_11/attention/output/adapter-up/bias:0], i.e.:[bert/encoder/layer_11/attention/output/adapter-up/bias] in:[/home/vahidsanei_google_com/data/uncased_L-12_H-768_A-12/bert_model.ckpt]\n"
     ]
    },
    {
     "name": "stdout",
     "output_type": "stream",
     "text": [
      "loader: No value for:[bert/encoder/layer_11/output/adapter-down/kernel:0], i.e.:[bert/encoder/layer_11/output/adapter-down/kernel] in:[/home/vahidsanei_google_com/data/uncased_L-12_H-768_A-12/bert_model.ckpt]\n",
      "loader: No value for:[bert/encoder/layer_11/output/adapter-down/bias:0], i.e.:[bert/encoder/layer_11/output/adapter-down/bias] in:[/home/vahidsanei_google_com/data/uncased_L-12_H-768_A-12/bert_model.ckpt]\n",
      "loader: No value for:[bert/encoder/layer_11/output/adapter-up/kernel:0], i.e.:[bert/encoder/layer_11/output/adapter-up/kernel] in:[/home/vahidsanei_google_com/data/uncased_L-12_H-768_A-12/bert_model.ckpt]\n",
      "loader: No value for:[bert/encoder/layer_11/output/adapter-up/bias:0], i.e.:[bert/encoder/layer_11/output/adapter-up/bias] in:[/home/vahidsanei_google_com/data/uncased_L-12_H-768_A-12/bert_model.ckpt]\n",
      "Done loading 196 BERT weights from: /home/vahidsanei_google_com/data/uncased_L-12_H-768_A-12/bert_model.ckpt into <bert.model.BertModelLayer object at 0x7f4bfd5b0f10> (prefix:bert). Count of weights not found in the checkpoint was: [96]. Count of weights with mismatched shape: [0]\n",
      "Unused weights from checkpoint: \n",
      "\tbert/embeddings/token_type_embeddings\n",
      "\tbert/pooler/dense/bias\n",
      "\tbert/pooler/dense/kernel\n",
      "\tcls/predictions/output_bias\n",
      "\tcls/predictions/transform/LayerNorm/beta\n",
      "\tcls/predictions/transform/LayerNorm/gamma\n",
      "\tcls/predictions/transform/dense/bias\n",
      "\tcls/predictions/transform/dense/kernel\n",
      "\tcls/seq_relationship/output_bias\n",
      "\tcls/seq_relationship/output_weights\n"
     ]
    }
   ],
   "source": [
    "model = cat.build_model(bert_config_file, bert_ckpt_file, max_seq_len=300)"
   ]
  },
  {
   "cell_type": "code",
   "execution_count": 21,
   "metadata": {
    "scrolled": false
   },
   "outputs": [
    {
     "name": "stdout",
     "output_type": "stream",
     "text": [
      "Model: \"model\"\n",
      "_________________________________________________________________\n",
      "Layer (type)                 Output Shape              Param #   \n",
      "=================================================================\n",
      "input_ids (InputLayer)       [(None, 300)]             0         \n",
      "_________________________________________________________________\n",
      "bert (BertModelLayer)        (None, 300, 768)          111269376 \n",
      "_________________________________________________________________\n",
      "lambda (Lambda)              (None, 768)               0         \n",
      "_________________________________________________________________\n",
      "dropout (Dropout)            (None, 768)               0         \n",
      "_________________________________________________________________\n",
      "dense (Dense)                (None, 800)               615200    \n",
      "_________________________________________________________________\n",
      "dropout_1 (Dropout)          (None, 800)               0         \n",
      "_________________________________________________________________\n",
      "dense_1 (Dense)              (None, 800)               640800    \n",
      "_________________________________________________________________\n",
      "dropout_2 (Dropout)          (None, 800)               0         \n",
      "_________________________________________________________________\n",
      "dense_2 (Dense)              (None, 6)                 4806      \n",
      "=================================================================\n",
      "Total params: 112,530,182\n",
      "Trainable params: 3,676,934\n",
      "Non-trainable params: 108,853,248\n",
      "_________________________________________________________________\n",
      "None\n",
      "Epoch 1/30\n",
      "1993/1993 [==============================] - 638s 320ms/step - loss: 1.4167 - acc: 0.6350 - val_loss: 1.3033 - val_acc: 0.7372\n",
      "Epoch 2/30\n",
      "1993/1993 [==============================] - 629s 316ms/step - loss: 1.2874 - acc: 0.7560 - val_loss: 1.2274 - val_acc: 0.8153\n",
      "Epoch 3/30\n",
      "1993/1993 [==============================] - 634s 318ms/step - loss: 1.2297 - acc: 0.8145 - val_loss: 1.2219 - val_acc: 0.8218\n",
      "Epoch 4/30\n",
      "1993/1993 [==============================] - 635s 319ms/step - loss: 1.2243 - acc: 0.8185 - val_loss: 1.2115 - val_acc: 0.8343\n",
      "Epoch 5/30\n",
      "1993/1993 [==============================] - 633s 318ms/step - loss: 1.2193 - acc: 0.8242 - val_loss: 1.2086 - val_acc: 0.8349\n",
      "Epoch 6/30\n",
      "1993/1993 [==============================] - 633s 318ms/step - loss: 1.2164 - acc: 0.8268 - val_loss: 1.2090 - val_acc: 0.8313\n",
      "Epoch 7/30\n",
      "1993/1993 [==============================] - 634s 318ms/step - loss: 1.2138 - acc: 0.8297 - val_loss: 1.2088 - val_acc: 0.8343\n",
      "Epoch 8/30\n",
      "1993/1993 [==============================] - 634s 318ms/step - loss: 1.2113 - acc: 0.8316 - val_loss: 1.2047 - val_acc: 0.8379\n",
      "Epoch 9/30\n",
      "1993/1993 [==============================] - 632s 317ms/step - loss: 1.2095 - acc: 0.8334 - val_loss: 1.2036 - val_acc: 0.8391\n",
      "Epoch 10/30\n",
      "1993/1993 [==============================] - 634s 318ms/step - loss: 1.2076 - acc: 0.8353 - val_loss: 1.2023 - val_acc: 0.8397\n",
      "Epoch 11/30\n",
      "1993/1993 [==============================] - 634s 318ms/step - loss: 1.2064 - acc: 0.8369 - val_loss: 1.2018 - val_acc: 0.8391\n",
      "Epoch 12/30\n",
      "1993/1993 [==============================] - 635s 318ms/step - loss: 1.2047 - acc: 0.8384 - val_loss: 1.2013 - val_acc: 0.8409\n",
      "Epoch 13/30\n",
      "1993/1993 [==============================] - 634s 318ms/step - loss: 1.2039 - acc: 0.8394 - val_loss: 1.2012 - val_acc: 0.8433\n",
      "Epoch 14/30\n",
      "1993/1993 [==============================] - 636s 319ms/step - loss: 1.2028 - acc: 0.8405 - val_loss: 1.1987 - val_acc: 0.8445\n",
      "Epoch 15/30\n",
      "1993/1993 [==============================] - 635s 319ms/step - loss: 1.1977 - acc: 0.8460 - val_loss: 1.1987 - val_acc: 0.8439\n",
      "Epoch 16/30\n",
      "1993/1993 [==============================] - 631s 317ms/step - loss: 1.1966 - acc: 0.8464 - val_loss: 1.1984 - val_acc: 0.8439\n",
      "Epoch 17/30\n",
      "1993/1993 [==============================] - 628s 315ms/step - loss: 1.1962 - acc: 0.8473 - val_loss: 1.1958 - val_acc: 0.8486\n",
      "Epoch 18/30\n",
      "1993/1993 [==============================] - 631s 317ms/step - loss: 1.1953 - acc: 0.8474 - val_loss: 1.1931 - val_acc: 0.8492\n",
      "Epoch 19/30\n",
      "1993/1993 [==============================] - 627s 314ms/step - loss: 1.1950 - acc: 0.8484 - val_loss: 1.1944 - val_acc: 0.8492\n",
      "Epoch 20/30\n",
      "1993/1993 [==============================] - 631s 317ms/step - loss: 1.1945 - acc: 0.8482 - val_loss: 1.1951 - val_acc: 0.8474\n",
      "Epoch 21/30\n",
      "1993/1993 [==============================] - 631s 317ms/step - loss: 1.1929 - acc: 0.8504 - val_loss: 1.1943 - val_acc: 0.8486\n",
      "Epoch 22/30\n",
      "1993/1993 [==============================] - 634s 318ms/step - loss: 1.1919 - acc: 0.8515 - val_loss: 1.1900 - val_acc: 0.8546\n",
      "Epoch 23/30\n",
      "1993/1993 [==============================] - 632s 317ms/step - loss: 1.1916 - acc: 0.8520 - val_loss: 1.1926 - val_acc: 0.8510\n",
      "Epoch 24/30\n",
      "1993/1993 [==============================] - 632s 317ms/step - loss: 1.1910 - acc: 0.8520 - val_loss: 1.1877 - val_acc: 0.8534\n",
      "Epoch 25/30\n",
      "1993/1993 [==============================] - 629s 316ms/step - loss: 1.1796 - acc: 0.8643 - val_loss: 1.1785 - val_acc: 0.8659\n",
      "Epoch 26/30\n",
      "1993/1993 [==============================] - 628s 315ms/step - loss: 1.1762 - acc: 0.8677 - val_loss: 1.1769 - val_acc: 0.8671\n",
      "Epoch 27/30\n",
      "1993/1993 [==============================] - 628s 315ms/step - loss: 1.1767 - acc: 0.8665 - val_loss: 1.1770 - val_acc: 0.8671\n",
      "Epoch 28/30\n",
      "1993/1993 [==============================] - 630s 316ms/step - loss: 1.1746 - acc: 0.8685 - val_loss: 1.1773 - val_acc: 0.8659\n",
      "Epoch 29/30\n",
      "1993/1993 [==============================] - 629s 316ms/step - loss: 1.1739 - acc: 0.8704 - val_loss: 1.1767 - val_acc: 0.8659\n",
      "Epoch 30/30\n",
      "1993/1993 [==============================] - 631s 317ms/step - loss: 1.1731 - acc: 0.8707 - val_loss: 1.1756 - val_acc: 0.8665\n"
     ]
    }
   ],
   "source": [
    "cat.compile_model(model, cat.train_x, cat.train_y)"
   ]
  },
  {
   "cell_type": "code",
   "execution_count": 22,
   "metadata": {
    "scrolled": true
   },
   "outputs": [
    {
     "name": "stdout",
     "output_type": "stream",
     "text": [
      "260/260 [==============================] - 67s 258ms/step - loss: 1.1845 - acc: 0.8588\n"
     ]
    }
   ],
   "source": [
    "model.evaluate(cat.test_x, cat.test_y);"
   ]
  },
  {
   "cell_type": "code",
   "execution_count": 23,
   "metadata": {},
   "outputs": [],
   "source": [
    "def testing(text, trained_model, cat:categoryDetection, LEN=300):\n",
    "    tokens = tokenizer.tokenize(text)\n",
    "    ids = tokenizer.convert_tokens_to_ids(tokens)\n",
    "    ids = ids + [0 for _ in range(LEN  - len(ids))]\n",
    "    ids = ids[:LEN]\n",
    "    y_pred = trained_model.predict([ids])\n",
    "    print(cat.classes[np.argmax(y_pred)])\n",
    "    print(y_pred)"
   ]
  },
  {
   "cell_type": "code",
   "execution_count": 24,
   "metadata": {},
   "outputs": [
    {
     "name": "stdout",
     "output_type": "stream",
     "text": [
      "food\n",
      "[[4.6850127e-01 3.0693039e-04 5.3012592e-01 8.9235626e-05 8.4356929e-04\n",
      "  1.3303947e-04]]\n"
     ]
    }
   ],
   "source": [
    "text = 'Restaurants are classified or distinguished in many different ways. The primary factors are usually the food itself (e.g. vegetarian, seafood, steak); the cuisine (e.g. Italian, Chinese, Japanese, Indian, French, Mexican, Thai) or the style of offering (e.g. tapas bar, a sushi train, a tastet restaurant, a buffet restaurant or a yum cha restaurant). Beyond this, restaurants may differentiate themselves on factors including speed (see fast food), formality, location, cost, service, or novelty themes (such as automated restaurants). Some of these include fine dining, casual dining, contemporary casual, family style, fast casual, fast food, cafes, buffet, concession stands, food trucks, pop-up restaurants, and ghost restaurants. Restaurants range from inexpensive and informal lunching or dining places catering to people working nearby, with modest food served in simple settings at low prices, to expensive establishments serving refined food and fine wines in a formal setting. In the former case, customers usually wear casual clothing. In the latter case, depending on culture and local traditions, customers might wear semi-casual, semi-formal or formal wear. Typically, at mid- to high-priced restaurants, customers sit at tables, their orders are taken by a waiter, who brings the food when it is ready. After eating, the customers then pay the bill. In some restaurants, such as workplace cafeterias, there are no waiters; the customers use trays, on which they place cold items that they select from a refrigerated container and hot items which they request from cooks, and then they pay a cashier before they sit down. Another restaurant approach which uses few waiters is the buffet restaurant. Customers serve food onto their own plates and then pay at the end of the meal. Buffet restaurants typically still have waiters to serve drinks and alcoholic beverages. Fast food restaurants are also considered a restaurant. In addition, food trucks are another popular option for people who want quick food service. Tourists around the world can enjoy dining services on railway cars and cruise ships dining rooms, which are essentially traveling restaurants. Many railways dining services cater to the needs of travelers by providing railway refreshment rooms at railway stations. The fondness for such refreshment rooms, however, may be purely cultural as not one refreshing crumb of them has ever been witnessed in the United States. In the 2000s, a number of traveling restaurants, specifically designed for tourists, had been created. These can be found on trams, boats, buses, etc. Unfortunately, in 2020 little evidence remains of them in the United States. Many cruise ships provide a variety of dining experiences including a main restaurant, satellites restaurants, room service, specialty restaurants, cafes, bars, and buffets to name a few. Some restaurants on these cruise ships required reservations and specific dress codes.'\n",
    "testing(text, model, cat)"
   ]
  },
  {
   "cell_type": "code",
   "execution_count": 25,
   "metadata": {},
   "outputs": [
    {
     "name": "stdout",
     "output_type": "stream",
     "text": [
      "services\n",
      "[[1.0345219e-07 1.2455270e-07 1.0339320e-11 7.1932321e-11 1.1053221e-09\n",
      "  9.9999976e-01]]\n"
     ]
    }
   ],
   "source": [
    "text = 'An auto mechanic (automotive technician in most of North America, light vehicle technician in British English, and motor mechanic in Australian English) is a mechanic with a variety of automobile makes or either in a specific area or in a specific make of automobile. In repairing cars, their main role is to diagnose the problem accurately and quickly. They often have to quote prices for their customers before commencing work or after partial disassembly for inspection. Their job may involve the repair of a specific part or the replacement of one or more parts as assemblies. Basic vehicle maintenance is a fundamental part of a mechanic\\'s work in modern industrialized countries while in others they are only consulted when a vehicle is already showing signs of malfunction. Preventive maintenance is also a fundamental part of a mechanic\\'s job, but this is not possible in the case of vehicles that are not regularly maintained by a mechanic. One misunderstood aspect of preventive maintenance is scheduled replacement of various parts, which occurs before failure to avoid far more expensive damage. Because this means that parts are replaced before any problem is observed, many vehicle owners will not understand why the expense is necessary. With the rapid advancement in technology, the mechanics job has evolved from purely mechanical, to include electronic technology. Because vehicles today possess complex computer and electronic systems, mechanics need to have a broader base of knowledge than in the past.'\n",
    "testing(text, model, cat)"
   ]
  },
  {
   "cell_type": "code",
   "execution_count": 99,
   "metadata": {},
   "outputs": [],
   "source": [
    "split_sz = int(len(df_sentsplit) * 0.8)\n",
    "train = df_sentsplit[:split_sz]\n",
    "test = df_sentsplit[split_sz:]"
   ]
  },
  {
   "cell_type": "code",
   "execution_count": 100,
   "metadata": {},
   "outputs": [
    {
     "name": "stderr",
     "output_type": "stream",
     "text": [
      "40763it [1:18:13,  8.68it/s]\n",
      "0it [00:00, ?it/s]"
     ]
    },
    {
     "name": "stdout",
     "output_type": "stream",
     "text": [
      "Removed 17.66553001496455% of entries, due to being short corpus length.\n"
     ]
    },
    {
     "name": "stderr",
     "output_type": "stream",
     "text": [
      "10076it [19:05,  8.79it/s]\n"
     ]
    },
    {
     "name": "stdout",
     "output_type": "stream",
     "text": [
      "Removed 17.96347757046447% of entries, due to being short corpus length.\n"
     ]
    }
   ],
   "source": [
    "glove_address = os.path.join(FOLDER_PATH, 'data', 'glove_data', 'glove.6B.300d.txt')\n",
    "cat2 = categoryDetection(train, test, tokenizer, max_seq_len=300, glove_embeddings_address=glove_address, glove_sentence_similarity=True)"
   ]
  },
  {
   "cell_type": "code",
   "execution_count": 101,
   "metadata": {},
   "outputs": [
    {
     "name": "stdout",
     "output_type": "stream",
     "text": [
      "loader: No value for:[bert_4/encoder/layer_0/attention/output/adapter-down/kernel:0], i.e.:[bert/encoder/layer_0/attention/output/adapter-down/kernel] in:[/home/vahidsanei_google_com/data/uncased_L-12_H-768_A-12/bert_model.ckpt]\n",
      "loader: No value for:[bert_4/encoder/layer_0/attention/output/adapter-down/bias:0], i.e.:[bert/encoder/layer_0/attention/output/adapter-down/bias] in:[/home/vahidsanei_google_com/data/uncased_L-12_H-768_A-12/bert_model.ckpt]\n",
      "loader: No value for:[bert_4/encoder/layer_0/attention/output/adapter-up/kernel:0], i.e.:[bert/encoder/layer_0/attention/output/adapter-up/kernel] in:[/home/vahidsanei_google_com/data/uncased_L-12_H-768_A-12/bert_model.ckpt]\n",
      "loader: No value for:[bert_4/encoder/layer_0/attention/output/adapter-up/bias:0], i.e.:[bert/encoder/layer_0/attention/output/adapter-up/bias] in:[/home/vahidsanei_google_com/data/uncased_L-12_H-768_A-12/bert_model.ckpt]\n",
      "loader: No value for:[bert_4/encoder/layer_0/output/adapter-down/kernel:0], i.e.:[bert/encoder/layer_0/output/adapter-down/kernel] in:[/home/vahidsanei_google_com/data/uncased_L-12_H-768_A-12/bert_model.ckpt]\n",
      "loader: No value for:[bert_4/encoder/layer_0/output/adapter-down/bias:0], i.e.:[bert/encoder/layer_0/output/adapter-down/bias] in:[/home/vahidsanei_google_com/data/uncased_L-12_H-768_A-12/bert_model.ckpt]\n",
      "loader: No value for:[bert_4/encoder/layer_0/output/adapter-up/kernel:0], i.e.:[bert/encoder/layer_0/output/adapter-up/kernel] in:[/home/vahidsanei_google_com/data/uncased_L-12_H-768_A-12/bert_model.ckpt]\n",
      "loader: No value for:[bert_4/encoder/layer_0/output/adapter-up/bias:0], i.e.:[bert/encoder/layer_0/output/adapter-up/bias] in:[/home/vahidsanei_google_com/data/uncased_L-12_H-768_A-12/bert_model.ckpt]\n",
      "loader: No value for:[bert_4/encoder/layer_1/attention/output/adapter-down/kernel:0], i.e.:[bert/encoder/layer_1/attention/output/adapter-down/kernel] in:[/home/vahidsanei_google_com/data/uncased_L-12_H-768_A-12/bert_model.ckpt]\n",
      "loader: No value for:[bert_4/encoder/layer_1/attention/output/adapter-down/bias:0], i.e.:[bert/encoder/layer_1/attention/output/adapter-down/bias] in:[/home/vahidsanei_google_com/data/uncased_L-12_H-768_A-12/bert_model.ckpt]\n",
      "loader: No value for:[bert_4/encoder/layer_1/attention/output/adapter-up/kernel:0], i.e.:[bert/encoder/layer_1/attention/output/adapter-up/kernel] in:[/home/vahidsanei_google_com/data/uncased_L-12_H-768_A-12/bert_model.ckpt]\n",
      "loader: No value for:[bert_4/encoder/layer_1/attention/output/adapter-up/bias:0], i.e.:[bert/encoder/layer_1/attention/output/adapter-up/bias] in:[/home/vahidsanei_google_com/data/uncased_L-12_H-768_A-12/bert_model.ckpt]\n",
      "loader: No value for:[bert_4/encoder/layer_1/output/adapter-down/kernel:0], i.e.:[bert/encoder/layer_1/output/adapter-down/kernel] in:[/home/vahidsanei_google_com/data/uncased_L-12_H-768_A-12/bert_model.ckpt]\n",
      "loader: No value for:[bert_4/encoder/layer_1/output/adapter-down/bias:0], i.e.:[bert/encoder/layer_1/output/adapter-down/bias] in:[/home/vahidsanei_google_com/data/uncased_L-12_H-768_A-12/bert_model.ckpt]\n",
      "loader: No value for:[bert_4/encoder/layer_1/output/adapter-up/kernel:0], i.e.:[bert/encoder/layer_1/output/adapter-up/kernel] in:[/home/vahidsanei_google_com/data/uncased_L-12_H-768_A-12/bert_model.ckpt]\n",
      "loader: No value for:[bert_4/encoder/layer_1/output/adapter-up/bias:0], i.e.:[bert/encoder/layer_1/output/adapter-up/bias] in:[/home/vahidsanei_google_com/data/uncased_L-12_H-768_A-12/bert_model.ckpt]\n",
      "loader: No value for:[bert_4/encoder/layer_2/attention/output/adapter-down/kernel:0], i.e.:[bert/encoder/layer_2/attention/output/adapter-down/kernel] in:[/home/vahidsanei_google_com/data/uncased_L-12_H-768_A-12/bert_model.ckpt]\n",
      "loader: No value for:[bert_4/encoder/layer_2/attention/output/adapter-down/bias:0], i.e.:[bert/encoder/layer_2/attention/output/adapter-down/bias] in:[/home/vahidsanei_google_com/data/uncased_L-12_H-768_A-12/bert_model.ckpt]\n",
      "loader: No value for:[bert_4/encoder/layer_2/attention/output/adapter-up/kernel:0], i.e.:[bert/encoder/layer_2/attention/output/adapter-up/kernel] in:[/home/vahidsanei_google_com/data/uncased_L-12_H-768_A-12/bert_model.ckpt]\n",
      "loader: No value for:[bert_4/encoder/layer_2/attention/output/adapter-up/bias:0], i.e.:[bert/encoder/layer_2/attention/output/adapter-up/bias] in:[/home/vahidsanei_google_com/data/uncased_L-12_H-768_A-12/bert_model.ckpt]\n",
      "loader: No value for:[bert_4/encoder/layer_2/output/adapter-down/kernel:0], i.e.:[bert/encoder/layer_2/output/adapter-down/kernel] in:[/home/vahidsanei_google_com/data/uncased_L-12_H-768_A-12/bert_model.ckpt]\n",
      "loader: No value for:[bert_4/encoder/layer_2/output/adapter-down/bias:0], i.e.:[bert/encoder/layer_2/output/adapter-down/bias] in:[/home/vahidsanei_google_com/data/uncased_L-12_H-768_A-12/bert_model.ckpt]\n",
      "loader: No value for:[bert_4/encoder/layer_2/output/adapter-up/kernel:0], i.e.:[bert/encoder/layer_2/output/adapter-up/kernel] in:[/home/vahidsanei_google_com/data/uncased_L-12_H-768_A-12/bert_model.ckpt]\n",
      "loader: No value for:[bert_4/encoder/layer_2/output/adapter-up/bias:0], i.e.:[bert/encoder/layer_2/output/adapter-up/bias] in:[/home/vahidsanei_google_com/data/uncased_L-12_H-768_A-12/bert_model.ckpt]\n",
      "loader: No value for:[bert_4/encoder/layer_3/attention/output/adapter-down/kernel:0], i.e.:[bert/encoder/layer_3/attention/output/adapter-down/kernel] in:[/home/vahidsanei_google_com/data/uncased_L-12_H-768_A-12/bert_model.ckpt]\n",
      "loader: No value for:[bert_4/encoder/layer_3/attention/output/adapter-down/bias:0], i.e.:[bert/encoder/layer_3/attention/output/adapter-down/bias] in:[/home/vahidsanei_google_com/data/uncased_L-12_H-768_A-12/bert_model.ckpt]\n",
      "loader: No value for:[bert_4/encoder/layer_3/attention/output/adapter-up/kernel:0], i.e.:[bert/encoder/layer_3/attention/output/adapter-up/kernel] in:[/home/vahidsanei_google_com/data/uncased_L-12_H-768_A-12/bert_model.ckpt]\n",
      "loader: No value for:[bert_4/encoder/layer_3/attention/output/adapter-up/bias:0], i.e.:[bert/encoder/layer_3/attention/output/adapter-up/bias] in:[/home/vahidsanei_google_com/data/uncased_L-12_H-768_A-12/bert_model.ckpt]\n",
      "loader: No value for:[bert_4/encoder/layer_3/output/adapter-down/kernel:0], i.e.:[bert/encoder/layer_3/output/adapter-down/kernel] in:[/home/vahidsanei_google_com/data/uncased_L-12_H-768_A-12/bert_model.ckpt]\n",
      "loader: No value for:[bert_4/encoder/layer_3/output/adapter-down/bias:0], i.e.:[bert/encoder/layer_3/output/adapter-down/bias] in:[/home/vahidsanei_google_com/data/uncased_L-12_H-768_A-12/bert_model.ckpt]\n",
      "loader: No value for:[bert_4/encoder/layer_3/output/adapter-up/kernel:0], i.e.:[bert/encoder/layer_3/output/adapter-up/kernel] in:[/home/vahidsanei_google_com/data/uncased_L-12_H-768_A-12/bert_model.ckpt]\n",
      "loader: No value for:[bert_4/encoder/layer_3/output/adapter-up/bias:0], i.e.:[bert/encoder/layer_3/output/adapter-up/bias] in:[/home/vahidsanei_google_com/data/uncased_L-12_H-768_A-12/bert_model.ckpt]\n",
      "loader: No value for:[bert_4/encoder/layer_4/attention/output/adapter-down/kernel:0], i.e.:[bert/encoder/layer_4/attention/output/adapter-down/kernel] in:[/home/vahidsanei_google_com/data/uncased_L-12_H-768_A-12/bert_model.ckpt]\n",
      "loader: No value for:[bert_4/encoder/layer_4/attention/output/adapter-down/bias:0], i.e.:[bert/encoder/layer_4/attention/output/adapter-down/bias] in:[/home/vahidsanei_google_com/data/uncased_L-12_H-768_A-12/bert_model.ckpt]\n",
      "loader: No value for:[bert_4/encoder/layer_4/attention/output/adapter-up/kernel:0], i.e.:[bert/encoder/layer_4/attention/output/adapter-up/kernel] in:[/home/vahidsanei_google_com/data/uncased_L-12_H-768_A-12/bert_model.ckpt]\n",
      "loader: No value for:[bert_4/encoder/layer_4/attention/output/adapter-up/bias:0], i.e.:[bert/encoder/layer_4/attention/output/adapter-up/bias] in:[/home/vahidsanei_google_com/data/uncased_L-12_H-768_A-12/bert_model.ckpt]\n",
      "loader: No value for:[bert_4/encoder/layer_4/output/adapter-down/kernel:0], i.e.:[bert/encoder/layer_4/output/adapter-down/kernel] in:[/home/vahidsanei_google_com/data/uncased_L-12_H-768_A-12/bert_model.ckpt]\n",
      "loader: No value for:[bert_4/encoder/layer_4/output/adapter-down/bias:0], i.e.:[bert/encoder/layer_4/output/adapter-down/bias] in:[/home/vahidsanei_google_com/data/uncased_L-12_H-768_A-12/bert_model.ckpt]\n",
      "loader: No value for:[bert_4/encoder/layer_4/output/adapter-up/kernel:0], i.e.:[bert/encoder/layer_4/output/adapter-up/kernel] in:[/home/vahidsanei_google_com/data/uncased_L-12_H-768_A-12/bert_model.ckpt]\n",
      "loader: No value for:[bert_4/encoder/layer_4/output/adapter-up/bias:0], i.e.:[bert/encoder/layer_4/output/adapter-up/bias] in:[/home/vahidsanei_google_com/data/uncased_L-12_H-768_A-12/bert_model.ckpt]\n",
      "loader: No value for:[bert_4/encoder/layer_5/attention/output/adapter-down/kernel:0], i.e.:[bert/encoder/layer_5/attention/output/adapter-down/kernel] in:[/home/vahidsanei_google_com/data/uncased_L-12_H-768_A-12/bert_model.ckpt]\n",
      "loader: No value for:[bert_4/encoder/layer_5/attention/output/adapter-down/bias:0], i.e.:[bert/encoder/layer_5/attention/output/adapter-down/bias] in:[/home/vahidsanei_google_com/data/uncased_L-12_H-768_A-12/bert_model.ckpt]\n",
      "loader: No value for:[bert_4/encoder/layer_5/attention/output/adapter-up/kernel:0], i.e.:[bert/encoder/layer_5/attention/output/adapter-up/kernel] in:[/home/vahidsanei_google_com/data/uncased_L-12_H-768_A-12/bert_model.ckpt]\n",
      "loader: No value for:[bert_4/encoder/layer_5/attention/output/adapter-up/bias:0], i.e.:[bert/encoder/layer_5/attention/output/adapter-up/bias] in:[/home/vahidsanei_google_com/data/uncased_L-12_H-768_A-12/bert_model.ckpt]\n",
      "loader: No value for:[bert_4/encoder/layer_5/output/adapter-down/kernel:0], i.e.:[bert/encoder/layer_5/output/adapter-down/kernel] in:[/home/vahidsanei_google_com/data/uncased_L-12_H-768_A-12/bert_model.ckpt]\n",
      "loader: No value for:[bert_4/encoder/layer_5/output/adapter-down/bias:0], i.e.:[bert/encoder/layer_5/output/adapter-down/bias] in:[/home/vahidsanei_google_com/data/uncased_L-12_H-768_A-12/bert_model.ckpt]\n",
      "loader: No value for:[bert_4/encoder/layer_5/output/adapter-up/kernel:0], i.e.:[bert/encoder/layer_5/output/adapter-up/kernel] in:[/home/vahidsanei_google_com/data/uncased_L-12_H-768_A-12/bert_model.ckpt]\n",
      "loader: No value for:[bert_4/encoder/layer_5/output/adapter-up/bias:0], i.e.:[bert/encoder/layer_5/output/adapter-up/bias] in:[/home/vahidsanei_google_com/data/uncased_L-12_H-768_A-12/bert_model.ckpt]\n",
      "loader: No value for:[bert_4/encoder/layer_6/attention/output/adapter-down/kernel:0], i.e.:[bert/encoder/layer_6/attention/output/adapter-down/kernel] in:[/home/vahidsanei_google_com/data/uncased_L-12_H-768_A-12/bert_model.ckpt]\n",
      "loader: No value for:[bert_4/encoder/layer_6/attention/output/adapter-down/bias:0], i.e.:[bert/encoder/layer_6/attention/output/adapter-down/bias] in:[/home/vahidsanei_google_com/data/uncased_L-12_H-768_A-12/bert_model.ckpt]\n",
      "loader: No value for:[bert_4/encoder/layer_6/attention/output/adapter-up/kernel:0], i.e.:[bert/encoder/layer_6/attention/output/adapter-up/kernel] in:[/home/vahidsanei_google_com/data/uncased_L-12_H-768_A-12/bert_model.ckpt]\n",
      "loader: No value for:[bert_4/encoder/layer_6/attention/output/adapter-up/bias:0], i.e.:[bert/encoder/layer_6/attention/output/adapter-up/bias] in:[/home/vahidsanei_google_com/data/uncased_L-12_H-768_A-12/bert_model.ckpt]\n",
      "loader: No value for:[bert_4/encoder/layer_6/output/adapter-down/kernel:0], i.e.:[bert/encoder/layer_6/output/adapter-down/kernel] in:[/home/vahidsanei_google_com/data/uncased_L-12_H-768_A-12/bert_model.ckpt]\n",
      "loader: No value for:[bert_4/encoder/layer_6/output/adapter-down/bias:0], i.e.:[bert/encoder/layer_6/output/adapter-down/bias] in:[/home/vahidsanei_google_com/data/uncased_L-12_H-768_A-12/bert_model.ckpt]\n",
      "loader: No value for:[bert_4/encoder/layer_6/output/adapter-up/kernel:0], i.e.:[bert/encoder/layer_6/output/adapter-up/kernel] in:[/home/vahidsanei_google_com/data/uncased_L-12_H-768_A-12/bert_model.ckpt]\n",
      "loader: No value for:[bert_4/encoder/layer_6/output/adapter-up/bias:0], i.e.:[bert/encoder/layer_6/output/adapter-up/bias] in:[/home/vahidsanei_google_com/data/uncased_L-12_H-768_A-12/bert_model.ckpt]\n",
      "loader: No value for:[bert_4/encoder/layer_7/attention/output/adapter-down/kernel:0], i.e.:[bert/encoder/layer_7/attention/output/adapter-down/kernel] in:[/home/vahidsanei_google_com/data/uncased_L-12_H-768_A-12/bert_model.ckpt]\n",
      "loader: No value for:[bert_4/encoder/layer_7/attention/output/adapter-down/bias:0], i.e.:[bert/encoder/layer_7/attention/output/adapter-down/bias] in:[/home/vahidsanei_google_com/data/uncased_L-12_H-768_A-12/bert_model.ckpt]\n",
      "loader: No value for:[bert_4/encoder/layer_7/attention/output/adapter-up/kernel:0], i.e.:[bert/encoder/layer_7/attention/output/adapter-up/kernel] in:[/home/vahidsanei_google_com/data/uncased_L-12_H-768_A-12/bert_model.ckpt]\n",
      "loader: No value for:[bert_4/encoder/layer_7/attention/output/adapter-up/bias:0], i.e.:[bert/encoder/layer_7/attention/output/adapter-up/bias] in:[/home/vahidsanei_google_com/data/uncased_L-12_H-768_A-12/bert_model.ckpt]\n",
      "loader: No value for:[bert_4/encoder/layer_7/output/adapter-down/kernel:0], i.e.:[bert/encoder/layer_7/output/adapter-down/kernel] in:[/home/vahidsanei_google_com/data/uncased_L-12_H-768_A-12/bert_model.ckpt]\n",
      "loader: No value for:[bert_4/encoder/layer_7/output/adapter-down/bias:0], i.e.:[bert/encoder/layer_7/output/adapter-down/bias] in:[/home/vahidsanei_google_com/data/uncased_L-12_H-768_A-12/bert_model.ckpt]\n",
      "loader: No value for:[bert_4/encoder/layer_7/output/adapter-up/kernel:0], i.e.:[bert/encoder/layer_7/output/adapter-up/kernel] in:[/home/vahidsanei_google_com/data/uncased_L-12_H-768_A-12/bert_model.ckpt]\n",
      "loader: No value for:[bert_4/encoder/layer_7/output/adapter-up/bias:0], i.e.:[bert/encoder/layer_7/output/adapter-up/bias] in:[/home/vahidsanei_google_com/data/uncased_L-12_H-768_A-12/bert_model.ckpt]\n",
      "loader: No value for:[bert_4/encoder/layer_8/attention/output/adapter-down/kernel:0], i.e.:[bert/encoder/layer_8/attention/output/adapter-down/kernel] in:[/home/vahidsanei_google_com/data/uncased_L-12_H-768_A-12/bert_model.ckpt]\n",
      "loader: No value for:[bert_4/encoder/layer_8/attention/output/adapter-down/bias:0], i.e.:[bert/encoder/layer_8/attention/output/adapter-down/bias] in:[/home/vahidsanei_google_com/data/uncased_L-12_H-768_A-12/bert_model.ckpt]\n",
      "loader: No value for:[bert_4/encoder/layer_8/attention/output/adapter-up/kernel:0], i.e.:[bert/encoder/layer_8/attention/output/adapter-up/kernel] in:[/home/vahidsanei_google_com/data/uncased_L-12_H-768_A-12/bert_model.ckpt]\n",
      "loader: No value for:[bert_4/encoder/layer_8/attention/output/adapter-up/bias:0], i.e.:[bert/encoder/layer_8/attention/output/adapter-up/bias] in:[/home/vahidsanei_google_com/data/uncased_L-12_H-768_A-12/bert_model.ckpt]\n"
     ]
    },
    {
     "name": "stdout",
     "output_type": "stream",
     "text": [
      "loader: No value for:[bert_4/encoder/layer_8/output/adapter-down/kernel:0], i.e.:[bert/encoder/layer_8/output/adapter-down/kernel] in:[/home/vahidsanei_google_com/data/uncased_L-12_H-768_A-12/bert_model.ckpt]\n",
      "loader: No value for:[bert_4/encoder/layer_8/output/adapter-down/bias:0], i.e.:[bert/encoder/layer_8/output/adapter-down/bias] in:[/home/vahidsanei_google_com/data/uncased_L-12_H-768_A-12/bert_model.ckpt]\n",
      "loader: No value for:[bert_4/encoder/layer_8/output/adapter-up/kernel:0], i.e.:[bert/encoder/layer_8/output/adapter-up/kernel] in:[/home/vahidsanei_google_com/data/uncased_L-12_H-768_A-12/bert_model.ckpt]\n",
      "loader: No value for:[bert_4/encoder/layer_8/output/adapter-up/bias:0], i.e.:[bert/encoder/layer_8/output/adapter-up/bias] in:[/home/vahidsanei_google_com/data/uncased_L-12_H-768_A-12/bert_model.ckpt]\n",
      "loader: No value for:[bert_4/encoder/layer_9/attention/output/adapter-down/kernel:0], i.e.:[bert/encoder/layer_9/attention/output/adapter-down/kernel] in:[/home/vahidsanei_google_com/data/uncased_L-12_H-768_A-12/bert_model.ckpt]\n",
      "loader: No value for:[bert_4/encoder/layer_9/attention/output/adapter-down/bias:0], i.e.:[bert/encoder/layer_9/attention/output/adapter-down/bias] in:[/home/vahidsanei_google_com/data/uncased_L-12_H-768_A-12/bert_model.ckpt]\n",
      "loader: No value for:[bert_4/encoder/layer_9/attention/output/adapter-up/kernel:0], i.e.:[bert/encoder/layer_9/attention/output/adapter-up/kernel] in:[/home/vahidsanei_google_com/data/uncased_L-12_H-768_A-12/bert_model.ckpt]\n",
      "loader: No value for:[bert_4/encoder/layer_9/attention/output/adapter-up/bias:0], i.e.:[bert/encoder/layer_9/attention/output/adapter-up/bias] in:[/home/vahidsanei_google_com/data/uncased_L-12_H-768_A-12/bert_model.ckpt]\n",
      "loader: No value for:[bert_4/encoder/layer_9/output/adapter-down/kernel:0], i.e.:[bert/encoder/layer_9/output/adapter-down/kernel] in:[/home/vahidsanei_google_com/data/uncased_L-12_H-768_A-12/bert_model.ckpt]\n",
      "loader: No value for:[bert_4/encoder/layer_9/output/adapter-down/bias:0], i.e.:[bert/encoder/layer_9/output/adapter-down/bias] in:[/home/vahidsanei_google_com/data/uncased_L-12_H-768_A-12/bert_model.ckpt]\n",
      "loader: No value for:[bert_4/encoder/layer_9/output/adapter-up/kernel:0], i.e.:[bert/encoder/layer_9/output/adapter-up/kernel] in:[/home/vahidsanei_google_com/data/uncased_L-12_H-768_A-12/bert_model.ckpt]\n",
      "loader: No value for:[bert_4/encoder/layer_9/output/adapter-up/bias:0], i.e.:[bert/encoder/layer_9/output/adapter-up/bias] in:[/home/vahidsanei_google_com/data/uncased_L-12_H-768_A-12/bert_model.ckpt]\n",
      "loader: No value for:[bert_4/encoder/layer_10/attention/output/adapter-down/kernel:0], i.e.:[bert/encoder/layer_10/attention/output/adapter-down/kernel] in:[/home/vahidsanei_google_com/data/uncased_L-12_H-768_A-12/bert_model.ckpt]\n",
      "loader: No value for:[bert_4/encoder/layer_10/attention/output/adapter-down/bias:0], i.e.:[bert/encoder/layer_10/attention/output/adapter-down/bias] in:[/home/vahidsanei_google_com/data/uncased_L-12_H-768_A-12/bert_model.ckpt]\n",
      "loader: No value for:[bert_4/encoder/layer_10/attention/output/adapter-up/kernel:0], i.e.:[bert/encoder/layer_10/attention/output/adapter-up/kernel] in:[/home/vahidsanei_google_com/data/uncased_L-12_H-768_A-12/bert_model.ckpt]\n",
      "loader: No value for:[bert_4/encoder/layer_10/attention/output/adapter-up/bias:0], i.e.:[bert/encoder/layer_10/attention/output/adapter-up/bias] in:[/home/vahidsanei_google_com/data/uncased_L-12_H-768_A-12/bert_model.ckpt]\n",
      "loader: No value for:[bert_4/encoder/layer_10/output/adapter-down/kernel:0], i.e.:[bert/encoder/layer_10/output/adapter-down/kernel] in:[/home/vahidsanei_google_com/data/uncased_L-12_H-768_A-12/bert_model.ckpt]\n",
      "loader: No value for:[bert_4/encoder/layer_10/output/adapter-down/bias:0], i.e.:[bert/encoder/layer_10/output/adapter-down/bias] in:[/home/vahidsanei_google_com/data/uncased_L-12_H-768_A-12/bert_model.ckpt]\n",
      "loader: No value for:[bert_4/encoder/layer_10/output/adapter-up/kernel:0], i.e.:[bert/encoder/layer_10/output/adapter-up/kernel] in:[/home/vahidsanei_google_com/data/uncased_L-12_H-768_A-12/bert_model.ckpt]\n",
      "loader: No value for:[bert_4/encoder/layer_10/output/adapter-up/bias:0], i.e.:[bert/encoder/layer_10/output/adapter-up/bias] in:[/home/vahidsanei_google_com/data/uncased_L-12_H-768_A-12/bert_model.ckpt]\n",
      "loader: No value for:[bert_4/encoder/layer_11/attention/output/adapter-down/kernel:0], i.e.:[bert/encoder/layer_11/attention/output/adapter-down/kernel] in:[/home/vahidsanei_google_com/data/uncased_L-12_H-768_A-12/bert_model.ckpt]\n",
      "loader: No value for:[bert_4/encoder/layer_11/attention/output/adapter-down/bias:0], i.e.:[bert/encoder/layer_11/attention/output/adapter-down/bias] in:[/home/vahidsanei_google_com/data/uncased_L-12_H-768_A-12/bert_model.ckpt]\n",
      "loader: No value for:[bert_4/encoder/layer_11/attention/output/adapter-up/kernel:0], i.e.:[bert/encoder/layer_11/attention/output/adapter-up/kernel] in:[/home/vahidsanei_google_com/data/uncased_L-12_H-768_A-12/bert_model.ckpt]\n",
      "loader: No value for:[bert_4/encoder/layer_11/attention/output/adapter-up/bias:0], i.e.:[bert/encoder/layer_11/attention/output/adapter-up/bias] in:[/home/vahidsanei_google_com/data/uncased_L-12_H-768_A-12/bert_model.ckpt]\n",
      "loader: No value for:[bert_4/encoder/layer_11/output/adapter-down/kernel:0], i.e.:[bert/encoder/layer_11/output/adapter-down/kernel] in:[/home/vahidsanei_google_com/data/uncased_L-12_H-768_A-12/bert_model.ckpt]\n",
      "loader: No value for:[bert_4/encoder/layer_11/output/adapter-down/bias:0], i.e.:[bert/encoder/layer_11/output/adapter-down/bias] in:[/home/vahidsanei_google_com/data/uncased_L-12_H-768_A-12/bert_model.ckpt]\n",
      "loader: No value for:[bert_4/encoder/layer_11/output/adapter-up/kernel:0], i.e.:[bert/encoder/layer_11/output/adapter-up/kernel] in:[/home/vahidsanei_google_com/data/uncased_L-12_H-768_A-12/bert_model.ckpt]\n",
      "loader: No value for:[bert_4/encoder/layer_11/output/adapter-up/bias:0], i.e.:[bert/encoder/layer_11/output/adapter-up/bias] in:[/home/vahidsanei_google_com/data/uncased_L-12_H-768_A-12/bert_model.ckpt]\n",
      "Done loading 196 BERT weights from: /home/vahidsanei_google_com/data/uncased_L-12_H-768_A-12/bert_model.ckpt into <bert.model.BertModelLayer object at 0x7f4ae9339a10> (prefix:bert_4). Count of weights not found in the checkpoint was: [96]. Count of weights with mismatched shape: [0]\n",
      "Unused weights from checkpoint: \n",
      "\tbert/embeddings/token_type_embeddings\n",
      "\tbert/pooler/dense/bias\n",
      "\tbert/pooler/dense/kernel\n",
      "\tcls/predictions/output_bias\n",
      "\tcls/predictions/transform/LayerNorm/beta\n",
      "\tcls/predictions/transform/LayerNorm/gamma\n",
      "\tcls/predictions/transform/dense/bias\n",
      "\tcls/predictions/transform/dense/kernel\n",
      "\tcls/seq_relationship/output_bias\n",
      "\tcls/seq_relationship/output_weights\n"
     ]
    }
   ],
   "source": [
    "model2 = cat2.build_model(bert_config_file, bert_ckpt_file, max_seq_len=300)"
   ]
  },
  {
   "cell_type": "code",
   "execution_count": 102,
   "metadata": {
    "scrolled": true
   },
   "outputs": [
    {
     "name": "stdout",
     "output_type": "stream",
     "text": [
      "Model: \"model_4\"\n",
      "_________________________________________________________________\n",
      "Layer (type)                 Output Shape              Param #   \n",
      "=================================================================\n",
      "input_ids (InputLayer)       [(None, 300)]             0         \n",
      "_________________________________________________________________\n",
      "bert (BertModelLayer)        (None, 300, 768)          111269376 \n",
      "_________________________________________________________________\n",
      "lambda_4 (Lambda)            (None, 768)               0         \n",
      "_________________________________________________________________\n",
      "dropout_11 (Dropout)         (None, 768)               0         \n",
      "_________________________________________________________________\n",
      "dense_11 (Dense)             (None, 800)               615200    \n",
      "_________________________________________________________________\n",
      "dropout_12 (Dropout)         (None, 800)               0         \n",
      "_________________________________________________________________\n",
      "dense_12 (Dense)             (None, 800)               640800    \n",
      "_________________________________________________________________\n",
      "dropout_13 (Dropout)         (None, 800)               0         \n",
      "_________________________________________________________________\n",
      "dense_13 (Dense)             (None, 6)                 4806      \n",
      "=================================================================\n",
      "Total params: 112,530,182\n",
      "Trainable params: 3,676,934\n",
      "Non-trainable params: 108,853,248\n",
      "_________________________________________________________________\n",
      "None\n",
      "Epoch 1/30\n",
      "1993/1993 [==============================] - 640s 321ms/step - loss: 1.3910 - acc: 0.6627 - val_loss: 1.2499 - val_acc: 0.7933\n",
      "Epoch 2/30\n",
      "1993/1993 [==============================] - 637s 319ms/step - loss: 1.2467 - acc: 0.7983 - val_loss: 1.2298 - val_acc: 0.8136\n",
      "Epoch 3/30\n",
      "1993/1993 [==============================] - 635s 319ms/step - loss: 1.2368 - acc: 0.8067 - val_loss: 1.2244 - val_acc: 0.8219\n",
      "Epoch 4/30\n",
      "1993/1993 [==============================] - 634s 318ms/step - loss: 1.2312 - acc: 0.8106 - val_loss: 1.2238 - val_acc: 0.8195\n",
      "Epoch 5/30\n",
      "1993/1993 [==============================] - 637s 320ms/step - loss: 1.2281 - acc: 0.8144 - val_loss: 1.2203 - val_acc: 0.8231\n",
      "Epoch 6/30\n",
      "1993/1993 [==============================] - 632s 317ms/step - loss: 1.2249 - acc: 0.8176 - val_loss: 1.2205 - val_acc: 0.8231\n",
      "Epoch 7/30\n",
      "1993/1993 [==============================] - 635s 318ms/step - loss: 1.2212 - acc: 0.8218 - val_loss: 1.2155 - val_acc: 0.8261\n",
      "Epoch 8/30\n",
      "1993/1993 [==============================] - 637s 319ms/step - loss: 1.2196 - acc: 0.8234 - val_loss: 1.2212 - val_acc: 0.8207\n",
      "Epoch 9/30\n",
      "1993/1993 [==============================] - 637s 320ms/step - loss: 1.2167 - acc: 0.8261 - val_loss: 1.2155 - val_acc: 0.8255\n",
      "Epoch 10/30\n",
      "1993/1993 [==============================] - 636s 319ms/step - loss: 1.2155 - acc: 0.8269 - val_loss: 1.2208 - val_acc: 0.8207\n",
      "Epoch 11/30\n",
      "1993/1993 [==============================] - 634s 318ms/step - loss: 1.2139 - acc: 0.8289 - val_loss: 1.2152 - val_acc: 0.8279\n",
      "Epoch 12/30\n",
      "1993/1993 [==============================] - 634s 318ms/step - loss: 1.2129 - acc: 0.8300 - val_loss: 1.2149 - val_acc: 0.8261\n",
      "Epoch 13/30\n",
      "1993/1993 [==============================] - 633s 318ms/step - loss: 1.2115 - acc: 0.8319 - val_loss: 1.2139 - val_acc: 0.8273\n",
      "Epoch 14/30\n",
      "1993/1993 [==============================] - 632s 317ms/step - loss: 1.2103 - acc: 0.8330 - val_loss: 1.2124 - val_acc: 0.8297\n",
      "Epoch 15/30\n",
      "1993/1993 [==============================] - 633s 317ms/step - loss: 1.2060 - acc: 0.8374 - val_loss: 1.2082 - val_acc: 0.8326\n",
      "Epoch 16/30\n",
      "1993/1993 [==============================] - 634s 318ms/step - loss: 1.2040 - acc: 0.8394 - val_loss: 1.2113 - val_acc: 0.8314\n",
      "Epoch 17/30\n",
      "1993/1993 [==============================] - 636s 319ms/step - loss: 1.2036 - acc: 0.8393 - val_loss: 1.2100 - val_acc: 0.8314\n",
      "Epoch 18/30\n",
      "1993/1993 [==============================] - 634s 318ms/step - loss: 1.2011 - acc: 0.8425 - val_loss: 1.2013 - val_acc: 0.8410\n",
      "Epoch 19/30\n",
      "1993/1993 [==============================] - 635s 319ms/step - loss: 1.1921 - acc: 0.8523 - val_loss: 1.1937 - val_acc: 0.8469\n",
      "Epoch 20/30\n",
      "1993/1993 [==============================] - 634s 318ms/step - loss: 1.1877 - acc: 0.8566 - val_loss: 1.1923 - val_acc: 0.8517\n",
      "Epoch 21/30\n",
      "1993/1993 [==============================] - 637s 320ms/step - loss: 1.1876 - acc: 0.8558 - val_loss: 1.1938 - val_acc: 0.8481\n",
      "Epoch 22/30\n",
      "1993/1993 [==============================] - 635s 318ms/step - loss: 1.1867 - acc: 0.8562 - val_loss: 1.1952 - val_acc: 0.8475\n",
      "Epoch 23/30\n",
      "1993/1993 [==============================] - 636s 319ms/step - loss: 1.1846 - acc: 0.8585 - val_loss: 1.1945 - val_acc: 0.8475\n",
      "Epoch 24/30\n",
      "1993/1993 [==============================] - 634s 318ms/step - loss: 1.1842 - acc: 0.8593 - val_loss: 1.1923 - val_acc: 0.8523\n",
      "Epoch 25/30\n",
      "1993/1993 [==============================] - 636s 319ms/step - loss: 1.1831 - acc: 0.8603 - val_loss: 1.1920 - val_acc: 0.8523\n",
      "Epoch 26/30\n",
      "1993/1993 [==============================] - 632s 317ms/step - loss: 1.1834 - acc: 0.8598 - val_loss: 1.1935 - val_acc: 0.8487\n",
      "Epoch 27/30\n",
      "1993/1993 [==============================] - 633s 318ms/step - loss: 1.1816 - acc: 0.8617 - val_loss: 1.1909 - val_acc: 0.8511\n",
      "Epoch 28/30\n",
      "1993/1993 [==============================] - 636s 319ms/step - loss: 1.1814 - acc: 0.8622 - val_loss: 1.1925 - val_acc: 0.8511\n",
      "Epoch 29/30\n",
      "1993/1993 [==============================] - 638s 320ms/step - loss: 1.1806 - acc: 0.8632 - val_loss: 1.1940 - val_acc: 0.8499\n",
      "Epoch 30/30\n",
      "1993/1993 [==============================] - 636s 319ms/step - loss: 1.1801 - acc: 0.8634 - val_loss: 1.1924 - val_acc: 0.8505\n"
     ]
    }
   ],
   "source": [
    "cat2.compile_model(model2, cat2.train_x, cat2.train_y)"
   ]
  },
  {
   "cell_type": "code",
   "execution_count": 103,
   "metadata": {},
   "outputs": [
    {
     "name": "stdout",
     "output_type": "stream",
     "text": [
      "259/259 [==============================] - 67s 260ms/step - loss: 1.1927 - acc: 0.8495\n"
     ]
    }
   ],
   "source": [
    "model2.evaluate(cat2.test_x, cat2.test_y);"
   ]
  },
  {
   "cell_type": "code",
   "execution_count": 104,
   "metadata": {},
   "outputs": [
    {
     "name": "stdout",
     "output_type": "stream",
     "text": [
      "food\n",
      "[[2.4973382e-03 1.6059013e-06 9.9744654e-01 6.6401017e-06 3.4991630e-05\n",
      "  1.2929605e-05]]\n"
     ]
    }
   ],
   "source": [
    "text = 'Restaurants are classified or distinguished in many different ways. The primary factors are usually the food itself (e.g. vegetarian, seafood, steak); the cuisine (e.g. Italian, Chinese, Japanese, Indian, French, Mexican, Thai) or the style of offering (e.g. tapas bar, a sushi train, a tastet restaurant, a buffet restaurant or a yum cha restaurant). Beyond this, restaurants may differentiate themselves on factors including speed (see fast food), formality, location, cost, service, or novelty themes (such as automated restaurants). Some of these include fine dining, casual dining, contemporary casual, family style, fast casual, fast food, cafes, buffet, concession stands, food trucks, pop-up restaurants, and ghost restaurants. Restaurants range from inexpensive and informal lunching or dining places catering to people working nearby, with modest food served in simple settings at low prices, to expensive establishments serving refined food and fine wines in a formal setting. In the former case, customers usually wear casual clothing. In the latter case, depending on culture and local traditions, customers might wear semi-casual, semi-formal or formal wear. Typically, at mid- to high-priced restaurants, customers sit at tables, their orders are taken by a waiter, who brings the food when it is ready. After eating, the customers then pay the bill. In some restaurants, such as workplace cafeterias, there are no waiters; the customers use trays, on which they place cold items that they select from a refrigerated container and hot items which they request from cooks, and then they pay a cashier before they sit down. Another restaurant approach which uses few waiters is the buffet restaurant. Customers serve food onto their own plates and then pay at the end of the meal. Buffet restaurants typically still have waiters to serve drinks and alcoholic beverages. Fast food restaurants are also considered a restaurant. In addition, food trucks are another popular option for people who want quick food service. Tourists around the world can enjoy dining services on railway cars and cruise ships dining rooms, which are essentially traveling restaurants. Many railways dining services cater to the needs of travelers by providing railway refreshment rooms at railway stations. The fondness for such refreshment rooms, however, may be purely cultural as not one refreshing crumb of them has ever been witnessed in the United States. In the 2000s, a number of traveling restaurants, specifically designed for tourists, had been created. These can be found on trams, boats, buses, etc. Unfortunately, in 2020 little evidence remains of them in the United States. Many cruise ships provide a variety of dining experiences including a main restaurant, satellites restaurants, room service, specialty restaurants, cafes, bars, and buffets to name a few. Some restaurants on these cruise ships required reservations and specific dress codes.'\n",
    "testing(text, model2, cat2)"
   ]
  },
  {
   "cell_type": "code",
   "execution_count": 105,
   "metadata": {
    "scrolled": false
   },
   "outputs": [
    {
     "name": "stdout",
     "output_type": "stream",
     "text": [
      "services\n",
      "[[4.1248645e-06 2.3946009e-06 6.3382322e-09 1.4190827e-08 3.1064392e-08\n",
      "  9.9999344e-01]]\n"
     ]
    }
   ],
   "source": [
    "text = 'An auto mechanic (automotive technician in most of North America, light vehicle technician in British English, and motor mechanic in Australian English) is a mechanic with a variety of automobile makes or either in a specific area or in a specific make of automobile. In repairing cars, their main role is to diagnose the problem accurately and quickly. They often have to quote prices for their customers before commencing work or after partial disassembly for inspection. Their job may involve the repair of a specific part or the replacement of one or more parts as assemblies. Basic vehicle maintenance is a fundamental part of a mechanic\\'s work in modern industrialized countries while in others they are only consulted when a vehicle is already showing signs of malfunction. Preventive maintenance is also a fundamental part of a mechanic\\'s job, but this is not possible in the case of vehicles that are not regularly maintained by a mechanic. One misunderstood aspect of preventive maintenance is scheduled replacement of various parts, which occurs before failure to avoid far more expensive damage. Because this means that parts are replaced before any problem is observed, many vehicle owners will not understand why the expense is necessary. With the rapid advancement in technology, the mechanics job has evolved from purely mechanical, to include electronic technology. Because vehicles today possess complex computer and electronic systems, mechanics need to have a broader base of knowledge than in the past.'\n",
    "testing(text, model2, cat2)"
   ]
  },
  {
   "cell_type": "code",
   "execution_count": 33,
   "metadata": {},
   "outputs": [
    {
     "name": "stdout",
     "output_type": "stream",
     "text": [
      "Preparing data for the pretraining step ...\n"
     ]
    },
    {
     "name": "stderr",
     "output_type": "stream",
     "text": [
      "40763it [08:56, 76.00it/s] \n"
     ]
    },
    {
     "name": "stdout",
     "output_type": "stream",
     "text": [
      "loader: No value for:[bert_2/encoder/layer_0/attention/output/adapter-down/kernel:0], i.e.:[bert/encoder/layer_0/attention/output/adapter-down/kernel] in:[/home/vahidsanei_google_com/data/uncased_L-12_H-768_A-12/bert_model.ckpt]\n",
      "loader: No value for:[bert_2/encoder/layer_0/attention/output/adapter-down/bias:0], i.e.:[bert/encoder/layer_0/attention/output/adapter-down/bias] in:[/home/vahidsanei_google_com/data/uncased_L-12_H-768_A-12/bert_model.ckpt]\n",
      "loader: No value for:[bert_2/encoder/layer_0/attention/output/adapter-up/kernel:0], i.e.:[bert/encoder/layer_0/attention/output/adapter-up/kernel] in:[/home/vahidsanei_google_com/data/uncased_L-12_H-768_A-12/bert_model.ckpt]\n",
      "loader: No value for:[bert_2/encoder/layer_0/attention/output/adapter-up/bias:0], i.e.:[bert/encoder/layer_0/attention/output/adapter-up/bias] in:[/home/vahidsanei_google_com/data/uncased_L-12_H-768_A-12/bert_model.ckpt]\n",
      "loader: No value for:[bert_2/encoder/layer_0/output/adapter-down/kernel:0], i.e.:[bert/encoder/layer_0/output/adapter-down/kernel] in:[/home/vahidsanei_google_com/data/uncased_L-12_H-768_A-12/bert_model.ckpt]\n",
      "loader: No value for:[bert_2/encoder/layer_0/output/adapter-down/bias:0], i.e.:[bert/encoder/layer_0/output/adapter-down/bias] in:[/home/vahidsanei_google_com/data/uncased_L-12_H-768_A-12/bert_model.ckpt]\n",
      "loader: No value for:[bert_2/encoder/layer_0/output/adapter-up/kernel:0], i.e.:[bert/encoder/layer_0/output/adapter-up/kernel] in:[/home/vahidsanei_google_com/data/uncased_L-12_H-768_A-12/bert_model.ckpt]\n",
      "loader: No value for:[bert_2/encoder/layer_0/output/adapter-up/bias:0], i.e.:[bert/encoder/layer_0/output/adapter-up/bias] in:[/home/vahidsanei_google_com/data/uncased_L-12_H-768_A-12/bert_model.ckpt]\n",
      "loader: No value for:[bert_2/encoder/layer_1/attention/output/adapter-down/kernel:0], i.e.:[bert/encoder/layer_1/attention/output/adapter-down/kernel] in:[/home/vahidsanei_google_com/data/uncased_L-12_H-768_A-12/bert_model.ckpt]\n",
      "loader: No value for:[bert_2/encoder/layer_1/attention/output/adapter-down/bias:0], i.e.:[bert/encoder/layer_1/attention/output/adapter-down/bias] in:[/home/vahidsanei_google_com/data/uncased_L-12_H-768_A-12/bert_model.ckpt]\n",
      "loader: No value for:[bert_2/encoder/layer_1/attention/output/adapter-up/kernel:0], i.e.:[bert/encoder/layer_1/attention/output/adapter-up/kernel] in:[/home/vahidsanei_google_com/data/uncased_L-12_H-768_A-12/bert_model.ckpt]\n",
      "loader: No value for:[bert_2/encoder/layer_1/attention/output/adapter-up/bias:0], i.e.:[bert/encoder/layer_1/attention/output/adapter-up/bias] in:[/home/vahidsanei_google_com/data/uncased_L-12_H-768_A-12/bert_model.ckpt]\n",
      "loader: No value for:[bert_2/encoder/layer_1/output/adapter-down/kernel:0], i.e.:[bert/encoder/layer_1/output/adapter-down/kernel] in:[/home/vahidsanei_google_com/data/uncased_L-12_H-768_A-12/bert_model.ckpt]\n",
      "loader: No value for:[bert_2/encoder/layer_1/output/adapter-down/bias:0], i.e.:[bert/encoder/layer_1/output/adapter-down/bias] in:[/home/vahidsanei_google_com/data/uncased_L-12_H-768_A-12/bert_model.ckpt]\n",
      "loader: No value for:[bert_2/encoder/layer_1/output/adapter-up/kernel:0], i.e.:[bert/encoder/layer_1/output/adapter-up/kernel] in:[/home/vahidsanei_google_com/data/uncased_L-12_H-768_A-12/bert_model.ckpt]\n",
      "loader: No value for:[bert_2/encoder/layer_1/output/adapter-up/bias:0], i.e.:[bert/encoder/layer_1/output/adapter-up/bias] in:[/home/vahidsanei_google_com/data/uncased_L-12_H-768_A-12/bert_model.ckpt]\n",
      "loader: No value for:[bert_2/encoder/layer_2/attention/output/adapter-down/kernel:0], i.e.:[bert/encoder/layer_2/attention/output/adapter-down/kernel] in:[/home/vahidsanei_google_com/data/uncased_L-12_H-768_A-12/bert_model.ckpt]\n",
      "loader: No value for:[bert_2/encoder/layer_2/attention/output/adapter-down/bias:0], i.e.:[bert/encoder/layer_2/attention/output/adapter-down/bias] in:[/home/vahidsanei_google_com/data/uncased_L-12_H-768_A-12/bert_model.ckpt]\n",
      "loader: No value for:[bert_2/encoder/layer_2/attention/output/adapter-up/kernel:0], i.e.:[bert/encoder/layer_2/attention/output/adapter-up/kernel] in:[/home/vahidsanei_google_com/data/uncased_L-12_H-768_A-12/bert_model.ckpt]\n",
      "loader: No value for:[bert_2/encoder/layer_2/attention/output/adapter-up/bias:0], i.e.:[bert/encoder/layer_2/attention/output/adapter-up/bias] in:[/home/vahidsanei_google_com/data/uncased_L-12_H-768_A-12/bert_model.ckpt]\n",
      "loader: No value for:[bert_2/encoder/layer_2/output/adapter-down/kernel:0], i.e.:[bert/encoder/layer_2/output/adapter-down/kernel] in:[/home/vahidsanei_google_com/data/uncased_L-12_H-768_A-12/bert_model.ckpt]\n",
      "loader: No value for:[bert_2/encoder/layer_2/output/adapter-down/bias:0], i.e.:[bert/encoder/layer_2/output/adapter-down/bias] in:[/home/vahidsanei_google_com/data/uncased_L-12_H-768_A-12/bert_model.ckpt]\n",
      "loader: No value for:[bert_2/encoder/layer_2/output/adapter-up/kernel:0], i.e.:[bert/encoder/layer_2/output/adapter-up/kernel] in:[/home/vahidsanei_google_com/data/uncased_L-12_H-768_A-12/bert_model.ckpt]\n",
      "loader: No value for:[bert_2/encoder/layer_2/output/adapter-up/bias:0], i.e.:[bert/encoder/layer_2/output/adapter-up/bias] in:[/home/vahidsanei_google_com/data/uncased_L-12_H-768_A-12/bert_model.ckpt]\n",
      "loader: No value for:[bert_2/encoder/layer_3/attention/output/adapter-down/kernel:0], i.e.:[bert/encoder/layer_3/attention/output/adapter-down/kernel] in:[/home/vahidsanei_google_com/data/uncased_L-12_H-768_A-12/bert_model.ckpt]\n",
      "loader: No value for:[bert_2/encoder/layer_3/attention/output/adapter-down/bias:0], i.e.:[bert/encoder/layer_3/attention/output/adapter-down/bias] in:[/home/vahidsanei_google_com/data/uncased_L-12_H-768_A-12/bert_model.ckpt]\n",
      "loader: No value for:[bert_2/encoder/layer_3/attention/output/adapter-up/kernel:0], i.e.:[bert/encoder/layer_3/attention/output/adapter-up/kernel] in:[/home/vahidsanei_google_com/data/uncased_L-12_H-768_A-12/bert_model.ckpt]\n",
      "loader: No value for:[bert_2/encoder/layer_3/attention/output/adapter-up/bias:0], i.e.:[bert/encoder/layer_3/attention/output/adapter-up/bias] in:[/home/vahidsanei_google_com/data/uncased_L-12_H-768_A-12/bert_model.ckpt]\n",
      "loader: No value for:[bert_2/encoder/layer_3/output/adapter-down/kernel:0], i.e.:[bert/encoder/layer_3/output/adapter-down/kernel] in:[/home/vahidsanei_google_com/data/uncased_L-12_H-768_A-12/bert_model.ckpt]\n",
      "loader: No value for:[bert_2/encoder/layer_3/output/adapter-down/bias:0], i.e.:[bert/encoder/layer_3/output/adapter-down/bias] in:[/home/vahidsanei_google_com/data/uncased_L-12_H-768_A-12/bert_model.ckpt]\n",
      "loader: No value for:[bert_2/encoder/layer_3/output/adapter-up/kernel:0], i.e.:[bert/encoder/layer_3/output/adapter-up/kernel] in:[/home/vahidsanei_google_com/data/uncased_L-12_H-768_A-12/bert_model.ckpt]\n",
      "loader: No value for:[bert_2/encoder/layer_3/output/adapter-up/bias:0], i.e.:[bert/encoder/layer_3/output/adapter-up/bias] in:[/home/vahidsanei_google_com/data/uncased_L-12_H-768_A-12/bert_model.ckpt]\n",
      "loader: No value for:[bert_2/encoder/layer_4/attention/output/adapter-down/kernel:0], i.e.:[bert/encoder/layer_4/attention/output/adapter-down/kernel] in:[/home/vahidsanei_google_com/data/uncased_L-12_H-768_A-12/bert_model.ckpt]\n",
      "loader: No value for:[bert_2/encoder/layer_4/attention/output/adapter-down/bias:0], i.e.:[bert/encoder/layer_4/attention/output/adapter-down/bias] in:[/home/vahidsanei_google_com/data/uncased_L-12_H-768_A-12/bert_model.ckpt]\n",
      "loader: No value for:[bert_2/encoder/layer_4/attention/output/adapter-up/kernel:0], i.e.:[bert/encoder/layer_4/attention/output/adapter-up/kernel] in:[/home/vahidsanei_google_com/data/uncased_L-12_H-768_A-12/bert_model.ckpt]\n",
      "loader: No value for:[bert_2/encoder/layer_4/attention/output/adapter-up/bias:0], i.e.:[bert/encoder/layer_4/attention/output/adapter-up/bias] in:[/home/vahidsanei_google_com/data/uncased_L-12_H-768_A-12/bert_model.ckpt]\n",
      "loader: No value for:[bert_2/encoder/layer_4/output/adapter-down/kernel:0], i.e.:[bert/encoder/layer_4/output/adapter-down/kernel] in:[/home/vahidsanei_google_com/data/uncased_L-12_H-768_A-12/bert_model.ckpt]\n",
      "loader: No value for:[bert_2/encoder/layer_4/output/adapter-down/bias:0], i.e.:[bert/encoder/layer_4/output/adapter-down/bias] in:[/home/vahidsanei_google_com/data/uncased_L-12_H-768_A-12/bert_model.ckpt]\n",
      "loader: No value for:[bert_2/encoder/layer_4/output/adapter-up/kernel:0], i.e.:[bert/encoder/layer_4/output/adapter-up/kernel] in:[/home/vahidsanei_google_com/data/uncased_L-12_H-768_A-12/bert_model.ckpt]\n",
      "loader: No value for:[bert_2/encoder/layer_4/output/adapter-up/bias:0], i.e.:[bert/encoder/layer_4/output/adapter-up/bias] in:[/home/vahidsanei_google_com/data/uncased_L-12_H-768_A-12/bert_model.ckpt]\n",
      "loader: No value for:[bert_2/encoder/layer_5/attention/output/adapter-down/kernel:0], i.e.:[bert/encoder/layer_5/attention/output/adapter-down/kernel] in:[/home/vahidsanei_google_com/data/uncased_L-12_H-768_A-12/bert_model.ckpt]\n",
      "loader: No value for:[bert_2/encoder/layer_5/attention/output/adapter-down/bias:0], i.e.:[bert/encoder/layer_5/attention/output/adapter-down/bias] in:[/home/vahidsanei_google_com/data/uncased_L-12_H-768_A-12/bert_model.ckpt]\n",
      "loader: No value for:[bert_2/encoder/layer_5/attention/output/adapter-up/kernel:0], i.e.:[bert/encoder/layer_5/attention/output/adapter-up/kernel] in:[/home/vahidsanei_google_com/data/uncased_L-12_H-768_A-12/bert_model.ckpt]\n",
      "loader: No value for:[bert_2/encoder/layer_5/attention/output/adapter-up/bias:0], i.e.:[bert/encoder/layer_5/attention/output/adapter-up/bias] in:[/home/vahidsanei_google_com/data/uncased_L-12_H-768_A-12/bert_model.ckpt]\n",
      "loader: No value for:[bert_2/encoder/layer_5/output/adapter-down/kernel:0], i.e.:[bert/encoder/layer_5/output/adapter-down/kernel] in:[/home/vahidsanei_google_com/data/uncased_L-12_H-768_A-12/bert_model.ckpt]\n",
      "loader: No value for:[bert_2/encoder/layer_5/output/adapter-down/bias:0], i.e.:[bert/encoder/layer_5/output/adapter-down/bias] in:[/home/vahidsanei_google_com/data/uncased_L-12_H-768_A-12/bert_model.ckpt]\n",
      "loader: No value for:[bert_2/encoder/layer_5/output/adapter-up/kernel:0], i.e.:[bert/encoder/layer_5/output/adapter-up/kernel] in:[/home/vahidsanei_google_com/data/uncased_L-12_H-768_A-12/bert_model.ckpt]\n",
      "loader: No value for:[bert_2/encoder/layer_5/output/adapter-up/bias:0], i.e.:[bert/encoder/layer_5/output/adapter-up/bias] in:[/home/vahidsanei_google_com/data/uncased_L-12_H-768_A-12/bert_model.ckpt]\n",
      "loader: No value for:[bert_2/encoder/layer_6/attention/output/adapter-down/kernel:0], i.e.:[bert/encoder/layer_6/attention/output/adapter-down/kernel] in:[/home/vahidsanei_google_com/data/uncased_L-12_H-768_A-12/bert_model.ckpt]\n",
      "loader: No value for:[bert_2/encoder/layer_6/attention/output/adapter-down/bias:0], i.e.:[bert/encoder/layer_6/attention/output/adapter-down/bias] in:[/home/vahidsanei_google_com/data/uncased_L-12_H-768_A-12/bert_model.ckpt]\n",
      "loader: No value for:[bert_2/encoder/layer_6/attention/output/adapter-up/kernel:0], i.e.:[bert/encoder/layer_6/attention/output/adapter-up/kernel] in:[/home/vahidsanei_google_com/data/uncased_L-12_H-768_A-12/bert_model.ckpt]\n",
      "loader: No value for:[bert_2/encoder/layer_6/attention/output/adapter-up/bias:0], i.e.:[bert/encoder/layer_6/attention/output/adapter-up/bias] in:[/home/vahidsanei_google_com/data/uncased_L-12_H-768_A-12/bert_model.ckpt]\n",
      "loader: No value for:[bert_2/encoder/layer_6/output/adapter-down/kernel:0], i.e.:[bert/encoder/layer_6/output/adapter-down/kernel] in:[/home/vahidsanei_google_com/data/uncased_L-12_H-768_A-12/bert_model.ckpt]\n",
      "loader: No value for:[bert_2/encoder/layer_6/output/adapter-down/bias:0], i.e.:[bert/encoder/layer_6/output/adapter-down/bias] in:[/home/vahidsanei_google_com/data/uncased_L-12_H-768_A-12/bert_model.ckpt]\n",
      "loader: No value for:[bert_2/encoder/layer_6/output/adapter-up/kernel:0], i.e.:[bert/encoder/layer_6/output/adapter-up/kernel] in:[/home/vahidsanei_google_com/data/uncased_L-12_H-768_A-12/bert_model.ckpt]\n",
      "loader: No value for:[bert_2/encoder/layer_6/output/adapter-up/bias:0], i.e.:[bert/encoder/layer_6/output/adapter-up/bias] in:[/home/vahidsanei_google_com/data/uncased_L-12_H-768_A-12/bert_model.ckpt]\n",
      "loader: No value for:[bert_2/encoder/layer_7/attention/output/adapter-down/kernel:0], i.e.:[bert/encoder/layer_7/attention/output/adapter-down/kernel] in:[/home/vahidsanei_google_com/data/uncased_L-12_H-768_A-12/bert_model.ckpt]\n",
      "loader: No value for:[bert_2/encoder/layer_7/attention/output/adapter-down/bias:0], i.e.:[bert/encoder/layer_7/attention/output/adapter-down/bias] in:[/home/vahidsanei_google_com/data/uncased_L-12_H-768_A-12/bert_model.ckpt]\n",
      "loader: No value for:[bert_2/encoder/layer_7/attention/output/adapter-up/kernel:0], i.e.:[bert/encoder/layer_7/attention/output/adapter-up/kernel] in:[/home/vahidsanei_google_com/data/uncased_L-12_H-768_A-12/bert_model.ckpt]\n",
      "loader: No value for:[bert_2/encoder/layer_7/attention/output/adapter-up/bias:0], i.e.:[bert/encoder/layer_7/attention/output/adapter-up/bias] in:[/home/vahidsanei_google_com/data/uncased_L-12_H-768_A-12/bert_model.ckpt]\n"
     ]
    },
    {
     "name": "stdout",
     "output_type": "stream",
     "text": [
      "loader: No value for:[bert_2/encoder/layer_7/output/adapter-down/kernel:0], i.e.:[bert/encoder/layer_7/output/adapter-down/kernel] in:[/home/vahidsanei_google_com/data/uncased_L-12_H-768_A-12/bert_model.ckpt]\n",
      "loader: No value for:[bert_2/encoder/layer_7/output/adapter-down/bias:0], i.e.:[bert/encoder/layer_7/output/adapter-down/bias] in:[/home/vahidsanei_google_com/data/uncased_L-12_H-768_A-12/bert_model.ckpt]\n",
      "loader: No value for:[bert_2/encoder/layer_7/output/adapter-up/kernel:0], i.e.:[bert/encoder/layer_7/output/adapter-up/kernel] in:[/home/vahidsanei_google_com/data/uncased_L-12_H-768_A-12/bert_model.ckpt]\n",
      "loader: No value for:[bert_2/encoder/layer_7/output/adapter-up/bias:0], i.e.:[bert/encoder/layer_7/output/adapter-up/bias] in:[/home/vahidsanei_google_com/data/uncased_L-12_H-768_A-12/bert_model.ckpt]\n",
      "loader: No value for:[bert_2/encoder/layer_8/attention/output/adapter-down/kernel:0], i.e.:[bert/encoder/layer_8/attention/output/adapter-down/kernel] in:[/home/vahidsanei_google_com/data/uncased_L-12_H-768_A-12/bert_model.ckpt]\n",
      "loader: No value for:[bert_2/encoder/layer_8/attention/output/adapter-down/bias:0], i.e.:[bert/encoder/layer_8/attention/output/adapter-down/bias] in:[/home/vahidsanei_google_com/data/uncased_L-12_H-768_A-12/bert_model.ckpt]\n",
      "loader: No value for:[bert_2/encoder/layer_8/attention/output/adapter-up/kernel:0], i.e.:[bert/encoder/layer_8/attention/output/adapter-up/kernel] in:[/home/vahidsanei_google_com/data/uncased_L-12_H-768_A-12/bert_model.ckpt]\n",
      "loader: No value for:[bert_2/encoder/layer_8/attention/output/adapter-up/bias:0], i.e.:[bert/encoder/layer_8/attention/output/adapter-up/bias] in:[/home/vahidsanei_google_com/data/uncased_L-12_H-768_A-12/bert_model.ckpt]\n",
      "loader: No value for:[bert_2/encoder/layer_8/output/adapter-down/kernel:0], i.e.:[bert/encoder/layer_8/output/adapter-down/kernel] in:[/home/vahidsanei_google_com/data/uncased_L-12_H-768_A-12/bert_model.ckpt]\n",
      "loader: No value for:[bert_2/encoder/layer_8/output/adapter-down/bias:0], i.e.:[bert/encoder/layer_8/output/adapter-down/bias] in:[/home/vahidsanei_google_com/data/uncased_L-12_H-768_A-12/bert_model.ckpt]\n",
      "loader: No value for:[bert_2/encoder/layer_8/output/adapter-up/kernel:0], i.e.:[bert/encoder/layer_8/output/adapter-up/kernel] in:[/home/vahidsanei_google_com/data/uncased_L-12_H-768_A-12/bert_model.ckpt]\n",
      "loader: No value for:[bert_2/encoder/layer_8/output/adapter-up/bias:0], i.e.:[bert/encoder/layer_8/output/adapter-up/bias] in:[/home/vahidsanei_google_com/data/uncased_L-12_H-768_A-12/bert_model.ckpt]\n",
      "loader: No value for:[bert_2/encoder/layer_9/attention/output/adapter-down/kernel:0], i.e.:[bert/encoder/layer_9/attention/output/adapter-down/kernel] in:[/home/vahidsanei_google_com/data/uncased_L-12_H-768_A-12/bert_model.ckpt]\n",
      "loader: No value for:[bert_2/encoder/layer_9/attention/output/adapter-down/bias:0], i.e.:[bert/encoder/layer_9/attention/output/adapter-down/bias] in:[/home/vahidsanei_google_com/data/uncased_L-12_H-768_A-12/bert_model.ckpt]\n",
      "loader: No value for:[bert_2/encoder/layer_9/attention/output/adapter-up/kernel:0], i.e.:[bert/encoder/layer_9/attention/output/adapter-up/kernel] in:[/home/vahidsanei_google_com/data/uncased_L-12_H-768_A-12/bert_model.ckpt]\n",
      "loader: No value for:[bert_2/encoder/layer_9/attention/output/adapter-up/bias:0], i.e.:[bert/encoder/layer_9/attention/output/adapter-up/bias] in:[/home/vahidsanei_google_com/data/uncased_L-12_H-768_A-12/bert_model.ckpt]\n",
      "loader: No value for:[bert_2/encoder/layer_9/output/adapter-down/kernel:0], i.e.:[bert/encoder/layer_9/output/adapter-down/kernel] in:[/home/vahidsanei_google_com/data/uncased_L-12_H-768_A-12/bert_model.ckpt]\n",
      "loader: No value for:[bert_2/encoder/layer_9/output/adapter-down/bias:0], i.e.:[bert/encoder/layer_9/output/adapter-down/bias] in:[/home/vahidsanei_google_com/data/uncased_L-12_H-768_A-12/bert_model.ckpt]\n",
      "loader: No value for:[bert_2/encoder/layer_9/output/adapter-up/kernel:0], i.e.:[bert/encoder/layer_9/output/adapter-up/kernel] in:[/home/vahidsanei_google_com/data/uncased_L-12_H-768_A-12/bert_model.ckpt]\n",
      "loader: No value for:[bert_2/encoder/layer_9/output/adapter-up/bias:0], i.e.:[bert/encoder/layer_9/output/adapter-up/bias] in:[/home/vahidsanei_google_com/data/uncased_L-12_H-768_A-12/bert_model.ckpt]\n",
      "loader: No value for:[bert_2/encoder/layer_10/attention/output/adapter-down/kernel:0], i.e.:[bert/encoder/layer_10/attention/output/adapter-down/kernel] in:[/home/vahidsanei_google_com/data/uncased_L-12_H-768_A-12/bert_model.ckpt]\n",
      "loader: No value for:[bert_2/encoder/layer_10/attention/output/adapter-down/bias:0], i.e.:[bert/encoder/layer_10/attention/output/adapter-down/bias] in:[/home/vahidsanei_google_com/data/uncased_L-12_H-768_A-12/bert_model.ckpt]\n",
      "loader: No value for:[bert_2/encoder/layer_10/attention/output/adapter-up/kernel:0], i.e.:[bert/encoder/layer_10/attention/output/adapter-up/kernel] in:[/home/vahidsanei_google_com/data/uncased_L-12_H-768_A-12/bert_model.ckpt]\n",
      "loader: No value for:[bert_2/encoder/layer_10/attention/output/adapter-up/bias:0], i.e.:[bert/encoder/layer_10/attention/output/adapter-up/bias] in:[/home/vahidsanei_google_com/data/uncased_L-12_H-768_A-12/bert_model.ckpt]\n",
      "loader: No value for:[bert_2/encoder/layer_10/output/adapter-down/kernel:0], i.e.:[bert/encoder/layer_10/output/adapter-down/kernel] in:[/home/vahidsanei_google_com/data/uncased_L-12_H-768_A-12/bert_model.ckpt]\n",
      "loader: No value for:[bert_2/encoder/layer_10/output/adapter-down/bias:0], i.e.:[bert/encoder/layer_10/output/adapter-down/bias] in:[/home/vahidsanei_google_com/data/uncased_L-12_H-768_A-12/bert_model.ckpt]\n",
      "loader: No value for:[bert_2/encoder/layer_10/output/adapter-up/kernel:0], i.e.:[bert/encoder/layer_10/output/adapter-up/kernel] in:[/home/vahidsanei_google_com/data/uncased_L-12_H-768_A-12/bert_model.ckpt]\n",
      "loader: No value for:[bert_2/encoder/layer_10/output/adapter-up/bias:0], i.e.:[bert/encoder/layer_10/output/adapter-up/bias] in:[/home/vahidsanei_google_com/data/uncased_L-12_H-768_A-12/bert_model.ckpt]\n",
      "loader: No value for:[bert_2/encoder/layer_11/attention/output/adapter-down/kernel:0], i.e.:[bert/encoder/layer_11/attention/output/adapter-down/kernel] in:[/home/vahidsanei_google_com/data/uncased_L-12_H-768_A-12/bert_model.ckpt]\n",
      "loader: No value for:[bert_2/encoder/layer_11/attention/output/adapter-down/bias:0], i.e.:[bert/encoder/layer_11/attention/output/adapter-down/bias] in:[/home/vahidsanei_google_com/data/uncased_L-12_H-768_A-12/bert_model.ckpt]\n",
      "loader: No value for:[bert_2/encoder/layer_11/attention/output/adapter-up/kernel:0], i.e.:[bert/encoder/layer_11/attention/output/adapter-up/kernel] in:[/home/vahidsanei_google_com/data/uncased_L-12_H-768_A-12/bert_model.ckpt]\n",
      "loader: No value for:[bert_2/encoder/layer_11/attention/output/adapter-up/bias:0], i.e.:[bert/encoder/layer_11/attention/output/adapter-up/bias] in:[/home/vahidsanei_google_com/data/uncased_L-12_H-768_A-12/bert_model.ckpt]\n",
      "loader: No value for:[bert_2/encoder/layer_11/output/adapter-down/kernel:0], i.e.:[bert/encoder/layer_11/output/adapter-down/kernel] in:[/home/vahidsanei_google_com/data/uncased_L-12_H-768_A-12/bert_model.ckpt]\n",
      "loader: No value for:[bert_2/encoder/layer_11/output/adapter-down/bias:0], i.e.:[bert/encoder/layer_11/output/adapter-down/bias] in:[/home/vahidsanei_google_com/data/uncased_L-12_H-768_A-12/bert_model.ckpt]\n",
      "loader: No value for:[bert_2/encoder/layer_11/output/adapter-up/kernel:0], i.e.:[bert/encoder/layer_11/output/adapter-up/kernel] in:[/home/vahidsanei_google_com/data/uncased_L-12_H-768_A-12/bert_model.ckpt]\n",
      "loader: No value for:[bert_2/encoder/layer_11/output/adapter-up/bias:0], i.e.:[bert/encoder/layer_11/output/adapter-up/bias] in:[/home/vahidsanei_google_com/data/uncased_L-12_H-768_A-12/bert_model.ckpt]\n",
      "Done loading 196 BERT weights from: /home/vahidsanei_google_com/data/uncased_L-12_H-768_A-12/bert_model.ckpt into <bert.model.BertModelLayer object at 0x7f470c041ad0> (prefix:bert_2). Count of weights not found in the checkpoint was: [96]. Count of weights with mismatched shape: [0]\n",
      "Unused weights from checkpoint: \n",
      "\tbert/embeddings/token_type_embeddings\n",
      "\tbert/pooler/dense/bias\n",
      "\tbert/pooler/dense/kernel\n",
      "\tcls/predictions/output_bias\n",
      "\tcls/predictions/transform/LayerNorm/beta\n",
      "\tcls/predictions/transform/LayerNorm/gamma\n",
      "\tcls/predictions/transform/dense/bias\n",
      "\tcls/predictions/transform/dense/kernel\n",
      "\tcls/seq_relationship/output_bias\n",
      "\tcls/seq_relationship/output_weights\n",
      "Pretraining model ...\n"
     ]
    },
    {
     "name": "stdout",
     "output_type": "stream",
     "text": [
      "Model: \"model_2\"\n",
      "_________________________________________________________________\n",
      "Layer (type)                 Output Shape              Param #   \n",
      "=================================================================\n",
      "input_ids (InputLayer)       [(None, 50)]              0         \n",
      "_________________________________________________________________\n",
      "bert (BertModelLayer)        (None, 50, 768)           111269376 \n",
      "_________________________________________________________________\n",
      "lambda_2 (Lambda)            (None, 768)               0         \n",
      "_________________________________________________________________\n",
      "dropout_6 (Dropout)          (None, 768)               0         \n",
      "_________________________________________________________________\n",
      "dense_6 (Dense)              (None, 800)               615200    \n",
      "_________________________________________________________________\n",
      "dropout_7 (Dropout)          (None, 800)               0         \n",
      "_________________________________________________________________\n",
      "dense_7 (Dense)              (None, 6)                 4806      \n",
      "=================================================================\n",
      "Total params: 111,889,382\n",
      "Trainable params: 3,036,134\n",
      "Non-trainable params: 108,853,248\n",
      "_________________________________________________________________\n",
      "None\n",
      "Epoch 1/20\n",
      "64549/64549 [==============================] - 5575s 86ms/step - loss: 1.4500 - acc: 0.5889\n",
      "Epoch 2/20\n",
      "64549/64549 [==============================] - 5537s 86ms/step - loss: 1.3936 - acc: 0.6464\n",
      "Epoch 3/20\n",
      "64549/64549 [==============================] - 5478s 85ms/step - loss: 1.3806 - acc: 0.6598\n",
      "Epoch 4/20\n",
      "64549/64549 [==============================] - 5638s 87ms/step - loss: 1.3722 - acc: 0.6683\n",
      "Epoch 5/20\n",
      "64549/64549 [==============================] - 5573s 86ms/step - loss: 1.3658 - acc: 0.6751\n",
      "Epoch 6/20\n",
      "64549/64549 [==============================] - 5583s 86ms/step - loss: 1.3605 - acc: 0.6805\n",
      "Epoch 7/20\n",
      "64549/64549 [==============================] - 5717s 89ms/step - loss: 1.3565 - acc: 0.6846\n",
      "Epoch 8/20\n",
      "64549/64549 [==============================] - 5723s 89ms/step - loss: 1.3526 - acc: 0.6888\n",
      "Epoch 9/20\n",
      "64549/64549 [==============================] - 5371s 83ms/step - loss: 1.3491 - acc: 0.6922\n",
      "Epoch 10/20\n",
      "64549/64549 [==============================] - 5386s 83ms/step - loss: 1.3459 - acc: 0.6954\n",
      "Epoch 11/20\n",
      "64549/64549 [==============================] - 5368s 83ms/step - loss: 1.3433 - acc: 0.6981\n",
      "Epoch 12/20\n",
      "64549/64549 [==============================] - 5493s 85ms/step - loss: 1.3405 - acc: 0.7011\n",
      "Epoch 13/20\n",
      "64549/64549 [==============================] - 5403s 84ms/step - loss: 1.3382 - acc: 0.7035\n",
      "Epoch 14/20\n",
      "64549/64549 [==============================] - 5463s 85ms/step - loss: 1.3360 - acc: 0.7057\n",
      "Epoch 15/20\n",
      "64549/64549 [==============================] - 5633s 87ms/step - loss: 1.3295 - acc: 0.7122\n",
      "Epoch 16/20\n",
      "64549/64549 [==============================] - 5461s 85ms/step - loss: 1.3234 - acc: 0.7184\n",
      "Epoch 17/20\n",
      "64549/64549 [==============================] - 5395s 84ms/step - loss: 1.3204 - acc: 0.7215\n",
      "Epoch 18/20\n",
      "64549/64549 [==============================] - 5464s 85ms/step - loss: 1.3177 - acc: 0.7245\n",
      "Epoch 19/20\n",
      "64549/64549 [==============================] - 5444s 84ms/step - loss: 1.3158 - acc: 0.7262\n",
      "Epoch 20/20\n",
      "64549/64549 [==============================] - 5655s 88ms/step - loss: 1.3137 - acc: 0.7285\n"
     ]
    },
    {
     "name": "stderr",
     "output_type": "stream",
     "text": [
      "2it [00:11,  5.63s/it]"
     ]
    },
    {
     "name": "stdout",
     "output_type": "stream",
     "text": [
      "Home Oasis Auto CenterOasis Auto Center Pages Navigation Menu Home Services Coupons Testimonials Contact Us Welcome to Oasis Auto Center#Thank you for taking the time to visit our website#Oasis Auto Center is a familyownedandoperated fullservice automotive repair and maintenance shop#With locations in both Tempe AZ and Gilbert AZ we have been servicing the east valley for over 20 years#About Us Request Appointment#Request Appointment now#Request Appointment Our Technicians Are ASE Certified#We are dedicated to providing you with the best quality repair to your vehicle#Our Services We have 2 locations to best serve you#In Tempe AZ and Gilbert AZ#Please Contact Us Now#Contact Us Sure Critic Reviews No Appointment Required#Our Address 1835 E Guadalupe Rd Tempe AZ 85283 480 4912022 Monday Friday 7 am 6 pm Saturday 7 am 3 pm Our Second Location 1720 W Elliot Rd#Ste 105 Gilbert AZ 85233 480 7771042 Auto Service News Check out our Automotive News Page#Social Links Payments Visa MasterCard Dis\n",
      "****************************************************************************************************\n"
     ]
    },
    {
     "name": "stderr",
     "output_type": "stream",
     "text": [
      "\r",
      "3it [00:12,  4.23s/it]"
     ]
    },
    {
     "name": "stdout",
     "output_type": "stream",
     "text": [
      "Oasis Auto Center is a familyownedandoperated fullservice automotive repair and maintenance shop Request Appointment Our Technicians Are ASE Certified We are dedicated to providing you with the best quality repair to your vehicle Contact Us Sure Critic Reviews No Appointment Required Ste 105 Gilbert AZ 85233 480 7771042 Auto Service News Check out our Automotive News Page Home Oasis Auto CenterOasis Auto Center Pages Navigation Menu Home Services Coupons Testimonials Contact Us Welcome to Oasis Auto Center Our Services We have 2 locations to best serve you Please Contact Us Now In Tempe AZ and Gilbert AZ Thank you for taking the time to visit our website Social Links Payments Visa MasterCard Discover American Express Our Affiliations xc2xa92014 Mitchell1 Our Address 1835 E Guadalupe Rd Tempe AZ 85283 480 4912022 Monday Friday 7 am 6 pm Saturday 7 am 3 pm Our Second Location 1720 W Elliot Rd With locations in both Tempe AZ and Gilbert AZ we have been servicing the east valley for over 2\n",
      "####################################################################################################\n",
      "####################################################################################################\n"
     ]
    },
    {
     "name": "stderr",
     "output_type": "stream",
     "text": [
      "20it [00:41,  1.28s/it]"
     ]
    },
    {
     "name": "stdout",
     "output_type": "stream",
     "text": [
      "Bath Body Works SemiAnnual Sale xe2x80x93 Body Care Home Fragrances 0 Sign In or Sign Up Sign In or Sign Up Order Tracking My LoveIt List Search Catalog Search cancel Menu Search Catalog Search cancel Body Care FEATURED New Body Care Customer Favorites Retired Fragrances Travel Size BATH SHOWER Body Wash Shower Gel Bubble Bath Body Scrub MOISTURIZERS Body Lotion Body Cream Body Massage Oils Hand Cream Shave Lip Gloss Balms FRAGRANCE Body Sprays Mists Perfume Cologne COLLECTIONS Perfect Peony Into the Night Gingham Aromatherapy Body Care Mens Body Care Body Care Offers Top Offers 5 Select Body Care 50 Off Select Body Care Buy 3 Get 2 Free Select Body Care Buy 2 Get 1 Free Trial Size Explore Body Care Close dropdown Hand Soaps FEATURED New Hand Soaps Hand Care HAND SOAPS All Hand Soaps Foaming Soaps Gel Soaps Deep Cleansing Nourishing Soaps Soap Holders HAND SANITIZERS All Hand Sanitizers Hand Soaps Offers Top Offers 626 or 420 Hand Soaps 50 Off Select Hand Soaps Explore Hand Soaps Close\n",
      "****************************************************************************************************\n"
     ]
    },
    {
     "name": "stderr",
     "output_type": "stream",
     "text": [
      "\r",
      "21it [00:42,  1.42s/it]"
     ]
    },
    {
     "name": "stdout",
     "output_type": "stream",
     "text": [
      "Bath Body Works SemiAnnual Sale xe2x80x93 Body Care Home Fragrances 0 Sign In or Sign Up Sign In or Sign Up Order Tracking My LoveIt List Search Catalog Search cancel Menu Search Catalog Search cancel Body Care FEATURED New Body Care Customer Favorites Retired Fragrances Travel Size BATH SHOWER Body Wash Shower Gel Bubble Bath Body Scrub MOISTURIZERS Body Lotion Body Cream Body Massage Oils Hand Cream Shave Lip Gloss Balms FRAGRANCE Body Sprays Mists Perfume Cologne COLLECTIONS Perfect Peony Into the Night Gingham Aromatherapy Body Care Mens Body Care Body Care Offers Top Offers 5 Select Body Care 50 Off Select Body Care Buy 3 Get 2 Free Select Body Care Buy 2 Get 1 Free Trial Size Explore Body Care Close dropdown Hand Soaps FEATURED New Hand Soaps Hand Care HAND SOAPS All Hand Soaps Foaming Soaps Gel Soaps Deep Cleansing Nourishing Soaps Soap Holders HAND SANITIZERS All Hand Sanitizers Hand Soaps Offers Top Offers 626 or 420 Hand Soaps 50 Off Select Hand Soaps Explore Hand Soaps Close\n",
      "####################################################################################################\n",
      "####################################################################################################\n"
     ]
    },
    {
     "name": "stderr",
     "output_type": "stream",
     "text": [
      "39it [01:11,  1.37s/it]"
     ]
    },
    {
     "name": "stdout",
     "output_type": "stream",
     "text": [
      "TruGreen#Live Life outside#Call now for a free quote 8442612466 Call now for a free quote 8442612466 Manage My Account Commercial Services TAP TO CALL 8442612466 Welcome#Tell us what brings you to TruGreen today#Beautiful city Lawns Start Here#Sign up Today and Get 50 Off Your First Service My home is located in the area#Next What is your yards biggest problem#My yard is having problems with select all that apply Weeds Trees Shrubs Brown spots Bare patches Mosquito Control Other or not sure Next Step 2 of 3 Your lawn wont be a problem much longer#Let us tailor a plan for you#Select all that apply I am ready to love my lawn#Please send me a quote for my lawn located at ex 1234 Green St#You can reach me at ex 2223334444 or drop me a line at#Just ask for#By providing my personal information including phone number and clicking See My Results I consent to 1 receive email messages for lawn tips and tricks and limited offers autodialed calls texts and prerecorded messages from TruGreen regard\n",
      "****************************************************************************************************\n"
     ]
    },
    {
     "name": "stderr",
     "output_type": "stream",
     "text": [
      "\r",
      "40it [01:14,  1.84s/it]"
     ]
    },
    {
     "name": "stdout",
     "output_type": "stream",
     "text": [
      "Call now for a free quote 8442612466 Call now for a free quote 8442612466 Manage My Account Commercial Services TAP TO CALL 8442612466 Welcome My yard is having problems with select all that apply Weeds Trees Shrubs Brown spots Bare patches Mosquito Control Other or not sure Next Step 2 of 3 Your lawn wont be a problem much longer Select all that apply I am ready to love my lawn Please send me a quote for my lawn located at ex 1234 Green St Scroll through our gallery of photos taken by actual TruGreen specialists and see what a tailored plan can do for your lawn They are quick and efficient and leave me with a very green and healthy yard John J William S May 2019 Technicians are always very friendly and helpful Valid at participating TruGreen locations Pricing based on an average annual lawn plan cost average of 500 per year and 5000squarefoot lawn Americaxe2x80x99s 1 lawn care company based on US market share of professional lawn care companies Americas 1 lawn care company based on US\n",
      "####################################################################################################\n",
      "####################################################################################################\n"
     ]
    },
    {
     "name": "stderr",
     "output_type": "stream",
     "text": [
      "46it [01:18,  1.41it/s]"
     ]
    },
    {
     "name": "stdout",
     "output_type": "stream",
     "text": [
      "Viking Cleaners Viking Textile Restoration Dry Cleaning Dry Cleaners Phoenix 85018 Delivery NARD Services Dry Cleaning Laundry Bridal Speciality Household Items Alterations Repairs Pickup Delivery Restoration Textile Restoration Salvation Army Program Restoration FAQ About Us About Us Hours Locations Price List FAQs Employment Contact Viking Cleaners Services Dry Cleaning Laundry Bridal Speciality Household Items Alterations Repairs Pickup Delivery Restoration Textile Restoration Salvation Army Program Restoration FAQ About Us About Us Hours Locations Price List FAQs Employment Contact The Mark of Quality#We Are Open for Business Following Governor Duceyxe2x80x99s updated Covid19 stayathome orders announced on June 29th we continue to remain open to provide essential services to our customers#Our drivethrough is currently open MondayFriday 7 am 7 pm and Saturday 8 am 4 pm#Contactless drop off through our drivethrough is available#Itxe2x80x99s as easy as 1 Enter your code to open the dr\n",
      "****************************************************************************************************\n"
     ]
    },
    {
     "name": "stderr",
     "output_type": "stream",
     "text": [
      "48it [01:20,  1.33it/s]"
     ]
    },
    {
     "name": "stdout",
     "output_type": "stream",
     "text": [
      "Premium Service Viking Cleaners has had the honor of servicing the Phoenix valley for over 5o years Family owned and operated we are a full service facility offering dry cleaning laundry alterations rugs leathers households drapes and bridal dry cleaning and laundry services New Customers Request a Pickup Existing customers Amenities Convenience Drivethru 247 drop off At Viking Cleaners we understand the importance of ease and convenience during your busy day Alterations Repairs Dedicated inhouse Tailor Along with offering fullservice dry cleaning and laundry Viking Cleaners also has a dedicated inhouse tailor for your alteration and repair needs Quality Reliability Premium garment care With Viking Cleaners you can be assured you receive high quality services on your clothes Back to Top Services Dry Cleaning Laundry Bridal Speciality Household Items Alterations Repairs Pickup Delivery Restoration About Us Price List Hours Locations FAQs Contact Us Viking Cleaners Viking Textile Restora\n",
      "####################################################################################################\n",
      "####################################################################################################\n"
     ]
    },
    {
     "name": "stderr",
     "output_type": "stream",
     "text": [
      "57it [01:23,  2.79it/s]"
     ]
    },
    {
     "name": "stdout",
     "output_type": "stream",
     "text": [
      "Tim Hortons You need to enable JavaScript to run this app#Tim Hortons Logo Log In Bag Icon Shopping cart preview 0 Items How would you like to receive this order#Change xe2x80x8b Mobile Nav Logo Home Coffee Cup Order Tim Hortons Barcode Icon Scan Refresh Recent More\n",
      "****************************************************************************************************\n",
      "Tim Hortons You need to enable JavaScript to run this app Tim Hortons Logo Log In Bag Icon Shopping cart preview 0 Items How would you like to receive this order Change xe2x80x8b Mobile Nav Logo Home Coffee Cup Order Tim Hortons Barcode Icon Scan Refresh Recent More\n",
      "####################################################################################################\n",
      "####################################################################################################\n"
     ]
    },
    {
     "name": "stderr",
     "output_type": "stream",
     "text": [
      "40763it [17:25:24,  1.54s/it]\n",
      "0it [00:00, ?it/s]"
     ]
    },
    {
     "name": "stdout",
     "output_type": "stream",
     "text": [
      "Removed 17.66553001496455% of entries, due to being short corpus length.\n"
     ]
    },
    {
     "name": "stderr",
     "output_type": "stream",
     "text": [
      "10076it [4:26:30,  1.59s/it]\n"
     ]
    },
    {
     "name": "stdout",
     "output_type": "stream",
     "text": [
      "Removed 17.96347757046447% of entries, due to being short corpus length.\n"
     ]
    }
   ],
   "source": [
    "cat3 = categoryDetection(train, test, tokenizer, max_seq_len=300, bert_sentence_similarity=True, bert_ckpt_file=bert_ckpt_file, bert_config_file=bert_config_file)"
   ]
  },
  {
   "cell_type": "code",
   "execution_count": 34,
   "metadata": {},
   "outputs": [
    {
     "name": "stdout",
     "output_type": "stream",
     "text": [
      "loader: No value for:[bert_3/encoder/layer_0/attention/output/adapter-down/kernel:0], i.e.:[bert/encoder/layer_0/attention/output/adapter-down/kernel] in:[/home/vahidsanei_google_com/data/uncased_L-12_H-768_A-12/bert_model.ckpt]\n",
      "loader: No value for:[bert_3/encoder/layer_0/attention/output/adapter-down/bias:0], i.e.:[bert/encoder/layer_0/attention/output/adapter-down/bias] in:[/home/vahidsanei_google_com/data/uncased_L-12_H-768_A-12/bert_model.ckpt]\n",
      "loader: No value for:[bert_3/encoder/layer_0/attention/output/adapter-up/kernel:0], i.e.:[bert/encoder/layer_0/attention/output/adapter-up/kernel] in:[/home/vahidsanei_google_com/data/uncased_L-12_H-768_A-12/bert_model.ckpt]\n",
      "loader: No value for:[bert_3/encoder/layer_0/attention/output/adapter-up/bias:0], i.e.:[bert/encoder/layer_0/attention/output/adapter-up/bias] in:[/home/vahidsanei_google_com/data/uncased_L-12_H-768_A-12/bert_model.ckpt]\n",
      "loader: No value for:[bert_3/encoder/layer_0/output/adapter-down/kernel:0], i.e.:[bert/encoder/layer_0/output/adapter-down/kernel] in:[/home/vahidsanei_google_com/data/uncased_L-12_H-768_A-12/bert_model.ckpt]\n",
      "loader: No value for:[bert_3/encoder/layer_0/output/adapter-down/bias:0], i.e.:[bert/encoder/layer_0/output/adapter-down/bias] in:[/home/vahidsanei_google_com/data/uncased_L-12_H-768_A-12/bert_model.ckpt]\n",
      "loader: No value for:[bert_3/encoder/layer_0/output/adapter-up/kernel:0], i.e.:[bert/encoder/layer_0/output/adapter-up/kernel] in:[/home/vahidsanei_google_com/data/uncased_L-12_H-768_A-12/bert_model.ckpt]\n",
      "loader: No value for:[bert_3/encoder/layer_0/output/adapter-up/bias:0], i.e.:[bert/encoder/layer_0/output/adapter-up/bias] in:[/home/vahidsanei_google_com/data/uncased_L-12_H-768_A-12/bert_model.ckpt]\n",
      "loader: No value for:[bert_3/encoder/layer_1/attention/output/adapter-down/kernel:0], i.e.:[bert/encoder/layer_1/attention/output/adapter-down/kernel] in:[/home/vahidsanei_google_com/data/uncased_L-12_H-768_A-12/bert_model.ckpt]\n",
      "loader: No value for:[bert_3/encoder/layer_1/attention/output/adapter-down/bias:0], i.e.:[bert/encoder/layer_1/attention/output/adapter-down/bias] in:[/home/vahidsanei_google_com/data/uncased_L-12_H-768_A-12/bert_model.ckpt]\n",
      "loader: No value for:[bert_3/encoder/layer_1/attention/output/adapter-up/kernel:0], i.e.:[bert/encoder/layer_1/attention/output/adapter-up/kernel] in:[/home/vahidsanei_google_com/data/uncased_L-12_H-768_A-12/bert_model.ckpt]\n",
      "loader: No value for:[bert_3/encoder/layer_1/attention/output/adapter-up/bias:0], i.e.:[bert/encoder/layer_1/attention/output/adapter-up/bias] in:[/home/vahidsanei_google_com/data/uncased_L-12_H-768_A-12/bert_model.ckpt]\n",
      "loader: No value for:[bert_3/encoder/layer_1/output/adapter-down/kernel:0], i.e.:[bert/encoder/layer_1/output/adapter-down/kernel] in:[/home/vahidsanei_google_com/data/uncased_L-12_H-768_A-12/bert_model.ckpt]\n",
      "loader: No value for:[bert_3/encoder/layer_1/output/adapter-down/bias:0], i.e.:[bert/encoder/layer_1/output/adapter-down/bias] in:[/home/vahidsanei_google_com/data/uncased_L-12_H-768_A-12/bert_model.ckpt]\n",
      "loader: No value for:[bert_3/encoder/layer_1/output/adapter-up/kernel:0], i.e.:[bert/encoder/layer_1/output/adapter-up/kernel] in:[/home/vahidsanei_google_com/data/uncased_L-12_H-768_A-12/bert_model.ckpt]\n",
      "loader: No value for:[bert_3/encoder/layer_1/output/adapter-up/bias:0], i.e.:[bert/encoder/layer_1/output/adapter-up/bias] in:[/home/vahidsanei_google_com/data/uncased_L-12_H-768_A-12/bert_model.ckpt]\n",
      "loader: No value for:[bert_3/encoder/layer_2/attention/output/adapter-down/kernel:0], i.e.:[bert/encoder/layer_2/attention/output/adapter-down/kernel] in:[/home/vahidsanei_google_com/data/uncased_L-12_H-768_A-12/bert_model.ckpt]\n",
      "loader: No value for:[bert_3/encoder/layer_2/attention/output/adapter-down/bias:0], i.e.:[bert/encoder/layer_2/attention/output/adapter-down/bias] in:[/home/vahidsanei_google_com/data/uncased_L-12_H-768_A-12/bert_model.ckpt]\n",
      "loader: No value for:[bert_3/encoder/layer_2/attention/output/adapter-up/kernel:0], i.e.:[bert/encoder/layer_2/attention/output/adapter-up/kernel] in:[/home/vahidsanei_google_com/data/uncased_L-12_H-768_A-12/bert_model.ckpt]\n",
      "loader: No value for:[bert_3/encoder/layer_2/attention/output/adapter-up/bias:0], i.e.:[bert/encoder/layer_2/attention/output/adapter-up/bias] in:[/home/vahidsanei_google_com/data/uncased_L-12_H-768_A-12/bert_model.ckpt]\n",
      "loader: No value for:[bert_3/encoder/layer_2/output/adapter-down/kernel:0], i.e.:[bert/encoder/layer_2/output/adapter-down/kernel] in:[/home/vahidsanei_google_com/data/uncased_L-12_H-768_A-12/bert_model.ckpt]\n",
      "loader: No value for:[bert_3/encoder/layer_2/output/adapter-down/bias:0], i.e.:[bert/encoder/layer_2/output/adapter-down/bias] in:[/home/vahidsanei_google_com/data/uncased_L-12_H-768_A-12/bert_model.ckpt]\n",
      "loader: No value for:[bert_3/encoder/layer_2/output/adapter-up/kernel:0], i.e.:[bert/encoder/layer_2/output/adapter-up/kernel] in:[/home/vahidsanei_google_com/data/uncased_L-12_H-768_A-12/bert_model.ckpt]\n",
      "loader: No value for:[bert_3/encoder/layer_2/output/adapter-up/bias:0], i.e.:[bert/encoder/layer_2/output/adapter-up/bias] in:[/home/vahidsanei_google_com/data/uncased_L-12_H-768_A-12/bert_model.ckpt]\n",
      "loader: No value for:[bert_3/encoder/layer_3/attention/output/adapter-down/kernel:0], i.e.:[bert/encoder/layer_3/attention/output/adapter-down/kernel] in:[/home/vahidsanei_google_com/data/uncased_L-12_H-768_A-12/bert_model.ckpt]\n",
      "loader: No value for:[bert_3/encoder/layer_3/attention/output/adapter-down/bias:0], i.e.:[bert/encoder/layer_3/attention/output/adapter-down/bias] in:[/home/vahidsanei_google_com/data/uncased_L-12_H-768_A-12/bert_model.ckpt]\n",
      "loader: No value for:[bert_3/encoder/layer_3/attention/output/adapter-up/kernel:0], i.e.:[bert/encoder/layer_3/attention/output/adapter-up/kernel] in:[/home/vahidsanei_google_com/data/uncased_L-12_H-768_A-12/bert_model.ckpt]\n",
      "loader: No value for:[bert_3/encoder/layer_3/attention/output/adapter-up/bias:0], i.e.:[bert/encoder/layer_3/attention/output/adapter-up/bias] in:[/home/vahidsanei_google_com/data/uncased_L-12_H-768_A-12/bert_model.ckpt]\n",
      "loader: No value for:[bert_3/encoder/layer_3/output/adapter-down/kernel:0], i.e.:[bert/encoder/layer_3/output/adapter-down/kernel] in:[/home/vahidsanei_google_com/data/uncased_L-12_H-768_A-12/bert_model.ckpt]\n",
      "loader: No value for:[bert_3/encoder/layer_3/output/adapter-down/bias:0], i.e.:[bert/encoder/layer_3/output/adapter-down/bias] in:[/home/vahidsanei_google_com/data/uncased_L-12_H-768_A-12/bert_model.ckpt]\n",
      "loader: No value for:[bert_3/encoder/layer_3/output/adapter-up/kernel:0], i.e.:[bert/encoder/layer_3/output/adapter-up/kernel] in:[/home/vahidsanei_google_com/data/uncased_L-12_H-768_A-12/bert_model.ckpt]\n",
      "loader: No value for:[bert_3/encoder/layer_3/output/adapter-up/bias:0], i.e.:[bert/encoder/layer_3/output/adapter-up/bias] in:[/home/vahidsanei_google_com/data/uncased_L-12_H-768_A-12/bert_model.ckpt]\n",
      "loader: No value for:[bert_3/encoder/layer_4/attention/output/adapter-down/kernel:0], i.e.:[bert/encoder/layer_4/attention/output/adapter-down/kernel] in:[/home/vahidsanei_google_com/data/uncased_L-12_H-768_A-12/bert_model.ckpt]\n",
      "loader: No value for:[bert_3/encoder/layer_4/attention/output/adapter-down/bias:0], i.e.:[bert/encoder/layer_4/attention/output/adapter-down/bias] in:[/home/vahidsanei_google_com/data/uncased_L-12_H-768_A-12/bert_model.ckpt]\n",
      "loader: No value for:[bert_3/encoder/layer_4/attention/output/adapter-up/kernel:0], i.e.:[bert/encoder/layer_4/attention/output/adapter-up/kernel] in:[/home/vahidsanei_google_com/data/uncased_L-12_H-768_A-12/bert_model.ckpt]\n",
      "loader: No value for:[bert_3/encoder/layer_4/attention/output/adapter-up/bias:0], i.e.:[bert/encoder/layer_4/attention/output/adapter-up/bias] in:[/home/vahidsanei_google_com/data/uncased_L-12_H-768_A-12/bert_model.ckpt]\n",
      "loader: No value for:[bert_3/encoder/layer_4/output/adapter-down/kernel:0], i.e.:[bert/encoder/layer_4/output/adapter-down/kernel] in:[/home/vahidsanei_google_com/data/uncased_L-12_H-768_A-12/bert_model.ckpt]\n",
      "loader: No value for:[bert_3/encoder/layer_4/output/adapter-down/bias:0], i.e.:[bert/encoder/layer_4/output/adapter-down/bias] in:[/home/vahidsanei_google_com/data/uncased_L-12_H-768_A-12/bert_model.ckpt]\n",
      "loader: No value for:[bert_3/encoder/layer_4/output/adapter-up/kernel:0], i.e.:[bert/encoder/layer_4/output/adapter-up/kernel] in:[/home/vahidsanei_google_com/data/uncased_L-12_H-768_A-12/bert_model.ckpt]\n",
      "loader: No value for:[bert_3/encoder/layer_4/output/adapter-up/bias:0], i.e.:[bert/encoder/layer_4/output/adapter-up/bias] in:[/home/vahidsanei_google_com/data/uncased_L-12_H-768_A-12/bert_model.ckpt]\n",
      "loader: No value for:[bert_3/encoder/layer_5/attention/output/adapter-down/kernel:0], i.e.:[bert/encoder/layer_5/attention/output/adapter-down/kernel] in:[/home/vahidsanei_google_com/data/uncased_L-12_H-768_A-12/bert_model.ckpt]\n",
      "loader: No value for:[bert_3/encoder/layer_5/attention/output/adapter-down/bias:0], i.e.:[bert/encoder/layer_5/attention/output/adapter-down/bias] in:[/home/vahidsanei_google_com/data/uncased_L-12_H-768_A-12/bert_model.ckpt]\n",
      "loader: No value for:[bert_3/encoder/layer_5/attention/output/adapter-up/kernel:0], i.e.:[bert/encoder/layer_5/attention/output/adapter-up/kernel] in:[/home/vahidsanei_google_com/data/uncased_L-12_H-768_A-12/bert_model.ckpt]\n",
      "loader: No value for:[bert_3/encoder/layer_5/attention/output/adapter-up/bias:0], i.e.:[bert/encoder/layer_5/attention/output/adapter-up/bias] in:[/home/vahidsanei_google_com/data/uncased_L-12_H-768_A-12/bert_model.ckpt]\n",
      "loader: No value for:[bert_3/encoder/layer_5/output/adapter-down/kernel:0], i.e.:[bert/encoder/layer_5/output/adapter-down/kernel] in:[/home/vahidsanei_google_com/data/uncased_L-12_H-768_A-12/bert_model.ckpt]\n",
      "loader: No value for:[bert_3/encoder/layer_5/output/adapter-down/bias:0], i.e.:[bert/encoder/layer_5/output/adapter-down/bias] in:[/home/vahidsanei_google_com/data/uncased_L-12_H-768_A-12/bert_model.ckpt]\n",
      "loader: No value for:[bert_3/encoder/layer_5/output/adapter-up/kernel:0], i.e.:[bert/encoder/layer_5/output/adapter-up/kernel] in:[/home/vahidsanei_google_com/data/uncased_L-12_H-768_A-12/bert_model.ckpt]\n",
      "loader: No value for:[bert_3/encoder/layer_5/output/adapter-up/bias:0], i.e.:[bert/encoder/layer_5/output/adapter-up/bias] in:[/home/vahidsanei_google_com/data/uncased_L-12_H-768_A-12/bert_model.ckpt]\n",
      "loader: No value for:[bert_3/encoder/layer_6/attention/output/adapter-down/kernel:0], i.e.:[bert/encoder/layer_6/attention/output/adapter-down/kernel] in:[/home/vahidsanei_google_com/data/uncased_L-12_H-768_A-12/bert_model.ckpt]\n",
      "loader: No value for:[bert_3/encoder/layer_6/attention/output/adapter-down/bias:0], i.e.:[bert/encoder/layer_6/attention/output/adapter-down/bias] in:[/home/vahidsanei_google_com/data/uncased_L-12_H-768_A-12/bert_model.ckpt]\n",
      "loader: No value for:[bert_3/encoder/layer_6/attention/output/adapter-up/kernel:0], i.e.:[bert/encoder/layer_6/attention/output/adapter-up/kernel] in:[/home/vahidsanei_google_com/data/uncased_L-12_H-768_A-12/bert_model.ckpt]\n",
      "loader: No value for:[bert_3/encoder/layer_6/attention/output/adapter-up/bias:0], i.e.:[bert/encoder/layer_6/attention/output/adapter-up/bias] in:[/home/vahidsanei_google_com/data/uncased_L-12_H-768_A-12/bert_model.ckpt]\n",
      "loader: No value for:[bert_3/encoder/layer_6/output/adapter-down/kernel:0], i.e.:[bert/encoder/layer_6/output/adapter-down/kernel] in:[/home/vahidsanei_google_com/data/uncased_L-12_H-768_A-12/bert_model.ckpt]\n",
      "loader: No value for:[bert_3/encoder/layer_6/output/adapter-down/bias:0], i.e.:[bert/encoder/layer_6/output/adapter-down/bias] in:[/home/vahidsanei_google_com/data/uncased_L-12_H-768_A-12/bert_model.ckpt]\n",
      "loader: No value for:[bert_3/encoder/layer_6/output/adapter-up/kernel:0], i.e.:[bert/encoder/layer_6/output/adapter-up/kernel] in:[/home/vahidsanei_google_com/data/uncased_L-12_H-768_A-12/bert_model.ckpt]\n",
      "loader: No value for:[bert_3/encoder/layer_6/output/adapter-up/bias:0], i.e.:[bert/encoder/layer_6/output/adapter-up/bias] in:[/home/vahidsanei_google_com/data/uncased_L-12_H-768_A-12/bert_model.ckpt]\n",
      "loader: No value for:[bert_3/encoder/layer_7/attention/output/adapter-down/kernel:0], i.e.:[bert/encoder/layer_7/attention/output/adapter-down/kernel] in:[/home/vahidsanei_google_com/data/uncased_L-12_H-768_A-12/bert_model.ckpt]\n",
      "loader: No value for:[bert_3/encoder/layer_7/attention/output/adapter-down/bias:0], i.e.:[bert/encoder/layer_7/attention/output/adapter-down/bias] in:[/home/vahidsanei_google_com/data/uncased_L-12_H-768_A-12/bert_model.ckpt]\n",
      "loader: No value for:[bert_3/encoder/layer_7/attention/output/adapter-up/kernel:0], i.e.:[bert/encoder/layer_7/attention/output/adapter-up/kernel] in:[/home/vahidsanei_google_com/data/uncased_L-12_H-768_A-12/bert_model.ckpt]\n",
      "loader: No value for:[bert_3/encoder/layer_7/attention/output/adapter-up/bias:0], i.e.:[bert/encoder/layer_7/attention/output/adapter-up/bias] in:[/home/vahidsanei_google_com/data/uncased_L-12_H-768_A-12/bert_model.ckpt]\n",
      "loader: No value for:[bert_3/encoder/layer_7/output/adapter-down/kernel:0], i.e.:[bert/encoder/layer_7/output/adapter-down/kernel] in:[/home/vahidsanei_google_com/data/uncased_L-12_H-768_A-12/bert_model.ckpt]\n",
      "loader: No value for:[bert_3/encoder/layer_7/output/adapter-down/bias:0], i.e.:[bert/encoder/layer_7/output/adapter-down/bias] in:[/home/vahidsanei_google_com/data/uncased_L-12_H-768_A-12/bert_model.ckpt]\n",
      "loader: No value for:[bert_3/encoder/layer_7/output/adapter-up/kernel:0], i.e.:[bert/encoder/layer_7/output/adapter-up/kernel] in:[/home/vahidsanei_google_com/data/uncased_L-12_H-768_A-12/bert_model.ckpt]\n",
      "loader: No value for:[bert_3/encoder/layer_7/output/adapter-up/bias:0], i.e.:[bert/encoder/layer_7/output/adapter-up/bias] in:[/home/vahidsanei_google_com/data/uncased_L-12_H-768_A-12/bert_model.ckpt]\n"
     ]
    },
    {
     "name": "stdout",
     "output_type": "stream",
     "text": [
      "loader: No value for:[bert_3/encoder/layer_8/attention/output/adapter-down/kernel:0], i.e.:[bert/encoder/layer_8/attention/output/adapter-down/kernel] in:[/home/vahidsanei_google_com/data/uncased_L-12_H-768_A-12/bert_model.ckpt]\n",
      "loader: No value for:[bert_3/encoder/layer_8/attention/output/adapter-down/bias:0], i.e.:[bert/encoder/layer_8/attention/output/adapter-down/bias] in:[/home/vahidsanei_google_com/data/uncased_L-12_H-768_A-12/bert_model.ckpt]\n",
      "loader: No value for:[bert_3/encoder/layer_8/attention/output/adapter-up/kernel:0], i.e.:[bert/encoder/layer_8/attention/output/adapter-up/kernel] in:[/home/vahidsanei_google_com/data/uncased_L-12_H-768_A-12/bert_model.ckpt]\n",
      "loader: No value for:[bert_3/encoder/layer_8/attention/output/adapter-up/bias:0], i.e.:[bert/encoder/layer_8/attention/output/adapter-up/bias] in:[/home/vahidsanei_google_com/data/uncased_L-12_H-768_A-12/bert_model.ckpt]\n",
      "loader: No value for:[bert_3/encoder/layer_8/output/adapter-down/kernel:0], i.e.:[bert/encoder/layer_8/output/adapter-down/kernel] in:[/home/vahidsanei_google_com/data/uncased_L-12_H-768_A-12/bert_model.ckpt]\n",
      "loader: No value for:[bert_3/encoder/layer_8/output/adapter-down/bias:0], i.e.:[bert/encoder/layer_8/output/adapter-down/bias] in:[/home/vahidsanei_google_com/data/uncased_L-12_H-768_A-12/bert_model.ckpt]\n",
      "loader: No value for:[bert_3/encoder/layer_8/output/adapter-up/kernel:0], i.e.:[bert/encoder/layer_8/output/adapter-up/kernel] in:[/home/vahidsanei_google_com/data/uncased_L-12_H-768_A-12/bert_model.ckpt]\n",
      "loader: No value for:[bert_3/encoder/layer_8/output/adapter-up/bias:0], i.e.:[bert/encoder/layer_8/output/adapter-up/bias] in:[/home/vahidsanei_google_com/data/uncased_L-12_H-768_A-12/bert_model.ckpt]\n",
      "loader: No value for:[bert_3/encoder/layer_9/attention/output/adapter-down/kernel:0], i.e.:[bert/encoder/layer_9/attention/output/adapter-down/kernel] in:[/home/vahidsanei_google_com/data/uncased_L-12_H-768_A-12/bert_model.ckpt]\n",
      "loader: No value for:[bert_3/encoder/layer_9/attention/output/adapter-down/bias:0], i.e.:[bert/encoder/layer_9/attention/output/adapter-down/bias] in:[/home/vahidsanei_google_com/data/uncased_L-12_H-768_A-12/bert_model.ckpt]\n",
      "loader: No value for:[bert_3/encoder/layer_9/attention/output/adapter-up/kernel:0], i.e.:[bert/encoder/layer_9/attention/output/adapter-up/kernel] in:[/home/vahidsanei_google_com/data/uncased_L-12_H-768_A-12/bert_model.ckpt]\n",
      "loader: No value for:[bert_3/encoder/layer_9/attention/output/adapter-up/bias:0], i.e.:[bert/encoder/layer_9/attention/output/adapter-up/bias] in:[/home/vahidsanei_google_com/data/uncased_L-12_H-768_A-12/bert_model.ckpt]\n",
      "loader: No value for:[bert_3/encoder/layer_9/output/adapter-down/kernel:0], i.e.:[bert/encoder/layer_9/output/adapter-down/kernel] in:[/home/vahidsanei_google_com/data/uncased_L-12_H-768_A-12/bert_model.ckpt]\n",
      "loader: No value for:[bert_3/encoder/layer_9/output/adapter-down/bias:0], i.e.:[bert/encoder/layer_9/output/adapter-down/bias] in:[/home/vahidsanei_google_com/data/uncased_L-12_H-768_A-12/bert_model.ckpt]\n",
      "loader: No value for:[bert_3/encoder/layer_9/output/adapter-up/kernel:0], i.e.:[bert/encoder/layer_9/output/adapter-up/kernel] in:[/home/vahidsanei_google_com/data/uncased_L-12_H-768_A-12/bert_model.ckpt]\n",
      "loader: No value for:[bert_3/encoder/layer_9/output/adapter-up/bias:0], i.e.:[bert/encoder/layer_9/output/adapter-up/bias] in:[/home/vahidsanei_google_com/data/uncased_L-12_H-768_A-12/bert_model.ckpt]\n",
      "loader: No value for:[bert_3/encoder/layer_10/attention/output/adapter-down/kernel:0], i.e.:[bert/encoder/layer_10/attention/output/adapter-down/kernel] in:[/home/vahidsanei_google_com/data/uncased_L-12_H-768_A-12/bert_model.ckpt]\n",
      "loader: No value for:[bert_3/encoder/layer_10/attention/output/adapter-down/bias:0], i.e.:[bert/encoder/layer_10/attention/output/adapter-down/bias] in:[/home/vahidsanei_google_com/data/uncased_L-12_H-768_A-12/bert_model.ckpt]\n",
      "loader: No value for:[bert_3/encoder/layer_10/attention/output/adapter-up/kernel:0], i.e.:[bert/encoder/layer_10/attention/output/adapter-up/kernel] in:[/home/vahidsanei_google_com/data/uncased_L-12_H-768_A-12/bert_model.ckpt]\n",
      "loader: No value for:[bert_3/encoder/layer_10/attention/output/adapter-up/bias:0], i.e.:[bert/encoder/layer_10/attention/output/adapter-up/bias] in:[/home/vahidsanei_google_com/data/uncased_L-12_H-768_A-12/bert_model.ckpt]\n",
      "loader: No value for:[bert_3/encoder/layer_10/output/adapter-down/kernel:0], i.e.:[bert/encoder/layer_10/output/adapter-down/kernel] in:[/home/vahidsanei_google_com/data/uncased_L-12_H-768_A-12/bert_model.ckpt]\n",
      "loader: No value for:[bert_3/encoder/layer_10/output/adapter-down/bias:0], i.e.:[bert/encoder/layer_10/output/adapter-down/bias] in:[/home/vahidsanei_google_com/data/uncased_L-12_H-768_A-12/bert_model.ckpt]\n",
      "loader: No value for:[bert_3/encoder/layer_10/output/adapter-up/kernel:0], i.e.:[bert/encoder/layer_10/output/adapter-up/kernel] in:[/home/vahidsanei_google_com/data/uncased_L-12_H-768_A-12/bert_model.ckpt]\n",
      "loader: No value for:[bert_3/encoder/layer_10/output/adapter-up/bias:0], i.e.:[bert/encoder/layer_10/output/adapter-up/bias] in:[/home/vahidsanei_google_com/data/uncased_L-12_H-768_A-12/bert_model.ckpt]\n",
      "loader: No value for:[bert_3/encoder/layer_11/attention/output/adapter-down/kernel:0], i.e.:[bert/encoder/layer_11/attention/output/adapter-down/kernel] in:[/home/vahidsanei_google_com/data/uncased_L-12_H-768_A-12/bert_model.ckpt]\n",
      "loader: No value for:[bert_3/encoder/layer_11/attention/output/adapter-down/bias:0], i.e.:[bert/encoder/layer_11/attention/output/adapter-down/bias] in:[/home/vahidsanei_google_com/data/uncased_L-12_H-768_A-12/bert_model.ckpt]\n",
      "loader: No value for:[bert_3/encoder/layer_11/attention/output/adapter-up/kernel:0], i.e.:[bert/encoder/layer_11/attention/output/adapter-up/kernel] in:[/home/vahidsanei_google_com/data/uncased_L-12_H-768_A-12/bert_model.ckpt]\n",
      "loader: No value for:[bert_3/encoder/layer_11/attention/output/adapter-up/bias:0], i.e.:[bert/encoder/layer_11/attention/output/adapter-up/bias] in:[/home/vahidsanei_google_com/data/uncased_L-12_H-768_A-12/bert_model.ckpt]\n",
      "loader: No value for:[bert_3/encoder/layer_11/output/adapter-down/kernel:0], i.e.:[bert/encoder/layer_11/output/adapter-down/kernel] in:[/home/vahidsanei_google_com/data/uncased_L-12_H-768_A-12/bert_model.ckpt]\n",
      "loader: No value for:[bert_3/encoder/layer_11/output/adapter-down/bias:0], i.e.:[bert/encoder/layer_11/output/adapter-down/bias] in:[/home/vahidsanei_google_com/data/uncased_L-12_H-768_A-12/bert_model.ckpt]\n",
      "loader: No value for:[bert_3/encoder/layer_11/output/adapter-up/kernel:0], i.e.:[bert/encoder/layer_11/output/adapter-up/kernel] in:[/home/vahidsanei_google_com/data/uncased_L-12_H-768_A-12/bert_model.ckpt]\n",
      "loader: No value for:[bert_3/encoder/layer_11/output/adapter-up/bias:0], i.e.:[bert/encoder/layer_11/output/adapter-up/bias] in:[/home/vahidsanei_google_com/data/uncased_L-12_H-768_A-12/bert_model.ckpt]\n",
      "Done loading 196 BERT weights from: /home/vahidsanei_google_com/data/uncased_L-12_H-768_A-12/bert_model.ckpt into <bert.model.BertModelLayer object at 0x7f46b77a5410> (prefix:bert_3). Count of weights not found in the checkpoint was: [96]. Count of weights with mismatched shape: [0]\n",
      "Unused weights from checkpoint: \n",
      "\tbert/embeddings/token_type_embeddings\n",
      "\tbert/pooler/dense/bias\n",
      "\tbert/pooler/dense/kernel\n",
      "\tcls/predictions/output_bias\n",
      "\tcls/predictions/transform/LayerNorm/beta\n",
      "\tcls/predictions/transform/LayerNorm/gamma\n",
      "\tcls/predictions/transform/dense/bias\n",
      "\tcls/predictions/transform/dense/kernel\n",
      "\tcls/seq_relationship/output_bias\n",
      "\tcls/seq_relationship/output_weights\n"
     ]
    }
   ],
   "source": [
    "model3 = cat3.build_model(bert_config_file, bert_ckpt_file, max_seq_len=300)"
   ]
  },
  {
   "cell_type": "code",
   "execution_count": 35,
   "metadata": {},
   "outputs": [
    {
     "name": "stdout",
     "output_type": "stream",
     "text": [
      "Model: \"model_3\"\n",
      "_________________________________________________________________\n",
      "Layer (type)                 Output Shape              Param #   \n",
      "=================================================================\n",
      "input_ids (InputLayer)       [(None, 300)]             0         \n",
      "_________________________________________________________________\n",
      "bert (BertModelLayer)        (None, 300, 768)          111269376 \n",
      "_________________________________________________________________\n",
      "lambda_3 (Lambda)            (None, 768)               0         \n",
      "_________________________________________________________________\n",
      "dropout_8 (Dropout)          (None, 768)               0         \n",
      "_________________________________________________________________\n",
      "dense_8 (Dense)              (None, 800)               615200    \n",
      "_________________________________________________________________\n",
      "dropout_9 (Dropout)          (None, 800)               0         \n",
      "_________________________________________________________________\n",
      "dense_9 (Dense)              (None, 800)               640800    \n",
      "_________________________________________________________________\n",
      "dropout_10 (Dropout)         (None, 800)               0         \n",
      "_________________________________________________________________\n",
      "dense_10 (Dense)             (None, 6)                 4806      \n",
      "=================================================================\n",
      "Total params: 112,530,182\n",
      "Trainable params: 3,676,934\n",
      "Non-trainable params: 108,853,248\n",
      "_________________________________________________________________\n",
      "None\n",
      "Epoch 1/30\n",
      "1993/1993 [==============================] - 640s 321ms/step - loss: 1.3957 - acc: 0.6562 - val_loss: 1.2292 - val_acc: 0.8201\n",
      "Epoch 2/30\n",
      "1993/1993 [==============================] - 636s 319ms/step - loss: 1.2327 - acc: 0.8136 - val_loss: 1.2155 - val_acc: 0.8273\n",
      "Epoch 3/30\n",
      "1993/1993 [==============================] - 645s 323ms/step - loss: 1.2238 - acc: 0.8200 - val_loss: 1.2153 - val_acc: 0.8279\n",
      "Epoch 4/30\n",
      "1993/1993 [==============================] - 633s 318ms/step - loss: 1.2175 - acc: 0.8266 - val_loss: 1.2070 - val_acc: 0.8362\n",
      "Epoch 5/30\n",
      "1993/1993 [==============================] - 633s 318ms/step - loss: 1.2147 - acc: 0.8289 - val_loss: 1.2110 - val_acc: 0.8314\n",
      "Epoch 6/30\n",
      "1993/1993 [==============================] - 634s 318ms/step - loss: 1.2126 - acc: 0.8302 - val_loss: 1.2093 - val_acc: 0.8320\n",
      "Epoch 7/30\n",
      "1993/1993 [==============================] - 635s 319ms/step - loss: 1.2121 - acc: 0.8299 - val_loss: 1.2052 - val_acc: 0.8374\n",
      "Epoch 8/30\n",
      "1993/1993 [==============================] - 634s 318ms/step - loss: 1.2073 - acc: 0.8357 - val_loss: 1.1920 - val_acc: 0.8517\n",
      "Epoch 9/30\n",
      "1993/1993 [==============================] - 633s 317ms/step - loss: 1.1960 - acc: 0.8484 - val_loss: 1.1902 - val_acc: 0.8499\n",
      "Epoch 10/30\n",
      "1993/1993 [==============================] - 632s 317ms/step - loss: 1.1912 - acc: 0.8532 - val_loss: 1.1859 - val_acc: 0.8582\n",
      "Epoch 11/30\n",
      "1993/1993 [==============================] - 634s 318ms/step - loss: 1.1898 - acc: 0.8533 - val_loss: 1.1850 - val_acc: 0.8565\n",
      "Epoch 12/30\n",
      "1993/1993 [==============================] - 635s 319ms/step - loss: 1.1878 - acc: 0.8561 - val_loss: 1.1859 - val_acc: 0.8577\n",
      "Epoch 13/30\n",
      "1993/1993 [==============================] - 640s 321ms/step - loss: 1.1866 - acc: 0.8569 - val_loss: 1.1828 - val_acc: 0.8577\n",
      "Epoch 14/30\n",
      "1993/1993 [==============================] - 650s 326ms/step - loss: 1.1861 - acc: 0.8573 - val_loss: 1.1865 - val_acc: 0.8553\n",
      "Epoch 15/30\n",
      "1993/1993 [==============================] - 638s 320ms/step - loss: 1.1854 - acc: 0.8579 - val_loss: 1.1850 - val_acc: 0.8547\n",
      "Epoch 16/30\n",
      "1993/1993 [==============================] - 647s 325ms/step - loss: 1.1851 - acc: 0.8581 - val_loss: 1.1835 - val_acc: 0.8582\n",
      "Epoch 17/30\n",
      "1993/1993 [==============================] - 633s 318ms/step - loss: 1.1834 - acc: 0.8596 - val_loss: 1.1843 - val_acc: 0.8588\n",
      "Epoch 18/30\n",
      "1993/1993 [==============================] - 634s 318ms/step - loss: 1.1828 - acc: 0.8607 - val_loss: 1.1846 - val_acc: 0.8553\n",
      "Epoch 19/30\n",
      "1993/1993 [==============================] - 632s 317ms/step - loss: 1.1824 - acc: 0.8606 - val_loss: 1.1851 - val_acc: 0.8571\n",
      "Epoch 20/30\n",
      "1993/1993 [==============================] - 631s 317ms/step - loss: 1.1810 - acc: 0.8624 - val_loss: 1.1823 - val_acc: 0.8618\n",
      "Epoch 21/30\n",
      "1993/1993 [==============================] - 632s 317ms/step - loss: 1.1808 - acc: 0.8625 - val_loss: 1.1830 - val_acc: 0.8553\n",
      "Epoch 22/30\n",
      "1993/1993 [==============================] - 630s 316ms/step - loss: 1.1805 - acc: 0.8626 - val_loss: 1.1845 - val_acc: 0.8577\n",
      "Epoch 23/30\n",
      "1993/1993 [==============================] - 631s 316ms/step - loss: 1.1791 - acc: 0.8642 - val_loss: 1.1842 - val_acc: 0.8571\n",
      "Epoch 24/30\n",
      "1993/1993 [==============================] - 633s 318ms/step - loss: 1.1783 - acc: 0.8652 - val_loss: 1.1848 - val_acc: 0.8559\n",
      "Epoch 25/30\n",
      "1993/1993 [==============================] - 636s 319ms/step - loss: 1.1787 - acc: 0.8644 - val_loss: 1.1827 - val_acc: 0.8606\n",
      "Epoch 26/30\n",
      "1993/1993 [==============================] - 640s 321ms/step - loss: 1.1780 - acc: 0.8652 - val_loss: 1.1806 - val_acc: 0.8618\n",
      "Epoch 27/30\n",
      "1993/1993 [==============================] - 638s 320ms/step - loss: 1.1770 - acc: 0.8666 - val_loss: 1.1807 - val_acc: 0.8624\n",
      "Epoch 28/30\n",
      "1993/1993 [==============================] - 639s 321ms/step - loss: 1.1767 - acc: 0.8663 - val_loss: 1.1815 - val_acc: 0.8636\n",
      "Epoch 29/30\n",
      "1993/1993 [==============================] - 636s 319ms/step - loss: 1.1750 - acc: 0.8685 - val_loss: 1.1807 - val_acc: 0.8630\n",
      "Epoch 30/30\n",
      "1993/1993 [==============================] - 637s 320ms/step - loss: 1.1747 - acc: 0.8688 - val_loss: 1.1774 - val_acc: 0.8672\n"
     ]
    }
   ],
   "source": [
    "cat3.compile_model(model3, cat3.train_x, cat3.train_y)"
   ]
  },
  {
   "cell_type": "code",
   "execution_count": 36,
   "metadata": {
    "scrolled": true
   },
   "outputs": [
    {
     "name": "stdout",
     "output_type": "stream",
     "text": [
      "259/259 [==============================] - 67s 260ms/step - loss: 1.1875 - acc: 0.8552\n"
     ]
    }
   ],
   "source": [
    "model3.evaluate(cat3.test_x, cat3.test_y);"
   ]
  },
  {
   "cell_type": "code",
   "execution_count": 90,
   "metadata": {},
   "outputs": [],
   "source": [
    "def find_wrongs(cat: categoryDetection, model, count=20):\n",
    "    cnt = 0\n",
    "    for ids, label in zip(cat.test_x, cat.test_y):\n",
    "        if cnt == count:\n",
    "            break\n",
    "        y_pred = np.argmax(model.predict(np.asarray([ids])))\n",
    "        if y_pred != label:\n",
    "            corpus = tokenizer.convert_ids_to_tokens(ids)\n",
    "            print(' '.join(corpus), '\\n', f'{style.GREEN}label = {cat.classes[label]} {style.RED}predicted = {cat.classes[y_pred]}{style.RESET}')\n",
    "            print('*' * 100)\n",
    "            cnt += 1"
   ]
  },
  {
   "cell_type": "code",
   "execution_count": 91,
   "metadata": {},
   "outputs": [
    {
     "name": "stdout",
     "output_type": "stream",
     "text": [
      "[CLS] sam ##s club membership get the most out of your membership sam ##s club membership more than pays for itself with exclusive savings on the things you need the things you love and all sorts of unexpected things already a member renew now select plus select club best value plus membership become a plus member club membership earn cash rewards get back on qualifying purchases up to ##year see terms included free shipping every day no minimum purchase exclusion ##s apply see details included early shopping get in before the crowds as early as am mon sat included instant savings extra offers on top of already low members ##on ##ly prices see terms included included sam ##s club master ##card eligible to earn back on gas on dining and travel and on other purchases up to per year see terms included included pay less at the pump get member ##ex ##clusive prices on fuel available in select locations included included free select prescription ##s plus over more for or less and up to off select name brands see terms included discount ##s on glasses get off a complete pair of eye ##glass ##es and enjoy free shipping on contact lenses see terms included tire and battery center free flat tire repair battery testing and wipe ##r blade installation see terms included included compliment ##ary card one free household membership to share included included add ##on membership ##s add ##on membership ##s receive all club member benefits for a discount ##ed annual price of included up to included up to select plus select club online sign up is temporarily inactive for members in puerto rico please visit your local club to sign up for a sam ##s club membership military membership a membership exclusively for active and retired military [SEP] \n",
      " \u001b[32mlabel = health \u001b[31mpredicted = entertainment\u001b[0m\n",
      "****************************************************************************************************\n",
      "[CLS] phil good massage therapy is wee ##r open u kun ##t nu ee ##n af ##sp ##ra ##ak bo ##eke ##n philip at ##ien ##za de website van phil ##good ##mas ##sa ##ge home massage z ##wang ##ers ##cha ##ps ##mas ##sa ##ge duo massage pri ##js ##li ##js ##t reviews contact phil good massage therapy home phil good massage therapy is wee ##r open ##x ##c ##xa u kun ##t nu ee ##n af ##sp ##ra ##ak bo ##eke ##n philip at ##ien ##za lo ##cat ##ie provincial ##ew ##eg v ##lie ##lands ##tra ##at ##m ##j za ##anda ##m phil good massage therapy about privacy policy cookie policy site ##ma ##p log in log out edit scroll to top close [SEP] [PAD] [PAD] [PAD] [PAD] [PAD] [PAD] [PAD] [PAD] [PAD] [PAD] [PAD] [PAD] [PAD] [PAD] [PAD] [PAD] [PAD] [PAD] [PAD] [PAD] [PAD] [PAD] [PAD] [PAD] [PAD] [PAD] [PAD] [PAD] [PAD] [PAD] [PAD] [PAD] [PAD] [PAD] [PAD] [PAD] [PAD] [PAD] [PAD] [PAD] [PAD] [PAD] [PAD] [PAD] [PAD] [PAD] [PAD] [PAD] [PAD] [PAD] [PAD] [PAD] [PAD] [PAD] [PAD] [PAD] [PAD] [PAD] [PAD] [PAD] [PAD] [PAD] [PAD] [PAD] [PAD] [PAD] [PAD] [PAD] [PAD] [PAD] [PAD] [PAD] [PAD] [PAD] [PAD] [PAD] [PAD] [PAD] [PAD] [PAD] [PAD] [PAD] [PAD] [PAD] [PAD] [PAD] [PAD] [PAD] [PAD] [PAD] [PAD] [PAD] [PAD] [PAD] [PAD] [PAD] [PAD] [PAD] [PAD] [PAD] [PAD] [PAD] [PAD] [PAD] [PAD] [PAD] [PAD] [PAD] [PAD] [PAD] [PAD] [PAD] [PAD] [PAD] [PAD] [PAD] [PAD] [PAD] [PAD] [PAD] [PAD] [PAD] [PAD] [PAD] [PAD] [PAD] [PAD] [PAD] [PAD] [PAD] [PAD] [PAD] [PAD] [PAD] [PAD] [PAD] [PAD] [PAD] [PAD] [PAD] [PAD] [PAD] [PAD] [PAD] [PAD] [PAD] [PAD] [PAD] [PAD] [PAD] [PAD] [PAD] [PAD] [PAD] [PAD] [PAD] [PAD] [PAD] [PAD] [PAD] [PAD] [PAD] [PAD] [PAD] [PAD] [PAD] [PAD] [PAD] [PAD] [PAD] [PAD] [PAD] [PAD] [PAD] [PAD] [PAD] \n",
      " \u001b[32mlabel = health \u001b[31mpredicted = services\u001b[0m\n",
      "****************************************************************************************************\n",
      "[CLS] paint store in las vegas n ##v dunne ##d ##ward ##s paints skip to main content menu home products color inspiration how to about us directory design blog pro resources exquisite ##x ##e ##x ##xa for customers painting contractors architects designers builders developers community property managers education government agencies dealers student designers shop now select shopping experience to find products and pricing consumers professionals overview find a stored ##eal ##er store list dealer list find a paint pro directory x ##e ##x ##xa store list paint store in las vegas n ##v city las vegas store summer ##lin w lake mead b ##l ##vd las vegas n ##v google map email store make this my local store download pdf services prof color advisor prof color advisor free color consultation with a professional color advisor open days open days store open mondays ##unda ##y spanish spoken spanish spoken se ha ##bla es ##pa ##x ##c ##x ##b ##ol store hours monday am pm tuesday am pm wednesday am pm thursday am pm friday am pm saturday am pm sunday am pm check out dunne ##d ##ward ##s paints on ye ##lp nearby stores store bermuda dunes bermuda dunes ca country club dr bermuda dunes ca google map email store prof color advisor prof color advisor free color consultation with a professional color advisor spanish spoken spanish spoken se ha ##bla es ##pa ##x ##c ##x ##b ##ol view details store cathedral city cathedral city ca perez rd cathedral city ca google map email store prof color advisor prof color advisor free color consultation with a professional color advisor industrial tin ##ting industrial tin ##ting industrial product tin ##ting available spanish spoken spanish spoken se ha ##bla es ##pa ##x ##c ##x ##b ##ol view details store ant ##elo ##pe [SEP] \n",
      " \u001b[32mlabel = entertainment \u001b[31mpredicted = services\u001b[0m\n",
      "****************************************************************************************************\n",
      "[CLS] akron general health and wellness center st ##ow medical office building st ##ow cleveland clinic corona ##virus updated visitor restrictions increased safety measures co ##vid testing my ##cha ##rt need help from out of town giving careers search search cleveland clinic menu cleveland ##cl ##ini ##cor ##g find a doctor locations directions patients visitors health library institutes departments appointments access my ##cha ##rt need help call for additional assistance cleveland ##cl ##ini ##cor ##g find a doctor locations directions patients visitors health library institutes departments appointments access home find a location directions akron general health and wellness center st ##ow medical office building st ##ow allen rd st ##ow ohio call driving directions home ##page hours of operation hours of operation facility emergency services imaging sunday closed monday am pm tuesday am pm wednesday am pm thursday am pm friday am pm saturday am noon laboratory sunday closed monday am pm tuesday am pm wednesday am pm thursday am pm friday am pm saturday am am ma ##mm ##ography appointment needed sunday closed monday am pm tuesday am pm wednesday am pm thursday am pm friday am pm saturday am noon please call for days available sports and or ##th ##o injury care sunday closed monday am pm tuesday am pm wednesday am pm thursday am pm friday am pm saturday closed special ##ties special ##ties breast health center cancer card ##iology cardiovascular concussion emergency departments gas ##tro ##enter ##ology heart vascular hem ##ato ##logy lifestyle ##s fitness program medical on ##cology nutrition services ob ##ste ##trics g ##yne ##cology occupational therapy or ##th ##opa ##ed ##ic services physical therapy pod ##ia ##try primary care psychiatry psychology pulmonary rehabilitation respiratory r ##he ##uma ##tology spine health sports health wellness call driving directions home ##page facebook twitter youtube ins [SEP] \n",
      " \u001b[32mlabel = entertainment \u001b[31mpredicted = health\u001b[0m\n",
      "****************************************************************************************************\n",
      "[CLS] discount drug mart store lo ##cat ##or weekly ads choose your search criteria all departments products medical equipment supplies close ##outs health needs beauty products food beverage ##non alcoholic household domestic ##so ##ft goods variety ##sund ##ries books ##pet ##s electronic ##ph ##oto beverages ##al ##co ##hol ##ic dairy produce meat seafood del ##i cafe bakery pro point prizes generic prescription ##s movie rental ##s programs promotions search log ##in sign ##up my store menu our store store lo ##cat ##or senior savings weekly ads courtesy plus card pro points our history our services gift cards esa ##ving ##s coup ##ons test ##imo ##nia ##ls product catalog pharmacy generic prescription ##s sync your med ##s auto pre ##fi ##ll ##re ##fi ##ll fa ##q ##s ref ##ill ##stra ##ns ##fers im ##mun ##izations get well wishes manage ref ##ill pre ##fi ##ll reminder ##s medicare information pet medication na ##lo ##xon ##e na ##rca ##n phi release form healthcare professional medical equipment services metro ##hea ##lth at discount drug mart care program health screenings departments medical equipment supplies close ##outs health needs beauty products food beverage ##non alcoholic household domestic ##so ##ft goods variety ##sund ##ries books ##pet ##s electronic ##ph ##oto beverages ##al ##co ##hol ##ic dairy produce meat seafood del ##i cafe bakery cosmetics premier beauty club beauty tools fashion jewelry fine fragrance men ##s groom ##ing hair accessories hair care makeup nail care skin care styling appliances ticket source rocket mortgage field ##house photo ##vid ##eo ins ##tore photo online photo log ##in to your photo account video rental corona ##virus our weekly ads see what ##s on sale view the newest discount drug mart weekly ad for your area and start saving today medical equipment services we are caring people for caring people now [SEP] \n",
      " \u001b[32mlabel = services \u001b[31mpredicted = entertainment\u001b[0m\n",
      "****************************************************************************************************\n"
     ]
    },
    {
     "name": "stdout",
     "output_type": "stream",
     "text": [
      "[CLS] happy dog cleveland hot dogs beer and lots of live music skip to content call facebook ins ##tagram ye ##lp cleveland ##s neighborhood corner bar detroit ave cleveland oh home good food parties live music about contact gift cards home ad ##min ##t happy dog is currently closed due to the corona ##virus pan ##de ##mic we hope to return as soon as possible in the meantime please check our f ##b page for ongoing ##x ##c ##xa ##up ##dates thank you the happy dog is a neighborhood corner bar in the best sense of the term we ##ve got hot dogs and beer and lots of live music from rock and country to punk and polka the bartender ##s are friendly and the bar itself is open and inviting a racetrack oval wood bar with plenty of old chrome bars ##to ##ols its not retro because its pretty much unchanged from the time the soc ##ot ##ch family built the place back in the late ##s learn more happy dog cleveland detroit ave cleveland oh kitchen hours monday x ##e ##x ##x wednesday pm x ##e ##x ##x am thursday sunday ##x ##c ##xa am x ##e ##x ##x am friday saturday am x ##e ##x ##x ##x ##c ##xa am closed holidays bar hours monday wednesday opens at pm thursday sunday opens at am closed holidays bands email happy ##dog ##book ##gm ##ail ##com for potential dates parties ##cate ##ring learn more x ##c ##xa copyright x ##c ##xa ##ha ##ppy dog cleveland website by dennis ##on creative facebook ins ##tagram ye ##lp [SEP] [PAD] [PAD] [PAD] [PAD] [PAD] [PAD] [PAD] [PAD] [PAD] [PAD] [PAD] [PAD] [PAD] [PAD] [PAD] [PAD] [PAD] [PAD] [PAD] [PAD] [PAD] [PAD] [PAD] [PAD] [PAD] [PAD] [PAD] [PAD] [PAD] [PAD] [PAD] [PAD] [PAD] \n",
      " \u001b[32mlabel = entertainment \u001b[31mpredicted = food\u001b[0m\n",
      "****************************************************************************************************\n",
      "[CLS] harbor freight tools x ##e ##x ##x quality tools at discount prices since find your local harbor freight store mobile menu button all departments all departments power tools hand tools air tools compressor ##s tool storage organization automotive engines generators home outdoor welding plumbing electrical hardware material handling building construction painting safety lighting new items clearance gift cards join inside track club giving back monthly deals get coup ##ons order status my account contact us my account mini cart search submit search loading request a free coup ##on book today free coup ##ons exclusive offers future sales hundreds of una ##d ##vert ##ised deals sub ##scribe sign ##up for free coup ##ons to your in ##box enter email enter email sign up helpful links need help store find ##er order status harbor freight credit card customer service contact us order status shipping delivery manage credit card return policy extended service protection recall safety about us our story careers real estate giving back connect with harbor freight tools facebook youtube twitter ins ##tagram pin ##ter ##est linked ##in how we sell great tools at the lowest prices we have invested millions of dollars in our own test labs and factories so our tools will go toe ##to ##to ##e with the top professional brands and we can sell them for a fraction of the price because we cut out the middle ##man and pass the savings on to you its just that simple if you buy your tools anywhere else your ##e throwing your money away no has ##sle return policy satisfaction guaranteed security privacy do not sell my info terms conditions ca transparency in supply chains act supplier code of conduct copyright x ##c ##xa harbor freight tools for any difficulty using this site with a screen reader [SEP] \n",
      " \u001b[32mlabel = entertainment \u001b[31mpredicted = services\u001b[0m\n",
      "****************************************************************************************************\n",
      "[CLS] vegas ##car ##pet ##ware ##house ##com n ##bs ##p ##ve ##gas ##car ##pet ##ware ##house resources and information this domain has expired if you owned this domain contact your domain registration service provider for further assistance if you need help identifying your provider visit https ##w ##w ##wt ##uc ##ows ##dom ##ains ##com vegas ##car ##pet ##ware ##house ##com this web ##page was generated by the domain owner using se ##do domain parking disc ##lai ##mer se ##do maintains no relationship with third party ad ##vert ##iser ##s reference to any specific service or trade mark is not controlled by se ##do nor does it constitute or imply its association endorsement or recommendation privacy policy [SEP] [PAD] [PAD] [PAD] [PAD] [PAD] [PAD] [PAD] [PAD] [PAD] [PAD] [PAD] [PAD] [PAD] [PAD] [PAD] [PAD] [PAD] [PAD] [PAD] [PAD] [PAD] [PAD] [PAD] [PAD] [PAD] [PAD] [PAD] [PAD] [PAD] [PAD] [PAD] [PAD] [PAD] [PAD] [PAD] [PAD] [PAD] [PAD] [PAD] [PAD] [PAD] [PAD] [PAD] [PAD] [PAD] [PAD] [PAD] [PAD] [PAD] [PAD] [PAD] [PAD] [PAD] [PAD] [PAD] [PAD] [PAD] [PAD] [PAD] [PAD] [PAD] [PAD] [PAD] [PAD] [PAD] [PAD] [PAD] [PAD] [PAD] [PAD] [PAD] [PAD] [PAD] [PAD] [PAD] [PAD] [PAD] [PAD] [PAD] [PAD] [PAD] [PAD] [PAD] [PAD] [PAD] [PAD] [PAD] [PAD] [PAD] [PAD] [PAD] [PAD] [PAD] [PAD] [PAD] [PAD] [PAD] [PAD] [PAD] [PAD] [PAD] [PAD] [PAD] [PAD] [PAD] [PAD] [PAD] [PAD] [PAD] [PAD] [PAD] [PAD] [PAD] [PAD] [PAD] [PAD] [PAD] [PAD] [PAD] [PAD] [PAD] [PAD] [PAD] [PAD] [PAD] [PAD] [PAD] [PAD] [PAD] [PAD] [PAD] [PAD] [PAD] [PAD] [PAD] [PAD] [PAD] [PAD] [PAD] [PAD] [PAD] [PAD] [PAD] [PAD] [PAD] [PAD] [PAD] [PAD] [PAD] [PAD] [PAD] [PAD] [PAD] [PAD] [PAD] [PAD] [PAD] [PAD] [PAD] [PAD] [PAD] [PAD] [PAD] [PAD] [PAD] [PAD] [PAD] [PAD] [PAD] [PAD] [PAD] [PAD] [PAD] [PAD] [PAD] [PAD] [PAD] [PAD] [PAD] [PAD] [PAD] [PAD] [PAD] \n",
      " \u001b[32mlabel = services \u001b[31mpredicted = entertainment\u001b[0m\n",
      "****************************************************************************************************\n",
      "[CLS] eye doctors of arizona phoenix az op ##ht ##hal ##mo ##logists would you like to switch to the accessible version of this site go to accessible site close mod ##al window don ##t need the accessible version of this site hide the accessibility button close mod ##al window accessibility view close tool ##bar java ##script must be enabled for the correct page display html menu home new patient center online forms payments options about us meet the doctors meet the staff virtual office tour physician affiliation ##s services pediatric eye exams tri ##fo ##cal lenses bi focal lenses no line lenses las ##ik ##pr ##k las ##ik fa ##q ##s op ##ht ##hal ##mology eye vision exams eye exams fa ##q ##s eye surgery contact lens exams picking the right frames hard to fit contacts computer vision computer vision fa ##q ##s sunglasses contact lenses contact lens fa ##q ##s as ##ti ##gm ##ati ##sm contact lenses bi ##fo ##cal contact lenses di ##sp ##osa ##ble contact lenses custom made contact lenses sc ##ler ##al contact lenses colored contact lenses op ##ht ##hal ##mology b ##le ##pha ##rop ##las ##ty eye conditions b ##le ##pha ##rit ##is blue light blocking lenses blur ##ry vision g ##lau ##com ##a dia ##bet ##ic eye disease hard to fit contact lenses low vision low vision fa ##q ##s my ##op ##ia pre ##sby ##op ##ia as ##ti ##gm ##ati ##sm dry eye treatment mac ##ular de ##gen ##eration cat ##ara ##cts contact us downtown location north phoenix location bi ##lt ##more location products blog community content eye ##glass ##es basic visual skills all about eyes protecting your eyes visual rehabilitation pediatric vision issues glasses contact lenses common eye conditions vision impairment eye lids age ##rel ##ated injury irritation changes in appearance [SEP] \n",
      " \u001b[32mlabel = entertainment \u001b[31mpredicted = health\u001b[0m\n",
      "****************************************************************************************************\n",
      "[CLS] linden tree nursery linden tree nursery facebook search linden tree nursery home hours of operation our staff contact us linden tree pricing navigation home linden tree nursery is an established nursery and garden center that has been serving the west valley for over years x ##c ##xa ##as a family owned and operated business we want to extend our gratitude to all of our loyal customers who have supported us through out the years in x ##c ##xa ##our sales office was moved from our original growing yard into ##x ##c ##xa ##our new location to focus more on our retail customers and to provide a truly unique experience while shopping at our garden center x ##c ##xa ##our acre show yard is filled with a wide variety of plant material ranging from annual color to boxes x ##c ##xa ##lind ##en tree nursery still has a acre growing yard where we grow our own plant material we offer a wide variety of products ranging from annual color herbs shrubs trees and citrus as well as a full line of fe ##rti ##lizer ##s fungi ##cide ##s and pest ##icides garden and home decor can be found on at the yard sale at linden tree nursery x ##c ##xa ##pro ##du ##cts at the yard sale range from antiques to gardening supplies and everything in between categories news weekly update linden tree nursery facebook copyright linden tree nursery theme by theme horse powered by word ##press back to top [SEP] [PAD] [PAD] [PAD] [PAD] [PAD] [PAD] [PAD] [PAD] [PAD] [PAD] [PAD] [PAD] [PAD] [PAD] [PAD] [PAD] [PAD] [PAD] [PAD] [PAD] [PAD] [PAD] [PAD] [PAD] [PAD] [PAD] [PAD] [PAD] [PAD] [PAD] [PAD] [PAD] [PAD] [PAD] [PAD] [PAD] [PAD] [PAD] [PAD] [PAD] [PAD] [PAD] [PAD] [PAD] [PAD] [PAD] [PAD] [PAD] [PAD] \n",
      " \u001b[32mlabel = entertainment \u001b[31mpredicted = services\u001b[0m\n",
      "****************************************************************************************************\n"
     ]
    },
    {
     "name": "stdout",
     "output_type": "stream",
     "text": [
      "[CLS] hour wal ##gree ##ns pharmacy morrison b ##l ##vd charlotte nc skip to main content days of no beauty deals get today ##s deal home search by key ##word or item closing suggestion find a store prescription ##s ref ##ill ##s order status records transfer request new auto ref ##ill ##s drug info more pharmacy services x ##e ##x ##x ##ba pharmacy chat ref ##ill with r ##x number home delivery pharmacy specialty pharmacy easy r ##x delivery medication compound ##ing medication flavor ##ing ne ##bu ##lizer services prescription savings club settings x ##e ##x ##x ##ba emails notification ##s express ##pa ##y make a payment family prescription ##s insurance cap preference label preferences health history your account find care find the right care right when you need it health services for conditions in ##person and online visits no appointment needed find care near you more services find care near you ins ##tore clinics flu shots im ##mun ##izations balance rewards for healthy choices health answers medicare information med ##ica ##id corona ##virus information and support find r ##x coverage contact lenses re ##ord ##er contact lenses shop all contact lenses solutions drops cases eye health supplements shop beauty cosmetics eyes face lips shop cosmetics sale on cosmetics more hair care sham ##poo condition ##er salon hair care wavy curly coil ##y shop hair care sale on hair care more facial skin care moist ##uri ##zers natural organic skin care skin care for men shop facial skin care sale on facial skin care more sun care suns ##creen for body suns ##creen for face suns ##creen for children shop sun care sale on sun care more fragrance women ##s fragrance men ##s fragrance gift sets shop fragrance sale on fragrance more bath body body cleansing body moist ##uri [SEP] \n",
      " \u001b[32mlabel = entertainment \u001b[31mpredicted = services\u001b[0m\n",
      "****************************************************************************************************\n",
      "[CLS] red rock canyon las vegas nevada driving directions fees passes home plan a visit fees passes visitor information hike ##s trails geology highlights weather information hike ##s trails events event calendar upcoming events list programs red rock canyon a to z wildlife wednesday flower friday jackson the red rock canyon burr ##o tor ##to ##ise habitat artist in residence program shop about contact us news our mission opportunities fa ##q home plan a visit fees passes visitor information hike ##s trails geology highlights weather information hike ##s trails events event calendar upcoming events list programs red rock canyon a to z wildlife wednesday flower friday jackson the red rock canyon burr ##o tor ##to ##ise habitat artist in residence program shop about contact us news our mission opportunities fa ##q join southern nevada con ##ser ##van ##cy our enduring commitment is to connect current and future generations to some of the most majestic public lands including red read more co ##vid closure information update the bureau of land management expanded the scenic drive daily operation hours on june the ##mi ##le read more red rock canyon virtual hike ##s red rock canyon provides visitors a virtual way to enjoy hiking trails in the national conservation area a virtual hike read more jackson the red rock canyon burr ##o meet jackson our jo ##vial and witty adopted burr ##o jackson is a formerly ##wil ##d burr ##o who was adopted from the red rock read more visitor information the red rock canyon national conservation area rr ##c ##nca is located just a few miles west of las vegas and encompasses acres within the mo ##ja ##ve desert red rock is an area of worldwide geologic interest and beauty read more join southern nevada con ##ser ##van ##cy july our [SEP] \n",
      " \u001b[32mlabel = services \u001b[31mpredicted = entertainment\u001b[0m\n",
      "****************************************************************************************************\n",
      "[CLS] ##ele ##ven your got ##o convenience store for food drinks fuel more skip to main content account sign out welcome back ##rew ##ards points available view sign in create an account earn points on every purchase register primary ##men ##u ##rew ##ards ##x ##c ##xa ##e food hot foods healthy choices sandwiches bakery breakfast pizza snacks ice cream candy beverages coffee cold pressed juice ##s beer wine energy shots drinks big gulp sl ##ur ##pee ##x ##c ##xa ##e money get stimulus ready financial services gift cards ##now ##x ##e ##x ##xa delivery close ##ele ##ven find a store account or enter find a store close sign in earn points on every purchase with ##rew ##ards skip the line with mobile scan pay and get delivery in select areas with ##now account id email address password show password forgot password send reset email log ##in with facebook or register close primary ##men ##u ##rew ##ards ##x ##c ##xa ##e food hot foods healthy choices sandwiches bakery breakfast pizza snacks ice cream candy beverages coffee cold pressed juice ##s beer wine energy shots drinks big gulp sl ##ur ##pee ##x ##c ##xa ##e money get stimulus ready financial services gift cards ##now ##x ##e ##x ##xa delivery hi go to dashboard previous next ##now delivery we all scream for deals we hear you and we ##ve got summer deals on your ##ele ##ven favorites with contact ##less delivery get off any ##pack of hard se ##lt ##zer or buy ben jerry ##s pin ##ts and get free only with the ##now app ##x ##e ##x ##x ##ba order now only at ##ele ##ven get ready for government stimulus order your trans ##ct prep ##aid master ##card subject to card activation and id verification terms costs apply card issued by [SEP] \n",
      " \u001b[32mlabel = services \u001b[31mpredicted = food\u001b[0m\n",
      "****************************************************************************************************\n",
      "[CLS] tyler farms az tyler farms az it ##x ##e ##x ##x ##s about more than a ride it ##x ##e ##x ##x ##s about more than a ride it ##x ##e ##x ##x ##s about more than a ride it ##x ##e ##x ##x ##s about more than a ride lessons ##boarding about us tyler farms boarding located at the north and val vista exit of mesa arizona tyler farms is in a secluded location boarding choice options begin with a x totally covered stall at per month show barn experience per month or personal pasture beginning at per month a tour is recommended so that you can pick your location on the ten acres of stalls and or choose the care options open for your horse or horses please call ahead and make an appointment as we are a gate ##d entry campus during co ##vi ##vid crisis boarding begins after choosing your ideal location on the property we review your personal feeding program for your horse and sign a month to month contract we accept cash or check options of payment competitive pricing boarding costs include daily water service am and pm feeding ##s half a tack room and free horse trailer parking riding lessons individual riding lessons are booked with the instructors on site western english or hunt seat lessons are available per hour or and introductory package of for are available gift certificates can be purchased in the office like us on facebook we post out clinics and quest instructors on this site email sign up reviews contact us tyler farms send message name email send daily rental ##s are on hold during the co ##vi ##vid crisis are only available with advanced planning and stall availability copies of health certificate and shot records [SEP] \n",
      " \u001b[32mlabel = services \u001b[31mpredicted = entertainment\u001b[0m\n",
      "****************************************************************************************************\n",
      "[CLS] storage units in phoenix az at e green ##way p ##k ##wy extra space storage find storage storage types self storage vehicle storage rv storage car storage boat storage business storage climate controlled support contact us size guide self storage tips self storage fa ##q packing supplies moving guides company info about us employment investor relations party management self storage blog my account sign in update account pay bill customer sign in search home find self storage arizona phoenix e green ##way p ##k ##wy find the right storage search other locations near you why i chose extra space storage watch the video the extra space storage difference watch the video if it matters to you it matters to us watch the video need help finding the right size try our size guide narrow your search clear all filters apply filters clear self storage select all that apply climate controlled drive up indoor wine storage vehicle storage select all that apply enclosed drive ##up outdoor covered outdoor uncovered rv parking size select all that apply small ##x ##x medium ##x ##x large ##x ##x apply filters clear x exit full screen phoenix self storage at e green ##way p ##k ##wy extra space storage e green ##way p ##k ##wy phoenix az get directions reviews new customer storage gate hours mons ##un ##am ##pm storage office hours mon ##fr ##i ##am ##pm sat ##am ##pm su ##am ##pm memorial day sale up to off unit sizes photos map features reviews unit size guide narrow your search features vehicle storage sort by sort results by price low ##hi ##gh price high ##low size small ##lar ##ge size large ##sma ##ll climate controlled drive ##up indoor wine storage apply filters cancel enclosed drive ##up outdoor covered outdoor uncovered rv parking [SEP] \n",
      " \u001b[32mlabel = entertainment \u001b[31mpredicted = services\u001b[0m\n",
      "****************************************************************************************************\n"
     ]
    },
    {
     "name": "stdout",
     "output_type": "stream",
     "text": [
      "[CLS] beauty store services in calgary sep ##hora chin ##ook centre re ##ord ##er track order find a store book a reservation search good evening x ##f ##x ##f ##x ##c ##x beauty insider join now shop rewards bazaar community profile join now purchase history track orders account settings sep ##hora credit card program apply now reservations flash color iq beauty traits beauty advisor recommendations loves list your basket is empty sign in to see items you may have added previously sign in see samples rewards and promotions in basket shop new brands gifts sale quiz ##zes community main my reservations find a sep ##hora happening at sep ##hora find a sep ##hora sep ##hora chin ##ook centre macleod trail sw calgary ab t ##h ##k ca get directions hours open today until ##pm mon fr ##i ##am ##pm sat sun ##pm ##pm for the health and safety of our clients and associates store hours may vary call your local store for operating hours [SEP] [PAD] [PAD] [PAD] [PAD] [PAD] [PAD] [PAD] [PAD] [PAD] [PAD] [PAD] [PAD] [PAD] [PAD] [PAD] [PAD] [PAD] [PAD] [PAD] [PAD] [PAD] [PAD] [PAD] [PAD] [PAD] [PAD] [PAD] [PAD] [PAD] [PAD] [PAD] [PAD] [PAD] [PAD] [PAD] [PAD] [PAD] [PAD] [PAD] [PAD] [PAD] [PAD] [PAD] [PAD] [PAD] [PAD] [PAD] [PAD] [PAD] [PAD] [PAD] [PAD] [PAD] [PAD] [PAD] [PAD] [PAD] [PAD] [PAD] [PAD] [PAD] [PAD] [PAD] [PAD] [PAD] [PAD] [PAD] [PAD] [PAD] [PAD] [PAD] [PAD] [PAD] [PAD] [PAD] [PAD] [PAD] [PAD] [PAD] [PAD] [PAD] [PAD] [PAD] [PAD] [PAD] [PAD] [PAD] [PAD] [PAD] [PAD] [PAD] [PAD] [PAD] [PAD] [PAD] [PAD] [PAD] [PAD] [PAD] [PAD] [PAD] [PAD] [PAD] [PAD] [PAD] [PAD] [PAD] [PAD] [PAD] [PAD] [PAD] [PAD] [PAD] [PAD] [PAD] [PAD] [PAD] [PAD] [PAD] [PAD] [PAD] [PAD] [PAD] [PAD] [PAD] [PAD] [PAD] [PAD] [PAD] [PAD] [PAD] [PAD] [PAD] [PAD] [PAD] \n",
      " \u001b[32mlabel = entertainment \u001b[31mpredicted = services\u001b[0m\n",
      "****************************************************************************************************\n",
      "[CLS] www ##bria ##ns ##mith ##ora ##ls ##urg ##ery ##com web server is returning an unknown error error ray id ##b ##b ##bb ##bc ##a utc web server is returning an unknown error you browser working seattle cloud ##fl ##are working www ##bria ##ns ##mith ##ora ##ls ##urg ##ery ##com host error what happened there is an unknown connection issue between cloud ##fl ##are and the origin web server as a result the web page can not be displayed what can i do if you are a visitor of this website please try again in a few minutes if you are the owner of this website there is an issue between cloud ##fl ##ares cache and your origin web server cloud ##fl ##are monitors for these errors and automatically investigates the cause to help support the investigation you can pull the corresponding error log from your web server and submit it our support team please include the ray id which is at the bottom of this error page additional troubles ##hoot ##ing resources cloud ##fl ##are ray id ##b ##b ##bb ##bc ##a your ip performance security by cloud ##fl ##are [SEP] [PAD] [PAD] [PAD] [PAD] [PAD] [PAD] [PAD] [PAD] [PAD] [PAD] [PAD] [PAD] [PAD] [PAD] [PAD] [PAD] [PAD] [PAD] [PAD] [PAD] [PAD] [PAD] [PAD] [PAD] [PAD] [PAD] [PAD] [PAD] [PAD] [PAD] [PAD] [PAD] [PAD] [PAD] [PAD] [PAD] [PAD] [PAD] [PAD] [PAD] [PAD] [PAD] [PAD] [PAD] [PAD] [PAD] [PAD] [PAD] [PAD] [PAD] [PAD] [PAD] [PAD] [PAD] [PAD] [PAD] [PAD] [PAD] [PAD] [PAD] [PAD] [PAD] [PAD] [PAD] [PAD] [PAD] [PAD] [PAD] [PAD] [PAD] [PAD] [PAD] [PAD] [PAD] [PAD] [PAD] [PAD] [PAD] [PAD] [PAD] [PAD] [PAD] [PAD] [PAD] [PAD] [PAD] [PAD] [PAD] [PAD] [PAD] [PAD] [PAD] [PAD] [PAD] [PAD] [PAD] [PAD] [PAD] [PAD] [PAD] [PAD] [PAD] [PAD] [PAD] [PAD] [PAD] [PAD] [PAD] \n",
      " \u001b[32mlabel = health \u001b[31mpredicted = services\u001b[0m\n",
      "****************************************************************************************************\n",
      "[CLS] royal touch detailing skip to content royal touch detailing menu home our services contact twitter facebook blog at word ##press ##com privacy cookies this site uses cookies by continuing to use this website you agree to their use to find out more including how to control cookies see here cookie policy [SEP] [PAD] [PAD] [PAD] [PAD] [PAD] [PAD] [PAD] [PAD] [PAD] [PAD] [PAD] [PAD] [PAD] [PAD] [PAD] [PAD] [PAD] [PAD] [PAD] [PAD] [PAD] [PAD] [PAD] [PAD] [PAD] [PAD] [PAD] [PAD] [PAD] [PAD] [PAD] [PAD] [PAD] [PAD] [PAD] [PAD] [PAD] [PAD] [PAD] [PAD] [PAD] [PAD] [PAD] [PAD] [PAD] [PAD] [PAD] [PAD] [PAD] [PAD] [PAD] [PAD] [PAD] [PAD] [PAD] [PAD] [PAD] [PAD] [PAD] [PAD] [PAD] [PAD] [PAD] [PAD] [PAD] [PAD] [PAD] [PAD] [PAD] [PAD] [PAD] [PAD] [PAD] [PAD] [PAD] [PAD] [PAD] [PAD] [PAD] [PAD] [PAD] [PAD] [PAD] [PAD] [PAD] [PAD] [PAD] [PAD] [PAD] [PAD] [PAD] [PAD] [PAD] [PAD] [PAD] [PAD] [PAD] [PAD] [PAD] [PAD] [PAD] [PAD] [PAD] [PAD] [PAD] [PAD] [PAD] [PAD] [PAD] [PAD] [PAD] [PAD] [PAD] [PAD] [PAD] [PAD] [PAD] [PAD] [PAD] [PAD] [PAD] [PAD] [PAD] [PAD] [PAD] [PAD] [PAD] [PAD] [PAD] [PAD] [PAD] [PAD] [PAD] [PAD] [PAD] [PAD] [PAD] [PAD] [PAD] [PAD] [PAD] [PAD] [PAD] [PAD] [PAD] [PAD] [PAD] [PAD] [PAD] [PAD] [PAD] [PAD] [PAD] [PAD] [PAD] [PAD] [PAD] [PAD] [PAD] [PAD] [PAD] [PAD] [PAD] [PAD] [PAD] [PAD] [PAD] [PAD] [PAD] [PAD] [PAD] [PAD] [PAD] [PAD] [PAD] [PAD] [PAD] [PAD] [PAD] [PAD] [PAD] [PAD] [PAD] [PAD] [PAD] [PAD] [PAD] [PAD] [PAD] [PAD] [PAD] [PAD] [PAD] [PAD] [PAD] [PAD] [PAD] [PAD] [PAD] [PAD] [PAD] [PAD] [PAD] [PAD] [PAD] [PAD] [PAD] [PAD] [PAD] [PAD] [PAD] [PAD] [PAD] [PAD] [PAD] [PAD] [PAD] [PAD] [PAD] [PAD] [PAD] [PAD] [PAD] [PAD] [PAD] [PAD] [PAD] [PAD] [PAD] [PAD] [PAD] [PAD] [PAD] [PAD] [PAD] [PAD] [PAD] [PAD] [PAD] [PAD] [PAD] [PAD] [PAD] [PAD] [PAD] [PAD] [PAD] \n",
      " \u001b[32mlabel = services \u001b[31mpredicted = food\u001b[0m\n",
      "****************************************************************************************************\n",
      "[CLS] page not found nut ##rim ##ost ##com nut ##rim ##ost facebook twitter ins ##tagram facebook twitter ins ##tagram become a nut ##rim ##ost license ##e member log ##in disc ##lai ##mer home why nut ##rim ##ost studies results comparison locations reviews become a license ##e select page disc ##lai ##mer consumer guarantee important information disc ##lai ##mer important information weight loss among participants on the nut ##rim ##ost program varies federal agencies suggest most people who participate in any weight loss program will lose an average of pounds per week nut ##rim ##ost programs involve low cal ##ories cal ##ories ##day and other dietary and lifestyle restrictions or modifications disc ##lai ##mer consumer guarantee important information weight loss among participants on the nut ##rim ##ost program varies federal agencies suggest most people who participate in any weight loss program will lose an average of pounds per week nut ##rim ##ost programs involve low cal ##ories cal ##ories ##day and other dietary and lifestyle restrictions or modifications test ##imo ##nia ##ls are from actual clients who have completed the program and did not receive any compensation for their endorsement ##s there is no guarantee of specific results results may vary due in part to their success on the nut ##rim ##ost programs some individuals subsequently became nut ##rim ##ost employees consumer guarantee the nut ##rim ##ost program consumer guarantee protects you the consumer by making nut ##rim ##ost ob ##liga ##ted to give you a ref ##und of a pro ##rated amount of your program fee proportion ##ate to your weight loss success the nut ##rim ##ost classic program consists of phases the nut ##rim ##ost classic weight loss program provides personal coaching and other resources over a day period of which between to days involve ##x ##c ##xa [SEP] \n",
      " \u001b[32mlabel = health \u001b[31mpredicted = food\u001b[0m\n",
      "****************************************************************************************************\n",
      "[CLS] bo ##d pod las vegas home about the test bo ##d pod las vegas the bo ##d pod is highly accurate it can detect even small changes in body fat and lean body mass ie muscle bones and organs body composition is one of the best indicators of overall health the feedback you receive can be used to measure the success of your nutrition and ##or exercise program monitor for obesity a risk factor for major diseases like stroke and diabetes help you lose ##gai ##n body fat safely fine tune your your athletic performance and more call ##text today a website created by god ##ad ##dy ##x ##e ##x ##x ##s website builder [SEP] [PAD] [PAD] [PAD] [PAD] [PAD] [PAD] [PAD] [PAD] [PAD] [PAD] [PAD] [PAD] [PAD] [PAD] [PAD] [PAD] [PAD] [PAD] [PAD] [PAD] [PAD] [PAD] [PAD] [PAD] [PAD] [PAD] [PAD] [PAD] [PAD] [PAD] [PAD] [PAD] [PAD] [PAD] [PAD] [PAD] [PAD] [PAD] [PAD] [PAD] [PAD] [PAD] [PAD] [PAD] [PAD] [PAD] [PAD] [PAD] [PAD] [PAD] [PAD] [PAD] [PAD] [PAD] [PAD] [PAD] [PAD] [PAD] [PAD] [PAD] [PAD] [PAD] [PAD] [PAD] [PAD] [PAD] [PAD] [PAD] [PAD] [PAD] [PAD] [PAD] [PAD] [PAD] [PAD] [PAD] [PAD] [PAD] [PAD] [PAD] [PAD] [PAD] [PAD] [PAD] [PAD] [PAD] [PAD] [PAD] [PAD] [PAD] [PAD] [PAD] [PAD] [PAD] [PAD] [PAD] [PAD] [PAD] [PAD] [PAD] [PAD] [PAD] [PAD] [PAD] [PAD] [PAD] [PAD] [PAD] [PAD] [PAD] [PAD] [PAD] [PAD] [PAD] [PAD] [PAD] [PAD] [PAD] [PAD] [PAD] [PAD] [PAD] [PAD] [PAD] [PAD] [PAD] [PAD] [PAD] [PAD] [PAD] [PAD] [PAD] [PAD] [PAD] [PAD] [PAD] [PAD] [PAD] [PAD] [PAD] [PAD] [PAD] [PAD] [PAD] [PAD] [PAD] [PAD] [PAD] [PAD] [PAD] [PAD] [PAD] [PAD] [PAD] [PAD] [PAD] [PAD] [PAD] [PAD] [PAD] [PAD] [PAD] [PAD] [PAD] [PAD] [PAD] [PAD] [PAD] [PAD] [PAD] [PAD] [PAD] [PAD] [PAD] [PAD] [PAD] [PAD] [PAD] [PAD] [PAD] [PAD] [PAD] [PAD] [PAD] \n",
      " \u001b[32mlabel = health \u001b[31mpredicted = entertainment\u001b[0m\n",
      "****************************************************************************************************\n"
     ]
    }
   ],
   "source": [
    "find_wrongs(cat, model)"
   ]
  },
  {
   "cell_type": "code",
   "execution_count": 106,
   "metadata": {},
   "outputs": [
    {
     "name": "stdout",
     "output_type": "stream",
     "text": [
      "[CLS] free shipping is available for online items only you can shop online without a membership card but you may miss out on members ##on ##ly pricing and pay a service fee on some items you can also manage your membership and check in for your pickup orders all with a tap travel savings access exclusive discount ##s on movie tickets major shows and events and theme parks in all of the hottest destinations our optical center pharmacy and cafe are all open to the public some items may have shipping included sam ##s club reserves the right to make changes to these terms and conditions at any time sam ##s club membership more than pays for itself with exclusive savings on the things you need the things you love and all sorts of unexpected things you ##ll also save on rental cars and hotels pharmacy savings manage and ref ##ill prescription ##s for the whole family including pets free shipping is limited to ground shipping limited items are available for free shipping to military ap ##of ##po addresses join as a member to get access to all that sam ##s club has to offer enjoy free shipping scan go pickup and same ##day grocery delivery quality ##s a given with top brands and our own members mark line of products as part of the sam ##s club family take care of all you need with access to pharmacy and optical services auto ##bu ##ying and tire installation and much more we offer a satisfaction guarantee thank you to those who serve one of the per ##ks of membership is one free membership to share with someone in your household club members can add up to at this exclusive price and plus members can add up to we carry [SEP] \n",
      " \u001b[32mlabel = health \u001b[31mpredicted = entertainment\u001b[0m\n",
      "****************************************************************************************************\n",
      "[CLS] phil good massage therapy is wee ##r open philip at ##ien ##za de website van phil ##good ##mas ##sa ##ge philip at ##ien ##za lo ##cat ##ie provincial ##ew ##eg v ##lie ##lands ##tra ##at ##m ##j za ##anda ##m phil good massage therapy about privacy policy cookie policy site ##ma ##p log in log out edit scroll to top close home massage z ##wang ##ers ##cha ##ps ##mas ##sa ##ge duo massage pri ##js ##li ##js ##t reviews contact phil good massage therapy home phil good massage therapy is wee ##r open u kun ##t nu ee ##n af ##sp ##ra ##ak bo ##eke ##n x ##c ##xa u kun ##t nu ee ##n af ##sp ##ra ##ak bo ##eke ##n [SEP] [PAD] [PAD] [PAD] [PAD] [PAD] [PAD] [PAD] [PAD] [PAD] [PAD] [PAD] [PAD] [PAD] [PAD] [PAD] [PAD] [PAD] [PAD] [PAD] [PAD] [PAD] [PAD] [PAD] [PAD] [PAD] [PAD] [PAD] [PAD] [PAD] [PAD] [PAD] [PAD] [PAD] [PAD] [PAD] [PAD] [PAD] [PAD] [PAD] [PAD] [PAD] [PAD] [PAD] [PAD] [PAD] [PAD] [PAD] [PAD] [PAD] [PAD] [PAD] [PAD] [PAD] [PAD] [PAD] [PAD] [PAD] [PAD] [PAD] [PAD] [PAD] [PAD] [PAD] [PAD] [PAD] [PAD] [PAD] [PAD] [PAD] [PAD] [PAD] [PAD] [PAD] [PAD] [PAD] [PAD] [PAD] [PAD] [PAD] [PAD] [PAD] [PAD] [PAD] [PAD] [PAD] [PAD] [PAD] [PAD] [PAD] [PAD] [PAD] [PAD] [PAD] [PAD] [PAD] [PAD] [PAD] [PAD] [PAD] [PAD] [PAD] [PAD] [PAD] [PAD] [PAD] [PAD] [PAD] [PAD] [PAD] [PAD] [PAD] [PAD] [PAD] [PAD] [PAD] [PAD] [PAD] [PAD] [PAD] [PAD] [PAD] [PAD] [PAD] [PAD] [PAD] [PAD] [PAD] [PAD] [PAD] [PAD] [PAD] [PAD] [PAD] [PAD] [PAD] [PAD] [PAD] [PAD] [PAD] [PAD] [PAD] [PAD] [PAD] [PAD] [PAD] [PAD] [PAD] [PAD] [PAD] [PAD] [PAD] [PAD] [PAD] [PAD] [PAD] [PAD] [PAD] [PAD] [PAD] [PAD] [PAD] [PAD] [PAD] [PAD] [PAD] [PAD] [PAD] [PAD] [PAD] [PAD] [PAD] [PAD] [PAD] [PAD] [PAD] [PAD] \n",
      " \u001b[32mlabel = health \u001b[31mpredicted = services\u001b[0m\n",
      "****************************************************************************************************\n",
      "[CLS] purchases are subject to credit approval plus earn in rewards for every you spend when you shop at our family of stores close not track time on [UNK] discount is only valid when used with your t ##j ##x rewards credit card look for our confirmation email more to gift master ##card is a registered trademark and the circles design is a trademark of master ##card international incorporated see coup ##on for details now its even easier to get sneak peek ##s at amazing finds with the home ##good ##s app and up ##load gift cards and t ##j ##x rewards ##x ##c ##xa ##e certificates to red ##eem in store exclude ##s gift cards attach onto ##de ##ta ##ch from human detection change event ##l ##e un ##bin ##dev ##ent ##bin ##dev ##ent ##hum ##and ##ete ##ction ##chang ##eth ##ison ##hum ##and ##ete ##ction ##chang ##ese ##nd ##view ##be ##aco ##n ##fu ##nction ##thi ##s ##not ##ify ##tra ##cked page view want to connect with our other great brands t ##jm ##ax ##x marshall ##s homes ##ense sierra sign up thanks for signing up rc ##on ##cat ##ir ##ga ##q ##pus ##hia ##ln ##ot ##ify ##ga sent command e to tracker ai ##len ##gt ##h https ##ss ##l ##ht ##tp ##w ##w ##wg ##oo ##gle ##anal ##ytic ##sco ##mg ##aj ##st ##ur ##ls ##rt ##ur ##l ##ht ##tp ##st ##ur ##l ##ht ##tp ##llo ##ads ##cript ##sb ##script ##loaded ##ln ##ot ##ify ##ga page code loaded check your local store for details the t ##j ##x rewards platinum master ##card is issued by sync ##hr ##ony bank pursuant to a license by master ##card international incorporated learn more about the app explore more finds ideas tips and design hack ##s to awake ##n your creativity by email [SEP] \n",
      " \u001b[32mlabel = services \u001b[31mpredicted = entertainment\u001b[0m\n",
      "****************************************************************************************************\n",
      "[CLS] dunne ##d ##ward ##s is the choice of painting professionals dunne ##d ##ward ##s is the choice of painting professionals dunne ##d ##ward ##s is the choice of painting professionals download please wait your files will be ready for download in a minute an error happened while processing your download request please try again in a minute contact support select shopping experience to find products and pricing consumers professionals dunne ##d ##ward ##s is the choice of painting professionals http ##w ##w ##wd ##un ##ned ##ward ##sco ##m share a message on twitter your message look what i found on dunne ##d ##ward ##sco ##m post to twitter share a message on facebook your message look what i found on dunne ##d ##ward ##sco ##m post to facebook share a message on pin ##ter ##est your message look what i found on dunne ##d ##ward ##sco ##m dunne ##d ##ward ##s is the choice of painting professionals http ##w ##w ##wd ##un ##ned ##ward ##sco ##m twitter facebook pin ##ter ##est email twitter facebook pin ##ter ##est share via email your email address recipient email address your message look what i found on dunne ##d ##ward ##sco ##m post to pin ##ter ##est file download mod ##al project download mod ##al download files files are ready please click the button below to start download ##ing paint store in las vegas n ##v dunne ##d ##ward ##s paints skip to main content menu home products color inspiration how to about us directory design blog pro resources exquisite ##x ##e ##x ##xa for customers painting contractors architects designers builders developers community property managers education government agencies dealers student designers shop now select shopping experience to find products and pricing consumers professionals overview find a stored ##eal ##er store list dealer [SEP] \n",
      " \u001b[32mlabel = entertainment \u001b[31mpredicted = services\u001b[0m\n",
      "****************************************************************************************************\n",
      "[CLS] the current custom error settings for this application prevent the details of the application error from being viewed remotely for security reasons it could however be viewed by browser ##s running on the local server machine details to enable the details of this specific error message to be view ##able on remote machines please create a customer ##ror ##s tag within a web ##con ##fi ##g configuration file located in the root directory of the current web application this customer ##ror ##s tag should then have its mode attribute set to off web ##con ##fi ##g configuration file configuration system ##we ##b customer ##ror ##s mode ##off system ##we ##b configuration notes the current error page you are seeing can be replaced by a custom error page by modifying the default ##red ##ire ##ct attribute of the applications customer ##ror ##s configuration tag to point to a custom error page ur ##l run ##time error description an application error occurred on the server run ##time error server error in application web ##con ##fi ##g configuration file configuration system ##we ##b customer ##ror ##s mode ##rem ##ote ##on ##ly default ##red ##ire ##ct ##my ##cus ##tom ##page ##ht ##m system ##we ##b configuration [SEP] [PAD] [PAD] [PAD] [PAD] [PAD] [PAD] [PAD] [PAD] [PAD] [PAD] [PAD] [PAD] [PAD] [PAD] [PAD] [PAD] [PAD] [PAD] [PAD] [PAD] [PAD] [PAD] [PAD] [PAD] [PAD] [PAD] [PAD] [PAD] [PAD] [PAD] [PAD] [PAD] [PAD] [PAD] [PAD] [PAD] [PAD] [PAD] [PAD] [PAD] [PAD] [PAD] [PAD] [PAD] [PAD] [PAD] [PAD] [PAD] [PAD] [PAD] [PAD] [PAD] [PAD] [PAD] [PAD] [PAD] [PAD] [PAD] [PAD] [PAD] [PAD] [PAD] [PAD] [PAD] [PAD] [PAD] [PAD] [PAD] [PAD] [PAD] [PAD] [PAD] [PAD] [PAD] [PAD] [PAD] [PAD] [PAD] [PAD] [PAD] [PAD] [PAD] [PAD] [PAD] [PAD] [PAD] [PAD] [PAD] [PAD] [PAD] [PAD] [PAD] [PAD] [PAD] [PAD] [PAD] \n",
      " \u001b[32mlabel = food \u001b[31mpredicted = services\u001b[0m\n",
      "****************************************************************************************************\n"
     ]
    },
    {
     "name": "stdout",
     "output_type": "stream",
     "text": [
      "[CLS] from out of town my ##cha ##rt need help call for additional assistance cleveland ##cl ##ini ##cor ##g find a doctor locations directions patients visitors health library institutes departments appointments access home find a location directions akron general health and wellness center st ##ow medical office building st ##ow allen rd st ##ow ohio call driving directions home ##page hours of operation hours of operation facility emergency services imaging sunday closed monday am pm tuesday am pm wednesday am pm thursday am pm friday am pm saturday am noon laboratory sunday closed monday am pm tuesday am pm wednesday am pm thursday am pm friday am pm saturday am am ma ##mm ##ography appointment needed sunday closed monday am pm tuesday am pm wednesday am pm thursday am pm friday am pm saturday am noon please call for days available sports and or ##th ##o injury care sunday closed monday am pm tuesday am pm wednesday am pm thursday am pm friday am pm saturday closed special ##ties special ##ties breast health center cancer card ##iology cardiovascular concussion emergency departments gas ##tro ##enter ##ology heart vascular hem ##ato ##logy lifestyle ##s fitness program medical on ##cology nutrition services ob ##ste ##trics g ##yne ##cology occupational therapy or ##th ##opa ##ed ##ic services physical therapy pod ##ia ##try primary care psychiatry psychology pulmonary rehabilitation respiratory r ##he ##uma ##tology spine health sports health wellness call driving directions home ##page facebook twitter youtube ins ##tagram linked ##in pin ##ter ##est snap ##cha ##t actions appointments access pay your bill financial assistance accepted insurance make a donation refer a patient phone directory events calendar blog news mobile apps consult q ##d health essential ##s news ##room mobile apps about cleveland clinic about us locations quality patient safety office of diversity inclusion [SEP] \n",
      " \u001b[32mlabel = entertainment \u001b[31mpredicted = health\u001b[0m\n",
      "****************************************************************************************************\n",
      "[CLS] now in our fourth decade of serving the home medical equipment needs of the great people of ohio this site and its content may not be copied in part or full without express written permission from discount drug mart view the newest discount drug mart weekly ad for your area and start saving today sign up and save start earning pro points on qualifying items and receive instant re ##bate ##s drug mart cash discount ##s special offers and more news events ma ##mm ##og ##ram screenings near you in july august posted tuesday june at ##pm by mm ##ilde metro ##hea ##lth and discount drug mart are making it easy for you to receive ax ##c ##xa ##pre ##vent ##ative ma ##mm ##og ##ram at metro ##hea ##lth ##x ##e ##x ##x ##s ma ##mm ##ography coach more coloring corner posted monday march at ##pm by mm ##ilde looking for something to help pass the time with the kids being home coloring is a great outlet for kids more metro ##hea ##lth walk ##in clinic posted thursday march at ##am by mm ##ilde clinic update the clinic at our independence location br ##eck ##sville rd independence oh has reopened medical equipment services we are caring people for caring people the clinic at our more start earning pro points spend your pro points join our mail ##ing list email email verify auto pre ##fi ##ll ##re ##fi ##ll fa ##q ##s career center check acceptance policy contact us corporate officer ##ece ##iving coup ##on policy donations ##pon ##sor ##ship request employee portal esa ##ving ##s coup ##ons generic prescription ##s medicare help ##line notice of non ##dis ##cr ##imi ##nation privacy policy pro points real estate for lease ref ##ill ##stra ##ns ##fers return policy test ##imo ##nia [SEP] \n",
      " \u001b[32mlabel = services \u001b[31mpredicted = health\u001b[0m\n",
      "****************************************************************************************************\n",
      "[CLS] we ##ve got hot dogs and beer and lots of live music from rock and country to punk and polka we hope to return as soon as possible its not retro because its pretty much unchanged from the time the soc ##ot ##ch family built the place back in the late ##s the happy dog is a neighborhood corner bar in the best sense of the term happy dog cleveland hot dogs beer and lots of live music the bartender ##s are friendly and the bar itself is open and inviting a racetrack oval wood bar with plenty of old chrome bars ##to ##ols in the meantime please check our f ##b page for ongoing ##x ##c ##xa ##up ##dates thank you skip to content call facebook ins ##tagram ye ##lp cleveland ##s neighborhood corner bar home good food parties live music about contact gift cards home ad ##min ##t happy dog is currently closed due to the corona ##virus pan ##de ##mic learn more happy dog cleveland detroit ave cleveland oh kitchen hours monday x ##e ##x ##x wednesday pm x ##e ##x ##x am thursday sunday ##x ##c ##xa am x ##e ##x ##x am friday saturday am x ##e ##x ##x ##x ##c ##xa am closed holidays bar hours monday wednesday opens at pm thursday sunday opens at am closed holidays bands email happy ##dog ##book ##gm ##ail ##com for potential dates parties ##cate ##ring learn more x ##c ##xa copyright x ##c ##xa ##ha ##ppy dog cleveland website by dennis ##on creative facebook ins ##tagram ye ##lp detroit ave cleveland oh [SEP] [PAD] [PAD] [PAD] [PAD] [PAD] [PAD] [PAD] [PAD] [PAD] [PAD] [PAD] [PAD] [PAD] [PAD] [PAD] [PAD] [PAD] [PAD] [PAD] [PAD] [PAD] [PAD] [PAD] [PAD] [PAD] [PAD] [PAD] [PAD] [PAD] [PAD] [PAD] [PAD] [PAD] \n",
      " \u001b[32mlabel = entertainment \u001b[31mpredicted = food\u001b[0m\n",
      "****************************************************************************************************\n",
      "[CLS] and we can sell them for a fraction of the price because we cut out the middle ##man and pass the savings on to you for california consumers more information about our privacy practices so our tools will go toe ##to ##to ##e with the top professional brands if you buy your tools anywhere else your ##e throwing your money away its just that simple no has ##sle return policy satisfaction guaranteed security privacy do not sell my info terms conditions ca transparency in supply chains act supplier code of conduct copyright x ##c ##xa harbor freight tools for any difficulty using this site with a screen reader or because of a disability please contact us at or cs ##har ##bor ##fr ##ei ##ght ##com store find ##er order status harbor freight credit card customer service contact us order status shipping delivery manage credit card return policy extended service protection recall safety about us our story careers real estate giving back connect with harbor freight tools facebook youtube twitter ins ##tagram pin ##ter ##est linked ##in how we sell great tools at the lowest prices we have invested millions of dollars in our own test labs and factories harbor freight tools x ##e ##x ##x quality tools at discount prices since find your local harbor freight store mobile menu button all departments all departments power tools hand tools air tools compressor ##s tool storage organization automotive engines generators home outdoor welding plumbing electrical hardware material handling building construction painting safety lighting new items clearance gift cards join inside track club giving back monthly deals get coup ##ons order status my account contact us my account mini cart search submit search loading request a free coup ##on book today free coup ##ons exclusive offers future sales hundreds of una [SEP] \n",
      " \u001b[32mlabel = entertainment \u001b[31mpredicted = services\u001b[0m\n",
      "****************************************************************************************************\n",
      "[CLS] if you owned this domain contact your domain registration service provider for further assistance reference to any specific service or trade mark is not controlled by se ##do nor does it constitute or imply its association endorsement or recommendation privacy policy disc ##lai ##mer se ##do maintains no relationship with third party ad ##vert ##iser ##s if you need help identifying your provider visit https ##w ##w ##wt ##uc ##ows ##dom ##ains ##com vegas ##car ##pet ##ware ##house ##com this web ##page was generated by the domain owner using se ##do domain parking this domain has expired vegas ##car ##pet ##ware ##house ##com n ##bs ##p ##ve ##gas ##car ##pet ##ware ##house resources and information [SEP] [PAD] [PAD] [PAD] [PAD] [PAD] [PAD] [PAD] [PAD] [PAD] [PAD] [PAD] [PAD] [PAD] [PAD] [PAD] [PAD] [PAD] [PAD] [PAD] [PAD] [PAD] [PAD] [PAD] [PAD] [PAD] [PAD] [PAD] [PAD] [PAD] [PAD] [PAD] [PAD] [PAD] [PAD] [PAD] [PAD] [PAD] [PAD] [PAD] [PAD] [PAD] [PAD] [PAD] [PAD] [PAD] [PAD] [PAD] [PAD] [PAD] [PAD] [PAD] [PAD] [PAD] [PAD] [PAD] [PAD] [PAD] [PAD] [PAD] [PAD] [PAD] [PAD] [PAD] [PAD] [PAD] [PAD] [PAD] [PAD] [PAD] [PAD] [PAD] [PAD] [PAD] [PAD] [PAD] [PAD] [PAD] [PAD] [PAD] [PAD] [PAD] [PAD] [PAD] [PAD] [PAD] [PAD] [PAD] [PAD] [PAD] [PAD] [PAD] [PAD] [PAD] [PAD] [PAD] [PAD] [PAD] [PAD] [PAD] [PAD] [PAD] [PAD] [PAD] [PAD] [PAD] [PAD] [PAD] [PAD] [PAD] [PAD] [PAD] [PAD] [PAD] [PAD] [PAD] [PAD] [PAD] [PAD] [PAD] [PAD] [PAD] [PAD] [PAD] [PAD] [PAD] [PAD] [PAD] [PAD] [PAD] [PAD] [PAD] [PAD] [PAD] [PAD] [PAD] [PAD] [PAD] [PAD] [PAD] [PAD] [PAD] [PAD] [PAD] [PAD] [PAD] [PAD] [PAD] [PAD] [PAD] [PAD] [PAD] [PAD] [PAD] [PAD] [PAD] [PAD] [PAD] [PAD] [PAD] [PAD] [PAD] [PAD] [PAD] [PAD] [PAD] [PAD] [PAD] [PAD] [PAD] [PAD] [PAD] [PAD] [PAD] [PAD] [PAD] [PAD] [PAD] [PAD] [PAD] [PAD] [PAD] [PAD] [PAD] \n",
      " \u001b[32mlabel = services \u001b[31mpredicted = entertainment\u001b[0m\n",
      "****************************************************************************************************\n",
      "[CLS] learn more about all the services we provide we do it all and we do it with the care and professional ##ism you expect and deserve he is continually expanding his knowledge through continuing education to serve the phoenix community with the finest eye care possible your entire family will come to rely on our phoenix eye doctors for everything from routine eye care to the most advanced medical and surgical techniques for cat ##ara ##ct surgery g ##lau ##com ##a surgery and laser vision correction we invite you to come visit our facility and meet our caring professionals in person now with their two offices it is even more convenient to book appointments these tips can help improve the comfort of your eyes our eye doctors convenient ##ly located in phoenix locations can treat medical conditions and perform surgical procedures for almost any o ##cular condition a wide range of services from our eye doctors at eye doctors of arizona we provide a full range of standard eye care services such as eye exams medical treatments as well as advanced surgical care better yet experience our manner of care first ##hand by scheduling a routine eye exam matching your lens to your lifestyle can improve your comfort las ##ik and pr ##k procedures with custom ##vu ##e for more information or if you need to setup an appointment with us do not hesitate to call us call either of our phoenix locations to learn more about us and schedule an appointment these dos and don ##ts can help you protect you avoid common contact lens problems for more information please don ##x ##e ##x ##x ##t hesitate and call our office today you may have an eye cold these tips may help count on our phoenix op [SEP] \n",
      " \u001b[32mlabel = entertainment \u001b[31mpredicted = health\u001b[0m\n",
      "****************************************************************************************************\n",
      "[CLS] x ##c ##xa ##as a family owned and operated business we want to extend our gratitude to all of our loyal customers who have supported us through out the years in x ##c ##xa ##our sales office was moved from our original growing yard into ##x ##c ##xa ##our new location to focus more on our retail customers and to provide a truly unique experience while shopping at our garden center we offer a wide variety of products ranging from annual color herbs shrubs trees and citrus as well as a full line of fe ##rti ##lizer ##s fungi ##cide ##s and pest ##icides x ##c ##xa ##pro ##du ##cts at the yard sale range from antiques to gardening supplies and everything in between x ##c ##xa ##our acre show yard is filled with a wide variety of plant material ranging from annual color to boxes x ##c ##xa ##lind ##en tree nursery still has a acre growing yard where we grow our own plant material garden and home decor can be found on at the yard sale at linden tree nursery linden tree nursery linden tree nursery facebook search linden tree nursery home hours of operation our staff contact us linden tree pricing navigation home linden tree nursery is an established nursery and garden center that has been serving the west valley for over years categories news weekly update linden tree nursery facebook copyright linden tree nursery theme by theme horse powered by word ##press back to top [SEP] [PAD] [PAD] [PAD] [PAD] [PAD] [PAD] [PAD] [PAD] [PAD] [PAD] [PAD] [PAD] [PAD] [PAD] [PAD] [PAD] [PAD] [PAD] [PAD] [PAD] [PAD] [PAD] [PAD] [PAD] [PAD] [PAD] [PAD] [PAD] [PAD] [PAD] [PAD] [PAD] [PAD] [PAD] [PAD] [PAD] [PAD] [PAD] [PAD] [PAD] [PAD] [PAD] [PAD] [PAD] [PAD] [PAD] [PAD] [PAD] [PAD] \n",
      " \u001b[32mlabel = entertainment \u001b[31mpredicted = services\u001b[0m\n",
      "****************************************************************************************************\n"
     ]
    },
    {
     "name": "stdout",
     "output_type": "stream",
     "text": [
      "[CLS] your health care provider will need to call the pharmacy for the fa ##x number flavor ##ing masks unpleasant tastes and can help children take their medicine find everything you wanted to know about this store yes find everything you wanted to know about this store learn more for about prescription flavour ##ing it will open a new tab not all prescription ##s can be flavor ##ed ask your local wal ##gree ##ns pharmacy team for more details coup ##ons now you can save even more with coup ##ons that clip straight to your balance ##x ##c ##xa ##e rewards card learn more for medication disposal it will open a new tab ask about prescription flavor ##ing our prescription flavor ##ing service flavor ##x is available for at all wal ##gree ##ns and duane read ##e ph ##arm ##acies va ##cci ##nation ##s schedule an appointment or walk in flu pneumonia td ##ap see all va ##cci ##nation ##s at this store opens a simulated over ##lay other pharmacy services feel more like you cancer service feel more like you is a free ins ##tore service to help you manage cancer treatment side effects with the support of our specially trained beauty consultants and ph ##arm ##ac ##ists also available at this store beauty consultation ##s mini ##ma ##ke ##overs no match ##made makeup color ##mat ##ching pharmacy open hours every day open hours drive ##th ##ru service available prescription ##s years of experience and still inn ##ova ##ting how you fill prescription ##s ref ##ill prescription ##s fa ##xing a prescription prescription disposal travel health consultation ##s health tests blood pressure meet your store pharmacy team barbara g pharmacy manager years with wal ##gree ##ns see all pharmacy staff members medication disposal a safe and convenient way [SEP] \n",
      " \u001b[32mlabel = entertainment \u001b[31mpredicted = services\u001b[0m\n",
      "****************************************************************************************************\n",
      "[CLS] we will make readily available to customers information about our policies and practices relating to the management of personal information ones ##ign ##al ones ##ign ##al ##x ##e ##x ##x ##s provides sd ##ks to mobile app developers and websites and data and analytics services to other data partners and ad ##vert ##iser ##s we will only retain personal information as long as necessary for the fulfillment of those purposes before or at the time of collecting personal information we will identify the purposes for which information is being collected personal data should be relevant to the purposes for which it is to be used and to the extent necessary for those purposes should be accurate complete and up ##to ##date we will collect and use of personal information solely with the objective of fulfilling those purposes specified by us and for other compatible purposes unless we obtain the consent of the individual concerned or as required by law accordingly we have developed this policy in order for you to understand how we collect use communicate and disclose and make use of personal information we will collect personal information by lawful and fair means and where appropriate with the knowledge or consent of the individual concerned this page informs you of our policies regarding the collection use and disclosure of personal data when you use our service and the choices you have associated with that data if you do not agree with any of these terms you are prohibited from using or access ##ing this site we will protect personal information by reasonable security safeguard ##s against loss or theft as well as unauthorized access disclosure copying use or modification this is the grant of a license not a transfer of title and under this license you may [SEP] \n",
      " \u001b[32mlabel = entertainment \u001b[31mpredicted = services\u001b[0m\n",
      "****************************************************************************************************\n",
      "[CLS] the facility also features indoor and outdoor exhibits and a book and gift store our visitor center offers information and interpretation about recreation opportunities please reference the map and then match the numbers with the trails on this website to learn more about each hike which ##x ##c ##xa ##tra ##ils would ##x ##c ##xa ##you like to visit in the future red rock is an area of worldwide geologic interest and beauty red rock canyon features a one ##way ##mi ##le scenic drive hiking and trails plants and wildlife geology camping cultural resources and much more fees passes hike ##s trails there are numbered hike ##s and trails x ##c ##xa ##on our website that correspond to the numbers on this downloadable map read more join southern nevada con ##ser ##van ##cy july our enduring commitment is to connect current and future generations to some of the most majestic public lands including red read more shop to support red rock july plan to head outside this summer make sure you plan for the sun and heat wear suns ##creen and a hat read more co ##vid closure information june update the bureau of land management expanded the scenic drive daily operation hours on june view all hike ##s trails download trail map connect on facebook who we are southern nevada con ##ser ##van ##cy a ##c nonprofit organization based in las vegas n ##v serves red rock canyon national conservation area under a formal agreement with the bureau of land management b ##lm in many ways including interpret ##ive programming fees ##tation management retail operations and this website the visitor center is open daily from am pm the ##mi ##le read more fire restrictions in response to severe wild ##fire risks june due to increasingly high temperatures [SEP] \n",
      " \u001b[32mlabel = services \u001b[31mpredicted = entertainment\u001b[0m\n",
      "****************************************************************************************************\n",
      "[CLS] products and services available at participating locations were continuing to keep our stores safe as you adjust to your new routine were continuing to keep our stores safe as you adjust to your new routine customer safety is our top priority and were following guidance from the cdc and who customer safety is our top priority and were following guidance from the cdc and who participating stores only participating stores only offer does not apply to iced coffee get instant access to ins ##tore savings stop in for new deals on familiar favorites like coffee big gulp and more stop in for new deals on familiar favorites like coffee big gulp and more see ##ele ##ven app for full terms and conditions terms and conditions apply email address sign up by signing up you agree to receive ##ele ##ven offers promotions and other messages offer does not apply to sl ##ur ##pee drinks frozen beverages iced tea ##s and iced coffee ##s find your nearest store terms costs apply terms costs apply terms costs apply see ##ele ##ven app for full terms and conditions see ##ele ##ven app for full terms and conditions you can view our privacy policy and un ##su ##bs ##cr ##ibe at any time we hear you and we ##ve got summer deals on your ##ele ##ven favorites with contact ##less delivery ##rew ##ards points available participating locations only back in action back in action get off any ##pack of hard se ##lt ##zer or buy ben jerry ##s pin ##ts and get free subject to card activation and id verification subject to card activation and id verification subject to card activation and id verification must be a ##rew ##ards member learn more same store new routine learn more same store new routine learn [SEP] \n",
      " \u001b[32mlabel = services \u001b[31mpredicted = food\u001b[0m\n",
      "****************************************************************************************************\n",
      "[CLS] are only available with advanced planning and stall availability we accept cash or check options of payment a tour is recommended so that you can pick your location on the ten acres of stalls and or choose the care options open for your horse or horses please call ahead and make an appointment as we are a gate ##d entry campus during co ##vi ##vid crisis boarding begins after choosing your ideal location on the property we review your personal feeding program for your horse and sign a month to month contract per hour or and introductory package of for are available gift certificates can be purchased in the office it ##x ##e ##x ##x ##s about more than a ride it ##x ##e ##x ##x ##s about more than a ride it ##x ##e ##x ##x ##s about more than a ride no rv parking is available at this site competitive pricing boarding costs include daily water service am and pm feeding ##s half a tack room and free horse trailer parking copies of health certificate and shot records must be provided in advance of arrival ##x covered stall per calendar day boarding choice options begin with a x totally covered stall at per month show barn experience per month or personal pasture beginning at per month riding lessons individual riding lessons are booked with the instructors on site western english or hunt seat lessons are available like us on facebook we post out clinics and quest instructors on this site email sign up reviews contact us tyler farms send message name email send daily rental ##s are on hold during the co ##vi ##vid crisis lessons ##boarding about us tyler farms boarding located at the north and val vista exit of mesa arizona tyler farms is [SEP] \n",
      " \u001b[32mlabel = services \u001b[31mpredicted = entertainment\u001b[0m\n",
      "****************************************************************************************************\n"
     ]
    },
    {
     "name": "stdout",
     "output_type": "stream",
     "text": [
      "[CLS] inform your health care provider of any complementary therapeutic approaches you are planning to use to treat an existing or persistent condition x ##e ##x ##xa ##you are sick or have respiratory symptoms such as cough or short ##ness of breath also contact your health care provider we advise all pregnant clients to consult their treating doctor or healthcare provider before booking a pre ##nat ##al massage to implement social di ##stan ##cing we ask that all clients come alone for their appointment and bring in as few items as possible you should stay home if x ##e ##x ##xa ##you have been told by a health care professional to self ##qua ##rant ##ine x ##e ##x ##xa ##you believe you have been exposed to the virus even if you are not showing any symptoms these guidelines are based on principles of hygiene common sense and consensus guidance massage therapy is not merely a luxury but can actually function as an important part of a comprehensive therapeutic treatment plan in ##qui ##re about the recommended number of massage treatments required to achieve results the total cost of treatment as we navigate life with additional requirements and modify existing measures due to the corona ##virus please help us to support all clients by cooper ##ating with some new requirements we may ask you to wait in your vehicle and wait for our text to enter the building to avoid contact with other clients countless studies have revealed that massage is highly effective for the relief of a variety of physical and psychological conditions when carried out by a licensed and professionally trained practitioner please cancel your appointment with hours of your scheduled service if you are experiencing any of the symptoms above x ##e ##x ##xa we will communicate [SEP] \n",
      " \u001b[32mlabel = services \u001b[31mpredicted = health\u001b[0m\n",
      "****************************************************************************************************\n",
      "[CLS] learn more about our shipping most orders ship the next business day via fed ##ex or us ##ps please allow days for shipping co ##vid updates log ##in cart free ground shipping on all orders of or more we make our products in madison wi and ship them from here as well sar ##is know no bounds bike racks bike trainers sar ##is select your country united states canada usa free shipping over find a dealer log ##in cart bike racks bike racks trunk bike racks hitch bike racks specialty bike racks bike storage ceiling system wall systems floor and free ##standing bike parking and cycling infrastructure accessories trunk rack hitch rack specialty rack style resources bike racks compare bike racks hitch rack fit guide fit my vehicle find a dealer replacement parts bike racks bike storage rack accessories replacement parts bike racks compare bike racks hitch rack fit guide fit your vehicle bike trainers bike trainers smart trainers basic trainers roller ##s accessories premium trainer ##roller replacement parts style technology n ##fin ##ity indoor cycling apps resources bike trainers compare bike trainers firm ##ware find a dealer bike trainers trainer accessories replacement parts n ##fin ##ity technology indoor cycling apps bike trainers compare bike trainers firm ##ware bike infrastructure support product manual ##s instructional videos shipping delivery returns exchanges product registration international distribution support center warrant ##y contact us product manual ##s instructional videos shipping and delivery returns and exchanges product registration international distribution support center warrant ##y contact us this is sar ##is about us made in the usa advocacy teams join our newsletter sar ##is in the news check out our blog about us made in the usa teams and advocacy join our newsletter sar ##is in the news check out our blog we ##x [SEP] \n",
      " \u001b[32mlabel = entertainment \u001b[31mpredicted = services\u001b[0m\n",
      "****************************************************************************************************\n",
      "[CLS] quick process to get in and take care of business they are able to provide a highly specialized level of service steve is wonderful to work with they are honest and do an exceptional job maintaining the facility and taking care of their customers making you feel like family we often adjust our customers ##x ##e ##x ##x rental rates to keep up with the rising costs associated with providing top ##not ##ch service and a clean secure facility we also have units with convenient features like indoor access first ##fl ##oor access elevator access and more she is a perfect sample of excellent customer service it took us units and two weekends to take care of the division were committed to providing excellent service and were glad steve was able to help with your storage needs stop by the office if you need anything you can even store a desk or extra office equipment customers should inspect the actual unit to be rented before signing a rental agreement and should base the decision to rent on the inspection of the unit and not on the advertised unit size rent ##ing a storage unit this size could help you free up a cl ##uttered spare room or store seasonal items we work hard to meet the expectations of our customers and were happy to hear we hit the mark for you let us know if we can do anything else to assist with your storage needs our friendly professional staff will go above and beyond to ensure your needs are met and our facility is always clean secure and well ##main ##tained they take the time to get to know you this space is a great way to keep your things safe secure and clean its like having [SEP] \n",
      " \u001b[32mlabel = entertainment \u001b[31mpredicted = services\u001b[0m\n",
      "****************************************************************************************************\n"
     ]
    }
   ],
   "source": [
    "find_wrongs(cat2, model2)"
   ]
  },
  {
   "cell_type": "code",
   "execution_count": 93,
   "metadata": {},
   "outputs": [
    {
     "name": "stdout",
     "output_type": "stream",
     "text": [
      "[CLS] free shipping sam ##s club plus members with an active membership shipping to the contiguous us receive free shipping on all eligible online items denoted by a free shipping tag free shipping for plus members is not available for drop ship res ##eller ##s you can also manage your membership and check in for your pickup orders all with a tap travel savings access exclusive discount ##s on movie tickets major shows and events and theme parks in all of the hottest destinations club members can add up to at this exclusive price and plus members can add up to these members will enjoy all the per ##ks that a ##cl ##ub membership includes renew now select plus select club best value plus membership become a plus member club membership earn cash rewards get back on qualifying purchases up to ##year exclusion ##s apply see details included early shopping get in before the crowds as early as am mon sat included instant savings extra offers on top of already low members ##on ##ly prices see terms included included sam ##s club master ##card eligible to earn back on gas on dining and travel and on other purchases up to per year see terms included included pay less at the pump get member ##ex ##clusive prices on fuel items that do not have a free shipping tag or don ##t say free shipping for plus are not eligible for free shipping well give you a complete ref ##und need to stock up on ice cream or frozen ve ##gg ##ies free shipping is available for online items only get all the per ##ks of a club membership as well as cash rewards get back on qualifying purchases ##up to ##year maximize your savings by taking advantage of these additional [SEP] \n",
      " \u001b[32mlabel = health \u001b[31mpredicted = entertainment\u001b[0m\n",
      "****************************************************************************************************\n",
      "[CLS] buy a gift card let us get it home find open stores fresh ideas for the outdoors get inspired see what ##s new find open stores get inspired by amazing finds in your favorite stores weekend ##week ##day ##stor ##ele ##ng ##th ##page ##view ##app ##version ##q ##nb ##uil ##dda ##te utc ##pu ##bl ##ish ##date utc ##wind ##ow ##do ##cum ##ent home ##good ##s official site unique selection unbelievable prices skip to main content shop shop shop find a store find a store find a store t ##j ##x rewards credit card buy a gift card by email by mail for business buy a gift card by email by mail for business find a store about us read the blog download the app a message from t ##j ##x chief executive officer and president ernie herr ##man close a message on racial injustice a message from our ceo health wellness practices updates on our stores we miss you and can ##t wait to see you find open stores enter zip code or city and state go map view list view close ref ##resh for less find open stores more to love see rewards program terms for details home ##good ##s gift cards give the joy of finding nl ##base ##path ##nt ##his ##sett ##ings ##ini ##tv ##ars ##thi ##sse ##tv ##ars ##nu ##ll ##nu ##ll ##thi ##sse ##tting ##sin ##it ##var ##sl ##load ##script ##nl ##bin ##dt ##his ##ons ##code ##loaded ##thi ##st ##his ##ini ##tial ##izing ##els ##e this ##ini ##tial ##izing ##thi ##sp ##oll ##for ##sc ##get ##sf ##un ##ction ##t ##n ##var inn ##hos ##t ##name ##elo ##cation ##hos ##t ##name ##athi ##sco ##nca ##t ##with ##to ##ol ##var ##bin ##ding ##s ##nn ##set ##var ##st ##his ##var ##bin ##ding ##sr ##nna ##dd ##eve [SEP] \n",
      " \u001b[32mlabel = services \u001b[31mpredicted = entertainment\u001b[0m\n",
      "****************************************************************************************************\n",
      "[CLS] paint store in las vegas n ##v dunne ##d ##ward ##s paints skip to main content menu home products color inspiration how to about us directory design blog pro resources exquisite ##x ##e ##x ##xa for customers painting contractors architects designers builders developers community property managers education government agencies dealers student designers shop now select shopping experience to find products and pricing consumers professionals overview find a stored ##eal ##er store list dealer list find a paint pro directory x ##e ##x ##xa store list paint store in las vegas n ##v city las vegas store summer ##lin w lake mead b ##l ##vd las vegas n ##v google map email store make this my local store download pdf services prof color advisor prof color advisor free color consultation with a professional color advisor open days open days store open mondays ##unda ##y spanish spoken spanish spoken se ha ##bla es ##pa ##x ##c ##x ##b ##ol store hours monday am pm tuesday am pm wednesday am pm thursday am pm friday am pm saturday am pm sunday am pm check out dunne ##d ##ward ##s paints on ye ##lp nearby stores store bermuda dunes bermuda dunes ca country club dr bermuda dunes ca google map email store prof color advisor prof color advisor free color consultation with a professional color advisor spanish spoken spanish spoken se ha ##bla es ##pa ##x ##c ##x ##b ##ol view details store cathedral city cathedral city ca perez rd cathedral city ca google map email store prof color advisor prof color advisor free color consultation with a professional color advisor industrial tin ##ting industrial tin ##ting industrial product tin ##ting available spanish spoken spanish spoken se ha ##bla es ##pa ##x ##c ##x ##b ##ol view details store ant ##elo ##pe [SEP] \n",
      " \u001b[32mlabel = entertainment \u001b[31mpredicted = services\u001b[0m\n",
      "****************************************************************************************************\n",
      "[CLS] web ##con ##fi ##g configuration file configuration system ##we ##b customer ##ror ##s mode ##off system ##we ##b configuration notes the current error page you are seeing can be replaced by a custom error page by modifying the default ##red ##ire ##ct attribute of the applications customer ##ror ##s configuration tag to point to a custom error page ur ##l it could however be viewed by browser ##s running on the local server machine details to enable the details of this specific error message to be view ##able on remote machines please create a customer ##ror ##s tag within a web ##con ##fi ##g configuration file located in the root directory of the current web application run ##time error server error in application run ##time error description an application error occurred on the server web ##con ##fi ##g configuration file configuration system ##we ##b customer ##ror ##s mode ##rem ##ote ##on ##ly default ##red ##ire ##ct ##my ##cus ##tom ##page ##ht ##m system ##we ##b configuration this customer ##ror ##s tag should then have its mode attribute set to off the current custom error settings for this application prevent the details of the application error from being viewed remotely for security reasons [SEP] [PAD] [PAD] [PAD] [PAD] [PAD] [PAD] [PAD] [PAD] [PAD] [PAD] [PAD] [PAD] [PAD] [PAD] [PAD] [PAD] [PAD] [PAD] [PAD] [PAD] [PAD] [PAD] [PAD] [PAD] [PAD] [PAD] [PAD] [PAD] [PAD] [PAD] [PAD] [PAD] [PAD] [PAD] [PAD] [PAD] [PAD] [PAD] [PAD] [PAD] [PAD] [PAD] [PAD] [PAD] [PAD] [PAD] [PAD] [PAD] [PAD] [PAD] [PAD] [PAD] [PAD] [PAD] [PAD] [PAD] [PAD] [PAD] [PAD] [PAD] [PAD] [PAD] [PAD] [PAD] [PAD] [PAD] [PAD] [PAD] [PAD] [PAD] [PAD] [PAD] [PAD] [PAD] [PAD] [PAD] [PAD] [PAD] [PAD] [PAD] [PAD] [PAD] [PAD] [PAD] [PAD] [PAD] [PAD] [PAD] [PAD] [PAD] [PAD] [PAD] [PAD] [PAD] [PAD] [PAD] \n",
      " \u001b[32mlabel = food \u001b[31mpredicted = services\u001b[0m\n",
      "****************************************************************************************************\n",
      "[CLS] read why people love massage heights thank you our treatments are meant as more than just a luxury they are designed to el ##eva ##te your everyday ##x ##e ##x ##xa when you take care of your body physically and mentally you are able to accomplish even more in your day ##to ##day routine membership experience the many privileges of a massage heights lifestyle program we are proud to offer a wide assortment of massage and skin therapy treatments customized for your needs throughout cornelius book now el ##eva ##te your everyday reduce stress improve sleep boost your immunity and el ##eva ##te your everyday ##x ##e ##x ##xa lifestyle with custom treatments north cove road cornelius nc north cove road cornelius nc locations massage facial ##s aroma ##therapy careers membership ##s blog franchise download copyright privacy policy site map accessibility statement terms of use regular massage therapy offers a number of benefits some of which include increased relaxation a greater range of motion and reduced pain and muscle tension find out more about how our massage therapist ##s in jett ##on village can re ##ener ##gi ##ze your life when you book today learn more membership learn more book now book now massage therapy and facial treatments in cornelius enhancing your life through self ##care we all strive to maintain a healthy lifestyle despite our busy schedules scheduling regular massage and skin therapy treatments with massage heights jett ##on village can help you on your journey to wellness reviews we are committed to providing the best experience to our guests massage therapy in cornelius massage heights ##x ##c ##xa ##e open accessibility menu skip to content skip to menu increase text size clear all hide your location massage heights jett ##on village change location book now massage [SEP] \n",
      " \u001b[32mlabel = services \u001b[31mpredicted = health\u001b[0m\n",
      "****************************************************************************************************\n",
      "[CLS] akron general health and wellness center st ##ow medical office building st ##ow cleveland clinic corona ##virus updated visitor restrictions increased safety measures co ##vid testing my ##cha ##rt need help giving careers search search cleveland clinic menu cleveland ##cl ##ini ##cor ##g find a doctor locations directions patients visitors health library institutes departments appointments access my ##cha ##rt need help call for additional assistance cleveland ##cl ##ini ##cor ##g find a doctor locations directions patients visitors health library institutes departments appointments access home find a location directions akron general health and wellness center st ##ow medical office building st ##ow allen rd st ##ow ohio call driving directions home ##page hours of operation hours of operation facility emergency services imaging sunday closed monday am pm tuesday am pm wednesday am pm thursday am pm friday am pm saturday am noon laboratory sunday closed monday am pm tuesday am pm wednesday am pm thursday am pm friday am pm saturday am am ma ##mm ##ography appointment needed sunday closed monday am pm tuesday am pm wednesday am pm thursday am pm friday am pm saturday am noon please call for days available sports and or ##th ##o injury care sunday closed monday am pm tuesday am pm wednesday am pm thursday am pm friday am pm saturday closed special ##ties special ##ties breast health center cancer card ##iology cardiovascular concussion emergency departments gas ##tro ##enter ##ology heart vascular hem ##ato ##logy lifestyle ##s fitness program medical on ##cology nutrition services ob ##ste ##trics g ##yne ##cology occupational therapy or ##th ##opa ##ed ##ic services physical therapy pod ##ia ##try primary care psychiatry psychology pulmonary rehabilitation respiratory r ##he ##uma ##tology spine health sports health wellness call driving directions home ##page facebook twitter youtube ins ##tagram linked ##in pin [SEP] \n",
      " \u001b[32mlabel = entertainment \u001b[31mpredicted = health\u001b[0m\n",
      "****************************************************************************************************\n"
     ]
    },
    {
     "name": "stdout",
     "output_type": "stream",
     "text": [
      "[CLS] news events ma ##mm ##og ##ram screenings near you in july august posted tuesday june at ##pm by mm ##ilde metro ##hea ##lth and discount drug mart are making it easy for you to receive ax ##c ##xa ##pre ##vent ##ative ma ##mm ##og ##ram at metro ##hea ##lth ##x ##e ##x ##x ##s ma ##mm ##ography coach more coloring corner posted monday march at ##pm by mm ##ilde looking for something to help pass the time with the kids being home coloring is a great outlet for kids more metro ##hea ##lth walk ##in clinic posted thursday march at ##am by mm ##ilde clinic update the clinic at our independence location br ##eck ##sville rd medical equipment services we are caring people for caring people all rights reserved discount drug mart store lo ##cat ##or weekly ads choose your search criteria all departments products medical equipment supplies close ##outs health needs beauty products food beverage ##non alcoholic household domestic ##so ##ft goods variety ##sund ##ries books ##pet ##s electronic ##ph ##oto beverages ##al ##co ##hol ##ic dairy produce meat seafood del ##i cafe bakery pro point prizes generic prescription ##s movie rental ##s programs promotions search log ##in sign ##up my store menu our store store lo ##cat ##or senior savings weekly ads courtesy plus card pro points our history our services gift cards esa ##ving ##s coup ##ons test ##imo ##nia ##ls product catalog pharmacy generic prescription ##s sync your med ##s auto pre ##fi ##ll ##re ##fi ##ll fa ##q ##s ref ##ill ##stra ##ns ##fers im ##mun ##izations get well wishes manage ref ##ill pre ##fi ##ll reminder ##s medicare information pet medication na ##lo ##xon ##e na ##rca ##n phi release form healthcare professional medical equipment services metro ##hea ##lth at discount drug [SEP] \n",
      " \u001b[32mlabel = services \u001b[31mpredicted = health\u001b[0m\n",
      "****************************************************************************************************\n",
      "[CLS] if you buy your tools anywhere else your ##e throwing your money away so our tools will go toe ##to ##to ##e with the top professional brands harbor freight tools x ##e ##x ##x quality tools at discount prices since find your local harbor freight store mobile menu button all departments all departments power tools hand tools air tools compressor ##s tool storage organization automotive engines generators home outdoor welding plumbing electrical hardware material handling building construction painting safety lighting new items clearance gift cards join inside track club giving back monthly deals get coup ##ons order status my account contact us my account mini cart search submit search loading request a free coup ##on book today free coup ##ons exclusive offers future sales hundreds of una ##d ##vert ##ised deals its just that simple store find ##er order status harbor freight credit card customer service contact us order status shipping delivery manage credit card return policy extended service protection recall safety about us our story careers real estate giving back connect with harbor freight tools facebook youtube twitter ins ##tagram pin ##ter ##est linked ##in how we sell great tools at the lowest prices we have invested millions of dollars in our own test labs and factories for california consumers more information about our privacy practices sub ##scribe sign ##up for free coup ##ons to your in ##box enter email enter email sign up helpful links need help no has ##sle return policy satisfaction guaranteed security privacy do not sell my info terms conditions ca transparency in supply chains act supplier code of conduct copyright x ##c ##xa harbor freight tools for any difficulty using this site with a screen reader or because of a disability please contact us at or cs ##har ##bor ##fr ##ei ##ght [SEP] \n",
      " \u001b[32mlabel = entertainment \u001b[31mpredicted = services\u001b[0m\n",
      "****************************************************************************************************\n",
      "[CLS] reference to any specific service or trade mark is not controlled by se ##do nor does it constitute or imply its association endorsement or recommendation privacy policy vegas ##car ##pet ##ware ##house ##com n ##bs ##p ##ve ##gas ##car ##pet ##ware ##house resources and information if you owned this domain contact your domain registration service provider for further assistance this domain has expired disc ##lai ##mer se ##do maintains no relationship with third party ad ##vert ##iser ##s if you need help identifying your provider visit https ##w ##w ##wt ##uc ##ows ##dom ##ains ##com vegas ##car ##pet ##ware ##house ##com this web ##page was generated by the domain owner using se ##do domain parking [SEP] [PAD] [PAD] [PAD] [PAD] [PAD] [PAD] [PAD] [PAD] [PAD] [PAD] [PAD] [PAD] [PAD] [PAD] [PAD] [PAD] [PAD] [PAD] [PAD] [PAD] [PAD] [PAD] [PAD] [PAD] [PAD] [PAD] [PAD] [PAD] [PAD] [PAD] [PAD] [PAD] [PAD] [PAD] [PAD] [PAD] [PAD] [PAD] [PAD] [PAD] [PAD] [PAD] [PAD] [PAD] [PAD] [PAD] [PAD] [PAD] [PAD] [PAD] [PAD] [PAD] [PAD] [PAD] [PAD] [PAD] [PAD] [PAD] [PAD] [PAD] [PAD] [PAD] [PAD] [PAD] [PAD] [PAD] [PAD] [PAD] [PAD] [PAD] [PAD] [PAD] [PAD] [PAD] [PAD] [PAD] [PAD] [PAD] [PAD] [PAD] [PAD] [PAD] [PAD] [PAD] [PAD] [PAD] [PAD] [PAD] [PAD] [PAD] [PAD] [PAD] [PAD] [PAD] [PAD] [PAD] [PAD] [PAD] [PAD] [PAD] [PAD] [PAD] [PAD] [PAD] [PAD] [PAD] [PAD] [PAD] [PAD] [PAD] [PAD] [PAD] [PAD] [PAD] [PAD] [PAD] [PAD] [PAD] [PAD] [PAD] [PAD] [PAD] [PAD] [PAD] [PAD] [PAD] [PAD] [PAD] [PAD] [PAD] [PAD] [PAD] [PAD] [PAD] [PAD] [PAD] [PAD] [PAD] [PAD] [PAD] [PAD] [PAD] [PAD] [PAD] [PAD] [PAD] [PAD] [PAD] [PAD] [PAD] [PAD] [PAD] [PAD] [PAD] [PAD] [PAD] [PAD] [PAD] [PAD] [PAD] [PAD] [PAD] [PAD] [PAD] [PAD] [PAD] [PAD] [PAD] [PAD] [PAD] [PAD] [PAD] [PAD] [PAD] [PAD] [PAD] [PAD] [PAD] [PAD] [PAD] [PAD] [PAD] [PAD] \n",
      " \u001b[32mlabel = services \u001b[31mpredicted = entertainment\u001b[0m\n",
      "****************************************************************************************************\n",
      "[CLS] eye doctors of arizona phoenix az op ##ht ##hal ##mo ##logists would you like to switch to the accessible version of this site hide the accessibility button close mod ##al window accessibility view close tool ##bar java ##script must be enabled for the correct page display html menu home new patient center online forms payments options about us meet the doctors meet the staff virtual office tour physician affiliation ##s services pediatric eye exams tri ##fo ##cal lenses bi focal lenses no line lenses las ##ik ##pr ##k las ##ik fa ##q ##s op ##ht ##hal ##mology eye vision exams eye exams fa ##q ##s eye surgery contact lens exams picking the right frames hard to fit contacts computer vision computer vision fa ##q ##s sunglasses contact lenses contact lens fa ##q ##s as ##ti ##gm ##ati ##sm contact lenses bi ##fo ##cal contact lenses di ##sp ##osa ##ble contact lenses custom made contact lenses sc ##ler ##al contact lenses colored contact lenses op ##ht ##hal ##mology b ##le ##pha ##rop ##las ##ty eye conditions b ##le ##pha ##rit ##is blue light blocking lenses blur ##ry vision g ##lau ##com ##a dia ##bet ##ic eye disease hard to fit contact lenses low vision low vision fa ##q ##s my ##op ##ia pre ##sby ##op ##ia as ##ti ##gm ##ati ##sm dry eye treatment mac ##ular de ##gen ##eration cat ##ara ##cts contact us downtown location north phoenix location bi ##lt ##more location products blog community content eye ##glass ##es basic visual skills all about eyes protecting your eyes visual rehabilitation pediatric vision issues glasses contact lenses common eye conditions vision impairment eye lids age ##rel ##ated injury irritation changes in appearance cognitive and acquired vision problems eye symptoms eye diseases a child ##s vision what is vision therapy [SEP] \n",
      " \u001b[32mlabel = entertainment \u001b[31mpredicted = health\u001b[0m\n",
      "****************************************************************************************************\n",
      "[CLS] x ##c ##xa ##as a family owned and operated business we want to extend our gratitude to all of our loyal customers who have supported us through out the years x ##c ##xa ##our acre show yard is filled with a wide variety of plant material ranging from annual color to boxes we offer a wide variety of products ranging from annual color herbs shrubs trees and citrus as well as a full line of fe ##rti ##lizer ##s fungi ##cide ##s and pest ##icides garden and home decor can be found on at the yard sale at linden tree nursery linden tree nursery linden tree nursery facebook search linden tree nursery home hours of operation our staff contact us linden tree pricing navigation home linden tree nursery is an established nursery and garden center that has been serving the west valley for over years categories news weekly update linden tree nursery facebook copyright linden tree nursery theme by theme horse powered by word ##press back to top in x ##c ##xa ##our sales office was moved from our original growing yard into ##x ##c ##xa ##our new location to focus more on our retail customers and to provide a truly unique experience while shopping at our garden center x ##c ##xa ##pro ##du ##cts at the yard sale range from antiques to gardening supplies and everything in between x ##c ##xa ##lind ##en tree nursery still has a acre growing yard where we grow our own plant material [SEP] [PAD] [PAD] [PAD] [PAD] [PAD] [PAD] [PAD] [PAD] [PAD] [PAD] [PAD] [PAD] [PAD] [PAD] [PAD] [PAD] [PAD] [PAD] [PAD] [PAD] [PAD] [PAD] [PAD] [PAD] [PAD] [PAD] [PAD] [PAD] [PAD] [PAD] [PAD] [PAD] [PAD] [PAD] [PAD] [PAD] [PAD] [PAD] [PAD] [PAD] [PAD] [PAD] [PAD] [PAD] [PAD] [PAD] [PAD] [PAD] [PAD] \n",
      " \u001b[32mlabel = entertainment \u001b[31mpredicted = services\u001b[0m\n",
      "****************************************************************************************************\n"
     ]
    },
    {
     "name": "stdout",
     "output_type": "stream",
     "text": [
      "[CLS] hair care sham ##poo condition ##er salon hair care wavy curly coil ##y shop hair care sale on hair care more facial skin care moist ##uri ##zers natural organic skin care skin care for men shop facial skin care sale on facial skin care more sun care suns ##creen for body suns ##creen for face suns ##creen for children shop sun care sale on sun care more fragrance women ##s fragrance men ##s fragrance gift sets shop fragrance sale on fragrance more bath body body cleansing body moist ##uri ##zer hand moist ##uri ##zer shop bath body sale on bath body more birch ##box at wal ##gree ##ns beauty gift sets nails accessories and clothing for men natural organic beauty shop beauty sale on beauty new beauty beauty supplements weekly deals on beauty luxury beauty store no beauty store soap glory beauty store personal care hair care sham ##poo condition ##er salon hair care wavy curly coil ##y shop hair care sale on hair care more inc ##ont ##inen ##ce pads liner ##s protective underwear briefs cloth ##s wipe ##s shop inc ##ont ##inen ##ce sale on inc ##ont ##inen ##ce more your health care provider will need to call the pharmacy for the fa ##x number va ##cci ##nation ##s schedule an appointment or walk in flu pneumonia td ##ap see all va ##cci ##nation ##s at this store opens a simulated over ##lay other pharmacy services feel more like you cancer service feel more like you is a free ins ##tore service to help you manage cancer treatment side effects with the support of our specially trained beauty consultants and ph ##arm ##ac ##ists laundry cleaning laundry cleaner ##s cleaning equipment shop laundry cleaning sale on laundry cleaning more pet dogs cats small pets shop pet [SEP] \n",
      " \u001b[32mlabel = entertainment \u001b[31mpredicted = services\u001b[0m\n",
      "****************************************************************************************************\n",
      "[CLS] jeremy has taught plenty of talent ranging from rock stars pop stars actors speakers an x factor winner euro vision contestants and celebrities ##x ##c ##xa a past vip certified instructor and formerly trained level speech level singing teacher with experience in recording and performance jeremy ##x ##e ##x ##x ##s background in psychology and vast knowledge of the music industry ##tech ##nology has made him one of the most sought after instructors in the usa and europe check available lesson times convenient reliable and fast clients that work with me can schedule even when they ##re touring traveling or living elsewhere he has a proven track record of success with his students and knows how to handle difficult vocal challenges he has a proven track record of success with his students and knows how to handle difficult vocal challenges samantha travels an hour one way for her lessons vocal health acting speaking need help speaking or working iv ##e worked with teachers all over the world and i would not hesitate to recommend jeremy to any singer looking to improve vocal ##ly and find success in their voice iv ##e worked with teachers all over the world and i would not hesitate to recommend jeremy to any singer looking to improve vocal ##ly and find success in their voice i teach the tools to make it simpler and easier to do christopher talking about his experience with lessons nina pu ##x ##c ##xa ##lar x ##e ##x ##x professional singer start now x ##c ##x ##bb learn the same exact vocal technique that has helped recording artists win over grammy awards all rights reserved dem ##et ##ra mala ##lan x factor winner slovenia europe private singing lessons need help with your voice studio work performances singing through [SEP] \n",
      " \u001b[32mlabel = entertainment \u001b[31mpredicted = services\u001b[0m\n",
      "****************************************************************************************************\n",
      "[CLS] red rock canyon las vegas nevada driving directions fees passes home plan a visit fees passes visitor information hike ##s trails geology highlights weather information hike ##s trails events event calendar upcoming events list programs red rock canyon a to z wildlife wednesday flower friday jackson the red rock canyon burr ##o tor ##to ##ise habitat artist in residence program shop about contact us news our mission opportunities fa ##q home plan a visit fees passes visitor information hike ##s trails geology highlights weather information hike ##s trails events event calendar upcoming events list programs red rock canyon a to z wildlife wednesday flower friday jackson the red rock canyon burr ##o tor ##to ##ise habitat artist in residence program shop about contact us news our mission opportunities fa ##q join southern nevada con ##ser ##van ##cy our enduring commitment is to connect current and future generations to some of the most majestic public lands including red read more co ##vid closure information update the bureau of land management expanded the scenic drive daily operation hours on june the ##mi ##le read more red rock canyon virtual hike ##s red rock canyon provides visitors a virtual way to enjoy hiking trails in the national conservation area fees passes visit red rock canyon hike ##s trails x ##e ##x ##x round ##trip distances times fees passes visitor information shop event calendar fa ##q operating hours please visit this page for current operating hours facilities a virtual hike read more jackson the red rock canyon burr ##o meet jackson our jo ##vial and witty adopted burr ##o jackson is a formerly ##wil ##d burr ##o who was adopted from the red rock read more visitor information the red rock canyon national conservation area rr ##c ##nca is located just a [SEP] \n",
      " \u001b[32mlabel = services \u001b[31mpredicted = entertainment\u001b[0m\n",
      "****************************************************************************************************\n",
      "[CLS] ##ele ##ven your got ##o convenience store for food drinks fuel more skip to main content account sign out welcome back ##rew ##ards points available register primary ##men ##u ##rew ##ards ##x ##c ##xa ##e food hot foods healthy choices sandwiches bakery breakfast pizza snacks ice cream candy beverages coffee cold pressed juice ##s beer wine energy shots drinks big gulp sl ##ur ##pee ##x ##c ##xa ##e money get stimulus ready financial services gift cards ##now ##x ##e ##x ##xa delivery close ##ele ##ven find a store account or enter find a store close sign in earn points on every purchase with ##rew ##ards skip the line with mobile scan pay and get delivery in select areas with ##now account id email address password show password forgot password log ##in with facebook or register close primary ##men ##u ##rew ##ards ##x ##c ##xa ##e food hot foods healthy choices sandwiches bakery breakfast pizza snacks ice cream candy beverages coffee cold pressed juice ##s beer wine energy shots drinks big gulp sl ##ur ##pee ##x ##c ##xa ##e money get stimulus ready financial services gift cards ##now ##x ##e ##x ##xa delivery hi only with the ##now app ##x ##e ##x ##x ##ba order now only at ##ele ##ven get ready for government stimulus order your trans ##ct prep ##aid master ##card card issued by meta ##bank member f ##dic order a card shop safe ##ele ##ven stores are remaining open for you to shop safely card issued by meta ##bank member f ##dic order a card shop safe ##ele ##ven stores are remaining open for you to shop safely card issued by meta ##bank member f ##dic order a card locations yes we ##x ##e ##x ##x ##re open street city state or zip my nearest ##ele [SEP] \n",
      " \u001b[32mlabel = services \u001b[31mpredicted = food\u001b[0m\n",
      "****************************************************************************************************\n",
      "[CLS] discover the endless ways to connect by bike shop bike racks discover the endless ways to connect by bike shop bike racks bike racks bike trainers bike infrastructure check out our blog fit my vehicle teams and advocacy find a dealer contact us support center careers shipping delivery returns exchanges product registration news co ##vid updates log ##in cart free ground shipping on all orders of or more we make our products in madison wi and ship them from here as well sar ##is know no bounds bike racks bike trainers sar ##is select your country united states canada usa free shipping over find a dealer log ##in cart bike racks bike racks trunk bike racks hitch bike racks specialty bike racks bike storage ceiling system wall systems floor and free ##standing bike parking and cycling infrastructure accessories trunk rack hitch rack specialty rack style resources bike racks compare bike racks hitch rack fit guide fit my vehicle find a dealer replacement parts bike racks bike storage rack accessories replacement parts bike racks compare bike racks hitch rack fit guide fit your vehicle bike trainers bike trainers smart trainers basic trainers roller ##s accessories premium trainer ##roller replacement parts style technology n ##fin ##ity indoor cycling apps resources bike trainers compare bike trainers firm ##ware find a dealer bike trainers trainer accessories replacement parts n ##fin ##ity technology indoor cycling apps bike trainers compare bike trainers firm ##ware bike infrastructure support product manual ##s instructional videos shipping delivery returns exchanges product registration international distribution support center warrant ##y contact us product manual ##s instructional videos shipping and delivery returns and exchanges product registration international distribution support center warrant ##y contact us this is sar ##is about us made in the usa advocacy teams join our newsletter sar ##is [SEP] \n",
      " \u001b[32mlabel = entertainment \u001b[31mpredicted = services\u001b[0m\n",
      "****************************************************************************************************\n"
     ]
    },
    {
     "name": "stdout",
     "output_type": "stream",
     "text": [
      "[CLS] storage units in phoenix az at e green ##way p ##k ##wy extra space storage find storage storage types self storage vehicle storage rv storage car storage boat storage business storage climate controlled support contact us size guide self storage tips self storage fa ##q packing supplies moving guides company info about us employment investor relations party management self storage blog my account sign in update account pay bill customer sign in search home find self storage arizona phoenix e green ##way p ##k ##wy find the right storage search other locations near you why i chose extra space storage watch the video the extra space storage difference size we offer a rights ##ize guarantee you can change your selected size at the facility to best meet your storage needs unit details unit pricing is based on unique features such as location and other amenities promotions with a specific time period such as first month free are based on your rental start date so you receive the maximum benefit from the offer sorry the specific unit you selected is no longer available please select a different unit please select different filter options or clear all filters to see available units most popular sizes we don ##t currently have units that match this criteria select select see all other available sizes all other available sizes we don ##t currently have units that match this criteria please check at a nearby facility or call for assistance size help x small climate controlled indoor floor access ins ##tore web rate act fast unit left rent ##ing a storage unit this size could help you free up a cl ##uttered spare room or store seasonal items most units have eight foot ceilings so a little space goes a long way if your [SEP] \n",
      " \u001b[32mlabel = entertainment \u001b[31mpredicted = services\u001b[0m\n",
      "****************************************************************************************************\n",
      "[CLS] x ##f ##x ##f ##x ##c ##x beauty insider join now shop rewards bazaar community profile join now purchase history track orders account settings sep ##hora credit card program apply now reservations flash color iq beauty traits beauty advisor recommendations loves list your basket is empty sign in to see items you may have added previously sign in see samples rewards and promotions in basket beauty store services in calgary sep ##hora chin ##ook centre re ##ord ##er track order find a store book a reservation search good evening call your local store for operating hours shop new brands gifts sale quiz ##zes community main my reservations find a sep ##hora happening at sep ##hora find a sep ##hora sep ##hora chin ##ook centre macleod trail sw calgary ab t ##h ##k ca get directions hours open today until ##pm mon fr ##i ##am ##pm sat sun ##pm ##pm for the health and safety of our clients and associates store hours may vary [SEP] [PAD] [PAD] [PAD] [PAD] [PAD] [PAD] [PAD] [PAD] [PAD] [PAD] [PAD] [PAD] [PAD] [PAD] [PAD] [PAD] [PAD] [PAD] [PAD] [PAD] [PAD] [PAD] [PAD] [PAD] [PAD] [PAD] [PAD] [PAD] [PAD] [PAD] [PAD] [PAD] [PAD] [PAD] [PAD] [PAD] [PAD] [PAD] [PAD] [PAD] [PAD] [PAD] [PAD] [PAD] [PAD] [PAD] [PAD] [PAD] [PAD] [PAD] [PAD] [PAD] [PAD] [PAD] [PAD] [PAD] [PAD] [PAD] [PAD] [PAD] [PAD] [PAD] [PAD] [PAD] [PAD] [PAD] [PAD] [PAD] [PAD] [PAD] [PAD] [PAD] [PAD] [PAD] [PAD] [PAD] [PAD] [PAD] [PAD] [PAD] [PAD] [PAD] [PAD] [PAD] [PAD] [PAD] [PAD] [PAD] [PAD] [PAD] [PAD] [PAD] [PAD] [PAD] [PAD] [PAD] [PAD] [PAD] [PAD] [PAD] [PAD] [PAD] [PAD] [PAD] [PAD] [PAD] [PAD] [PAD] [PAD] [PAD] [PAD] [PAD] [PAD] [PAD] [PAD] [PAD] [PAD] [PAD] [PAD] [PAD] [PAD] [PAD] [PAD] [PAD] [PAD] [PAD] [PAD] [PAD] [PAD] [PAD] [PAD] [PAD] [PAD] [PAD] [PAD] \n",
      " \u001b[32mlabel = entertainment \u001b[31mpredicted = services\u001b[0m\n",
      "****************************************************************************************************\n",
      "[CLS] what can i do to help support the investigation you can pull the corresponding error log from your web server and submit it our support team cloud ##fl ##are ray id ##b ##b ##bb ##bc ##a your ip performance security by cloud ##fl ##are additional troubles ##hoot ##ing resources cloud ##fl ##are monitors for these errors and automatically investigates the cause please include the ray id which is at the bottom of this error page if you are a visitor of this website please try again in a few minutes there is an unknown connection issue between cloud ##fl ##are and the origin web server www ##bria ##ns ##mith ##ora ##ls ##urg ##ery ##com web server is returning an unknown error error ray id ##b ##b ##bb ##bc ##a utc web server is returning an unknown error you browser working seattle cloud ##fl ##are working www ##bria ##ns ##mith ##ora ##ls ##urg ##ery ##com host error what happened if you are the owner of this website there is an issue between cloud ##fl ##ares cache and your origin web server as a result the web page can not be displayed [SEP] [PAD] [PAD] [PAD] [PAD] [PAD] [PAD] [PAD] [PAD] [PAD] [PAD] [PAD] [PAD] [PAD] [PAD] [PAD] [PAD] [PAD] [PAD] [PAD] [PAD] [PAD] [PAD] [PAD] [PAD] [PAD] [PAD] [PAD] [PAD] [PAD] [PAD] [PAD] [PAD] [PAD] [PAD] [PAD] [PAD] [PAD] [PAD] [PAD] [PAD] [PAD] [PAD] [PAD] [PAD] [PAD] [PAD] [PAD] [PAD] [PAD] [PAD] [PAD] [PAD] [PAD] [PAD] [PAD] [PAD] [PAD] [PAD] [PAD] [PAD] [PAD] [PAD] [PAD] [PAD] [PAD] [PAD] [PAD] [PAD] [PAD] [PAD] [PAD] [PAD] [PAD] [PAD] [PAD] [PAD] [PAD] [PAD] [PAD] [PAD] [PAD] [PAD] [PAD] [PAD] [PAD] [PAD] [PAD] [PAD] [PAD] [PAD] [PAD] [PAD] [PAD] [PAD] [PAD] [PAD] [PAD] [PAD] [PAD] [PAD] [PAD] [PAD] [PAD] [PAD] [PAD] [PAD] [PAD] [PAD] \n",
      " \u001b[32mlabel = health \u001b[31mpredicted = services\u001b[0m\n",
      "****************************************************************************************************\n",
      "[CLS] royal touch detailing skip to content royal touch detailing menu home our services contact twitter facebook blog at word ##press ##com to find out more including how to control cookies see here cookie policy privacy cookies this site uses cookies by continuing to use this website you agree to their use [SEP] [PAD] [PAD] [PAD] [PAD] [PAD] [PAD] [PAD] [PAD] [PAD] [PAD] [PAD] [PAD] [PAD] [PAD] [PAD] [PAD] [PAD] [PAD] [PAD] [PAD] [PAD] [PAD] [PAD] [PAD] [PAD] [PAD] [PAD] [PAD] [PAD] [PAD] [PAD] [PAD] [PAD] [PAD] [PAD] [PAD] [PAD] [PAD] [PAD] [PAD] [PAD] [PAD] [PAD] [PAD] [PAD] [PAD] [PAD] [PAD] [PAD] [PAD] [PAD] [PAD] [PAD] [PAD] [PAD] [PAD] [PAD] [PAD] [PAD] [PAD] [PAD] [PAD] [PAD] [PAD] [PAD] [PAD] [PAD] [PAD] [PAD] [PAD] [PAD] [PAD] [PAD] [PAD] [PAD] [PAD] [PAD] [PAD] [PAD] [PAD] [PAD] [PAD] [PAD] [PAD] [PAD] [PAD] [PAD] [PAD] [PAD] [PAD] [PAD] [PAD] [PAD] [PAD] [PAD] [PAD] [PAD] [PAD] [PAD] [PAD] [PAD] [PAD] [PAD] [PAD] [PAD] [PAD] [PAD] [PAD] [PAD] [PAD] [PAD] [PAD] [PAD] [PAD] [PAD] [PAD] [PAD] [PAD] [PAD] [PAD] [PAD] [PAD] [PAD] [PAD] [PAD] [PAD] [PAD] [PAD] [PAD] [PAD] [PAD] [PAD] [PAD] [PAD] [PAD] [PAD] [PAD] [PAD] [PAD] [PAD] [PAD] [PAD] [PAD] [PAD] [PAD] [PAD] [PAD] [PAD] [PAD] [PAD] [PAD] [PAD] [PAD] [PAD] [PAD] [PAD] [PAD] [PAD] [PAD] [PAD] [PAD] [PAD] [PAD] [PAD] [PAD] [PAD] [PAD] [PAD] [PAD] [PAD] [PAD] [PAD] [PAD] [PAD] [PAD] [PAD] [PAD] [PAD] [PAD] [PAD] [PAD] [PAD] [PAD] [PAD] [PAD] [PAD] [PAD] [PAD] [PAD] [PAD] [PAD] [PAD] [PAD] [PAD] [PAD] [PAD] [PAD] [PAD] [PAD] [PAD] [PAD] [PAD] [PAD] [PAD] [PAD] [PAD] [PAD] [PAD] [PAD] [PAD] [PAD] [PAD] [PAD] [PAD] [PAD] [PAD] [PAD] [PAD] [PAD] [PAD] [PAD] [PAD] [PAD] [PAD] [PAD] [PAD] [PAD] [PAD] [PAD] [PAD] [PAD] [PAD] [PAD] [PAD] [PAD] [PAD] [PAD] [PAD] [PAD] [PAD] [PAD] [PAD] [PAD] [PAD] [PAD] [PAD] [PAD] \n",
      " \u001b[32mlabel = services \u001b[31mpredicted = food\u001b[0m\n",
      "****************************************************************************************************\n"
     ]
    }
   ],
   "source": [
    "find_wrongs(cat3, model3)"
   ]
  },
  {
   "cell_type": "code",
   "execution_count": null,
   "metadata": {},
   "outputs": [],
   "source": []
  }
 ],
 "metadata": {
  "kernelspec": {
   "display_name": "Python 3",
   "language": "python",
   "name": "python3"
  },
  "language_info": {
   "codemirror_mode": {
    "name": "ipython",
    "version": 3
   },
   "file_extension": ".py",
   "mimetype": "text/x-python",
   "name": "python",
   "nbconvert_exporter": "python",
   "pygments_lexer": "ipython3",
   "version": "3.7.6"
  }
 },
 "nbformat": 4,
 "nbformat_minor": 4
}
