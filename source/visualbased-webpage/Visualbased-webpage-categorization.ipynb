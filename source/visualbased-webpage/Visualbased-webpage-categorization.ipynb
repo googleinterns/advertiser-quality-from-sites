{
 "cells": [
  {
   "cell_type": "code",
   "execution_count": 170,
   "metadata": {},
   "outputs": [],
   "source": [
    "import os\n",
    "import sys\n",
    "import pandas as pd\n",
    "import numpy as np\n",
    "from tqdm import tqdm\n",
    "\n",
    "import requests\n",
    "from urllib.parse import urlsplit\n",
    "\n",
    "from selenium import webdriver\n",
    "from selenium.webdriver.support.ui import WebDriverWait\n",
    "from selenium.webdriver.support import expected_conditions as EC\n",
    "from selenium.webdriver.common.by import By\n",
    "from selenium.webdriver.chrome.options import Options\n",
    "from bs4 import BeautifulSoup\n",
    "from bs4 import Comment\n",
    "import re\n",
    "from langdetect import detect_langs\n",
    "\n",
    "import matplotlib.pyplot as plt\n",
    "import matplotlib.image as matimg\n",
    "\n",
    "from PIL import Image\n",
    "from io import BytesIO\n",
    "from imageio import imread\n",
    "\n",
    "import tensorflow as tf\n",
    "from tensorflow import keras\n",
    "from tensorflow.keras.applications.vgg16 import VGG16, preprocess_input, decode_predictions\n",
    "from tensorflow.keras.preprocessing.image import load_img, img_to_array\n",
    "\n",
    "from bert import BertModelLayer\n",
    "from bert.loader import StockBertConfig, map_stock_config_to_params, load_stock_weights\n",
    "from bert.tokenization.bert_tokenization import FullTokenizer\n",
    "\n",
    "from scipy.spatial import distance\n",
    "import uuid\n",
    "from pathlib import Path\n",
    "\n",
    "from process_websites import get_corpus\n",
    "#from process_websites import clean_categories\n",
    "\n",
    "W, H = 224, 224\n",
    "\n",
    "%matplotlib inline\n",
    "FOLDER_PATH = '/home/vahidsanei_google_com/'\n",
    "PATH_CHROME_DRIVER = '/home/vahidsanei_google_com/chromedriver/chromedriver'\n",
    "PATH_GECKO_DRIVER = '/home/vahidsanei_google_com/geckodriver/geckodriver'"
   ]
  },
  {
   "cell_type": "code",
   "execution_count": 2,
   "metadata": {},
   "outputs": [
    {
     "data": {
      "text/html": [
       "<div>\n",
       "<style scoped>\n",
       "    .dataframe tbody tr th:only-of-type {\n",
       "        vertical-align: middle;\n",
       "    }\n",
       "\n",
       "    .dataframe tbody tr th {\n",
       "        vertical-align: top;\n",
       "    }\n",
       "\n",
       "    .dataframe thead th {\n",
       "        text-align: right;\n",
       "    }\n",
       "</style>\n",
       "<table border=\"1\" class=\"dataframe\">\n",
       "  <thead>\n",
       "    <tr style=\"text-align: right;\">\n",
       "      <th></th>\n",
       "      <th>business_id</th>\n",
       "      <th>name</th>\n",
       "      <th>address</th>\n",
       "      <th>city</th>\n",
       "      <th>state</th>\n",
       "      <th>postal_code</th>\n",
       "      <th>latitude</th>\n",
       "      <th>longitude</th>\n",
       "      <th>stars</th>\n",
       "      <th>review_count</th>\n",
       "      <th>is_open</th>\n",
       "      <th>attributes</th>\n",
       "      <th>categories</th>\n",
       "      <th>hours</th>\n",
       "      <th>url</th>\n",
       "      <th>webpage_text</th>\n",
       "    </tr>\n",
       "  </thead>\n",
       "  <tbody>\n",
       "    <tr>\n",
       "      <th>0</th>\n",
       "      <td>f9NumwFMBDn751xgFiRbNA</td>\n",
       "      <td>The Range At Lake Norman</td>\n",
       "      <td>10913 Bailey Rd</td>\n",
       "      <td>Cornelius</td>\n",
       "      <td>NC</td>\n",
       "      <td>28031</td>\n",
       "      <td>35.462724</td>\n",
       "      <td>-80.852612</td>\n",
       "      <td>3.5</td>\n",
       "      <td>36</td>\n",
       "      <td>1</td>\n",
       "      <td>{'BusinessAcceptsCreditCards': 'True', 'BikePa...</td>\n",
       "      <td>Active Life, Gun/Rifle Ranges, Guns &amp; Ammo, Sh...</td>\n",
       "      <td>{'Monday': '10:0-18:0', 'Tuesday': '11:0-20:0'...</td>\n",
       "      <td>http://www.therangeatlakenorman.com/</td>\n",
       "      <td>&lt;html lang=\"en-US\"&gt;&lt;head&gt;\\n\\t&lt;meta charset=\"UT...</td>\n",
       "    </tr>\n",
       "    <tr>\n",
       "      <th>1</th>\n",
       "      <td>XNoUzKckATkOD1hP6vghZg</td>\n",
       "      <td>Felinus</td>\n",
       "      <td>3554 Rue Notre-Dame O</td>\n",
       "      <td>Montreal</td>\n",
       "      <td>QC</td>\n",
       "      <td>H4C 1P4</td>\n",
       "      <td>45.479984</td>\n",
       "      <td>-73.580070</td>\n",
       "      <td>5.0</td>\n",
       "      <td>5</td>\n",
       "      <td>1</td>\n",
       "      <td>NaN</td>\n",
       "      <td>Pets, Pet Services, Pet Groomers</td>\n",
       "      <td>NaN</td>\n",
       "      <td>http://www.felinus.ca</td>\n",
       "      <td>&lt;html xmlns=\"http://www.w3.org/1999/xhtml\" xml...</td>\n",
       "    </tr>\n",
       "    <tr>\n",
       "      <th>2</th>\n",
       "      <td>51M2Kk903DFYI6gnB5I6SQ</td>\n",
       "      <td>USE MY GUY SERVICES LLC</td>\n",
       "      <td>4827 E Downing Cir</td>\n",
       "      <td>Mesa</td>\n",
       "      <td>AZ</td>\n",
       "      <td>85205</td>\n",
       "      <td>33.428065</td>\n",
       "      <td>-111.726649</td>\n",
       "      <td>4.5</td>\n",
       "      <td>26</td>\n",
       "      <td>1</td>\n",
       "      <td>{'BusinessAcceptsCreditCards': 'True', 'ByAppo...</td>\n",
       "      <td>Home Services, Plumbing, Electricians, Handyma...</td>\n",
       "      <td>{'Monday': '0:0-0:0', 'Tuesday': '9:0-16:0', '...</td>\n",
       "      <td>https://www.usemyguyservices.com</td>\n",
       "      <td>&lt;html lang=\"en-US\" prefix=\"og: http://ogp.me/n...</td>\n",
       "    </tr>\n",
       "    <tr>\n",
       "      <th>3</th>\n",
       "      <td>cKyLV5oWZJ2NudWgqs8VZw</td>\n",
       "      <td>Oasis Auto Center - Gilbert</td>\n",
       "      <td>1720 W Elliot Rd, Ste 105</td>\n",
       "      <td>Gilbert</td>\n",
       "      <td>AZ</td>\n",
       "      <td>85233</td>\n",
       "      <td>33.350399</td>\n",
       "      <td>-111.827142</td>\n",
       "      <td>4.5</td>\n",
       "      <td>38</td>\n",
       "      <td>1</td>\n",
       "      <td>{'BusinessAcceptsCreditCards': 'True'}</td>\n",
       "      <td>Auto Repair, Automotive, Oil Change Stations, ...</td>\n",
       "      <td>{'Monday': '7:0-18:0', 'Tuesday': '7:0-18:0', ...</td>\n",
       "      <td>http://oasisautocenter.net</td>\n",
       "      <td>&lt;html lang=\"en-US\" prefix=\"og: http://ogp.me/n...</td>\n",
       "    </tr>\n",
       "    <tr>\n",
       "      <th>4</th>\n",
       "      <td>ScYkbYNkDgCneBrD9vqhCQ</td>\n",
       "      <td>Junction Tire &amp; Auto Service</td>\n",
       "      <td>6910 E Southern Ave</td>\n",
       "      <td>Mesa</td>\n",
       "      <td>AZ</td>\n",
       "      <td>85209</td>\n",
       "      <td>33.393885</td>\n",
       "      <td>-111.682226</td>\n",
       "      <td>5.0</td>\n",
       "      <td>18</td>\n",
       "      <td>1</td>\n",
       "      <td>{'BusinessAcceptsCreditCards': 'True', 'ByAppo...</td>\n",
       "      <td>Auto Repair, Oil Change Stations, Automotive, ...</td>\n",
       "      <td>{'Monday': '7:30-17:0', 'Tuesday': '7:30-17:0'...</td>\n",
       "      <td>http://junctiontire.net/tires-auto-repair-mesa-az</td>\n",
       "      <td>&lt;html lang=\"en\" style=\"\" class=\" js rgba multi...</td>\n",
       "    </tr>\n",
       "  </tbody>\n",
       "</table>\n",
       "</div>"
      ],
      "text/plain": [
       "              business_id                          name  \\\n",
       "0  f9NumwFMBDn751xgFiRbNA      The Range At Lake Norman   \n",
       "1  XNoUzKckATkOD1hP6vghZg                       Felinus   \n",
       "2  51M2Kk903DFYI6gnB5I6SQ       USE MY GUY SERVICES LLC   \n",
       "3  cKyLV5oWZJ2NudWgqs8VZw   Oasis Auto Center - Gilbert   \n",
       "4  ScYkbYNkDgCneBrD9vqhCQ  Junction Tire & Auto Service   \n",
       "\n",
       "                     address       city state postal_code   latitude  \\\n",
       "0            10913 Bailey Rd  Cornelius    NC       28031  35.462724   \n",
       "1      3554 Rue Notre-Dame O   Montreal    QC     H4C 1P4  45.479984   \n",
       "2         4827 E Downing Cir       Mesa    AZ       85205  33.428065   \n",
       "3  1720 W Elliot Rd, Ste 105    Gilbert    AZ       85233  33.350399   \n",
       "4        6910 E Southern Ave       Mesa    AZ       85209  33.393885   \n",
       "\n",
       "    longitude  stars  review_count  is_open  \\\n",
       "0  -80.852612    3.5            36        1   \n",
       "1  -73.580070    5.0             5        1   \n",
       "2 -111.726649    4.5            26        1   \n",
       "3 -111.827142    4.5            38        1   \n",
       "4 -111.682226    5.0            18        1   \n",
       "\n",
       "                                          attributes  \\\n",
       "0  {'BusinessAcceptsCreditCards': 'True', 'BikePa...   \n",
       "1                                                NaN   \n",
       "2  {'BusinessAcceptsCreditCards': 'True', 'ByAppo...   \n",
       "3             {'BusinessAcceptsCreditCards': 'True'}   \n",
       "4  {'BusinessAcceptsCreditCards': 'True', 'ByAppo...   \n",
       "\n",
       "                                          categories  \\\n",
       "0  Active Life, Gun/Rifle Ranges, Guns & Ammo, Sh...   \n",
       "1                   Pets, Pet Services, Pet Groomers   \n",
       "2  Home Services, Plumbing, Electricians, Handyma...   \n",
       "3  Auto Repair, Automotive, Oil Change Stations, ...   \n",
       "4  Auto Repair, Oil Change Stations, Automotive, ...   \n",
       "\n",
       "                                               hours  \\\n",
       "0  {'Monday': '10:0-18:0', 'Tuesday': '11:0-20:0'...   \n",
       "1                                                NaN   \n",
       "2  {'Monday': '0:0-0:0', 'Tuesday': '9:0-16:0', '...   \n",
       "3  {'Monday': '7:0-18:0', 'Tuesday': '7:0-18:0', ...   \n",
       "4  {'Monday': '7:30-17:0', 'Tuesday': '7:30-17:0'...   \n",
       "\n",
       "                                                 url  \\\n",
       "0               http://www.therangeatlakenorman.com/   \n",
       "1                              http://www.felinus.ca   \n",
       "2                   https://www.usemyguyservices.com   \n",
       "3                         http://oasisautocenter.net   \n",
       "4  http://junctiontire.net/tires-auto-repair-mesa-az   \n",
       "\n",
       "                                        webpage_text  \n",
       "0  <html lang=\"en-US\"><head>\\n\\t<meta charset=\"UT...  \n",
       "1  <html xmlns=\"http://www.w3.org/1999/xhtml\" xml...  \n",
       "2  <html lang=\"en-US\" prefix=\"og: http://ogp.me/n...  \n",
       "3  <html lang=\"en-US\" prefix=\"og: http://ogp.me/n...  \n",
       "4  <html lang=\"en\" style=\"\" class=\" js rgba multi...  "
      ]
     },
     "execution_count": 2,
     "metadata": {},
     "output_type": "execute_result"
    }
   ],
   "source": [
    "df = pd.read_csv(os.path.join(FOLDER_PATH, 'data', 'yelp_data', 'updated', 'business.csv'))\n",
    "df.head()"
   ]
  },
  {
   "cell_type": "code",
   "execution_count": 3,
   "metadata": {},
   "outputs": [
    {
     "name": "stdout",
     "output_type": "stream",
     "text": [
      "<class 'pandas.core.frame.DataFrame'>\n",
      "RangeIndex: 5111 entries, 0 to 5110\n",
      "Data columns (total 16 columns):\n",
      " #   Column        Non-Null Count  Dtype  \n",
      "---  ------        --------------  -----  \n",
      " 0   business_id   5111 non-null   object \n",
      " 1   name          5111 non-null   object \n",
      " 2   address       4864 non-null   object \n",
      " 3   city          5111 non-null   object \n",
      " 4   state         5111 non-null   object \n",
      " 5   postal_code   5105 non-null   object \n",
      " 6   latitude      5111 non-null   float64\n",
      " 7   longitude     5111 non-null   float64\n",
      " 8   stars         5111 non-null   float64\n",
      " 9   review_count  5111 non-null   int64  \n",
      " 10  is_open       5111 non-null   int64  \n",
      " 11  attributes    4398 non-null   object \n",
      " 12  categories    5108 non-null   object \n",
      " 13  hours         4343 non-null   object \n",
      " 14  url           5111 non-null   object \n",
      " 15  webpage_text  5111 non-null   object \n",
      "dtypes: float64(3), int64(2), object(11)\n",
      "memory usage: 639.0+ KB\n"
     ]
    }
   ],
   "source": [
    "df.info()"
   ]
  },
  {
   "cell_type": "code",
   "execution_count": 4,
   "metadata": {},
   "outputs": [
    {
     "name": "stdout",
     "output_type": "stream",
     "text": [
      "The dataframe already exists. We load the existing file ...\n"
     ]
    },
    {
     "data": {
      "text/html": [
       "<div>\n",
       "<style scoped>\n",
       "    .dataframe tbody tr th:only-of-type {\n",
       "        vertical-align: middle;\n",
       "    }\n",
       "\n",
       "    .dataframe tbody tr th {\n",
       "        vertical-align: top;\n",
       "    }\n",
       "\n",
       "    .dataframe thead th {\n",
       "        text-align: right;\n",
       "    }\n",
       "</style>\n",
       "<table border=\"1\" class=\"dataframe\">\n",
       "  <thead>\n",
       "    <tr style=\"text-align: right;\">\n",
       "      <th></th>\n",
       "      <th>Unnamed: 0</th>\n",
       "      <th>business_id</th>\n",
       "      <th>name</th>\n",
       "      <th>address</th>\n",
       "      <th>city</th>\n",
       "      <th>state</th>\n",
       "      <th>postal_code</th>\n",
       "      <th>latitude</th>\n",
       "      <th>longitude</th>\n",
       "      <th>stars</th>\n",
       "      <th>review_count</th>\n",
       "      <th>is_open</th>\n",
       "      <th>attributes</th>\n",
       "      <th>categories</th>\n",
       "      <th>hours</th>\n",
       "      <th>url</th>\n",
       "      <th>webpage_text</th>\n",
       "      <th>is_eng</th>\n",
       "      <th>webpage_corpus</th>\n",
       "    </tr>\n",
       "  </thead>\n",
       "  <tbody>\n",
       "    <tr>\n",
       "      <th>0</th>\n",
       "      <td>0</td>\n",
       "      <td>f9NumwFMBDn751xgFiRbNA</td>\n",
       "      <td>The Range At Lake Norman</td>\n",
       "      <td>10913 Bailey Rd</td>\n",
       "      <td>Cornelius</td>\n",
       "      <td>NC</td>\n",
       "      <td>28031</td>\n",
       "      <td>35.462724</td>\n",
       "      <td>-80.852612</td>\n",
       "      <td>3.5</td>\n",
       "      <td>36</td>\n",
       "      <td>1</td>\n",
       "      <td>{'BusinessAcceptsCreditCards': 'True', 'BikePa...</td>\n",
       "      <td>Active Life, Gun/Rifle Ranges, Guns &amp; Ammo, Sh...</td>\n",
       "      <td>{'Monday': '10:0-18:0', 'Tuesday': '11:0-20:0'...</td>\n",
       "      <td>http://www.therangeatlakenorman.com/</td>\n",
       "      <td>&lt;html lang=\"en-US\"&gt;&lt;head&gt;\\n\\t&lt;meta charset=\"UT...</td>\n",
       "      <td>True</td>\n",
       "      <td>Shooting Ranges Gun Rental Charlotte NC The Ra...</td>\n",
       "    </tr>\n",
       "    <tr>\n",
       "      <th>1</th>\n",
       "      <td>1</td>\n",
       "      <td>XNoUzKckATkOD1hP6vghZg</td>\n",
       "      <td>Felinus</td>\n",
       "      <td>3554 Rue Notre-Dame O</td>\n",
       "      <td>Montreal</td>\n",
       "      <td>QC</td>\n",
       "      <td>H4C 1P4</td>\n",
       "      <td>45.479984</td>\n",
       "      <td>-73.580070</td>\n",
       "      <td>5.0</td>\n",
       "      <td>5</td>\n",
       "      <td>1</td>\n",
       "      <td>NaN</td>\n",
       "      <td>Pets, Pet Services, Pet Groomers</td>\n",
       "      <td>NaN</td>\n",
       "      <td>http://www.felinus.ca</td>\n",
       "      <td>&lt;html xmlns=\"http://www.w3.org/1999/xhtml\" xml...</td>\n",
       "      <td>False</td>\n",
       "      <td>NaN</td>\n",
       "    </tr>\n",
       "    <tr>\n",
       "      <th>2</th>\n",
       "      <td>2</td>\n",
       "      <td>51M2Kk903DFYI6gnB5I6SQ</td>\n",
       "      <td>USE MY GUY SERVICES LLC</td>\n",
       "      <td>4827 E Downing Cir</td>\n",
       "      <td>Mesa</td>\n",
       "      <td>AZ</td>\n",
       "      <td>85205</td>\n",
       "      <td>33.428065</td>\n",
       "      <td>-111.726648</td>\n",
       "      <td>4.5</td>\n",
       "      <td>26</td>\n",
       "      <td>1</td>\n",
       "      <td>{'BusinessAcceptsCreditCards': 'True', 'ByAppo...</td>\n",
       "      <td>Home Services, Plumbing, Electricians, Handyma...</td>\n",
       "      <td>{'Monday': '0:0-0:0', 'Tuesday': '9:0-16:0', '...</td>\n",
       "      <td>https://www.usemyguyservices.com</td>\n",
       "      <td>&lt;html lang=\"en-US\" prefix=\"og: http://ogp.me/n...</td>\n",
       "      <td>True</td>\n",
       "      <td>Home Renovations and Repairs Phoenix AZ Home U...</td>\n",
       "    </tr>\n",
       "    <tr>\n",
       "      <th>3</th>\n",
       "      <td>3</td>\n",
       "      <td>cKyLV5oWZJ2NudWgqs8VZw</td>\n",
       "      <td>Oasis Auto Center - Gilbert</td>\n",
       "      <td>1720 W Elliot Rd, Ste 105</td>\n",
       "      <td>Gilbert</td>\n",
       "      <td>AZ</td>\n",
       "      <td>85233</td>\n",
       "      <td>33.350399</td>\n",
       "      <td>-111.827142</td>\n",
       "      <td>4.5</td>\n",
       "      <td>38</td>\n",
       "      <td>1</td>\n",
       "      <td>{'BusinessAcceptsCreditCards': 'True'}</td>\n",
       "      <td>Auto Repair, Automotive, Oil Change Stations, ...</td>\n",
       "      <td>{'Monday': '7:0-18:0', 'Tuesday': '7:0-18:0', ...</td>\n",
       "      <td>http://oasisautocenter.net</td>\n",
       "      <td>&lt;html lang=\"en-US\" prefix=\"og: http://ogp.me/n...</td>\n",
       "      <td>False</td>\n",
       "      <td>NaN</td>\n",
       "    </tr>\n",
       "    <tr>\n",
       "      <th>4</th>\n",
       "      <td>4</td>\n",
       "      <td>pQeaRpvuhoEqudo3uymHIQ</td>\n",
       "      <td>The Empanadas House</td>\n",
       "      <td>404 E Green St</td>\n",
       "      <td>Champaign</td>\n",
       "      <td>IL</td>\n",
       "      <td>61820</td>\n",
       "      <td>40.110446</td>\n",
       "      <td>-88.233073</td>\n",
       "      <td>4.5</td>\n",
       "      <td>5</td>\n",
       "      <td>1</td>\n",
       "      <td>{'RestaurantsAttire': \"u'casual'\", 'Restaurant...</td>\n",
       "      <td>Ethnic Food, Food Trucks, Specialty Food, Impo...</td>\n",
       "      <td>{'Monday': '11:30-14:30', 'Tuesday': '11:30-14...</td>\n",
       "      <td>http://www.theempanadashouse.com</td>\n",
       "      <td>&lt;html&gt;&lt;head&gt;\\n&lt;title&gt;Website Disabled&lt;/title&gt;\\...</td>\n",
       "      <td>True</td>\n",
       "      <td>Website Disabled Sorry the site you requested ...</td>\n",
       "    </tr>\n",
       "  </tbody>\n",
       "</table>\n",
       "</div>"
      ],
      "text/plain": [
       "   Unnamed: 0             business_id                         name  \\\n",
       "0           0  f9NumwFMBDn751xgFiRbNA     The Range At Lake Norman   \n",
       "1           1  XNoUzKckATkOD1hP6vghZg                      Felinus   \n",
       "2           2  51M2Kk903DFYI6gnB5I6SQ      USE MY GUY SERVICES LLC   \n",
       "3           3  cKyLV5oWZJ2NudWgqs8VZw  Oasis Auto Center - Gilbert   \n",
       "4           4  pQeaRpvuhoEqudo3uymHIQ          The Empanadas House   \n",
       "\n",
       "                     address       city state postal_code   latitude  \\\n",
       "0            10913 Bailey Rd  Cornelius    NC       28031  35.462724   \n",
       "1      3554 Rue Notre-Dame O   Montreal    QC     H4C 1P4  45.479984   \n",
       "2         4827 E Downing Cir       Mesa    AZ       85205  33.428065   \n",
       "3  1720 W Elliot Rd, Ste 105    Gilbert    AZ       85233  33.350399   \n",
       "4             404 E Green St  Champaign    IL       61820  40.110446   \n",
       "\n",
       "    longitude  stars  review_count  is_open  \\\n",
       "0  -80.852612    3.5            36        1   \n",
       "1  -73.580070    5.0             5        1   \n",
       "2 -111.726648    4.5            26        1   \n",
       "3 -111.827142    4.5            38        1   \n",
       "4  -88.233073    4.5             5        1   \n",
       "\n",
       "                                          attributes  \\\n",
       "0  {'BusinessAcceptsCreditCards': 'True', 'BikePa...   \n",
       "1                                                NaN   \n",
       "2  {'BusinessAcceptsCreditCards': 'True', 'ByAppo...   \n",
       "3             {'BusinessAcceptsCreditCards': 'True'}   \n",
       "4  {'RestaurantsAttire': \"u'casual'\", 'Restaurant...   \n",
       "\n",
       "                                          categories  \\\n",
       "0  Active Life, Gun/Rifle Ranges, Guns & Ammo, Sh...   \n",
       "1                   Pets, Pet Services, Pet Groomers   \n",
       "2  Home Services, Plumbing, Electricians, Handyma...   \n",
       "3  Auto Repair, Automotive, Oil Change Stations, ...   \n",
       "4  Ethnic Food, Food Trucks, Specialty Food, Impo...   \n",
       "\n",
       "                                               hours  \\\n",
       "0  {'Monday': '10:0-18:0', 'Tuesday': '11:0-20:0'...   \n",
       "1                                                NaN   \n",
       "2  {'Monday': '0:0-0:0', 'Tuesday': '9:0-16:0', '...   \n",
       "3  {'Monday': '7:0-18:0', 'Tuesday': '7:0-18:0', ...   \n",
       "4  {'Monday': '11:30-14:30', 'Tuesday': '11:30-14...   \n",
       "\n",
       "                                    url  \\\n",
       "0  http://www.therangeatlakenorman.com/   \n",
       "1                 http://www.felinus.ca   \n",
       "2      https://www.usemyguyservices.com   \n",
       "3            http://oasisautocenter.net   \n",
       "4      http://www.theempanadashouse.com   \n",
       "\n",
       "                                        webpage_text  is_eng  \\\n",
       "0  <html lang=\"en-US\"><head>\\n\\t<meta charset=\"UT...    True   \n",
       "1  <html xmlns=\"http://www.w3.org/1999/xhtml\" xml...   False   \n",
       "2  <html lang=\"en-US\" prefix=\"og: http://ogp.me/n...    True   \n",
       "3  <html lang=\"en-US\" prefix=\"og: http://ogp.me/n...   False   \n",
       "4  <html><head>\\n<title>Website Disabled</title>\\...    True   \n",
       "\n",
       "                                      webpage_corpus  \n",
       "0  Shooting Ranges Gun Rental Charlotte NC The Ra...  \n",
       "1                                                NaN  \n",
       "2  Home Renovations and Repairs Phoenix AZ Home U...  \n",
       "3                                                NaN  \n",
       "4  Website Disabled Sorry the site you requested ...  "
      ]
     },
     "execution_count": 4,
     "metadata": {},
     "output_type": "execute_result"
    }
   ],
   "source": [
    "df = get_corpus(df, df_address_with_corpus=os.path.join(FOLDER_PATH, 'data', 'yelp_data', 'updated', 'business_with_corpus.csv'))\n",
    "df.head()"
   ]
  },
  {
   "cell_type": "code",
   "execution_count": 5,
   "metadata": {},
   "outputs": [
    {
     "name": "stdout",
     "output_type": "stream",
     "text": [
      "['this', 'is', 'an', 'open', '-', 'source', 'project', 'for', 'category', 'detection', 'of', 'businesses', 'based', 'on', 'their', 'website', 'contents', '!']\n",
      "[2023, 2003, 2019, 2330, 1011, 3120, 2622, 2005, 4696, 10788, 1997, 5661, 2241, 2006, 2037, 4037, 8417, 999]\n"
     ]
    }
   ],
   "source": [
    "folder_path = os.path.join(FOLDER_PATH, 'data','uncased_L-12_H-768_A-12')\n",
    "tokenizer = FullTokenizer(vocab_file=os.path.join(folder_path, 'vocab.txt'))\n",
    "\n",
    "bert_ckpt_file = os.path.join(folder_path, 'bert_model.ckpt')\n",
    "bert_config_file = os.path.join(folder_path, 'bert_config.json')\n",
    "\n",
    "tokens_test = tokenizer.tokenize('This is an open-source project for category detection of businesses based on their website contents!')\n",
    "print(tokens_test)\n",
    "print(tokenizer.convert_tokens_to_ids(tokens_test))"
   ]
  },
  {
   "cell_type": "code",
   "execution_count": 6,
   "metadata": {
    "scrolled": true
   },
   "outputs": [
    {
     "name": "stdout",
     "output_type": "stream",
     "text": [
      "<class 'pandas.core.frame.DataFrame'>\n",
      "RangeIndex: 5107 entries, 0 to 5106\n",
      "Data columns (total 19 columns):\n",
      " #   Column          Non-Null Count  Dtype  \n",
      "---  ------          --------------  -----  \n",
      " 0   Unnamed: 0      5107 non-null   int64  \n",
      " 1   business_id     5107 non-null   object \n",
      " 2   name            5107 non-null   object \n",
      " 3   address         4863 non-null   object \n",
      " 4   city            5107 non-null   object \n",
      " 5   state           5107 non-null   object \n",
      " 6   postal_code     5101 non-null   object \n",
      " 7   latitude        5107 non-null   float64\n",
      " 8   longitude       5107 non-null   float64\n",
      " 9   stars           5107 non-null   float64\n",
      " 10  review_count    5107 non-null   int64  \n",
      " 11  is_open         5107 non-null   int64  \n",
      " 12  attributes      4398 non-null   object \n",
      " 13  categories      5104 non-null   object \n",
      " 14  hours           4336 non-null   object \n",
      " 15  url             5107 non-null   object \n",
      " 16  webpage_text    5107 non-null   object \n",
      " 17  is_eng          5107 non-null   bool   \n",
      " 18  webpage_corpus  3200 non-null   object \n",
      "dtypes: bool(1), float64(3), int64(3), object(12)\n",
      "memory usage: 723.3+ KB\n"
     ]
    }
   ],
   "source": [
    "df.info()"
   ]
  },
  {
   "cell_type": "code",
   "execution_count": 7,
   "metadata": {},
   "outputs": [
    {
     "name": "stdout",
     "output_type": "stream",
     "text": [
      "<class 'pandas.core.frame.DataFrame'>\n",
      "RangeIndex: 3 entries, 0 to 2\n",
      "Data columns (total 19 columns):\n",
      " #   Column          Non-Null Count  Dtype  \n",
      "---  ------          --------------  -----  \n",
      " 0   Unnamed: 0      3 non-null      int64  \n",
      " 1   business_id     3 non-null      object \n",
      " 2   name            3 non-null      object \n",
      " 3   address         3 non-null      object \n",
      " 4   city            3 non-null      object \n",
      " 5   state           3 non-null      object \n",
      " 6   postal_code     3 non-null      object \n",
      " 7   latitude        3 non-null      float64\n",
      " 8   longitude       3 non-null      float64\n",
      " 9   stars           3 non-null      float64\n",
      " 10  review_count    3 non-null      int64  \n",
      " 11  is_open         3 non-null      int64  \n",
      " 12  attributes      2 non-null      object \n",
      " 13  categories      3 non-null      object \n",
      " 14  hours           3 non-null      object \n",
      " 15  url             3 non-null      object \n",
      " 16  webpage_text    3 non-null      object \n",
      " 17  is_eng          3 non-null      bool   \n",
      " 18  webpage_corpus  3 non-null      object \n",
      "dtypes: bool(1), float64(3), int64(3), object(12)\n",
      "memory usage: 563.0+ bytes\n"
     ]
    }
   ],
   "source": [
    "data = df.sample(frac=0.0005)\n",
    "data = data.reset_index(drop=True)\n",
    "data.info()"
   ]
  },
  {
   "cell_type": "code",
   "execution_count": 8,
   "metadata": {
    "scrolled": true
   },
   "outputs": [
    {
     "data": {
      "text/plain": [
       "0                 http://5two3.com\n",
       "1       http://www.ontimevegas.com\n",
       "2    http://www.amhomeservices.ca/\n",
       "Name: url, dtype: object"
      ]
     },
     "execution_count": 8,
     "metadata": {},
     "output_type": "execute_result"
    }
   ],
   "source": [
    "data['url'].head()"
   ]
  },
  {
   "cell_type": "code",
   "execution_count": 9,
   "metadata": {},
   "outputs": [],
   "source": [
    "data = df"
   ]
  },
  {
   "cell_type": "code",
   "execution_count": 10,
   "metadata": {
    "scrolled": true
   },
   "outputs": [
    {
     "name": "stdout",
     "output_type": "stream",
     "text": [
      "http://www.therangeatlakenorman.com/ :\n",
      "www.therangeatlakenorman.com\n",
      "http://www.felinus.ca :\n",
      "www.felinus.ca\n",
      "https://www.usemyguyservices.com :\n",
      "www.usemyguyservices.com\n",
      "http://oasisautocenter.net :\n",
      "oasisautocenter.net\n",
      "http://www.theempanadashouse.com :\n",
      "www.theempanadashouse.com\n"
     ]
    }
   ],
   "source": [
    "for i in range(5):\n",
    "    print(data['url'][i], ':')\n",
    "    split_url = urlsplit(data['url'][i])\n",
    "    print(split_url.hostname)"
   ]
  },
  {
   "cell_type": "code",
   "execution_count": 135,
   "metadata": {},
   "outputs": [],
   "source": [
    "def retrieve_images_with_bs4(webpage_html):\n",
    "    try:\n",
    "        soup = BeautifulSoup(webpage_html, 'lxml')\n",
    "    except:\n",
    "        return []\n",
    "    urls = []\n",
    "    for img_content in soup.find_all('img'):\n",
    "        try:\n",
    "            if img_content['src'] is not None:\n",
    "                urls.append(img_content['src'])\n",
    "        except Exception as e:\n",
    "            pass\n",
    "    return urls"
   ]
  },
  {
   "cell_type": "code",
   "execution_count": 222,
   "metadata": {},
   "outputs": [],
   "source": [
    "# Selenium seems to be a better option\n",
    "def retrieve_images(url_link):\n",
    "    try:\n",
    "        options = Options()\n",
    "        options.add_argument('--headless')\n",
    "        driver = webdriver.Chrome(PATH_CHROME_DRIVER, options=options)\n",
    "        element = EC.presence_of_all_elements_located((By.TAG_NAME, 'img'))\n",
    "        driver.set_page_load_timeout(10)\n",
    "        driver.implicitly_wait(10)\n",
    "        driver.get(url_link)\n",
    "        WebDriverWait(driver, 10).until(element)\n",
    "        images = driver.find_elements_by_tag_name('img')\n",
    "    except Exception as e:\n",
    "        #print(e)\n",
    "        return []\n",
    "    res = []\n",
    "    for img in images:\n",
    "        try:\n",
    "            res.append(img.get_attribute('src'))\n",
    "        except Exception as e:\n",
    "            #print(e)\n",
    "            pass\n",
    "    driver.close()\n",
    "    return res"
   ]
  },
  {
   "cell_type": "code",
   "execution_count": 215,
   "metadata": {},
   "outputs": [],
   "source": [
    "def download_img(img_url):\n",
    "    try:\n",
    "        \n",
    "        r = requests.get(img_url, stream=True, timeout=3)\n",
    "        img = Image.open(BytesIO(r.content))\n",
    "        file_name = os.path.join(FOLDER_PATH, 'data', 'image/pic.jpg')\n",
    "        os.remove(file_name)\n",
    "        if img.mode in ['RGBA', 'P']:\n",
    "            img = img.convert('RGB')\n",
    "        img.save(file_name, 'JPEG')\n",
    "        return True\n",
    "    except Exception as e:\n",
    "        #print(e)\n",
    "        return False"
   ]
  },
  {
   "cell_type": "code",
   "execution_count": 216,
   "metadata": {
    "scrolled": false
   },
   "outputs": [],
   "source": [
    "def create_corpus(url_link, model, ntop=3, log=False):\n",
    "    #split_url = urlsplit(url_link)\n",
    "    #base_url = '{}://'.format(split_url.scheme) + split_url.hostname\n",
    "    #urls = retrieve_images_with_bs4(webpage_html)\n",
    "    urls = retrieve_images(url_link)\n",
    "    #print(urls)\n",
    "    content = []\n",
    "    for img_url in urls:\n",
    "        if download_img(img_url):\n",
    "            image = load_img(os.path.join(FOLDER_PATH, 'data', 'image/pic.jpg'), target_size=(W, H))\n",
    "            image = img_to_array(image)\n",
    "            image = image.reshape(1, image.shape[0], image.shape[1], image.shape[2])\n",
    "            image = preprocess_input(image)\n",
    "            y_pred = model.predict(image)\n",
    "            labels = decode_predictions(y_pred, top=ntop)\n",
    "            labels = [label[1] for label in labels[0][:ntop]]\n",
    "            labels = [re.sub('[^a-zA-Z]', ' ', label) for label in labels]\n",
    "            content.extend(labels)\n",
    "    return ' '.join(content)"
   ]
  },
  {
   "cell_type": "code",
   "execution_count": 217,
   "metadata": {},
   "outputs": [],
   "source": [
    "def clean_categories(df, map_classes):\n",
    "    df = df[df['categories'].notnull()]\n",
    "    df['categories'] = df['categories'].apply(lambda x: re.split('[,;&]', x))\n",
    "    cat = {}\n",
    "    bad = []\n",
    "    for x in df['categories']:\n",
    "        flg = False\n",
    "        for cls in x:\n",
    "            cls = cls.strip()\n",
    "            if not cls in map_classes: continue\n",
    "            flg = True\n",
    "            mapped_cls = map_classes[cls]\n",
    "            if mapped_cls not in cat: cat[mapped_cls]=1\n",
    "            else: cat[mapped_cls]+=1\n",
    "        if flg is False:\n",
    "            bad.append(x)\n",
    "            \n",
    "    new_cat = []\n",
    "    val = 0\n",
    "    for arr in df['categories']:\n",
    "        new_cat.append(None)\n",
    "        for x in arr:\n",
    "            cls = x.strip()\n",
    "            if not cls in map_classes:\n",
    "                continue\n",
    "            val += 1\n",
    "            new_cat[-1] = map_classes[cls]\n",
    "            break\n",
    "            \n",
    "    df['categories'] = new_cat\n",
    "    df = df[df['categories'].notnull()]\n",
    "    return df"
   ]
  },
  {
   "cell_type": "code",
   "execution_count": 218,
   "metadata": {},
   "outputs": [
    {
     "data": {
      "text/plain": [
       "{'Entertainment', 'Financial Services', 'Food', 'Health', 'Local Services'}"
      ]
     },
     "execution_count": 218,
     "metadata": {},
     "output_type": "execute_result"
    }
   ],
   "source": [
    "map_classes = {\n",
    "                'Restaurants': 'Food', 'Food': 'Food', 'Frozen Yogurt': 'Food', 'Pizza': 'Food', 'Bars': 'Food', 'Coffee': 'Food',\n",
    "                'Cafes': 'Food', 'Fast Food': 'Food', 'Bakeries': 'Food', 'Tea' : 'Food', 'Breakfast': 'Food',\n",
    "                'Wine': 'Food', 'Sandwiches': 'Food', 'Burgers': 'Food', 'Brunch': 'Food', 'Breakfast': 'Food', 'Desserts': 'Food',\n",
    "                'Vegetarian': 'Food', 'Vegan': 'Food', \n",
    "\n",
    "                'Health': 'Health', 'Dentists': 'Health', 'Doctors': 'Health', 'Medical Centers': 'Health', 'Drugstores': 'Health',\n",
    "                'Local Services': 'Health', \n",
    "\n",
    "                'Local Services': 'Local Services', 'Car Dealers': 'Local Services', 'Professional Services': 'Local Services', \n",
    "                'Home Services': 'Local Services','Garden': 'Local Services', 'Real Estate': 'Local Services',\n",
    "                'Auto Repair': 'Local Services', 'Pet Services': 'Local Services', 'Home Cleaning': 'Local Services', \n",
    "                'Public Services': 'Local Services', 'Home Decor': 'Local Services', \n",
    "                'Automotive': 'Local Services', 'Pets': 'Local Services',\n",
    "    \n",
    "                'Hair Salons': 'Local Services', 'Nail Salons': 'Local Services', 'Beauty': 'Local Services', 'Hair Salons': 'Local Services', 'Makeup Artists': 'Local Services',\n",
    "                'Hair Removal': 'Local Services', 'Massage': 'Local Services', 'Barbers': 'Local Services', 'Beauty Supply': 'Local Services',\n",
    "                \n",
    "                'Entertainment': 'Entertainment', 'Event Planning': 'Entertainment', 'Golf': 'Entertainment',\n",
    "                'Active Life': 'Entertainment', 'Nightlife': 'Entertainment',\n",
    "\n",
    "                'Hotels': 'Entertainment', 'Travel': 'Entertainment',\n",
    "    \n",
    "                'Jewelry': 'Entertainment', 'Shopping': 'Entertainment', 'Hobby Shops': 'Entertainment', \n",
    "\n",
    "                'Fitness': 'Entertainment', 'Sporting Goods': 'Entertainment', 'Gyms': 'Entertainment', 'Sports Bars': 'Entertainment', \n",
    "            \n",
    "                'Banks': 'Financial Services', 'Financial Services': 'Financial Services',\n",
    "    \n",
    "                'Mass Media': 'Entertainment'\n",
    "        }\n",
    "data = clean_categories(data, map_classes)\n",
    "set(data['categories'])"
   ]
  },
  {
   "cell_type": "code",
   "execution_count": 219,
   "metadata": {},
   "outputs": [],
   "source": [
    "model = VGG16()"
   ]
  },
  {
   "cell_type": "code",
   "execution_count": 223,
   "metadata": {
    "scrolled": false
   },
   "outputs": [
    {
     "name": "stderr",
     "output_type": "stream",
     "text": [
      "20it [00:48,  3.57s/it]/opt/conda/lib/python3.7/site-packages/PIL/Image.py:960: UserWarning: Palette images with Transparency expressed in bytes should be converted to RGBA images\n",
      "  \"Palette images with Transparency expressed in bytes should be \"\n",
      "5054it [5:12:16,  3.71s/it] \n"
     ]
    }
   ],
   "source": [
    "corpuses = []\n",
    "for _, entry in tqdm(data.iterrows()):\n",
    "    if url != np.nan and entry['categories'] == 'Food':\n",
    "        #print(entry['name'] , '*', entry['categories'], entry['url'])\n",
    "        corpus = create_corpus(entry['url'], model)\n",
    "        corpuses.append(corpus)\n",
    "    else:\n",
    "        corpuses.append(None)\n",
    "        #print('*' * 100)\n",
    "        #print(corpus)\n",
    "        #print('#' * 100)\n",
    "#data['corpus_text'] = corpuses"
   ]
  },
  {
   "cell_type": "code",
   "execution_count": 228,
   "metadata": {},
   "outputs": [
    {
     "data": {
      "text/plain": [
       "1469"
      ]
     },
     "execution_count": 228,
     "metadata": {},
     "output_type": "execute_result"
    }
   ],
   "source": [
    "data['corpus_text'] = corpuses\n",
    "len(corpuses), len"
   ]
  },
  {
   "cell_type": "code",
   "execution_count": 225,
   "metadata": {
    "scrolled": true
   },
   "outputs": [
    {
     "data": {
      "text/plain": [
       "0    \n",
       "1    \n",
       "2    \n",
       "3    \n",
       "4    \n",
       "5    \n",
       "6    \n",
       "7    \n",
       "8    \n",
       "9    \n",
       "Name: corpus_text, dtype: object"
      ]
     },
     "execution_count": 225,
     "metadata": {},
     "output_type": "execute_result"
    }
   ],
   "source": [
    "data['corpus_text'][:10]"
   ]
  },
  {
   "cell_type": "code",
   "execution_count": null,
   "metadata": {},
   "outputs": [],
   "source": []
  },
  {
   "cell_type": "code",
   "execution_count": null,
   "metadata": {},
   "outputs": [],
   "source": []
  },
  {
   "cell_type": "code",
   "execution_count": null,
   "metadata": {},
   "outputs": [],
   "source": []
  },
  {
   "cell_type": "code",
   "execution_count": null,
   "metadata": {},
   "outputs": [],
   "source": []
  },
  {
   "cell_type": "code",
   "execution_count": null,
   "metadata": {},
   "outputs": [],
   "source": []
  },
  {
   "cell_type": "code",
   "execution_count": null,
   "metadata": {},
   "outputs": [],
   "source": []
  },
  {
   "cell_type": "code",
   "execution_count": null,
   "metadata": {},
   "outputs": [],
   "source": []
  },
  {
   "cell_type": "code",
   "execution_count": null,
   "metadata": {},
   "outputs": [],
   "source": []
  },
  {
   "cell_type": "code",
   "execution_count": null,
   "metadata": {},
   "outputs": [],
   "source": []
  },
  {
   "cell_type": "code",
   "execution_count": null,
   "metadata": {},
   "outputs": [],
   "source": []
  },
  {
   "cell_type": "code",
   "execution_count": null,
   "metadata": {},
   "outputs": [],
   "source": []
  },
  {
   "cell_type": "code",
   "execution_count": null,
   "metadata": {},
   "outputs": [],
   "source": [
    "classes = [\n",
    " 'Education', \n",
    " 'Entertainment',\n",
    " 'Beauty',\n",
    " 'Bank',\n",
    " 'Fitness',\n",
    " 'Food',\n",
    " 'Health',\n",
    " 'housework',\n",
    " 'Religious',\n",
    " 'Travel']"
   ]
  },
  {
   "cell_type": "code",
   "execution_count": null,
   "metadata": {
    "scrolled": true
   },
   "outputs": [],
   "source": [
    "classes = [cls.lower() for cls in classes]\n",
    "classes"
   ]
  },
  {
   "cell_type": "code",
   "execution_count": null,
   "metadata": {},
   "outputs": [],
   "source": [
    "word2vec = {}\n",
    "with open(os.path.join(FOLDER_PATH, 'data', 'glove_data', 'glove.6B.300d.txt')) as file:\n",
    "    for line in file:\n",
    "        values = line.split()\n",
    "        word = values[0]\n",
    "        vector = np.asarray(values[1:], dtype='float32')\n",
    "        word2vec[word] = vector"
   ]
  },
  {
   "cell_type": "code",
   "execution_count": null,
   "metadata": {},
   "outputs": [],
   "source": [
    "model = VGG16()"
   ]
  },
  {
   "cell_type": "code",
   "execution_count": null,
   "metadata": {},
   "outputs": [],
   "source": [
    "img_labels = []\n",
    "for image_file in os.listdir(os.path.join(FOLDER_PATH, 'advertiser-quality-from-sites', 'source', 'images')):"
   ]
  },
  {
   "cell_type": "code",
   "execution_count": null,
   "metadata": {},
   "outputs": [],
   "source": [
    "for _, label in zip(range(10), img_labels):\n",
    "#    label_word2vec = []\n",
    "#     for i in range(0, len(label)):\n",
    "#         if not label[i] in word2vec: continue\n",
    "#         if len(label_word2vec) == 0: \n",
    "#             label_word2vec = word2vec[label[i]]\n",
    "#         else:\n",
    "#             label_word2vec = [a + b for a, b in zip(label_word2vec, word2vec[label[i]])]\n",
    "    label_word2vec = []\n",
    "    for i in range(0, len(label)):\n",
    "        if not label[i] in word2vec: continue\n",
    "        label_word2vec.append(word2vec[label[i]])\n",
    "    if len(label_word2vec) == 0:\n",
    "        print('The label is not in dictionary')\n",
    "        continue\n",
    "    label_word2vec = np.mean(label_word2vec, axis=0)\n",
    "    dist = []\n",
    "    for cls in classes:\n",
    "        dist.append(distance.cosine(label_word2vec, word2vec[cls]))\n",
    "    best_idx = np.argmin(dist)\n",
    "    print(label, 'is closest to', classes[best_idx], 'with distance:', dist[best_idx])"
   ]
  },
  {
   "cell_type": "code",
   "execution_count": null,
   "metadata": {},
   "outputs": [],
   "source": []
  },
  {
   "cell_type": "code",
   "execution_count": null,
   "metadata": {},
   "outputs": [],
   "source": []
  },
  {
   "cell_type": "code",
   "execution_count": null,
   "metadata": {},
   "outputs": [],
   "source": []
  },
  {
   "cell_type": "code",
   "execution_count": null,
   "metadata": {},
   "outputs": [],
   "source": []
  },
  {
   "cell_type": "code",
   "execution_count": null,
   "metadata": {},
   "outputs": [],
   "source": [
    "i = 0\n",
    "for img_url in img_urls:\n",
    "    try:\n",
    "        r = requests.get(img_url, stream=True, timeout=3)\n",
    "        file_name = 'images/pic{}.jpg'.format(i)\n",
    "#         #print(img_url)\n",
    "#         with open('images/pic{}.jpg'.format(i), 'wb') as f:\n",
    "#             f.write(r.content)\n",
    "        img = Image.open(BytesIO(r.content))\n",
    "        if img.mode in ['RGBA', 'P']:\n",
    "            img = img.convert('RGB')\n",
    "        img.save(file_name, 'JPEG')\n",
    "        \n",
    "        i += 1\n",
    "    except Exception as e:\n",
    "        print(e)\n",
    "        #print('Not opened', img_url)\n",
    "        pass"
   ]
  },
  {
   "cell_type": "code",
   "execution_count": null,
   "metadata": {},
   "outputs": [],
   "source": [
    "images_rgb = []\n",
    "for x in range(200):\n",
    "    file = 'images/pic{}.jpg'.format(x)\n",
    "    img = matimg.imread(file)\n",
    "    #print(file + ':', img.shape)\n",
    "    images_rgb.append(img)"
   ]
  },
  {
   "cell_type": "code",
   "execution_count": null,
   "metadata": {
    "scrolled": true
   },
   "outputs": [],
   "source": [
    "H, W = 224, 224\n",
    "for img_rgb in images_rgb:\n",
    "    mat = tf.constant(img_rgb)\n",
    "    mat = tf.image.resize_with_crop_or_pad(mat, H, W)\n",
    "    mat /= 255.0"
   ]
  },
  {
   "cell_type": "code",
   "execution_count": null,
   "metadata": {},
   "outputs": [],
   "source": [
    "model = VGG16()"
   ]
  },
  {
   "cell_type": "code",
   "execution_count": null,
   "metadata": {},
   "outputs": [],
   "source": []
  }
 ],
 "metadata": {
  "kernelspec": {
   "display_name": "Python 3",
   "language": "python",
   "name": "python3"
  },
  "language_info": {
   "codemirror_mode": {
    "name": "ipython",
    "version": 3
   },
   "file_extension": ".py",
   "mimetype": "text/x-python",
   "name": "python",
   "nbconvert_exporter": "python",
   "pygments_lexer": "ipython3",
   "version": "3.7.6"
  }
 },
 "nbformat": 4,
 "nbformat_minor": 4
}
